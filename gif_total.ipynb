{
 "cells": [
  {
   "cell_type": "code",
   "execution_count": 1,
   "metadata": {},
   "outputs": [],
   "source": [
    "# imports\n",
    "import pandas as pd\n",
    "import sys\n",
    "import numpy as np\n",
    "import matplotlib.pyplot as plt\n",
    "from matplotlib.animation import FuncAnimation"
   ]
  },
  {
   "cell_type": "code",
   "execution_count": 2,
   "metadata": {},
   "outputs": [],
   "source": [
    "# allows animations to be opened in interactive window\n",
    "%matplotlib tk"
   ]
  },
  {
   "cell_type": "code",
   "execution_count": 41,
   "metadata": {},
   "outputs": [],
   "source": [
    "import matplotlib.dates as mdates"
   ]
  },
  {
   "cell_type": "code",
   "execution_count": 3,
   "metadata": {},
   "outputs": [],
   "source": [
    "# read in files\n",
    "true = pd.read_csv('/Users/Rohil/Documents/iGEM/yemen/cholera_epi_data/yemen_cholera_case_data_differenced.csv')"
   ]
  },
  {
   "cell_type": "code",
   "execution_count": 4,
   "metadata": {},
   "outputs": [],
   "source": [
    "true.date = pd.to_datetime(true.date, format = '%d-%m-%y')"
   ]
  },
  {
   "cell_type": "code",
   "execution_count": 5,
   "metadata": {},
   "outputs": [],
   "source": [
    "true = true.set_index('date')"
   ]
  },
  {
   "cell_type": "code",
   "execution_count": 6,
   "metadata": {},
   "outputs": [],
   "source": [
    "gov_pop_area_data = pd.read_excel('/Users/Rohil/Documents/iGEM/yemen/gov_area_pop_data.xlsx')"
   ]
  },
  {
   "cell_type": "code",
   "execution_count": 7,
   "metadata": {},
   "outputs": [],
   "source": [
    "gov_pop_area_data = gov_pop_area_data[gov_pop_area_data.iso != 'YE-HD']"
   ]
  },
  {
   "cell_type": "code",
   "execution_count": 8,
   "metadata": {},
   "outputs": [],
   "source": [
    "for index, row in gov_pop_area_data[['iso', 'population']].iterrows():\n",
    "    true[row.iso] = (true[row.iso] * 10000) / row.population"
   ]
  },
  {
   "cell_type": "code",
   "execution_count": 9,
   "metadata": {},
   "outputs": [],
   "source": [
    "# # need to convert data into stationary (changes in cholera cases from one day to another)\n",
    "\n",
    "# # the function below creates a differenced series\n",
    "# def difference_reversed_for_preds(dataset, interval=1):\n",
    "    \n",
    "#     for i in range(interval, len(dataset)):\n",
    "        \n",
    "#         dataset[i] = dataset[i] + dataset[i-1] / 14\n",
    "\n",
    "        \n",
    "#     return (dataset)"
   ]
  },
  {
   "cell_type": "code",
   "execution_count": 10,
   "metadata": {},
   "outputs": [],
   "source": [
    "# need to convert data into stationary (changes in cholera cases from one day to another)\n",
    "\n",
    "# the function below creates a differenced series\n",
    "def difference_reversed_for_true(dataset, interval=1):\n",
    "    \n",
    "    \n",
    "    for i in range(interval, len(dataset)):\n",
    "        \n",
    "        dataset[i] = dataset[i] + dataset[i-1]\n",
    "\n",
    "        \n",
    "    return (dataset)"
   ]
  },
  {
   "cell_type": "code",
   "execution_count": 11,
   "metadata": {},
   "outputs": [],
   "source": [
    "for column in true:\n",
    "    true[column]  = (difference_reversed_for_true(true[column]))"
   ]
  },
  {
   "cell_type": "code",
   "execution_count": 12,
   "metadata": {},
   "outputs": [],
   "source": [
    "# pred_crosstab_dict = {}\n",
    "# for col in ['week_1_to_2_cases', 'week_2_to_4_cases', 'week_4_to_6_cases', 'week_6_to_8_cases']:\n",
    "    \n",
    "#     pred_crosstab_dict[col] = preds[['gov_iso', 'date', col]].pivot_table(index = 'date', columns = 'gov_iso', values = col)\n",
    "    \n",
    "# #     for gov in pred_crosstab_dict[col]:\n",
    "# #         pred_crosstab_dict[col][gov] = difference_reversed_for_preds(pred_crosstab_dict[col][gov])"
   ]
  },
  {
   "cell_type": "code",
   "execution_count": 13,
   "metadata": {},
   "outputs": [],
   "source": [
    "week_12_case_crosstab = pd.read_csv('/Users/Rohil/Documents/iGEM/yemen/week_1_to_2_cases_deployed_cv_holdout_preds.csv')\n",
    "week_24_case_crosstab = pd.read_csv('/Users/Rohil/Documents/iGEM/yemen/week_2_to_4_cases_deployed_cv_holdout_preds.csv')\n",
    "week_46_case_crosstab = pd.read_csv('/Users/Rohil/Documents/iGEM/yemen/week_4_to_6_cases_deployed_cv_holdout_preds.csv')\n",
    "week_68_case_crosstab = pd.read_csv('/Users/Rohil/Documents/iGEM/yemen/week_6_to_8_cases_deployed_cv_holdout_preds.csv')"
   ]
  },
  {
   "cell_type": "code",
   "execution_count": 14,
   "metadata": {},
   "outputs": [],
   "source": [
    "week_12_case_crosstab.date = pd.to_datetime(week_12_case_crosstab.date, format = '%Y-%m-%d')\n",
    "week_24_case_crosstab.date = pd.to_datetime(week_24_case_crosstab.date, format = '%Y-%m-%d')\n",
    "week_46_case_crosstab.date = pd.to_datetime(week_46_case_crosstab.date, format = '%Y-%m-%d')\n",
    "week_68_case_crosstab.date = pd.to_datetime(week_68_case_crosstab.date, format = '%Y-%m-%d')"
   ]
  },
  {
   "cell_type": "code",
   "execution_count": 15,
   "metadata": {},
   "outputs": [],
   "source": [
    "week_12_case_crosstab.set_index('date', inplace = True)\n",
    "week_24_case_crosstab.set_index('date', inplace = True)\n",
    "week_46_case_crosstab.set_index('date', inplace = True)\n",
    "week_68_case_crosstab.set_index('date', inplace = True)"
   ]
  },
  {
   "cell_type": "code",
   "execution_count": 16,
   "metadata": {},
   "outputs": [],
   "source": [
    "pred_crosstab_dict = {}\n",
    "pred_crosstab_dict['week_1_to_2_cases'] = week_12_case_crosstab\n",
    "pred_crosstab_dict['week_2_to_4_cases'] = week_24_case_crosstab\n",
    "pred_crosstab_dict['week_4_to_6_cases'] = week_46_case_crosstab\n",
    "pred_crosstab_dict['week_6_to_8_cases'] = week_68_case_crosstab"
   ]
  },
  {
   "cell_type": "code",
   "execution_count": 17,
   "metadata": {},
   "outputs": [
    {
     "data": {
      "text/plain": [
       "Index(['YE-AB', 'YE-AD', 'YE-AM', 'YE-BA', 'YE-DA', 'YE-DH', 'YE-HD-AL',\n",
       "       'YE-HJ', 'YE-HU', 'YE-IB', 'YE-JA', 'YE-LA', 'YE-MA', 'YE-MR', 'YE-MW',\n",
       "       'YE-RA', 'YE-SA', 'YE-SD', 'YE-SH', 'YE-SN', 'YE-TA'],\n",
       "      dtype='object')"
      ]
     },
     "execution_count": 17,
     "metadata": {},
     "output_type": "execute_result"
    }
   ],
   "source": [
    "week_12_case_crosstab.columns"
   ]
  },
  {
   "cell_type": "code",
   "execution_count": 18,
   "metadata": {},
   "outputs": [
    {
     "data": {
      "text/plain": [
       "Index(['YE-AB', 'YE-AD', 'YE-AM', 'YE-BA', 'YE-DA', 'YE-DH', 'YE-HD-AL',\n",
       "       'YE-HJ', 'YE-HU', 'YE-IB', 'YE-JA', 'YE-LA', 'YE-MA', 'YE-MR', 'YE-MW',\n",
       "       'YE-RA', 'YE-SA', 'YE-SD', 'YE-SH', 'YE-SN', 'YE-TA'],\n",
       "      dtype='object')"
      ]
     },
     "execution_count": 18,
     "metadata": {},
     "output_type": "execute_result"
    }
   ],
   "source": [
    "true.columns"
   ]
  },
  {
   "cell_type": "code",
   "execution_count": 19,
   "metadata": {},
   "outputs": [],
   "source": [
    "ylim_df = true.iloc[-1]"
   ]
  },
  {
   "cell_type": "code",
   "execution_count": 20,
   "metadata": {},
   "outputs": [],
   "source": [
    "y_12_line_dict = {}\n",
    "y_24_line_dict = {}\n",
    "y_46_line_dict = {}\n",
    "y_68_line_dict = {}\n",
    "true_line_dict = {}"
   ]
  },
  {
   "cell_type": "code",
   "execution_count": 29,
   "metadata": {},
   "outputs": [
    {
     "data": {
      "text/plain": [
       "'YE-TA'"
      ]
     },
     "execution_count": 29,
     "metadata": {},
     "output_type": "execute_result"
    }
   ],
   "source": [
    "gov"
   ]
  },
  {
   "cell_type": "code",
   "execution_count": 30,
   "metadata": {},
   "outputs": [
    {
     "data": {
      "text/plain": [
       "84.46373574792605"
      ]
     },
     "execution_count": 30,
     "metadata": {},
     "output_type": "execute_result"
    }
   ],
   "source": [
    "pred_crosstab_dict['week_1_to_2_cases'][gov].iloc[:2-1].sum() + true.loc[dates12_start.min() - pd.to_timedelta(1, 'D')][gov]"
   ]
  },
  {
   "cell_type": "code",
   "execution_count": 78,
   "metadata": {},
   "outputs": [],
   "source": [
    "# function that updates plot for each day\n",
    "\n",
    "def update(i, govs):\n",
    "    \n",
    "    # Update the line and the axes (with a new xlabel). Return a tuple of\n",
    "    # \"artists\" that have to be redrawn for this frame.\n",
    "    true_date =  pd.date_range(true.index[0], pred_crosstab_dict['week_1_to_2_cases'].index[i])\n",
    "    \n",
    "    dates12 = pd.date_range(pred_crosstab_dict['week_1_to_2_cases'].index[i] + pd.to_timedelta(0, 'W') + pd.to_timedelta(1, 'D'), pred_crosstab_dict['week_1_to_2_cases'].index[i] + pd.to_timedelta(2, 'W'), freq = \"D\")\n",
    "    dates24 = pd.date_range(pred_crosstab_dict['week_2_to_4_cases'].index[i] + pd.to_timedelta(2, 'W') + pd.to_timedelta(1, 'D'), pred_crosstab_dict['week_2_to_4_cases'].index[i] + pd.to_timedelta(4, 'W'), freq = \"D\")\n",
    "    dates46 = pd.date_range(pred_crosstab_dict['week_4_to_6_cases'].index[i] + pd.to_timedelta(4, 'W') + pd.to_timedelta(1, 'D'), pred_crosstab_dict['week_4_to_6_cases'].index[i] + pd.to_timedelta(6, 'W'), freq = \"D\")\n",
    "    dates68 = pd.date_range(pred_crosstab_dict['week_6_to_8_cases'].index[i] + pd.to_timedelta(6, 'W') + pd.to_timedelta(1, 'D'), pred_crosstab_dict['week_6_to_8_cases'].index[i] + pd.to_timedelta(8, 'W'), freq = \"D\")\n",
    "    \n",
    "    for e in range(0,len(govs)):\n",
    "        \n",
    "        gov = govs[e]\n",
    "        \n",
    "        true_val = (true.loc[true_date][gov])\n",
    "        true_line_dict[gov].set_data(true_date, true_val)\n",
    "        \n",
    "        vals12_prev = (pred_crosstab_dict['week_1_to_2_cases'][gov].iloc[:i-1].sum()) / 14  + true.loc[dates12_start.min() - pd.to_timedelta(1, 'D')][gov]\n",
    "        vals12 = np.linspace(vals12_prev, pred_crosstab_dict['week_1_to_2_cases'][gov].iloc[i] + vals12_prev, 14)\n",
    "        y_12_line_dict[gov].set_data(dates12, vals12)\n",
    "        \n",
    "        vals24_prev = (pred_crosstab_dict['week_2_to_4_cases'][gov].iloc[:i-1].sum())  / 14 + true.loc[dates24_start.min() - pd.to_timedelta(1, 'D')][gov]\n",
    "        vals24 = np.linspace(vals24_prev, pred_crosstab_dict['week_2_to_4_cases'][gov].iloc[i] + vals24_prev, 14)\n",
    "        y_24_line_dict[gov].set_data(dates24, vals24)\n",
    "        \n",
    "        vals46_prev = (pred_crosstab_dict['week_4_to_6_cases'][gov].iloc[:i-1].sum()) / 14 + true.loc[dates46_start.min() - pd.to_timedelta(1, 'D')][gov]\n",
    "        vals46 = np.linspace(vals46_prev, pred_crosstab_dict['week_4_to_6_cases'][gov].iloc[i] + vals46_prev, 14)\n",
    "        y_46_line_dict[gov].set_data(dates46, vals46)\n",
    "\n",
    "        vals68_prev = (pred_crosstab_dict['week_6_to_8_cases'][gov].iloc[:i-1].sum()) / 14 + true.loc[dates68_start.min() - pd.to_timedelta(1, 'D')][gov]\n",
    "        vals68 = np.linspace(vals68_prev, pred_crosstab_dict['week_6_to_8_cases'][gov].iloc[i] + vals68_prev, 14)\n",
    "        y_68_line_dict[gov].set_data(dates68, vals68)\n",
    "        \n",
    "    \n",
    "    label = 'day {0}'.format(i)\n",
    "    \n",
    "    ax[-1].set_xlabel(label, fontsize = 9)\n",
    "    \n",
    "    return (ax)"
   ]
  },
  {
   "cell_type": "code",
   "execution_count": 34,
   "metadata": {},
   "outputs": [],
   "source": [
    "def set_style(color):\n",
    "    plt.style.use(['seaborn-' + color, 'seaborn-paper'])"
   ]
  },
  {
   "cell_type": "code",
   "execution_count": 43,
   "metadata": {},
   "outputs": [
    {
     "name": "stderr",
     "output_type": "stream",
     "text": [
      "No handles with labels found to put in legend.\n",
      "No handles with labels found to put in legend.\n",
      "No handles with labels found to put in legend.\n",
      "No handles with labels found to put in legend.\n",
      "No handles with labels found to put in legend.\n",
      "No handles with labels found to put in legend.\n",
      "No handles with labels found to put in legend.\n",
      "No handles with labels found to put in legend.\n",
      "No handles with labels found to put in legend.\n",
      "No handles with labels found to put in legend.\n",
      "No handles with labels found to put in legend.\n",
      "No handles with labels found to put in legend.\n",
      "No handles with labels found to put in legend.\n",
      "No handles with labels found to put in legend.\n",
      "No handles with labels found to put in legend.\n",
      "No handles with labels found to put in legend.\n",
      "No handles with labels found to put in legend.\n",
      "No handles with labels found to put in legend.\n",
      "No handles with labels found to put in legend.\n",
      "No handles with labels found to put in legend.\n",
      "No handles with labels found to put in legend.\n",
      "MovieWriter imagemagick unavailable.\n"
     ]
    }
   ],
   "source": [
    "fig, ax = plt.subplots(21,1,figsize = (6,17), sharex=True, sharey = False)\n",
    "\n",
    "set_style('white')\n",
    "myFmt = mdates.DateFormatter('%Y-%m-%d')\n",
    "\n",
    "govs = true.columns\n",
    "\n",
    "for i in range(0,21):\n",
    "\n",
    "    ax[i].set_xlim(true.index.min(), true.index.max())\n",
    "    ax[i].xaxis.set_major_formatter(myFmt)\n",
    "    ax[i].set_ylim(0, ylim_df[govs[i]] + .25 * ylim_df[govs[i]])\n",
    "    ax[i].tick_params(axis='x', which='major', labelsize=10)\n",
    "    ax[i].legend().set_visible(False)\n",
    "    ax[i].set_ylabel(govs[i], rotation = 0)\n",
    "    ax[i].yaxis.set_label_position('right')\n",
    "    ax[i].spines['right'].set_visible(False)\n",
    "    ax[i].spines['top'].set_visible(False)\n",
    "    ax[i].spines['bottom'].set_visible(True)\n",
    "\n",
    "fig.autofmt_xdate()\n",
    "\n",
    "true_date_start =  pd.date_range(true.index[0], pred_crosstab_dict['week_1_to_2_cases'].index[i])\n",
    "\n",
    "dates12_start = pd.date_range(pred_crosstab_dict['week_1_to_2_cases'].index[0] + pd.to_timedelta(0, 'W') + pd.to_timedelta(1, 'D'), pred_crosstab_dict['week_1_to_2_cases'].index[0] + pd.to_timedelta(2, 'W'), freq = \"D\")\n",
    "dates24_start = pd.date_range(pred_crosstab_dict['week_2_to_4_cases'].index[0] + pd.to_timedelta(2, 'W') + pd.to_timedelta(1, 'D'), pred_crosstab_dict['week_2_to_4_cases'].index[0] + pd.to_timedelta(4, 'W'), freq = \"D\")\n",
    "dates46_start = pd.date_range(pred_crosstab_dict['week_4_to_6_cases'].index[0] + pd.to_timedelta(4, 'W') + pd.to_timedelta(1, 'D'), pred_crosstab_dict['week_4_to_6_cases'].index[0] + pd.to_timedelta(6, 'W'), freq = \"D\")\n",
    "dates68_start = pd.date_range(pred_crosstab_dict['week_6_to_8_cases'].index[0] + pd.to_timedelta(6, 'W') + pd.to_timedelta(1, 'D'), pred_crosstab_dict['week_6_to_8_cases'].index[0] + pd.to_timedelta(8, 'W'), freq = \"D\")\n",
    "\n",
    "for e in range(0,21):\n",
    "\n",
    "    gov = govs[e]\n",
    "    \n",
    "    true_val_start = true.loc[true_date_start][gov]\n",
    "    true_line_dict[gov], = ax[e].plot(true_date_start, true_val_start, color = 'red', label='true')\n",
    "\n",
    "    vals12_start = np.linspace(true.loc[dates12_start.min() - pd.to_timedelta(1, 'D')][gov], pred_crosstab_dict['week_1_to_2_cases'][gov].iloc[0] + true.loc[dates12_start.min() - pd.to_timedelta(1, 'D')][gov], 14)\n",
    "    y_12_line_dict[gov], = ax[e].plot(dates12_start, vals12_start, linestyle= '-.', color = 'seagreen', label='0-2 week forecast')\n",
    "\n",
    "    vals24_start = np.linspace(true.loc[dates24_start.min() - pd.to_timedelta(1, 'D')][gov], pred_crosstab_dict['week_2_to_4_cases'][gov].iloc[0] + true.loc[dates24_start.min() - pd.to_timedelta(1, 'D')][gov], 14)\n",
    "    y_24_line_dict[gov], = ax[e].plot(dates24_start, vals24_start, linestyle= '-.', color = 'blue', label='2-4 week forecast')\n",
    "\n",
    "    vals46_start = np.linspace(true.loc[dates46_start.min() - pd.to_timedelta(1, 'D')][gov], pred_crosstab_dict['week_4_to_6_cases'][gov].iloc[0] + true.loc[dates46_start.min() - pd.to_timedelta(1, 'D')][gov], 14)\n",
    "    y_46_line_dict[gov], = ax[e].plot(dates46_start, vals46_start, linestyle= '-.', color = 'plum', label='4-6 week forecast')\n",
    "\n",
    "    vals68_start = np.linspace(true.loc[dates68_start.min() - pd.to_timedelta(1, 'D')][gov], pred_crosstab_dict['week_6_to_8_cases'][gov].iloc[0] + true.loc[dates68_start.min() - pd.to_timedelta(1, 'D')][gov], 14)\n",
    "    y_68_line_dict[gov], = ax[e].plot(dates68_start, vals68_start, linestyle= '-.', color = 'magenta', label='6-8 week forecast')    \n",
    "\n",
    "ax[10].legend(handles = [true_line_dict[govs[10]], y_12_line_dict[govs[10]], y_24_line_dict[govs[10]], y_46_line_dict[govs[10]], y_68_line_dict[govs[10]]], loc='center left', bbox_to_anchor=(1.05, 0.5))\n",
    "\n",
    "anim = FuncAnimation(fig, update, frames=np.arange(0, 115), interval=10, fargs = (gov,))\n",
    "\n",
    "plt.tight_layout()\n",
    "\n",
    "anim.save('/Users/Rohil/Documents/iGEM/yemen/final_results/gif_total.gif', dpi=100, writer='imagemagick')"
   ]
  },
  {
   "cell_type": "code",
   "execution_count": 52,
   "metadata": {},
   "outputs": [],
   "source": [
    "relevant_govs = sorted(list(set(true.columns) - set(['YE-HD-AL', 'YE-MR', 'YE-SH', 'YE-TA', 'YE-MA', 'YE-SD'])))"
   ]
  },
  {
   "cell_type": "code",
   "execution_count": 54,
   "metadata": {},
   "outputs": [
    {
     "data": {
      "text/plain": [
       "15"
      ]
     },
     "execution_count": 54,
     "metadata": {},
     "output_type": "execute_result"
    }
   ],
   "source": [
    "len(relevant_govs)"
   ]
  },
  {
   "cell_type": "code",
   "execution_count": 80,
   "metadata": {},
   "outputs": [
    {
     "name": "stderr",
     "output_type": "stream",
     "text": [
      "No handles with labels found to put in legend.\n",
      "No handles with labels found to put in legend.\n",
      "No handles with labels found to put in legend.\n",
      "No handles with labels found to put in legend.\n",
      "No handles with labels found to put in legend.\n",
      "No handles with labels found to put in legend.\n",
      "No handles with labels found to put in legend.\n",
      "No handles with labels found to put in legend.\n",
      "No handles with labels found to put in legend.\n",
      "No handles with labels found to put in legend.\n",
      "No handles with labels found to put in legend.\n",
      "No handles with labels found to put in legend.\n",
      "No handles with labels found to put in legend.\n",
      "No handles with labels found to put in legend.\n",
      "No handles with labels found to put in legend.\n",
      "MovieWriter imagemagick unavailable.\n"
     ]
    }
   ],
   "source": [
    "# removing less relevant governorates\n",
    "\n",
    "fig, ax = plt.subplots(15,1,figsize = (6,12), sharex=True, sharey = False)\n",
    "\n",
    "set_style('white')\n",
    "myFmt = mdates.DateFormatter('%Y-%m-%d')\n",
    "\n",
    "for i in range(0,15):\n",
    "\n",
    "    ax[i].set_xlim(true.index.min(), true.index.max())\n",
    "    ax[i].xaxis.set_major_formatter(myFmt)\n",
    "    ax[i].set_ylim(0, ylim_df[govs[i]] + .25 * ylim_df[govs[i]])\n",
    "    ax[i].tick_params(axis='x', which='major', labelsize=9)\n",
    "    ax[i].legend().set_visible(False)\n",
    "    ax[i].set_ylabel(govs[i], rotation = 0)\n",
    "    ax[i].yaxis.set_label_position('right')\n",
    "    ax[i].spines['right'].set_visible(False)\n",
    "    ax[i].spines['top'].set_visible(False)\n",
    "    ax[i].spines['bottom'].set_visible(True)\n",
    "\n",
    "fig.autofmt_xdate()\n",
    "\n",
    "true_date_start =  pd.date_range(true.index[0], pred_crosstab_dict['week_1_to_2_cases'].index[i])\n",
    "\n",
    "dates12_start = pd.date_range(pred_crosstab_dict['week_1_to_2_cases'].index[0] + pd.to_timedelta(0, 'W') + pd.to_timedelta(1, 'D'), pred_crosstab_dict['week_1_to_2_cases'].index[0] + pd.to_timedelta(2, 'W'), freq = \"D\")\n",
    "dates24_start = pd.date_range(pred_crosstab_dict['week_2_to_4_cases'].index[0] + pd.to_timedelta(2, 'W') + pd.to_timedelta(1, 'D'), pred_crosstab_dict['week_2_to_4_cases'].index[0] + pd.to_timedelta(4, 'W'), freq = \"D\")\n",
    "dates46_start = pd.date_range(pred_crosstab_dict['week_4_to_6_cases'].index[0] + pd.to_timedelta(4, 'W') + pd.to_timedelta(1, 'D'), pred_crosstab_dict['week_4_to_6_cases'].index[0] + pd.to_timedelta(6, 'W'), freq = \"D\")\n",
    "dates68_start = pd.date_range(pred_crosstab_dict['week_6_to_8_cases'].index[0] + pd.to_timedelta(6, 'W') + pd.to_timedelta(1, 'D'), pred_crosstab_dict['week_6_to_8_cases'].index[0] + pd.to_timedelta(8, 'W'), freq = \"D\")\n",
    "\n",
    "for e in range(0,15):\n",
    "\n",
    "    gov = govs[e]\n",
    "    \n",
    "    true_val_start = true.loc[true_date_start][gov]\n",
    "    true_line_dict[gov], = ax[e].plot(true_date_start, true_val_start, color = 'red', label='true')\n",
    "\n",
    "    vals12_start = np.linspace(true.loc[dates12_start.min() - pd.to_timedelta(1, 'D')][gov], pred_crosstab_dict['week_1_to_2_cases'][gov].iloc[0] + true.loc[dates12_start.min() - pd.to_timedelta(1, 'D')][gov], 14)\n",
    "    y_12_line_dict[gov], = ax[e].plot(dates12_start, vals12_start, linestyle= '-.', color = 'seagreen', label='0-2 week forecast')\n",
    "\n",
    "    vals24_start = np.linspace(true.loc[dates24_start.min() - pd.to_timedelta(1, 'D')][gov], pred_crosstab_dict['week_2_to_4_cases'][gov].iloc[0] + true.loc[dates24_start.min() - pd.to_timedelta(1, 'D')][gov], 14)\n",
    "    y_24_line_dict[gov], = ax[e].plot(dates24_start, vals24_start, linestyle= '-.', color = 'blue', label='2-4 week forecast')\n",
    "\n",
    "    vals46_start = np.linspace(true.loc[dates46_start.min() - pd.to_timedelta(1, 'D')][gov], pred_crosstab_dict['week_4_to_6_cases'][gov].iloc[0] + true.loc[dates46_start.min() - pd.to_timedelta(1, 'D')][gov], 14)\n",
    "    y_46_line_dict[gov], = ax[e].plot(dates46_start, vals46_start, linestyle= '-.', color = 'plum', label='4-6 week forecast')\n",
    "\n",
    "    vals68_start = np.linspace(true.loc[dates68_start.min() - pd.to_timedelta(1, 'D')][gov], pred_crosstab_dict['week_6_to_8_cases'][gov].iloc[0] + true.loc[dates68_start.min() - pd.to_timedelta(1, 'D')][gov], 14)\n",
    "    y_68_line_dict[gov], = ax[e].plot(dates68_start, vals68_start, linestyle= '-.', color = 'magenta', label='6-8 week forecast')    \n",
    "\n",
    "ax[8].legend(handles = [true_line_dict[govs[10]], y_12_line_dict[govs[10]], y_24_line_dict[govs[10]], y_46_line_dict[govs[10]], y_68_line_dict[govs[10]]], loc='center left', bbox_to_anchor=(1.05, 0.5), fontsize = 10)\n",
    "#fig.suptitle('Yemen Cholera Forecast vs Total Cases Over Time\\n(split by governorate)', fontsize = 10)\n",
    "fig.tight_layout()\n",
    "fig.subplots_adjust(hspace = .2)\n",
    "\n",
    "anim = FuncAnimation(fig, update, frames=np.arange(0, 115), interval=10, fargs = (relevant_govs,))\n",
    "\n",
    "anim.save('/Users/Rohil/Documents/iGEM/yemen/final_results/gif_total_relevant_govs.gif', dpi=250, writer='imagemagick')"
   ]
  },
  {
   "cell_type": "code",
   "execution_count": null,
   "metadata": {},
   "outputs": [],
   "source": []
  },
  {
   "cell_type": "code",
   "execution_count": null,
   "metadata": {},
   "outputs": [],
   "source": []
  }
 ],
 "metadata": {
  "kernelspec": {
   "display_name": "Python 3",
   "language": "python",
   "name": "python3"
  },
  "language_info": {
   "codemirror_mode": {
    "name": "ipython",
    "version": 3
   },
   "file_extension": ".py",
   "mimetype": "text/x-python",
   "name": "python",
   "nbconvert_exporter": "python",
   "pygments_lexer": "ipython3",
   "version": "3.6.5"
  }
 },
 "nbformat": 4,
 "nbformat_minor": 2
}
