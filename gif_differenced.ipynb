{
 "cells": [
  {
   "cell_type": "code",
   "execution_count": 1,
   "metadata": {},
   "outputs": [],
   "source": [
    "# imports\n",
    "import pandas as pd\n",
    "import sys\n",
    "import numpy as np\n",
    "import matplotlib.pyplot as plt\n",
    "from matplotlib.animation import FuncAnimation"
   ]
  },
  {
   "cell_type": "code",
   "execution_count": 2,
   "metadata": {},
   "outputs": [],
   "source": [
    "# allows animations to be opened in interactive window\n",
    "%matplotlib tk"
   ]
  },
  {
   "cell_type": "code",
   "execution_count": 16,
   "metadata": {},
   "outputs": [],
   "source": [
    "# read in files\n",
    "preds = pd.read_pickle('/Users/Rohil/Documents/iGEM/yemen/y_df_for_feature_selection_new.pkl')\n",
    "true = pd.read_csv('/Users/Rohil/Documents/iGEM/yemen/cholera_epi_data/yemen_cholera_case_data_differenced.csv')"
   ]
  },
  {
   "cell_type": "code",
   "execution_count": 19,
   "metadata": {},
   "outputs": [],
   "source": [
    "true.date = pd.to_datetime(true.date, format = '%d-%m-%y')"
   ]
  },
  {
   "cell_type": "code",
   "execution_count": 22,
   "metadata": {},
   "outputs": [],
   "source": [
    "true = true.set_index('date')"
   ]
  },
  {
   "cell_type": "code",
   "execution_count": 53,
   "metadata": {},
   "outputs": [],
   "source": [
    "gov_pop_area_data = pd.read_excel('/Users/Rohil/Documents/iGEM/yemen/gov_area_pop_data.xlsx')"
   ]
  },
  {
   "cell_type": "code",
   "execution_count": 54,
   "metadata": {},
   "outputs": [],
   "source": [
    "gov_pop_area_data = gov_pop_area_data[gov_pop_area_data.iso != 'YE-HD']"
   ]
  },
  {
   "cell_type": "code",
   "execution_count": 55,
   "metadata": {},
   "outputs": [],
   "source": [
    "for index, row in gov_pop_area_data[['iso', 'population']].iterrows():\n",
    "    true[row.iso] = (true[row.iso] * 10000) / row.population"
   ]
  },
  {
   "cell_type": "code",
   "execution_count": null,
   "metadata": {},
   "outputs": [],
   "source": []
  },
  {
   "cell_type": "code",
   "execution_count": 4,
   "metadata": {},
   "outputs": [],
   "source": [
    "pred_crosstab_dict = {}\n",
    "for col in ['week_1_to_2_cases', 'week_2_to_4_cases', 'week_4_to_6_cases', 'week_6_to_8_cases']:\n",
    "    \n",
    "    pred_crosstab_dict[col] = preds[['gov_iso', 'date', col]].pivot_table(index = 'date', columns = 'gov_iso', values = col)"
   ]
  },
  {
   "cell_type": "code",
   "execution_count": 25,
   "metadata": {},
   "outputs": [],
   "source": [
    "week_12_case_crosstab = pred_crosstab_dict['week_1_to_2_cases']\n",
    "week_24_case_crosstab = pred_crosstab_dict['week_2_to_4_cases']\n",
    "week_46_case_crosstab = pred_crosstab_dict['week_4_to_6_cases']\n",
    "week_68_case_crosstab = pred_crosstab_dict['week_6_to_8_cases']"
   ]
  },
  {
   "cell_type": "code",
   "execution_count": 26,
   "metadata": {},
   "outputs": [
    {
     "data": {
      "text/plain": [
       "Index(['YE-AB', 'YE-AD', 'YE-AM', 'YE-BA', 'YE-DA', 'YE-DH', 'YE-HD-AL',\n",
       "       'YE-HJ', 'YE-HU', 'YE-IB', 'YE-JA', 'YE-LA', 'YE-MA', 'YE-MR', 'YE-MW',\n",
       "       'YE-RA', 'YE-SA', 'YE-SD', 'YE-SH', 'YE-SN', 'YE-TA'],\n",
       "      dtype='object', name='gov_iso')"
      ]
     },
     "execution_count": 26,
     "metadata": {},
     "output_type": "execute_result"
    }
   ],
   "source": [
    "week_12_case_crosstab.columns"
   ]
  },
  {
   "cell_type": "code",
   "execution_count": 28,
   "metadata": {},
   "outputs": [
    {
     "data": {
      "text/plain": [
       "Index(['YE-AB', 'YE-AD', 'YE-AM', 'YE-BA', 'YE-DA', 'YE-DH', 'YE-HD-AL',\n",
       "       'YE-HJ', 'YE-HU', 'YE-IB', 'YE-JA', 'YE-LA', 'YE-MA', 'YE-MR', 'YE-MW',\n",
       "       'YE-RA', 'YE-SA', 'YE-SD', 'YE-SH', 'YE-SN', 'YE-TA'],\n",
       "      dtype='object')"
      ]
     },
     "execution_count": 28,
     "metadata": {},
     "output_type": "execute_result"
    }
   ],
   "source": [
    "true.columns"
   ]
  },
  {
   "cell_type": "code",
   "execution_count": 56,
   "metadata": {},
   "outputs": [],
   "source": [
    "ylim_df = true.max(axis=0)"
   ]
  },
  {
   "cell_type": "code",
   "execution_count": 57,
   "metadata": {},
   "outputs": [],
   "source": [
    "y_12_line_dict = {}\n",
    "y_24_line_dict = {}\n",
    "y_46_line_dict = {}\n",
    "y_68_line_dict = {}\n",
    "true_line_dict = {}"
   ]
  },
  {
   "cell_type": "code",
   "execution_count": 58,
   "metadata": {},
   "outputs": [],
   "source": [
    "# function that updates plot for each day\n",
    "\n",
    "def update(i):\n",
    "    \n",
    "    # Update the line and the axes (with a new xlabel). Return a tuple of\n",
    "    # \"artists\" that have to be redrawn for this frame.\n",
    "    true_date =  pd.date_range(true.index[0], pred_crosstab_dict['week_1_to_2_cases'].index[i])\n",
    "    \n",
    "    dates12 = pd.date_range(pred_crosstab_dict['week_1_to_2_cases'].index[i] + pd.to_timedelta(0, 'W') + pd.to_timedelta(1, 'D'), pred_crosstab_dict['week_1_to_2_cases'].index[i] + pd.to_timedelta(2, 'W'), freq = \"D\")\n",
    "    dates24 = pd.date_range(pred_crosstab_dict['week_2_to_4_cases'].index[i] + pd.to_timedelta(2, 'W') + pd.to_timedelta(1, 'D'), pred_crosstab_dict['week_2_to_4_cases'].index[i] + pd.to_timedelta(4, 'W'), freq = \"D\")\n",
    "    dates46 = pd.date_range(pred_crosstab_dict['week_4_to_6_cases'].index[i] + pd.to_timedelta(4, 'W') + pd.to_timedelta(1, 'D'), pred_crosstab_dict['week_4_to_6_cases'].index[i] + pd.to_timedelta(6, 'W'), freq = \"D\")\n",
    "    dates68 = pd.date_range(pred_crosstab_dict['week_6_to_8_cases'].index[i] + pd.to_timedelta(6, 'W') + pd.to_timedelta(1, 'D'), pred_crosstab_dict['week_6_to_8_cases'].index[i] + pd.to_timedelta(8, 'W'), freq = \"D\")\n",
    "    \n",
    "    for e in range(0,21):\n",
    "        \n",
    "        gov = govs[e]\n",
    "        \n",
    "        true_val = true.loc[true_date][gov]\n",
    "        true_line_dict[gov].set_data(true_date, true_val)\n",
    "        \n",
    "        vals12 = np.repeat(pred_crosstab_dict['week_1_to_2_cases'][gov].iloc[i] / 14, 14)\n",
    "        y_12_line_dict[gov].set_data(dates12, vals12)\n",
    "        \n",
    "        vals24 = np.repeat(pred_crosstab_dict['week_2_to_4_cases'][gov].iloc[i] / 14, 14)\n",
    "        y_24_line_dict[gov].set_data(dates24, vals24)\n",
    "\n",
    "        vals46 = np.repeat(pred_crosstab_dict['week_4_to_6_cases'][gov].iloc[i] / 14, 14)\n",
    "        y_46_line_dict[gov].set_data(dates46, vals46)\n",
    "\n",
    "        vals68 = np.repeat(pred_crosstab_dict['week_6_to_8_cases'][gov].iloc[i] / 14, 14)\n",
    "        y_68_line_dict[gov].set_data(dates68, vals68)\n",
    "        \n",
    "    \n",
    "    label = 'day {0}'.format(i)\n",
    "    \n",
    "    ax[-1].set_xlabel(label)\n",
    "    \n",
    "    return (ax)"
   ]
  },
  {
   "cell_type": "code",
   "execution_count": 66,
   "metadata": {},
   "outputs": [
    {
     "name": "stderr",
     "output_type": "stream",
     "text": [
      "No handles with labels found to put in legend.\n",
      "No handles with labels found to put in legend.\n",
      "No handles with labels found to put in legend.\n",
      "No handles with labels found to put in legend.\n",
      "No handles with labels found to put in legend.\n",
      "No handles with labels found to put in legend.\n",
      "No handles with labels found to put in legend.\n",
      "No handles with labels found to put in legend.\n",
      "No handles with labels found to put in legend.\n",
      "No handles with labels found to put in legend.\n",
      "No handles with labels found to put in legend.\n",
      "No handles with labels found to put in legend.\n",
      "No handles with labels found to put in legend.\n",
      "No handles with labels found to put in legend.\n",
      "No handles with labels found to put in legend.\n",
      "No handles with labels found to put in legend.\n",
      "No handles with labels found to put in legend.\n",
      "No handles with labels found to put in legend.\n",
      "No handles with labels found to put in legend.\n",
      "No handles with labels found to put in legend.\n",
      "No handles with labels found to put in legend.\n",
      "MovieWriter imagemagick unavailable.\n"
     ]
    }
   ],
   "source": [
    "fig, ax = plt.subplots(21,1,figsize = (6,17), sharex=True, sharey = False)\n",
    "\n",
    "govs = true.columns\n",
    "\n",
    "for i in range(0,21):\n",
    "\n",
    "    ax[i].set_xlim(true.index.min(), true.index.max())\n",
    "    ax[i].set_ylim(0,10)#ylim_df[govs[i]])\n",
    "    ax[i].legend().set_visible(False)\n",
    "    ax[i].set_ylabel(govs[i])\n",
    "    ax[i].yaxis.set_label_position('right')\n",
    "    ax[i].spines['right'].set_visible(False)\n",
    "    ax[i].spines['top'].set_visible(False)\n",
    "    ax[i].spines['bottom'].set_visible(True)\n",
    "\n",
    "\n",
    "true_date_start =  pd.date_range(true.index[0], pred_crosstab_dict['week_1_to_2_cases'].index[i])\n",
    "\n",
    "dates12_start = pd.date_range(pred_crosstab_dict['week_1_to_2_cases'].index[0] + pd.to_timedelta(0, 'W') + pd.to_timedelta(1, 'D'), pred_crosstab_dict['week_1_to_2_cases'].index[0] + pd.to_timedelta(2, 'W'), freq = \"D\")\n",
    "dates24_start = pd.date_range(pred_crosstab_dict['week_2_to_4_cases'].index[0] + pd.to_timedelta(2, 'W') + pd.to_timedelta(1, 'D'), pred_crosstab_dict['week_2_to_4_cases'].index[0] + pd.to_timedelta(4, 'W'), freq = \"D\")\n",
    "dates46_start = pd.date_range(pred_crosstab_dict['week_4_to_6_cases'].index[0] + pd.to_timedelta(4, 'W') + pd.to_timedelta(1, 'D'), pred_crosstab_dict['week_4_to_6_cases'].index[0] + pd.to_timedelta(6, 'W'), freq = \"D\")\n",
    "dates68_start = pd.date_range(pred_crosstab_dict['week_6_to_8_cases'].index[0] + pd.to_timedelta(6, 'W') + pd.to_timedelta(1, 'D'), pred_crosstab_dict['week_6_to_8_cases'].index[0] + pd.to_timedelta(8, 'W'), freq = \"D\")\n",
    "\n",
    "for e in range(0,21):\n",
    "\n",
    "    gov = govs[e]\n",
    "    \n",
    "    true_val_start = true.loc[true_date_start][gov]\n",
    "    true_line_dict[gov], = ax[e].plot(true_date_start, true_val_start, color = 'red')\n",
    "\n",
    "    vals12_start = np.repeat(pred_crosstab_dict['week_1_to_2_cases'][gov].iloc[0] / 14, 14)\n",
    "    y_12_line_dict[gov], = ax[e].plot(dates12_start, vals12_start, linestyle= '-.', color = 'seagreen')\n",
    "\n",
    "    vals24_start = np.repeat(pred_crosstab_dict['week_2_to_4_cases'][gov].iloc[0] / 14, 14)\n",
    "    y_24_line_dict[gov], = ax[e].plot(dates24_start, vals24_start, linestyle= '-.', color = 'blue')\n",
    "\n",
    "    vals46_start = np.repeat(pred_crosstab_dict['week_4_to_6_cases'][gov].iloc[0] / 14, 14)\n",
    "    y_46_line_dict[gov], = ax[e].plot(dates46_start, vals46_start, linestyle= '-.', color = 'plum')\n",
    "\n",
    "    vals68_start = np.repeat(pred_crosstab_dict['week_6_to_8_cases'][gov].iloc[0] / 14, 14)\n",
    "    y_68_line_dict[gov], = ax[e].plot(dates68_start, vals68_start, linestyle= '-.', color = 'magenta')    \n",
    "    \n",
    "anim = FuncAnimation(fig, update, frames=np.arange(0, 200), interval=10)\n",
    "\n",
    "anim.save('/Users/Rohil/Documents/iGEM/yemen/gif_with_true_vals.gif', dpi=100, writer='imagemagick')"
   ]
  },
  {
   "cell_type": "code",
   "execution_count": null,
   "metadata": {},
   "outputs": [],
   "source": []
  },
  {
   "cell_type": "code",
   "execution_count": 13,
   "metadata": {},
   "outputs": [
    {
     "name": "stdout",
     "output_type": "stream",
     "text": [
      "fig size: 100.0 DPI, size in inches [6.4 4.8]\n"
     ]
    }
   ],
   "source": [
    "fig, ax = plt.subplots()\n",
    "fig.set_tight_layout(True)\n",
    "\n",
    "# Query the figure's on-screen size and DPI. Note that when saving the figure to\n",
    "# a file, we need to provide a DPI for that separately.\n",
    "print('fig size: {0} DPI, size in inches {1}'.format(\n",
    "    fig.get_dpi(), fig.get_size_inches()))\n",
    "\n",
    "ax.set_xlim(pd.Timestamp('2017-05-23'), pd.Timestamp('2018-02-18'))\n",
    "ax.set_ylim(0, 50)\n",
    "line, = ax.plot(pd.date_range(pred_crosstab_dict['week_4_to_6_cases'].index[0] + pd.to_timedelta(4, 'W') + pd.to_timedelta(1, 'D'), pred_crosstab_dict['week_4_to_6_cases'].index[0] + pd.to_timedelta(6, 'W'), freq = \"D\"), np.repeat(pred_crosstab_dict['week_4_to_6_cases']['YE-AB'].iloc[0] / 14, 14), color = 'g')\n",
    "\n",
    "anim = FuncAnimation(fig, update, frames=np.arange(0, 200), interval=200)"
   ]
  },
  {
   "cell_type": "code",
   "execution_count": null,
   "metadata": {},
   "outputs": [],
   "source": []
  }
 ],
 "metadata": {
  "kernelspec": {
   "display_name": "Python 3",
   "language": "python",
   "name": "python3"
  },
  "language_info": {
   "codemirror_mode": {
    "name": "ipython",
    "version": 3
   },
   "file_extension": ".py",
   "mimetype": "text/x-python",
   "name": "python",
   "nbconvert_exporter": "python",
   "pygments_lexer": "ipython3",
   "version": "3.6.5"
  }
 },
 "nbformat": 4,
 "nbformat_minor": 2
}
