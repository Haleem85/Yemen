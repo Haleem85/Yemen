{
 "cells": [
  {
   "cell_type": "code",
   "execution_count": 2,
   "metadata": {},
   "outputs": [],
   "source": [
    "import pandas as pd\n",
    "import xgboost\n",
    "import matplotlib.pyplot as plt\n",
    "from sklearn.preprocessing import StandardScaler\n",
    "from sklearn.metrics import explained_variance_score\n",
    "from sklearn.metrics import mean_absolute_error\n",
    "from sklearn.feature_selection import SelectFromModel\n",
    "from sklearn.model_selection import GridSearchCV, TimeSeriesSplit\n",
    "import pickle"
   ]
  },
  {
   "cell_type": "code",
   "execution_count": 5,
   "metadata": {},
   "outputs": [],
   "source": [
    "y_df = pd.read_csv('/Users/Rohil/Documents/iGEM/yemen/cholera_epi_data/y_normalized_groupby_week_df.csv')"
   ]
  },
  {
   "cell_type": "code",
   "execution_count": 6,
   "metadata": {},
   "outputs": [
    {
     "data": {
      "text/html": [
       "<div>\n",
       "<style scoped>\n",
       "    .dataframe tbody tr th:only-of-type {\n",
       "        vertical-align: middle;\n",
       "    }\n",
       "\n",
       "    .dataframe tbody tr th {\n",
       "        vertical-align: top;\n",
       "    }\n",
       "\n",
       "    .dataframe thead th {\n",
       "        text-align: right;\n",
       "    }\n",
       "</style>\n",
       "<table border=\"1\" class=\"dataframe\">\n",
       "  <thead>\n",
       "    <tr style=\"text-align: right;\">\n",
       "      <th></th>\n",
       "      <th>gov_iso</th>\n",
       "      <th>date</th>\n",
       "      <th>week_1_cases</th>\n",
       "      <th>week_2_cases</th>\n",
       "      <th>week_2_to_4_cases</th>\n",
       "      <th>week_4_to_6_cases</th>\n",
       "      <th>week_6_to_8_cases</th>\n",
       "    </tr>\n",
       "  </thead>\n",
       "  <tbody>\n",
       "    <tr>\n",
       "      <th>0</th>\n",
       "      <td>YE-AB</td>\n",
       "      <td>2017-05-23</td>\n",
       "      <td>6.976066</td>\n",
       "      <td>7.594340</td>\n",
       "      <td>18.482427</td>\n",
       "      <td>51.257999</td>\n",
       "      <td>65.009775</td>\n",
       "    </tr>\n",
       "    <tr>\n",
       "      <th>1</th>\n",
       "      <td>YE-AB</td>\n",
       "      <td>2017-05-24</td>\n",
       "      <td>7.085352</td>\n",
       "      <td>7.853387</td>\n",
       "      <td>17.273202</td>\n",
       "      <td>55.583889</td>\n",
       "      <td>60.623171</td>\n",
       "    </tr>\n",
       "    <tr>\n",
       "      <th>2</th>\n",
       "      <td>YE-AB</td>\n",
       "      <td>2017-05-25</td>\n",
       "      <td>7.194638</td>\n",
       "      <td>8.405887</td>\n",
       "      <td>20.658021</td>\n",
       "      <td>55.523175</td>\n",
       "      <td>60.532100</td>\n",
       "    </tr>\n",
       "    <tr>\n",
       "      <th>3</th>\n",
       "      <td>YE-AB</td>\n",
       "      <td>2017-05-26</td>\n",
       "      <td>7.303923</td>\n",
       "      <td>8.958386</td>\n",
       "      <td>21.022306</td>\n",
       "      <td>57.982101</td>\n",
       "      <td>60.577635</td>\n",
       "    </tr>\n",
       "    <tr>\n",
       "      <th>4</th>\n",
       "      <td>YE-AB</td>\n",
       "      <td>2017-05-27</td>\n",
       "      <td>7.413209</td>\n",
       "      <td>9.510886</td>\n",
       "      <td>22.358020</td>\n",
       "      <td>58.563946</td>\n",
       "      <td>60.876147</td>\n",
       "    </tr>\n",
       "  </tbody>\n",
       "</table>\n",
       "</div>"
      ],
      "text/plain": [
       "  gov_iso        date  week_1_cases  week_2_cases  week_2_to_4_cases  \\\n",
       "0   YE-AB  2017-05-23      6.976066      7.594340          18.482427   \n",
       "1   YE-AB  2017-05-24      7.085352      7.853387          17.273202   \n",
       "2   YE-AB  2017-05-25      7.194638      8.405887          20.658021   \n",
       "3   YE-AB  2017-05-26      7.303923      8.958386          21.022306   \n",
       "4   YE-AB  2017-05-27      7.413209      9.510886          22.358020   \n",
       "\n",
       "   week_4_to_6_cases  week_6_to_8_cases  \n",
       "0          51.257999          65.009775  \n",
       "1          55.583889          60.623171  \n",
       "2          55.523175          60.532100  \n",
       "3          57.982101          60.577635  \n",
       "4          58.563946          60.876147  "
      ]
     },
     "execution_count": 6,
     "metadata": {},
     "output_type": "execute_result"
    }
   ],
   "source": [
    "y_df.head()"
   ]
  },
  {
   "cell_type": "code",
   "execution_count": 12,
   "metadata": {},
   "outputs": [],
   "source": [
    "full_features = pd.read_csv('/Users/Rohil/Documents/iGEM/yemen/full_features.csv'\"\")"
   ]
  },
  {
   "cell_type": "code",
   "execution_count": 13,
   "metadata": {},
   "outputs": [
    {
     "data": {
      "text/html": [
       "<div>\n",
       "<style scoped>\n",
       "    .dataframe tbody tr th:only-of-type {\n",
       "        vertical-align: middle;\n",
       "    }\n",
       "\n",
       "    .dataframe tbody tr th {\n",
       "        vertical-align: top;\n",
       "    }\n",
       "\n",
       "    .dataframe thead th {\n",
       "        text-align: right;\n",
       "    }\n",
       "</style>\n",
       "<table border=\"1\" class=\"dataframe\">\n",
       "  <thead>\n",
       "    <tr style=\"text-align: right;\">\n",
       "      <th></th>\n",
       "      <th>gov_iso</th>\n",
       "      <th>date</th>\n",
       "      <th>mean_past_week_cases</th>\n",
       "      <th>max_past_week_cases</th>\n",
       "      <th>kurtosis_past_week_cases</th>\n",
       "      <th>mean_past_2_week_cases</th>\n",
       "      <th>max_past_2_week_cases</th>\n",
       "      <th>kurtosis_past_2_week_cases</th>\n",
       "      <th>mean_past_month_cases</th>\n",
       "      <th>max_past_month_cases</th>\n",
       "      <th>...</th>\n",
       "      <th>YE-LA</th>\n",
       "      <th>YE-MA</th>\n",
       "      <th>YE-MR</th>\n",
       "      <th>YE-MW</th>\n",
       "      <th>YE-RA</th>\n",
       "      <th>YE-SA</th>\n",
       "      <th>YE-SD</th>\n",
       "      <th>YE-SH</th>\n",
       "      <th>YE-SN</th>\n",
       "      <th>YE-TA</th>\n",
       "    </tr>\n",
       "  </thead>\n",
       "  <tbody>\n",
       "    <tr>\n",
       "      <th>0</th>\n",
       "      <td>YE-AB</td>\n",
       "      <td>2017-05-31</td>\n",
       "      <td>0.996581</td>\n",
       "      <td>1.123213</td>\n",
       "      <td>-1.916667</td>\n",
       "      <td>0.984709</td>\n",
       "      <td>1.123213</td>\n",
       "      <td>-1.733333</td>\n",
       "      <td>0.984709</td>\n",
       "      <td>1.123213</td>\n",
       "      <td>...</td>\n",
       "      <td>0</td>\n",
       "      <td>0</td>\n",
       "      <td>0</td>\n",
       "      <td>0</td>\n",
       "      <td>0</td>\n",
       "      <td>0</td>\n",
       "      <td>0</td>\n",
       "      <td>0</td>\n",
       "      <td>0</td>\n",
       "      <td>0</td>\n",
       "    </tr>\n",
       "    <tr>\n",
       "      <th>1</th>\n",
       "      <td>YE-SN</td>\n",
       "      <td>2017-05-31</td>\n",
       "      <td>1.313100</td>\n",
       "      <td>1.375641</td>\n",
       "      <td>-1.916667</td>\n",
       "      <td>1.320918</td>\n",
       "      <td>1.375641</td>\n",
       "      <td>-1.733333</td>\n",
       "      <td>1.320918</td>\n",
       "      <td>1.375641</td>\n",
       "      <td>...</td>\n",
       "      <td>0</td>\n",
       "      <td>0</td>\n",
       "      <td>0</td>\n",
       "      <td>0</td>\n",
       "      <td>0</td>\n",
       "      <td>0</td>\n",
       "      <td>0</td>\n",
       "      <td>0</td>\n",
       "      <td>1</td>\n",
       "      <td>0</td>\n",
       "    </tr>\n",
       "    <tr>\n",
       "      <th>2</th>\n",
       "      <td>YE-SH</td>\n",
       "      <td>2017-05-31</td>\n",
       "      <td>0.006578</td>\n",
       "      <td>0.015349</td>\n",
       "      <td>-1.916667</td>\n",
       "      <td>0.005756</td>\n",
       "      <td>0.015349</td>\n",
       "      <td>-1.733333</td>\n",
       "      <td>0.005756</td>\n",
       "      <td>0.015349</td>\n",
       "      <td>...</td>\n",
       "      <td>0</td>\n",
       "      <td>0</td>\n",
       "      <td>0</td>\n",
       "      <td>0</td>\n",
       "      <td>0</td>\n",
       "      <td>0</td>\n",
       "      <td>0</td>\n",
       "      <td>1</td>\n",
       "      <td>0</td>\n",
       "      <td>0</td>\n",
       "    </tr>\n",
       "    <tr>\n",
       "      <th>3</th>\n",
       "      <td>YE-BA</td>\n",
       "      <td>2017-05-31</td>\n",
       "      <td>2.445220</td>\n",
       "      <td>2.484196</td>\n",
       "      <td>-1.916667</td>\n",
       "      <td>2.450092</td>\n",
       "      <td>2.484196</td>\n",
       "      <td>-1.733333</td>\n",
       "      <td>2.450092</td>\n",
       "      <td>2.484196</td>\n",
       "      <td>...</td>\n",
       "      <td>0</td>\n",
       "      <td>0</td>\n",
       "      <td>0</td>\n",
       "      <td>0</td>\n",
       "      <td>0</td>\n",
       "      <td>0</td>\n",
       "      <td>0</td>\n",
       "      <td>0</td>\n",
       "      <td>0</td>\n",
       "      <td>0</td>\n",
       "    </tr>\n",
       "    <tr>\n",
       "      <th>4</th>\n",
       "      <td>YE-IB</td>\n",
       "      <td>2017-05-31</td>\n",
       "      <td>0.375929</td>\n",
       "      <td>0.408584</td>\n",
       "      <td>-1.916667</td>\n",
       "      <td>0.380011</td>\n",
       "      <td>0.408584</td>\n",
       "      <td>-1.733333</td>\n",
       "      <td>0.380011</td>\n",
       "      <td>0.408584</td>\n",
       "      <td>...</td>\n",
       "      <td>0</td>\n",
       "      <td>0</td>\n",
       "      <td>0</td>\n",
       "      <td>0</td>\n",
       "      <td>0</td>\n",
       "      <td>0</td>\n",
       "      <td>0</td>\n",
       "      <td>0</td>\n",
       "      <td>0</td>\n",
       "      <td>0</td>\n",
       "    </tr>\n",
       "  </tbody>\n",
       "</table>\n",
       "<p>5 rows × 185 columns</p>\n",
       "</div>"
      ],
      "text/plain": [
       "  gov_iso        date  mean_past_week_cases  max_past_week_cases  \\\n",
       "0   YE-AB  2017-05-31              0.996581             1.123213   \n",
       "1   YE-SN  2017-05-31              1.313100             1.375641   \n",
       "2   YE-SH  2017-05-31              0.006578             0.015349   \n",
       "3   YE-BA  2017-05-31              2.445220             2.484196   \n",
       "4   YE-IB  2017-05-31              0.375929             0.408584   \n",
       "\n",
       "   kurtosis_past_week_cases  mean_past_2_week_cases  max_past_2_week_cases  \\\n",
       "0                 -1.916667                0.984709               1.123213   \n",
       "1                 -1.916667                1.320918               1.375641   \n",
       "2                 -1.916667                0.005756               0.015349   \n",
       "3                 -1.916667                2.450092               2.484196   \n",
       "4                 -1.916667                0.380011               0.408584   \n",
       "\n",
       "   kurtosis_past_2_week_cases  mean_past_month_cases  max_past_month_cases  \\\n",
       "0                   -1.733333               0.984709              1.123213   \n",
       "1                   -1.733333               1.320918              1.375641   \n",
       "2                   -1.733333               0.005756              0.015349   \n",
       "3                   -1.733333               2.450092              2.484196   \n",
       "4                   -1.733333               0.380011              0.408584   \n",
       "\n",
       "   ...    YE-LA  YE-MA  YE-MR  YE-MW  YE-RA  YE-SA  YE-SD  YE-SH  YE-SN  YE-TA  \n",
       "0  ...        0      0      0      0      0      0      0      0      0      0  \n",
       "1  ...        0      0      0      0      0      0      0      0      1      0  \n",
       "2  ...        0      0      0      0      0      0      0      1      0      0  \n",
       "3  ...        0      0      0      0      0      0      0      0      0      0  \n",
       "4  ...        0      0      0      0      0      0      0      0      0      0  \n",
       "\n",
       "[5 rows x 185 columns]"
      ]
     },
     "execution_count": 13,
     "metadata": {},
     "output_type": "execute_result"
    }
   ],
   "source": [
    "full_features.head()"
   ]
  },
  {
   "cell_type": "code",
   "execution_count": 14,
   "metadata": {},
   "outputs": [],
   "source": [
    "full_features.date = pd.to_datetime(full_features.date, format = '%Y-%m-%d')"
   ]
  },
  {
   "cell_type": "code",
   "execution_count": 15,
   "metadata": {},
   "outputs": [
    {
     "data": {
      "text/plain": [
       "(5397, 21)"
      ]
     },
     "execution_count": 15,
     "metadata": {},
     "output_type": "execute_result"
    }
   ],
   "source": [
    "full_features.iloc[:,164:185].shape"
   ]
  },
  {
   "cell_type": "code",
   "execution_count": 16,
   "metadata": {},
   "outputs": [],
   "source": [
    "categorical_cols = (162, 183)"
   ]
  },
  {
   "cell_type": "code",
   "execution_count": 17,
   "metadata": {},
   "outputs": [],
   "source": [
    "all_feature_list = full_features.drop('gov_iso', axis = 1).columns"
   ]
  },
  {
   "cell_type": "code",
   "execution_count": 18,
   "metadata": {},
   "outputs": [],
   "source": [
    "full_features.date = pd.to_datetime(full_features.date, format = '%Y-%m-%d')\n",
    "y_df.date = pd.to_datetime(y_df.date, format = '%Y-%m-%d')"
   ]
  },
  {
   "cell_type": "code",
   "execution_count": 19,
   "metadata": {},
   "outputs": [
    {
     "data": {
      "text/html": [
       "<div>\n",
       "<style scoped>\n",
       "    .dataframe tbody tr th:only-of-type {\n",
       "        vertical-align: middle;\n",
       "    }\n",
       "\n",
       "    .dataframe tbody tr th {\n",
       "        vertical-align: top;\n",
       "    }\n",
       "\n",
       "    .dataframe thead th {\n",
       "        text-align: right;\n",
       "    }\n",
       "</style>\n",
       "<table border=\"1\" class=\"dataframe\">\n",
       "  <thead>\n",
       "    <tr style=\"text-align: right;\">\n",
       "      <th></th>\n",
       "      <th>gov_iso</th>\n",
       "      <th>date</th>\n",
       "      <th>mean_past_week_cases</th>\n",
       "      <th>max_past_week_cases</th>\n",
       "      <th>kurtosis_past_week_cases</th>\n",
       "      <th>mean_past_2_week_cases</th>\n",
       "      <th>max_past_2_week_cases</th>\n",
       "      <th>kurtosis_past_2_week_cases</th>\n",
       "      <th>mean_past_month_cases</th>\n",
       "      <th>max_past_month_cases</th>\n",
       "      <th>...</th>\n",
       "      <th>YE-LA</th>\n",
       "      <th>YE-MA</th>\n",
       "      <th>YE-MR</th>\n",
       "      <th>YE-MW</th>\n",
       "      <th>YE-RA</th>\n",
       "      <th>YE-SA</th>\n",
       "      <th>YE-SD</th>\n",
       "      <th>YE-SH</th>\n",
       "      <th>YE-SN</th>\n",
       "      <th>YE-TA</th>\n",
       "    </tr>\n",
       "  </thead>\n",
       "  <tbody>\n",
       "    <tr>\n",
       "      <th>0</th>\n",
       "      <td>YE-AB</td>\n",
       "      <td>2017-05-31</td>\n",
       "      <td>0.996581</td>\n",
       "      <td>1.123213</td>\n",
       "      <td>-1.916667</td>\n",
       "      <td>0.984709</td>\n",
       "      <td>1.123213</td>\n",
       "      <td>-1.733333</td>\n",
       "      <td>0.984709</td>\n",
       "      <td>1.123213</td>\n",
       "      <td>...</td>\n",
       "      <td>0</td>\n",
       "      <td>0</td>\n",
       "      <td>0</td>\n",
       "      <td>0</td>\n",
       "      <td>0</td>\n",
       "      <td>0</td>\n",
       "      <td>0</td>\n",
       "      <td>0</td>\n",
       "      <td>0</td>\n",
       "      <td>0</td>\n",
       "    </tr>\n",
       "    <tr>\n",
       "      <th>1</th>\n",
       "      <td>YE-SN</td>\n",
       "      <td>2017-05-31</td>\n",
       "      <td>1.313100</td>\n",
       "      <td>1.375641</td>\n",
       "      <td>-1.916667</td>\n",
       "      <td>1.320918</td>\n",
       "      <td>1.375641</td>\n",
       "      <td>-1.733333</td>\n",
       "      <td>1.320918</td>\n",
       "      <td>1.375641</td>\n",
       "      <td>...</td>\n",
       "      <td>0</td>\n",
       "      <td>0</td>\n",
       "      <td>0</td>\n",
       "      <td>0</td>\n",
       "      <td>0</td>\n",
       "      <td>0</td>\n",
       "      <td>0</td>\n",
       "      <td>0</td>\n",
       "      <td>1</td>\n",
       "      <td>0</td>\n",
       "    </tr>\n",
       "    <tr>\n",
       "      <th>2</th>\n",
       "      <td>YE-SH</td>\n",
       "      <td>2017-05-31</td>\n",
       "      <td>0.006578</td>\n",
       "      <td>0.015349</td>\n",
       "      <td>-1.916667</td>\n",
       "      <td>0.005756</td>\n",
       "      <td>0.015349</td>\n",
       "      <td>-1.733333</td>\n",
       "      <td>0.005756</td>\n",
       "      <td>0.015349</td>\n",
       "      <td>...</td>\n",
       "      <td>0</td>\n",
       "      <td>0</td>\n",
       "      <td>0</td>\n",
       "      <td>0</td>\n",
       "      <td>0</td>\n",
       "      <td>0</td>\n",
       "      <td>0</td>\n",
       "      <td>1</td>\n",
       "      <td>0</td>\n",
       "      <td>0</td>\n",
       "    </tr>\n",
       "    <tr>\n",
       "      <th>3</th>\n",
       "      <td>YE-BA</td>\n",
       "      <td>2017-05-31</td>\n",
       "      <td>2.445220</td>\n",
       "      <td>2.484196</td>\n",
       "      <td>-1.916667</td>\n",
       "      <td>2.450092</td>\n",
       "      <td>2.484196</td>\n",
       "      <td>-1.733333</td>\n",
       "      <td>2.450092</td>\n",
       "      <td>2.484196</td>\n",
       "      <td>...</td>\n",
       "      <td>0</td>\n",
       "      <td>0</td>\n",
       "      <td>0</td>\n",
       "      <td>0</td>\n",
       "      <td>0</td>\n",
       "      <td>0</td>\n",
       "      <td>0</td>\n",
       "      <td>0</td>\n",
       "      <td>0</td>\n",
       "      <td>0</td>\n",
       "    </tr>\n",
       "    <tr>\n",
       "      <th>4</th>\n",
       "      <td>YE-IB</td>\n",
       "      <td>2017-05-31</td>\n",
       "      <td>0.375929</td>\n",
       "      <td>0.408584</td>\n",
       "      <td>-1.916667</td>\n",
       "      <td>0.380011</td>\n",
       "      <td>0.408584</td>\n",
       "      <td>-1.733333</td>\n",
       "      <td>0.380011</td>\n",
       "      <td>0.408584</td>\n",
       "      <td>...</td>\n",
       "      <td>0</td>\n",
       "      <td>0</td>\n",
       "      <td>0</td>\n",
       "      <td>0</td>\n",
       "      <td>0</td>\n",
       "      <td>0</td>\n",
       "      <td>0</td>\n",
       "      <td>0</td>\n",
       "      <td>0</td>\n",
       "      <td>0</td>\n",
       "    </tr>\n",
       "    <tr>\n",
       "      <th>5</th>\n",
       "      <td>YE-SA</td>\n",
       "      <td>2017-05-31</td>\n",
       "      <td>4.643352</td>\n",
       "      <td>5.665804</td>\n",
       "      <td>-1.916667</td>\n",
       "      <td>4.771159</td>\n",
       "      <td>5.665804</td>\n",
       "      <td>-1.733333</td>\n",
       "      <td>4.771159</td>\n",
       "      <td>5.665804</td>\n",
       "      <td>...</td>\n",
       "      <td>0</td>\n",
       "      <td>0</td>\n",
       "      <td>0</td>\n",
       "      <td>0</td>\n",
       "      <td>0</td>\n",
       "      <td>1</td>\n",
       "      <td>0</td>\n",
       "      <td>0</td>\n",
       "      <td>0</td>\n",
       "      <td>0</td>\n",
       "    </tr>\n",
       "    <tr>\n",
       "      <th>6</th>\n",
       "      <td>YE-DA</td>\n",
       "      <td>2017-05-31</td>\n",
       "      <td>2.053912</td>\n",
       "      <td>2.500223</td>\n",
       "      <td>-1.916667</td>\n",
       "      <td>2.012071</td>\n",
       "      <td>2.500223</td>\n",
       "      <td>-1.733333</td>\n",
       "      <td>2.012071</td>\n",
       "      <td>2.500223</td>\n",
       "      <td>...</td>\n",
       "      <td>0</td>\n",
       "      <td>0</td>\n",
       "      <td>0</td>\n",
       "      <td>0</td>\n",
       "      <td>0</td>\n",
       "      <td>0</td>\n",
       "      <td>0</td>\n",
       "      <td>0</td>\n",
       "      <td>0</td>\n",
       "      <td>0</td>\n",
       "    </tr>\n",
       "    <tr>\n",
       "      <th>7</th>\n",
       "      <td>YE-SD</td>\n",
       "      <td>2017-05-31</td>\n",
       "      <td>0.028928</td>\n",
       "      <td>0.067499</td>\n",
       "      <td>-1.916667</td>\n",
       "      <td>0.025312</td>\n",
       "      <td>0.067499</td>\n",
       "      <td>-1.733333</td>\n",
       "      <td>0.025312</td>\n",
       "      <td>0.067499</td>\n",
       "      <td>...</td>\n",
       "      <td>0</td>\n",
       "      <td>0</td>\n",
       "      <td>0</td>\n",
       "      <td>0</td>\n",
       "      <td>0</td>\n",
       "      <td>0</td>\n",
       "      <td>1</td>\n",
       "      <td>0</td>\n",
       "      <td>0</td>\n",
       "      <td>0</td>\n",
       "    </tr>\n",
       "    <tr>\n",
       "      <th>8</th>\n",
       "      <td>YE-MW</td>\n",
       "      <td>2017-05-31</td>\n",
       "      <td>3.000866</td>\n",
       "      <td>3.025834</td>\n",
       "      <td>-1.916667</td>\n",
       "      <td>3.003987</td>\n",
       "      <td>3.025834</td>\n",
       "      <td>-1.733333</td>\n",
       "      <td>3.003987</td>\n",
       "      <td>3.025834</td>\n",
       "      <td>...</td>\n",
       "      <td>0</td>\n",
       "      <td>0</td>\n",
       "      <td>0</td>\n",
       "      <td>1</td>\n",
       "      <td>0</td>\n",
       "      <td>0</td>\n",
       "      <td>0</td>\n",
       "      <td>0</td>\n",
       "      <td>0</td>\n",
       "      <td>0</td>\n",
       "    </tr>\n",
       "    <tr>\n",
       "      <th>9</th>\n",
       "      <td>YE-TA</td>\n",
       "      <td>2017-05-31</td>\n",
       "      <td>0.717478</td>\n",
       "      <td>0.735545</td>\n",
       "      <td>-1.916667</td>\n",
       "      <td>0.715785</td>\n",
       "      <td>0.735545</td>\n",
       "      <td>-1.733333</td>\n",
       "      <td>0.715785</td>\n",
       "      <td>0.735545</td>\n",
       "      <td>...</td>\n",
       "      <td>0</td>\n",
       "      <td>0</td>\n",
       "      <td>0</td>\n",
       "      <td>0</td>\n",
       "      <td>0</td>\n",
       "      <td>0</td>\n",
       "      <td>0</td>\n",
       "      <td>0</td>\n",
       "      <td>0</td>\n",
       "      <td>1</td>\n",
       "    </tr>\n",
       "    <tr>\n",
       "      <th>10</th>\n",
       "      <td>YE-DH</td>\n",
       "      <td>2017-05-31</td>\n",
       "      <td>1.042134</td>\n",
       "      <td>1.048868</td>\n",
       "      <td>-1.916667</td>\n",
       "      <td>1.042976</td>\n",
       "      <td>1.048868</td>\n",
       "      <td>-1.733333</td>\n",
       "      <td>1.042976</td>\n",
       "      <td>1.048868</td>\n",
       "      <td>...</td>\n",
       "      <td>0</td>\n",
       "      <td>0</td>\n",
       "      <td>0</td>\n",
       "      <td>0</td>\n",
       "      <td>0</td>\n",
       "      <td>0</td>\n",
       "      <td>0</td>\n",
       "      <td>0</td>\n",
       "      <td>0</td>\n",
       "      <td>0</td>\n",
       "    </tr>\n",
       "    <tr>\n",
       "      <th>11</th>\n",
       "      <td>YE-HJ</td>\n",
       "      <td>2017-05-31</td>\n",
       "      <td>1.677303</td>\n",
       "      <td>2.054175</td>\n",
       "      <td>-1.916667</td>\n",
       "      <td>1.641972</td>\n",
       "      <td>2.054175</td>\n",
       "      <td>-1.733333</td>\n",
       "      <td>1.641972</td>\n",
       "      <td>2.054175</td>\n",
       "      <td>...</td>\n",
       "      <td>0</td>\n",
       "      <td>0</td>\n",
       "      <td>0</td>\n",
       "      <td>0</td>\n",
       "      <td>0</td>\n",
       "      <td>0</td>\n",
       "      <td>0</td>\n",
       "      <td>0</td>\n",
       "      <td>0</td>\n",
       "      <td>0</td>\n",
       "    </tr>\n",
       "    <tr>\n",
       "      <th>12</th>\n",
       "      <td>YE-MR</td>\n",
       "      <td>2017-05-31</td>\n",
       "      <td>0.000000</td>\n",
       "      <td>0.000000</td>\n",
       "      <td>-3.000000</td>\n",
       "      <td>0.000000</td>\n",
       "      <td>0.000000</td>\n",
       "      <td>-3.000000</td>\n",
       "      <td>0.000000</td>\n",
       "      <td>0.000000</td>\n",
       "      <td>...</td>\n",
       "      <td>0</td>\n",
       "      <td>0</td>\n",
       "      <td>1</td>\n",
       "      <td>0</td>\n",
       "      <td>0</td>\n",
       "      <td>0</td>\n",
       "      <td>0</td>\n",
       "      <td>0</td>\n",
       "      <td>0</td>\n",
       "      <td>0</td>\n",
       "    </tr>\n",
       "    <tr>\n",
       "      <th>13</th>\n",
       "      <td>YE-JA</td>\n",
       "      <td>2017-05-31</td>\n",
       "      <td>0.277034</td>\n",
       "      <td>0.316672</td>\n",
       "      <td>-1.916667</td>\n",
       "      <td>0.273318</td>\n",
       "      <td>0.316672</td>\n",
       "      <td>-1.733333</td>\n",
       "      <td>0.273318</td>\n",
       "      <td>0.316672</td>\n",
       "      <td>...</td>\n",
       "      <td>0</td>\n",
       "      <td>0</td>\n",
       "      <td>0</td>\n",
       "      <td>0</td>\n",
       "      <td>0</td>\n",
       "      <td>0</td>\n",
       "      <td>0</td>\n",
       "      <td>0</td>\n",
       "      <td>0</td>\n",
       "      <td>0</td>\n",
       "    </tr>\n",
       "    <tr>\n",
       "      <th>14</th>\n",
       "      <td>YE-LA</td>\n",
       "      <td>2017-05-31</td>\n",
       "      <td>0.417949</td>\n",
       "      <td>0.514597</td>\n",
       "      <td>-1.916667</td>\n",
       "      <td>0.408889</td>\n",
       "      <td>0.514597</td>\n",
       "      <td>-1.733333</td>\n",
       "      <td>0.408889</td>\n",
       "      <td>0.514597</td>\n",
       "      <td>...</td>\n",
       "      <td>1</td>\n",
       "      <td>0</td>\n",
       "      <td>0</td>\n",
       "      <td>0</td>\n",
       "      <td>0</td>\n",
       "      <td>0</td>\n",
       "      <td>0</td>\n",
       "      <td>0</td>\n",
       "      <td>0</td>\n",
       "      <td>0</td>\n",
       "    </tr>\n",
       "    <tr>\n",
       "      <th>15</th>\n",
       "      <td>YE-HU</td>\n",
       "      <td>2017-05-31</td>\n",
       "      <td>1.988617</td>\n",
       "      <td>3.887064</td>\n",
       "      <td>-1.916667</td>\n",
       "      <td>1.810637</td>\n",
       "      <td>3.887064</td>\n",
       "      <td>-1.733333</td>\n",
       "      <td>1.810637</td>\n",
       "      <td>3.887064</td>\n",
       "      <td>...</td>\n",
       "      <td>0</td>\n",
       "      <td>0</td>\n",
       "      <td>0</td>\n",
       "      <td>0</td>\n",
       "      <td>0</td>\n",
       "      <td>0</td>\n",
       "      <td>0</td>\n",
       "      <td>0</td>\n",
       "      <td>0</td>\n",
       "      <td>0</td>\n",
       "    </tr>\n",
       "    <tr>\n",
       "      <th>16</th>\n",
       "      <td>YE-HD-AL</td>\n",
       "      <td>2017-05-31</td>\n",
       "      <td>0.000000</td>\n",
       "      <td>0.000000</td>\n",
       "      <td>-3.000000</td>\n",
       "      <td>0.000000</td>\n",
       "      <td>0.000000</td>\n",
       "      <td>-3.000000</td>\n",
       "      <td>0.000000</td>\n",
       "      <td>0.000000</td>\n",
       "      <td>...</td>\n",
       "      <td>0</td>\n",
       "      <td>0</td>\n",
       "      <td>0</td>\n",
       "      <td>0</td>\n",
       "      <td>0</td>\n",
       "      <td>0</td>\n",
       "      <td>0</td>\n",
       "      <td>0</td>\n",
       "      <td>0</td>\n",
       "      <td>0</td>\n",
       "    </tr>\n",
       "    <tr>\n",
       "      <th>17</th>\n",
       "      <td>YE-RA</td>\n",
       "      <td>2017-05-31</td>\n",
       "      <td>0.883005</td>\n",
       "      <td>0.935314</td>\n",
       "      <td>-1.916667</td>\n",
       "      <td>0.878101</td>\n",
       "      <td>0.935314</td>\n",
       "      <td>-1.733333</td>\n",
       "      <td>0.878101</td>\n",
       "      <td>0.935314</td>\n",
       "      <td>...</td>\n",
       "      <td>0</td>\n",
       "      <td>0</td>\n",
       "      <td>0</td>\n",
       "      <td>0</td>\n",
       "      <td>1</td>\n",
       "      <td>0</td>\n",
       "      <td>0</td>\n",
       "      <td>0</td>\n",
       "      <td>0</td>\n",
       "      <td>0</td>\n",
       "    </tr>\n",
       "    <tr>\n",
       "      <th>18</th>\n",
       "      <td>YE-MA</td>\n",
       "      <td>2017-05-31</td>\n",
       "      <td>0.284754</td>\n",
       "      <td>0.363255</td>\n",
       "      <td>-1.916667</td>\n",
       "      <td>0.277395</td>\n",
       "      <td>0.363255</td>\n",
       "      <td>-1.733333</td>\n",
       "      <td>0.277395</td>\n",
       "      <td>0.363255</td>\n",
       "      <td>...</td>\n",
       "      <td>0</td>\n",
       "      <td>1</td>\n",
       "      <td>0</td>\n",
       "      <td>0</td>\n",
       "      <td>0</td>\n",
       "      <td>0</td>\n",
       "      <td>0</td>\n",
       "      <td>0</td>\n",
       "      <td>0</td>\n",
       "      <td>0</td>\n",
       "    </tr>\n",
       "    <tr>\n",
       "      <th>19</th>\n",
       "      <td>YE-AM</td>\n",
       "      <td>2017-05-31</td>\n",
       "      <td>3.544822</td>\n",
       "      <td>3.967424</td>\n",
       "      <td>-1.916667</td>\n",
       "      <td>3.597647</td>\n",
       "      <td>3.967424</td>\n",
       "      <td>-1.733333</td>\n",
       "      <td>3.597647</td>\n",
       "      <td>3.967424</td>\n",
       "      <td>...</td>\n",
       "      <td>0</td>\n",
       "      <td>0</td>\n",
       "      <td>0</td>\n",
       "      <td>0</td>\n",
       "      <td>0</td>\n",
       "      <td>0</td>\n",
       "      <td>0</td>\n",
       "      <td>0</td>\n",
       "      <td>0</td>\n",
       "      <td>0</td>\n",
       "    </tr>\n",
       "    <tr>\n",
       "      <th>20</th>\n",
       "      <td>YE-AD</td>\n",
       "      <td>2017-05-31</td>\n",
       "      <td>0.815911</td>\n",
       "      <td>1.158458</td>\n",
       "      <td>-1.916667</td>\n",
       "      <td>0.783798</td>\n",
       "      <td>1.158458</td>\n",
       "      <td>-1.733333</td>\n",
       "      <td>0.783798</td>\n",
       "      <td>1.158458</td>\n",
       "      <td>...</td>\n",
       "      <td>0</td>\n",
       "      <td>0</td>\n",
       "      <td>0</td>\n",
       "      <td>0</td>\n",
       "      <td>0</td>\n",
       "      <td>0</td>\n",
       "      <td>0</td>\n",
       "      <td>0</td>\n",
       "      <td>0</td>\n",
       "      <td>0</td>\n",
       "    </tr>\n",
       "    <tr>\n",
       "      <th>21</th>\n",
       "      <td>YE-MA</td>\n",
       "      <td>2017-06-01</td>\n",
       "      <td>0.273432</td>\n",
       "      <td>0.363255</td>\n",
       "      <td>-1.517498</td>\n",
       "      <td>0.262865</td>\n",
       "      <td>0.363255</td>\n",
       "      <td>-1.253300</td>\n",
       "      <td>0.262865</td>\n",
       "      <td>0.363255</td>\n",
       "      <td>...</td>\n",
       "      <td>0</td>\n",
       "      <td>1</td>\n",
       "      <td>0</td>\n",
       "      <td>0</td>\n",
       "      <td>0</td>\n",
       "      <td>0</td>\n",
       "      <td>0</td>\n",
       "      <td>0</td>\n",
       "      <td>0</td>\n",
       "      <td>0</td>\n",
       "    </tr>\n",
       "    <tr>\n",
       "      <th>22</th>\n",
       "      <td>YE-SA</td>\n",
       "      <td>2017-06-01</td>\n",
       "      <td>4.487212</td>\n",
       "      <td>5.665804</td>\n",
       "      <td>-1.834662</td>\n",
       "      <td>4.749121</td>\n",
       "      <td>5.665804</td>\n",
       "      <td>-1.625825</td>\n",
       "      <td>4.749121</td>\n",
       "      <td>5.665804</td>\n",
       "      <td>...</td>\n",
       "      <td>0</td>\n",
       "      <td>0</td>\n",
       "      <td>0</td>\n",
       "      <td>0</td>\n",
       "      <td>0</td>\n",
       "      <td>1</td>\n",
       "      <td>0</td>\n",
       "      <td>0</td>\n",
       "      <td>0</td>\n",
       "      <td>0</td>\n",
       "    </tr>\n",
       "    <tr>\n",
       "      <th>23</th>\n",
       "      <td>YE-AD</td>\n",
       "      <td>2017-06-01</td>\n",
       "      <td>1.206004</td>\n",
       "      <td>3.289652</td>\n",
       "      <td>1.318311</td>\n",
       "      <td>1.062226</td>\n",
       "      <td>3.289652</td>\n",
       "      <td>2.735523</td>\n",
       "      <td>1.062226</td>\n",
       "      <td>3.289652</td>\n",
       "      <td>...</td>\n",
       "      <td>0</td>\n",
       "      <td>0</td>\n",
       "      <td>0</td>\n",
       "      <td>0</td>\n",
       "      <td>0</td>\n",
       "      <td>0</td>\n",
       "      <td>0</td>\n",
       "      <td>0</td>\n",
       "      <td>0</td>\n",
       "      <td>0</td>\n",
       "    </tr>\n",
       "    <tr>\n",
       "      <th>24</th>\n",
       "      <td>YE-DH</td>\n",
       "      <td>2017-06-01</td>\n",
       "      <td>1.065199</td>\n",
       "      <td>1.210323</td>\n",
       "      <td>2.029249</td>\n",
       "      <td>1.061570</td>\n",
       "      <td>1.210323</td>\n",
       "      <td>3.883011</td>\n",
       "      <td>1.061570</td>\n",
       "      <td>1.210323</td>\n",
       "      <td>...</td>\n",
       "      <td>0</td>\n",
       "      <td>0</td>\n",
       "      <td>0</td>\n",
       "      <td>0</td>\n",
       "      <td>0</td>\n",
       "      <td>0</td>\n",
       "      <td>0</td>\n",
       "      <td>0</td>\n",
       "      <td>0</td>\n",
       "      <td>0</td>\n",
       "    </tr>\n",
       "    <tr>\n",
       "      <th>25</th>\n",
       "      <td>YE-BA</td>\n",
       "      <td>2017-06-01</td>\n",
       "      <td>2.330002</td>\n",
       "      <td>2.484196</td>\n",
       "      <td>1.942291</td>\n",
       "      <td>2.364267</td>\n",
       "      <td>2.484196</td>\n",
       "      <td>3.744104</td>\n",
       "      <td>2.364267</td>\n",
       "      <td>2.484196</td>\n",
       "      <td>...</td>\n",
       "      <td>0</td>\n",
       "      <td>0</td>\n",
       "      <td>0</td>\n",
       "      <td>0</td>\n",
       "      <td>0</td>\n",
       "      <td>0</td>\n",
       "      <td>0</td>\n",
       "      <td>0</td>\n",
       "      <td>0</td>\n",
       "      <td>0</td>\n",
       "    </tr>\n",
       "    <tr>\n",
       "      <th>26</th>\n",
       "      <td>YE-SH</td>\n",
       "      <td>2017-06-01</td>\n",
       "      <td>0.007017</td>\n",
       "      <td>0.015349</td>\n",
       "      <td>-1.885791</td>\n",
       "      <td>0.005457</td>\n",
       "      <td>0.015349</td>\n",
       "      <td>-1.512774</td>\n",
       "      <td>0.005457</td>\n",
       "      <td>0.015349</td>\n",
       "      <td>...</td>\n",
       "      <td>0</td>\n",
       "      <td>0</td>\n",
       "      <td>0</td>\n",
       "      <td>0</td>\n",
       "      <td>0</td>\n",
       "      <td>0</td>\n",
       "      <td>0</td>\n",
       "      <td>1</td>\n",
       "      <td>0</td>\n",
       "      <td>0</td>\n",
       "    </tr>\n",
       "    <tr>\n",
       "      <th>27</th>\n",
       "      <td>YE-MW</td>\n",
       "      <td>2017-06-01</td>\n",
       "      <td>3.063287</td>\n",
       "      <td>3.462778</td>\n",
       "      <td>1.922029</td>\n",
       "      <td>3.054964</td>\n",
       "      <td>3.462778</td>\n",
       "      <td>3.693906</td>\n",
       "      <td>3.054964</td>\n",
       "      <td>3.462778</td>\n",
       "      <td>...</td>\n",
       "      <td>0</td>\n",
       "      <td>0</td>\n",
       "      <td>0</td>\n",
       "      <td>1</td>\n",
       "      <td>0</td>\n",
       "      <td>0</td>\n",
       "      <td>0</td>\n",
       "      <td>0</td>\n",
       "      <td>0</td>\n",
       "      <td>0</td>\n",
       "    </tr>\n",
       "    <tr>\n",
       "      <th>28</th>\n",
       "      <td>YE-HJ</td>\n",
       "      <td>2017-06-01</td>\n",
       "      <td>1.890013</td>\n",
       "      <td>2.883617</td>\n",
       "      <td>-0.511044</td>\n",
       "      <td>1.779932</td>\n",
       "      <td>2.883617</td>\n",
       "      <td>0.034187</td>\n",
       "      <td>1.779932</td>\n",
       "      <td>2.883617</td>\n",
       "      <td>...</td>\n",
       "      <td>0</td>\n",
       "      <td>0</td>\n",
       "      <td>0</td>\n",
       "      <td>0</td>\n",
       "      <td>0</td>\n",
       "      <td>0</td>\n",
       "      <td>0</td>\n",
       "      <td>0</td>\n",
       "      <td>0</td>\n",
       "      <td>0</td>\n",
       "    </tr>\n",
       "    <tr>\n",
       "      <th>29</th>\n",
       "      <td>YE-HD-AL</td>\n",
       "      <td>2017-06-01</td>\n",
       "      <td>0.000000</td>\n",
       "      <td>0.000000</td>\n",
       "      <td>-3.000000</td>\n",
       "      <td>0.000000</td>\n",
       "      <td>0.000000</td>\n",
       "      <td>-3.000000</td>\n",
       "      <td>0.000000</td>\n",
       "      <td>0.000000</td>\n",
       "      <td>...</td>\n",
       "      <td>0</td>\n",
       "      <td>0</td>\n",
       "      <td>0</td>\n",
       "      <td>0</td>\n",
       "      <td>0</td>\n",
       "      <td>0</td>\n",
       "      <td>0</td>\n",
       "      <td>0</td>\n",
       "      <td>0</td>\n",
       "      <td>0</td>\n",
       "    </tr>\n",
       "    <tr>\n",
       "      <th>...</th>\n",
       "      <td>...</td>\n",
       "      <td>...</td>\n",
       "      <td>...</td>\n",
       "      <td>...</td>\n",
       "      <td>...</td>\n",
       "      <td>...</td>\n",
       "      <td>...</td>\n",
       "      <td>...</td>\n",
       "      <td>...</td>\n",
       "      <td>...</td>\n",
       "      <td>...</td>\n",
       "      <td>...</td>\n",
       "      <td>...</td>\n",
       "      <td>...</td>\n",
       "      <td>...</td>\n",
       "      <td>...</td>\n",
       "      <td>...</td>\n",
       "      <td>...</td>\n",
       "      <td>...</td>\n",
       "      <td>...</td>\n",
       "      <td>...</td>\n",
       "    </tr>\n",
       "    <tr>\n",
       "      <th>5367</th>\n",
       "      <td>YE-HU</td>\n",
       "      <td>2018-02-10</td>\n",
       "      <td>0.353948</td>\n",
       "      <td>0.372005</td>\n",
       "      <td>-1.100000</td>\n",
       "      <td>0.333431</td>\n",
       "      <td>0.372005</td>\n",
       "      <td>-1.647693</td>\n",
       "      <td>0.385729</td>\n",
       "      <td>0.615719</td>\n",
       "      <td>...</td>\n",
       "      <td>0</td>\n",
       "      <td>0</td>\n",
       "      <td>0</td>\n",
       "      <td>0</td>\n",
       "      <td>0</td>\n",
       "      <td>0</td>\n",
       "      <td>0</td>\n",
       "      <td>0</td>\n",
       "      <td>0</td>\n",
       "      <td>0</td>\n",
       "    </tr>\n",
       "    <tr>\n",
       "      <th>5368</th>\n",
       "      <td>YE-SN</td>\n",
       "      <td>2018-02-10</td>\n",
       "      <td>0.208856</td>\n",
       "      <td>0.221837</td>\n",
       "      <td>-1.100000</td>\n",
       "      <td>0.219107</td>\n",
       "      <td>0.248157</td>\n",
       "      <td>-0.217369</td>\n",
       "      <td>0.312682</td>\n",
       "      <td>0.524513</td>\n",
       "      <td>...</td>\n",
       "      <td>0</td>\n",
       "      <td>0</td>\n",
       "      <td>0</td>\n",
       "      <td>0</td>\n",
       "      <td>0</td>\n",
       "      <td>0</td>\n",
       "      <td>0</td>\n",
       "      <td>0</td>\n",
       "      <td>1</td>\n",
       "      <td>0</td>\n",
       "    </tr>\n",
       "    <tr>\n",
       "      <th>5369</th>\n",
       "      <td>YE-SD</td>\n",
       "      <td>2018-02-10</td>\n",
       "      <td>0.000000</td>\n",
       "      <td>0.000000</td>\n",
       "      <td>-3.000000</td>\n",
       "      <td>0.000207</td>\n",
       "      <td>0.001446</td>\n",
       "      <td>2.166667</td>\n",
       "      <td>0.001205</td>\n",
       "      <td>0.002893</td>\n",
       "      <td>...</td>\n",
       "      <td>0</td>\n",
       "      <td>0</td>\n",
       "      <td>0</td>\n",
       "      <td>0</td>\n",
       "      <td>0</td>\n",
       "      <td>0</td>\n",
       "      <td>1</td>\n",
       "      <td>0</td>\n",
       "      <td>0</td>\n",
       "      <td>0</td>\n",
       "    </tr>\n",
       "    <tr>\n",
       "      <th>5370</th>\n",
       "      <td>YE-LA</td>\n",
       "      <td>2018-02-10</td>\n",
       "      <td>0.000441</td>\n",
       "      <td>0.001542</td>\n",
       "      <td>-1.100000</td>\n",
       "      <td>0.000771</td>\n",
       "      <td>0.001542</td>\n",
       "      <td>-2.000000</td>\n",
       "      <td>0.001799</td>\n",
       "      <td>0.010796</td>\n",
       "      <td>...</td>\n",
       "      <td>1</td>\n",
       "      <td>0</td>\n",
       "      <td>0</td>\n",
       "      <td>0</td>\n",
       "      <td>0</td>\n",
       "      <td>0</td>\n",
       "      <td>0</td>\n",
       "      <td>0</td>\n",
       "      <td>0</td>\n",
       "      <td>0</td>\n",
       "    </tr>\n",
       "    <tr>\n",
       "      <th>5371</th>\n",
       "      <td>YE-BA</td>\n",
       "      <td>2018-02-10</td>\n",
       "      <td>0.475964</td>\n",
       "      <td>0.487198</td>\n",
       "      <td>-1.100000</td>\n",
       "      <td>0.507589</td>\n",
       "      <td>0.767550</td>\n",
       "      <td>1.908710</td>\n",
       "      <td>0.643158</td>\n",
       "      <td>0.921402</td>\n",
       "      <td>...</td>\n",
       "      <td>0</td>\n",
       "      <td>0</td>\n",
       "      <td>0</td>\n",
       "      <td>0</td>\n",
       "      <td>0</td>\n",
       "      <td>0</td>\n",
       "      <td>0</td>\n",
       "      <td>0</td>\n",
       "      <td>0</td>\n",
       "      <td>0</td>\n",
       "    </tr>\n",
       "    <tr>\n",
       "      <th>5372</th>\n",
       "      <td>YE-AM</td>\n",
       "      <td>2018-02-10</td>\n",
       "      <td>0.332735</td>\n",
       "      <td>0.344540</td>\n",
       "      <td>-1.100000</td>\n",
       "      <td>0.356255</td>\n",
       "      <td>0.467863</td>\n",
       "      <td>1.924098</td>\n",
       "      <td>0.521980</td>\n",
       "      <td>0.872157</td>\n",
       "      <td>...</td>\n",
       "      <td>0</td>\n",
       "      <td>0</td>\n",
       "      <td>0</td>\n",
       "      <td>0</td>\n",
       "      <td>0</td>\n",
       "      <td>0</td>\n",
       "      <td>0</td>\n",
       "      <td>0</td>\n",
       "      <td>0</td>\n",
       "      <td>0</td>\n",
       "    </tr>\n",
       "    <tr>\n",
       "      <th>5373</th>\n",
       "      <td>YE-DA</td>\n",
       "      <td>2018-02-10</td>\n",
       "      <td>0.002032</td>\n",
       "      <td>0.007112</td>\n",
       "      <td>-1.100000</td>\n",
       "      <td>0.003556</td>\n",
       "      <td>0.007112</td>\n",
       "      <td>-2.000000</td>\n",
       "      <td>0.003556</td>\n",
       "      <td>0.014224</td>\n",
       "      <td>...</td>\n",
       "      <td>0</td>\n",
       "      <td>0</td>\n",
       "      <td>0</td>\n",
       "      <td>0</td>\n",
       "      <td>0</td>\n",
       "      <td>0</td>\n",
       "      <td>0</td>\n",
       "      <td>0</td>\n",
       "      <td>0</td>\n",
       "      <td>0</td>\n",
       "    </tr>\n",
       "    <tr>\n",
       "      <th>5374</th>\n",
       "      <td>YE-JA</td>\n",
       "      <td>2018-02-10</td>\n",
       "      <td>0.025235</td>\n",
       "      <td>0.045239</td>\n",
       "      <td>-1.100000</td>\n",
       "      <td>0.049393</td>\n",
       "      <td>0.144333</td>\n",
       "      <td>1.321121</td>\n",
       "      <td>0.069941</td>\n",
       "      <td>0.144333</td>\n",
       "      <td>...</td>\n",
       "      <td>0</td>\n",
       "      <td>0</td>\n",
       "      <td>0</td>\n",
       "      <td>0</td>\n",
       "      <td>0</td>\n",
       "      <td>0</td>\n",
       "      <td>0</td>\n",
       "      <td>0</td>\n",
       "      <td>0</td>\n",
       "      <td>0</td>\n",
       "    </tr>\n",
       "    <tr>\n",
       "      <th>5375</th>\n",
       "      <td>YE-MR</td>\n",
       "      <td>2018-02-10</td>\n",
       "      <td>0.000000</td>\n",
       "      <td>0.000000</td>\n",
       "      <td>-3.000000</td>\n",
       "      <td>0.000000</td>\n",
       "      <td>0.000000</td>\n",
       "      <td>-3.000000</td>\n",
       "      <td>0.000000</td>\n",
       "      <td>0.000000</td>\n",
       "      <td>...</td>\n",
       "      <td>0</td>\n",
       "      <td>0</td>\n",
       "      <td>1</td>\n",
       "      <td>0</td>\n",
       "      <td>0</td>\n",
       "      <td>0</td>\n",
       "      <td>0</td>\n",
       "      <td>0</td>\n",
       "      <td>0</td>\n",
       "      <td>0</td>\n",
       "    </tr>\n",
       "    <tr>\n",
       "      <th>5376</th>\n",
       "      <td>YE-HU</td>\n",
       "      <td>2018-02-11</td>\n",
       "      <td>0.362976</td>\n",
       "      <td>0.372005</td>\n",
       "      <td>2.166667</td>\n",
       "      <td>0.336918</td>\n",
       "      <td>0.372005</td>\n",
       "      <td>-1.899797</td>\n",
       "      <td>0.389981</td>\n",
       "      <td>0.615719</td>\n",
       "      <td>...</td>\n",
       "      <td>0</td>\n",
       "      <td>0</td>\n",
       "      <td>0</td>\n",
       "      <td>0</td>\n",
       "      <td>0</td>\n",
       "      <td>0</td>\n",
       "      <td>0</td>\n",
       "      <td>0</td>\n",
       "      <td>0</td>\n",
       "      <td>0</td>\n",
       "    </tr>\n",
       "    <tr>\n",
       "      <th>5377</th>\n",
       "      <td>YE-LA</td>\n",
       "      <td>2018-02-11</td>\n",
       "      <td>0.000220</td>\n",
       "      <td>0.001542</td>\n",
       "      <td>2.166667</td>\n",
       "      <td>0.000771</td>\n",
       "      <td>0.001542</td>\n",
       "      <td>-2.000000</td>\n",
       "      <td>0.001439</td>\n",
       "      <td>0.010796</td>\n",
       "      <td>...</td>\n",
       "      <td>1</td>\n",
       "      <td>0</td>\n",
       "      <td>0</td>\n",
       "      <td>0</td>\n",
       "      <td>0</td>\n",
       "      <td>0</td>\n",
       "      <td>0</td>\n",
       "      <td>0</td>\n",
       "      <td>0</td>\n",
       "      <td>0</td>\n",
       "    </tr>\n",
       "    <tr>\n",
       "      <th>5378</th>\n",
       "      <td>YE-SN</td>\n",
       "      <td>2018-02-11</td>\n",
       "      <td>0.206260</td>\n",
       "      <td>0.221837</td>\n",
       "      <td>2.166667</td>\n",
       "      <td>0.215929</td>\n",
       "      <td>0.248157</td>\n",
       "      <td>0.584806</td>\n",
       "      <td>0.301987</td>\n",
       "      <td>0.524513</td>\n",
       "      <td>...</td>\n",
       "      <td>0</td>\n",
       "      <td>0</td>\n",
       "      <td>0</td>\n",
       "      <td>0</td>\n",
       "      <td>0</td>\n",
       "      <td>0</td>\n",
       "      <td>0</td>\n",
       "      <td>0</td>\n",
       "      <td>1</td>\n",
       "      <td>0</td>\n",
       "    </tr>\n",
       "    <tr>\n",
       "      <th>5379</th>\n",
       "      <td>YE-AB</td>\n",
       "      <td>2018-02-11</td>\n",
       "      <td>0.003717</td>\n",
       "      <td>0.004337</td>\n",
       "      <td>2.166667</td>\n",
       "      <td>0.001859</td>\n",
       "      <td>0.004337</td>\n",
       "      <td>-1.916667</td>\n",
       "      <td>0.000867</td>\n",
       "      <td>0.004337</td>\n",
       "      <td>...</td>\n",
       "      <td>0</td>\n",
       "      <td>0</td>\n",
       "      <td>0</td>\n",
       "      <td>0</td>\n",
       "      <td>0</td>\n",
       "      <td>0</td>\n",
       "      <td>0</td>\n",
       "      <td>0</td>\n",
       "      <td>0</td>\n",
       "      <td>0</td>\n",
       "    </tr>\n",
       "    <tr>\n",
       "      <th>5380</th>\n",
       "      <td>YE-BA</td>\n",
       "      <td>2018-02-11</td>\n",
       "      <td>0.481581</td>\n",
       "      <td>0.487198</td>\n",
       "      <td>2.166667</td>\n",
       "      <td>0.487564</td>\n",
       "      <td>0.767550</td>\n",
       "      <td>7.790984</td>\n",
       "      <td>0.643557</td>\n",
       "      <td>0.921402</td>\n",
       "      <td>...</td>\n",
       "      <td>0</td>\n",
       "      <td>0</td>\n",
       "      <td>0</td>\n",
       "      <td>0</td>\n",
       "      <td>0</td>\n",
       "      <td>0</td>\n",
       "      <td>0</td>\n",
       "      <td>0</td>\n",
       "      <td>0</td>\n",
       "      <td>0</td>\n",
       "    </tr>\n",
       "    <tr>\n",
       "      <th>5381</th>\n",
       "      <td>YE-HD-AL</td>\n",
       "      <td>2018-02-11</td>\n",
       "      <td>0.000000</td>\n",
       "      <td>0.000000</td>\n",
       "      <td>-3.000000</td>\n",
       "      <td>0.000000</td>\n",
       "      <td>0.000000</td>\n",
       "      <td>-3.000000</td>\n",
       "      <td>0.000000</td>\n",
       "      <td>0.000000</td>\n",
       "      <td>...</td>\n",
       "      <td>0</td>\n",
       "      <td>0</td>\n",
       "      <td>0</td>\n",
       "      <td>0</td>\n",
       "      <td>0</td>\n",
       "      <td>0</td>\n",
       "      <td>0</td>\n",
       "      <td>0</td>\n",
       "      <td>0</td>\n",
       "      <td>0</td>\n",
       "    </tr>\n",
       "    <tr>\n",
       "      <th>5382</th>\n",
       "      <td>YE-RA</td>\n",
       "      <td>2018-02-11</td>\n",
       "      <td>0.570204</td>\n",
       "      <td>0.648181</td>\n",
       "      <td>2.166667</td>\n",
       "      <td>0.636810</td>\n",
       "      <td>1.034816</td>\n",
       "      <td>6.108408</td>\n",
       "      <td>0.938820</td>\n",
       "      <td>1.361749</td>\n",
       "      <td>...</td>\n",
       "      <td>0</td>\n",
       "      <td>0</td>\n",
       "      <td>0</td>\n",
       "      <td>0</td>\n",
       "      <td>1</td>\n",
       "      <td>0</td>\n",
       "      <td>0</td>\n",
       "      <td>0</td>\n",
       "      <td>0</td>\n",
       "      <td>0</td>\n",
       "    </tr>\n",
       "    <tr>\n",
       "      <th>5383</th>\n",
       "      <td>YE-MW</td>\n",
       "      <td>2018-02-11</td>\n",
       "      <td>0.650399</td>\n",
       "      <td>0.678823</td>\n",
       "      <td>2.166667</td>\n",
       "      <td>0.666701</td>\n",
       "      <td>0.708083</td>\n",
       "      <td>-0.952763</td>\n",
       "      <td>0.722257</td>\n",
       "      <td>0.910949</td>\n",
       "      <td>...</td>\n",
       "      <td>0</td>\n",
       "      <td>0</td>\n",
       "      <td>0</td>\n",
       "      <td>1</td>\n",
       "      <td>0</td>\n",
       "      <td>0</td>\n",
       "      <td>0</td>\n",
       "      <td>0</td>\n",
       "      <td>0</td>\n",
       "      <td>0</td>\n",
       "    </tr>\n",
       "    <tr>\n",
       "      <th>5384</th>\n",
       "      <td>YE-DH</td>\n",
       "      <td>2018-02-11</td>\n",
       "      <td>0.503149</td>\n",
       "      <td>0.547163</td>\n",
       "      <td>2.166667</td>\n",
       "      <td>0.527741</td>\n",
       "      <td>0.583359</td>\n",
       "      <td>-1.325076</td>\n",
       "      <td>0.650478</td>\n",
       "      <td>0.905764</td>\n",
       "      <td>...</td>\n",
       "      <td>0</td>\n",
       "      <td>0</td>\n",
       "      <td>0</td>\n",
       "      <td>0</td>\n",
       "      <td>0</td>\n",
       "      <td>0</td>\n",
       "      <td>0</td>\n",
       "      <td>0</td>\n",
       "      <td>0</td>\n",
       "      <td>0</td>\n",
       "    </tr>\n",
       "    <tr>\n",
       "      <th>5385</th>\n",
       "      <td>YE-SA</td>\n",
       "      <td>2018-02-11</td>\n",
       "      <td>0.702527</td>\n",
       "      <td>0.708955</td>\n",
       "      <td>2.166667</td>\n",
       "      <td>0.702527</td>\n",
       "      <td>0.933924</td>\n",
       "      <td>6.789871</td>\n",
       "      <td>0.897240</td>\n",
       "      <td>1.391157</td>\n",
       "      <td>...</td>\n",
       "      <td>0</td>\n",
       "      <td>0</td>\n",
       "      <td>0</td>\n",
       "      <td>0</td>\n",
       "      <td>0</td>\n",
       "      <td>1</td>\n",
       "      <td>0</td>\n",
       "      <td>0</td>\n",
       "      <td>0</td>\n",
       "      <td>0</td>\n",
       "    </tr>\n",
       "    <tr>\n",
       "      <th>5386</th>\n",
       "      <td>YE-AD</td>\n",
       "      <td>2018-02-11</td>\n",
       "      <td>0.029271</td>\n",
       "      <td>0.031523</td>\n",
       "      <td>2.166667</td>\n",
       "      <td>0.030115</td>\n",
       "      <td>0.031523</td>\n",
       "      <td>-1.655611</td>\n",
       "      <td>0.028283</td>\n",
       "      <td>0.031523</td>\n",
       "      <td>...</td>\n",
       "      <td>0</td>\n",
       "      <td>0</td>\n",
       "      <td>0</td>\n",
       "      <td>0</td>\n",
       "      <td>0</td>\n",
       "      <td>0</td>\n",
       "      <td>0</td>\n",
       "      <td>0</td>\n",
       "      <td>0</td>\n",
       "      <td>0</td>\n",
       "    </tr>\n",
       "    <tr>\n",
       "      <th>5387</th>\n",
       "      <td>YE-SH</td>\n",
       "      <td>2018-02-11</td>\n",
       "      <td>0.000000</td>\n",
       "      <td>0.000000</td>\n",
       "      <td>-3.000000</td>\n",
       "      <td>0.000000</td>\n",
       "      <td>0.000000</td>\n",
       "      <td>-3.000000</td>\n",
       "      <td>0.000000</td>\n",
       "      <td>0.000000</td>\n",
       "      <td>...</td>\n",
       "      <td>0</td>\n",
       "      <td>0</td>\n",
       "      <td>0</td>\n",
       "      <td>0</td>\n",
       "      <td>0</td>\n",
       "      <td>0</td>\n",
       "      <td>0</td>\n",
       "      <td>1</td>\n",
       "      <td>0</td>\n",
       "      <td>0</td>\n",
       "    </tr>\n",
       "    <tr>\n",
       "      <th>5388</th>\n",
       "      <td>YE-IB</td>\n",
       "      <td>2018-02-11</td>\n",
       "      <td>0.160038</td>\n",
       "      <td>0.168752</td>\n",
       "      <td>2.166667</td>\n",
       "      <td>0.139583</td>\n",
       "      <td>0.187380</td>\n",
       "      <td>-1.881953</td>\n",
       "      <td>0.185956</td>\n",
       "      <td>0.293307</td>\n",
       "      <td>...</td>\n",
       "      <td>0</td>\n",
       "      <td>0</td>\n",
       "      <td>0</td>\n",
       "      <td>0</td>\n",
       "      <td>0</td>\n",
       "      <td>0</td>\n",
       "      <td>0</td>\n",
       "      <td>0</td>\n",
       "      <td>0</td>\n",
       "      <td>0</td>\n",
       "    </tr>\n",
       "    <tr>\n",
       "      <th>5389</th>\n",
       "      <td>YE-JA</td>\n",
       "      <td>2018-02-11</td>\n",
       "      <td>0.021235</td>\n",
       "      <td>0.045239</td>\n",
       "      <td>2.166667</td>\n",
       "      <td>0.040315</td>\n",
       "      <td>0.144333</td>\n",
       "      <td>5.263023</td>\n",
       "      <td>0.070084</td>\n",
       "      <td>0.144333</td>\n",
       "      <td>...</td>\n",
       "      <td>0</td>\n",
       "      <td>0</td>\n",
       "      <td>0</td>\n",
       "      <td>0</td>\n",
       "      <td>0</td>\n",
       "      <td>0</td>\n",
       "      <td>0</td>\n",
       "      <td>0</td>\n",
       "      <td>0</td>\n",
       "      <td>0</td>\n",
       "    </tr>\n",
       "    <tr>\n",
       "      <th>5390</th>\n",
       "      <td>YE-HJ</td>\n",
       "      <td>2018-02-11</td>\n",
       "      <td>0.002487</td>\n",
       "      <td>0.003785</td>\n",
       "      <td>2.166667</td>\n",
       "      <td>0.004217</td>\n",
       "      <td>0.018924</td>\n",
       "      <td>8.359955</td>\n",
       "      <td>0.560060</td>\n",
       "      <td>2.108930</td>\n",
       "      <td>...</td>\n",
       "      <td>0</td>\n",
       "      <td>0</td>\n",
       "      <td>0</td>\n",
       "      <td>0</td>\n",
       "      <td>0</td>\n",
       "      <td>0</td>\n",
       "      <td>0</td>\n",
       "      <td>0</td>\n",
       "      <td>0</td>\n",
       "      <td>0</td>\n",
       "    </tr>\n",
       "    <tr>\n",
       "      <th>5391</th>\n",
       "      <td>YE-MA</td>\n",
       "      <td>2018-02-11</td>\n",
       "      <td>0.000000</td>\n",
       "      <td>0.000000</td>\n",
       "      <td>-3.000000</td>\n",
       "      <td>0.000202</td>\n",
       "      <td>0.002831</td>\n",
       "      <td>9.076923</td>\n",
       "      <td>0.000660</td>\n",
       "      <td>0.002831</td>\n",
       "      <td>...</td>\n",
       "      <td>0</td>\n",
       "      <td>1</td>\n",
       "      <td>0</td>\n",
       "      <td>0</td>\n",
       "      <td>0</td>\n",
       "      <td>0</td>\n",
       "      <td>0</td>\n",
       "      <td>0</td>\n",
       "      <td>0</td>\n",
       "      <td>0</td>\n",
       "    </tr>\n",
       "    <tr>\n",
       "      <th>5392</th>\n",
       "      <td>YE-SD</td>\n",
       "      <td>2018-02-11</td>\n",
       "      <td>0.000000</td>\n",
       "      <td>0.000000</td>\n",
       "      <td>-3.000000</td>\n",
       "      <td>0.000103</td>\n",
       "      <td>0.001446</td>\n",
       "      <td>9.076923</td>\n",
       "      <td>0.001157</td>\n",
       "      <td>0.002893</td>\n",
       "      <td>...</td>\n",
       "      <td>0</td>\n",
       "      <td>0</td>\n",
       "      <td>0</td>\n",
       "      <td>0</td>\n",
       "      <td>0</td>\n",
       "      <td>0</td>\n",
       "      <td>1</td>\n",
       "      <td>0</td>\n",
       "      <td>0</td>\n",
       "      <td>0</td>\n",
       "    </tr>\n",
       "    <tr>\n",
       "      <th>5393</th>\n",
       "      <td>YE-AM</td>\n",
       "      <td>2018-02-11</td>\n",
       "      <td>0.330373</td>\n",
       "      <td>0.344540</td>\n",
       "      <td>2.166667</td>\n",
       "      <td>0.346266</td>\n",
       "      <td>0.467863</td>\n",
       "      <td>7.869897</td>\n",
       "      <td>0.514352</td>\n",
       "      <td>0.872157</td>\n",
       "      <td>...</td>\n",
       "      <td>0</td>\n",
       "      <td>0</td>\n",
       "      <td>0</td>\n",
       "      <td>0</td>\n",
       "      <td>0</td>\n",
       "      <td>0</td>\n",
       "      <td>0</td>\n",
       "      <td>0</td>\n",
       "      <td>0</td>\n",
       "      <td>0</td>\n",
       "    </tr>\n",
       "    <tr>\n",
       "      <th>5394</th>\n",
       "      <td>YE-DA</td>\n",
       "      <td>2018-02-11</td>\n",
       "      <td>0.001016</td>\n",
       "      <td>0.007112</td>\n",
       "      <td>2.166667</td>\n",
       "      <td>0.003556</td>\n",
       "      <td>0.007112</td>\n",
       "      <td>-2.000000</td>\n",
       "      <td>0.003082</td>\n",
       "      <td>0.014224</td>\n",
       "      <td>...</td>\n",
       "      <td>0</td>\n",
       "      <td>0</td>\n",
       "      <td>0</td>\n",
       "      <td>0</td>\n",
       "      <td>0</td>\n",
       "      <td>0</td>\n",
       "      <td>0</td>\n",
       "      <td>0</td>\n",
       "      <td>0</td>\n",
       "      <td>0</td>\n",
       "    </tr>\n",
       "    <tr>\n",
       "      <th>5395</th>\n",
       "      <td>YE-MR</td>\n",
       "      <td>2018-02-11</td>\n",
       "      <td>0.000000</td>\n",
       "      <td>0.000000</td>\n",
       "      <td>-3.000000</td>\n",
       "      <td>0.000000</td>\n",
       "      <td>0.000000</td>\n",
       "      <td>-3.000000</td>\n",
       "      <td>0.000000</td>\n",
       "      <td>0.000000</td>\n",
       "      <td>...</td>\n",
       "      <td>0</td>\n",
       "      <td>0</td>\n",
       "      <td>1</td>\n",
       "      <td>0</td>\n",
       "      <td>0</td>\n",
       "      <td>0</td>\n",
       "      <td>0</td>\n",
       "      <td>0</td>\n",
       "      <td>0</td>\n",
       "      <td>0</td>\n",
       "    </tr>\n",
       "    <tr>\n",
       "      <th>5396</th>\n",
       "      <td>YE-TA</td>\n",
       "      <td>2018-02-11</td>\n",
       "      <td>0.044137</td>\n",
       "      <td>0.054891</td>\n",
       "      <td>2.166667</td>\n",
       "      <td>0.050791</td>\n",
       "      <td>0.072770</td>\n",
       "      <td>0.516735</td>\n",
       "      <td>0.098460</td>\n",
       "      <td>0.212979</td>\n",
       "      <td>...</td>\n",
       "      <td>0</td>\n",
       "      <td>0</td>\n",
       "      <td>0</td>\n",
       "      <td>0</td>\n",
       "      <td>0</td>\n",
       "      <td>0</td>\n",
       "      <td>0</td>\n",
       "      <td>0</td>\n",
       "      <td>0</td>\n",
       "      <td>1</td>\n",
       "    </tr>\n",
       "  </tbody>\n",
       "</table>\n",
       "<p>5397 rows × 185 columns</p>\n",
       "</div>"
      ],
      "text/plain": [
       "       gov_iso       date  mean_past_week_cases  max_past_week_cases  \\\n",
       "0        YE-AB 2017-05-31              0.996581             1.123213   \n",
       "1        YE-SN 2017-05-31              1.313100             1.375641   \n",
       "2        YE-SH 2017-05-31              0.006578             0.015349   \n",
       "3        YE-BA 2017-05-31              2.445220             2.484196   \n",
       "4        YE-IB 2017-05-31              0.375929             0.408584   \n",
       "5        YE-SA 2017-05-31              4.643352             5.665804   \n",
       "6        YE-DA 2017-05-31              2.053912             2.500223   \n",
       "7        YE-SD 2017-05-31              0.028928             0.067499   \n",
       "8        YE-MW 2017-05-31              3.000866             3.025834   \n",
       "9        YE-TA 2017-05-31              0.717478             0.735545   \n",
       "10       YE-DH 2017-05-31              1.042134             1.048868   \n",
       "11       YE-HJ 2017-05-31              1.677303             2.054175   \n",
       "12       YE-MR 2017-05-31              0.000000             0.000000   \n",
       "13       YE-JA 2017-05-31              0.277034             0.316672   \n",
       "14       YE-LA 2017-05-31              0.417949             0.514597   \n",
       "15       YE-HU 2017-05-31              1.988617             3.887064   \n",
       "16    YE-HD-AL 2017-05-31              0.000000             0.000000   \n",
       "17       YE-RA 2017-05-31              0.883005             0.935314   \n",
       "18       YE-MA 2017-05-31              0.284754             0.363255   \n",
       "19       YE-AM 2017-05-31              3.544822             3.967424   \n",
       "20       YE-AD 2017-05-31              0.815911             1.158458   \n",
       "21       YE-MA 2017-06-01              0.273432             0.363255   \n",
       "22       YE-SA 2017-06-01              4.487212             5.665804   \n",
       "23       YE-AD 2017-06-01              1.206004             3.289652   \n",
       "24       YE-DH 2017-06-01              1.065199             1.210323   \n",
       "25       YE-BA 2017-06-01              2.330002             2.484196   \n",
       "26       YE-SH 2017-06-01              0.007017             0.015349   \n",
       "27       YE-MW 2017-06-01              3.063287             3.462778   \n",
       "28       YE-HJ 2017-06-01              1.890013             2.883617   \n",
       "29    YE-HD-AL 2017-06-01              0.000000             0.000000   \n",
       "...        ...        ...                   ...                  ...   \n",
       "5367     YE-HU 2018-02-10              0.353948             0.372005   \n",
       "5368     YE-SN 2018-02-10              0.208856             0.221837   \n",
       "5369     YE-SD 2018-02-10              0.000000             0.000000   \n",
       "5370     YE-LA 2018-02-10              0.000441             0.001542   \n",
       "5371     YE-BA 2018-02-10              0.475964             0.487198   \n",
       "5372     YE-AM 2018-02-10              0.332735             0.344540   \n",
       "5373     YE-DA 2018-02-10              0.002032             0.007112   \n",
       "5374     YE-JA 2018-02-10              0.025235             0.045239   \n",
       "5375     YE-MR 2018-02-10              0.000000             0.000000   \n",
       "5376     YE-HU 2018-02-11              0.362976             0.372005   \n",
       "5377     YE-LA 2018-02-11              0.000220             0.001542   \n",
       "5378     YE-SN 2018-02-11              0.206260             0.221837   \n",
       "5379     YE-AB 2018-02-11              0.003717             0.004337   \n",
       "5380     YE-BA 2018-02-11              0.481581             0.487198   \n",
       "5381  YE-HD-AL 2018-02-11              0.000000             0.000000   \n",
       "5382     YE-RA 2018-02-11              0.570204             0.648181   \n",
       "5383     YE-MW 2018-02-11              0.650399             0.678823   \n",
       "5384     YE-DH 2018-02-11              0.503149             0.547163   \n",
       "5385     YE-SA 2018-02-11              0.702527             0.708955   \n",
       "5386     YE-AD 2018-02-11              0.029271             0.031523   \n",
       "5387     YE-SH 2018-02-11              0.000000             0.000000   \n",
       "5388     YE-IB 2018-02-11              0.160038             0.168752   \n",
       "5389     YE-JA 2018-02-11              0.021235             0.045239   \n",
       "5390     YE-HJ 2018-02-11              0.002487             0.003785   \n",
       "5391     YE-MA 2018-02-11              0.000000             0.000000   \n",
       "5392     YE-SD 2018-02-11              0.000000             0.000000   \n",
       "5393     YE-AM 2018-02-11              0.330373             0.344540   \n",
       "5394     YE-DA 2018-02-11              0.001016             0.007112   \n",
       "5395     YE-MR 2018-02-11              0.000000             0.000000   \n",
       "5396     YE-TA 2018-02-11              0.044137             0.054891   \n",
       "\n",
       "      kurtosis_past_week_cases  mean_past_2_week_cases  max_past_2_week_cases  \\\n",
       "0                    -1.916667                0.984709               1.123213   \n",
       "1                    -1.916667                1.320918               1.375641   \n",
       "2                    -1.916667                0.005756               0.015349   \n",
       "3                    -1.916667                2.450092               2.484196   \n",
       "4                    -1.916667                0.380011               0.408584   \n",
       "5                    -1.916667                4.771159               5.665804   \n",
       "6                    -1.916667                2.012071               2.500223   \n",
       "7                    -1.916667                0.025312               0.067499   \n",
       "8                    -1.916667                3.003987               3.025834   \n",
       "9                    -1.916667                0.715785               0.735545   \n",
       "10                   -1.916667                1.042976               1.048868   \n",
       "11                   -1.916667                1.641972               2.054175   \n",
       "12                   -3.000000                0.000000               0.000000   \n",
       "13                   -1.916667                0.273318               0.316672   \n",
       "14                   -1.916667                0.408889               0.514597   \n",
       "15                   -1.916667                1.810637               3.887064   \n",
       "16                   -3.000000                0.000000               0.000000   \n",
       "17                   -1.916667                0.878101               0.935314   \n",
       "18                   -1.916667                0.277395               0.363255   \n",
       "19                   -1.916667                3.597647               3.967424   \n",
       "20                   -1.916667                0.783798               1.158458   \n",
       "21                   -1.517498                0.262865               0.363255   \n",
       "22                   -1.834662                4.749121               5.665804   \n",
       "23                    1.318311                1.062226               3.289652   \n",
       "24                    2.029249                1.061570               1.210323   \n",
       "25                    1.942291                2.364267               2.484196   \n",
       "26                   -1.885791                0.005457               0.015349   \n",
       "27                    1.922029                3.054964               3.462778   \n",
       "28                   -0.511044                1.779932               2.883617   \n",
       "29                   -3.000000                0.000000               0.000000   \n",
       "...                        ...                     ...                    ...   \n",
       "5367                 -1.100000                0.333431               0.372005   \n",
       "5368                 -1.100000                0.219107               0.248157   \n",
       "5369                 -3.000000                0.000207               0.001446   \n",
       "5370                 -1.100000                0.000771               0.001542   \n",
       "5371                 -1.100000                0.507589               0.767550   \n",
       "5372                 -1.100000                0.356255               0.467863   \n",
       "5373                 -1.100000                0.003556               0.007112   \n",
       "5374                 -1.100000                0.049393               0.144333   \n",
       "5375                 -3.000000                0.000000               0.000000   \n",
       "5376                  2.166667                0.336918               0.372005   \n",
       "5377                  2.166667                0.000771               0.001542   \n",
       "5378                  2.166667                0.215929               0.248157   \n",
       "5379                  2.166667                0.001859               0.004337   \n",
       "5380                  2.166667                0.487564               0.767550   \n",
       "5381                 -3.000000                0.000000               0.000000   \n",
       "5382                  2.166667                0.636810               1.034816   \n",
       "5383                  2.166667                0.666701               0.708083   \n",
       "5384                  2.166667                0.527741               0.583359   \n",
       "5385                  2.166667                0.702527               0.933924   \n",
       "5386                  2.166667                0.030115               0.031523   \n",
       "5387                 -3.000000                0.000000               0.000000   \n",
       "5388                  2.166667                0.139583               0.187380   \n",
       "5389                  2.166667                0.040315               0.144333   \n",
       "5390                  2.166667                0.004217               0.018924   \n",
       "5391                 -3.000000                0.000202               0.002831   \n",
       "5392                 -3.000000                0.000103               0.001446   \n",
       "5393                  2.166667                0.346266               0.467863   \n",
       "5394                  2.166667                0.003556               0.007112   \n",
       "5395                 -3.000000                0.000000               0.000000   \n",
       "5396                  2.166667                0.050791               0.072770   \n",
       "\n",
       "      kurtosis_past_2_week_cases  mean_past_month_cases  max_past_month_cases  \\\n",
       "0                      -1.733333               0.984709              1.123213   \n",
       "1                      -1.733333               1.320918              1.375641   \n",
       "2                      -1.733333               0.005756              0.015349   \n",
       "3                      -1.733333               2.450092              2.484196   \n",
       "4                      -1.733333               0.380011              0.408584   \n",
       "5                      -1.733333               4.771159              5.665804   \n",
       "6                      -1.733333               2.012071              2.500223   \n",
       "7                      -1.733333               0.025312              0.067499   \n",
       "8                      -1.733333               3.003987              3.025834   \n",
       "9                      -1.733333               0.715785              0.735545   \n",
       "10                     -1.733333               1.042976              1.048868   \n",
       "11                     -1.733333               1.641972              2.054175   \n",
       "12                     -3.000000               0.000000              0.000000   \n",
       "13                     -1.733333               0.273318              0.316672   \n",
       "14                     -1.733333               0.408889              0.514597   \n",
       "15                     -1.733333               1.810637              3.887064   \n",
       "16                     -3.000000               0.000000              0.000000   \n",
       "17                     -1.733333               0.878101              0.935314   \n",
       "18                     -1.733333               0.277395              0.363255   \n",
       "19                     -1.733333               3.597647              3.967424   \n",
       "20                     -1.733333               0.783798              1.158458   \n",
       "21                     -1.253300               0.262865              0.363255   \n",
       "22                     -1.625825               4.749121              5.665804   \n",
       "23                      2.735523               1.062226              3.289652   \n",
       "24                      3.883011               1.061570              1.210323   \n",
       "25                      3.744104               2.364267              2.484196   \n",
       "26                     -1.512774               0.005457              0.015349   \n",
       "27                      3.693906               3.054964              3.462778   \n",
       "28                      0.034187               1.779932              2.883617   \n",
       "29                     -3.000000               0.000000              0.000000   \n",
       "...                          ...                    ...                   ...   \n",
       "5367                   -1.647693               0.385729              0.615719   \n",
       "5368                   -0.217369               0.312682              0.524513   \n",
       "5369                    2.166667               0.001205              0.002893   \n",
       "5370                   -2.000000               0.001799              0.010796   \n",
       "5371                    1.908710               0.643158              0.921402   \n",
       "5372                    1.924098               0.521980              0.872157   \n",
       "5373                   -2.000000               0.003556              0.014224   \n",
       "5374                    1.321121               0.069941              0.144333   \n",
       "5375                   -3.000000               0.000000              0.000000   \n",
       "5376                   -1.899797               0.389981              0.615719   \n",
       "5377                   -2.000000               0.001439              0.010796   \n",
       "5378                    0.584806               0.301987              0.524513   \n",
       "5379                   -1.916667               0.000867              0.004337   \n",
       "5380                    7.790984               0.643557              0.921402   \n",
       "5381                   -3.000000               0.000000              0.000000   \n",
       "5382                    6.108408               0.938820              1.361749   \n",
       "5383                   -0.952763               0.722257              0.910949   \n",
       "5384                   -1.325076               0.650478              0.905764   \n",
       "5385                    6.789871               0.897240              1.391157   \n",
       "5386                   -1.655611               0.028283              0.031523   \n",
       "5387                   -3.000000               0.000000              0.000000   \n",
       "5388                   -1.881953               0.185956              0.293307   \n",
       "5389                    5.263023               0.070084              0.144333   \n",
       "5390                    8.359955               0.560060              2.108930   \n",
       "5391                    9.076923               0.000660              0.002831   \n",
       "5392                    9.076923               0.001157              0.002893   \n",
       "5393                    7.869897               0.514352              0.872157   \n",
       "5394                   -2.000000               0.003082              0.014224   \n",
       "5395                   -3.000000               0.000000              0.000000   \n",
       "5396                    0.516735               0.098460              0.212979   \n",
       "\n",
       "      ...    YE-LA  YE-MA  YE-MR  YE-MW  YE-RA  YE-SA  YE-SD  YE-SH  YE-SN  \\\n",
       "0     ...        0      0      0      0      0      0      0      0      0   \n",
       "1     ...        0      0      0      0      0      0      0      0      1   \n",
       "2     ...        0      0      0      0      0      0      0      1      0   \n",
       "3     ...        0      0      0      0      0      0      0      0      0   \n",
       "4     ...        0      0      0      0      0      0      0      0      0   \n",
       "5     ...        0      0      0      0      0      1      0      0      0   \n",
       "6     ...        0      0      0      0      0      0      0      0      0   \n",
       "7     ...        0      0      0      0      0      0      1      0      0   \n",
       "8     ...        0      0      0      1      0      0      0      0      0   \n",
       "9     ...        0      0      0      0      0      0      0      0      0   \n",
       "10    ...        0      0      0      0      0      0      0      0      0   \n",
       "11    ...        0      0      0      0      0      0      0      0      0   \n",
       "12    ...        0      0      1      0      0      0      0      0      0   \n",
       "13    ...        0      0      0      0      0      0      0      0      0   \n",
       "14    ...        1      0      0      0      0      0      0      0      0   \n",
       "15    ...        0      0      0      0      0      0      0      0      0   \n",
       "16    ...        0      0      0      0      0      0      0      0      0   \n",
       "17    ...        0      0      0      0      1      0      0      0      0   \n",
       "18    ...        0      1      0      0      0      0      0      0      0   \n",
       "19    ...        0      0      0      0      0      0      0      0      0   \n",
       "20    ...        0      0      0      0      0      0      0      0      0   \n",
       "21    ...        0      1      0      0      0      0      0      0      0   \n",
       "22    ...        0      0      0      0      0      1      0      0      0   \n",
       "23    ...        0      0      0      0      0      0      0      0      0   \n",
       "24    ...        0      0      0      0      0      0      0      0      0   \n",
       "25    ...        0      0      0      0      0      0      0      0      0   \n",
       "26    ...        0      0      0      0      0      0      0      1      0   \n",
       "27    ...        0      0      0      1      0      0      0      0      0   \n",
       "28    ...        0      0      0      0      0      0      0      0      0   \n",
       "29    ...        0      0      0      0      0      0      0      0      0   \n",
       "...   ...      ...    ...    ...    ...    ...    ...    ...    ...    ...   \n",
       "5367  ...        0      0      0      0      0      0      0      0      0   \n",
       "5368  ...        0      0      0      0      0      0      0      0      1   \n",
       "5369  ...        0      0      0      0      0      0      1      0      0   \n",
       "5370  ...        1      0      0      0      0      0      0      0      0   \n",
       "5371  ...        0      0      0      0      0      0      0      0      0   \n",
       "5372  ...        0      0      0      0      0      0      0      0      0   \n",
       "5373  ...        0      0      0      0      0      0      0      0      0   \n",
       "5374  ...        0      0      0      0      0      0      0      0      0   \n",
       "5375  ...        0      0      1      0      0      0      0      0      0   \n",
       "5376  ...        0      0      0      0      0      0      0      0      0   \n",
       "5377  ...        1      0      0      0      0      0      0      0      0   \n",
       "5378  ...        0      0      0      0      0      0      0      0      1   \n",
       "5379  ...        0      0      0      0      0      0      0      0      0   \n",
       "5380  ...        0      0      0      0      0      0      0      0      0   \n",
       "5381  ...        0      0      0      0      0      0      0      0      0   \n",
       "5382  ...        0      0      0      0      1      0      0      0      0   \n",
       "5383  ...        0      0      0      1      0      0      0      0      0   \n",
       "5384  ...        0      0      0      0      0      0      0      0      0   \n",
       "5385  ...        0      0      0      0      0      1      0      0      0   \n",
       "5386  ...        0      0      0      0      0      0      0      0      0   \n",
       "5387  ...        0      0      0      0      0      0      0      1      0   \n",
       "5388  ...        0      0      0      0      0      0      0      0      0   \n",
       "5389  ...        0      0      0      0      0      0      0      0      0   \n",
       "5390  ...        0      0      0      0      0      0      0      0      0   \n",
       "5391  ...        0      1      0      0      0      0      0      0      0   \n",
       "5392  ...        0      0      0      0      0      0      1      0      0   \n",
       "5393  ...        0      0      0      0      0      0      0      0      0   \n",
       "5394  ...        0      0      0      0      0      0      0      0      0   \n",
       "5395  ...        0      0      1      0      0      0      0      0      0   \n",
       "5396  ...        0      0      0      0      0      0      0      0      0   \n",
       "\n",
       "      YE-TA  \n",
       "0         0  \n",
       "1         0  \n",
       "2         0  \n",
       "3         0  \n",
       "4         0  \n",
       "5         0  \n",
       "6         0  \n",
       "7         0  \n",
       "8         0  \n",
       "9         1  \n",
       "10        0  \n",
       "11        0  \n",
       "12        0  \n",
       "13        0  \n",
       "14        0  \n",
       "15        0  \n",
       "16        0  \n",
       "17        0  \n",
       "18        0  \n",
       "19        0  \n",
       "20        0  \n",
       "21        0  \n",
       "22        0  \n",
       "23        0  \n",
       "24        0  \n",
       "25        0  \n",
       "26        0  \n",
       "27        0  \n",
       "28        0  \n",
       "29        0  \n",
       "...     ...  \n",
       "5367      0  \n",
       "5368      0  \n",
       "5369      0  \n",
       "5370      0  \n",
       "5371      0  \n",
       "5372      0  \n",
       "5373      0  \n",
       "5374      0  \n",
       "5375      0  \n",
       "5376      0  \n",
       "5377      0  \n",
       "5378      0  \n",
       "5379      0  \n",
       "5380      0  \n",
       "5381      0  \n",
       "5382      0  \n",
       "5383      0  \n",
       "5384      0  \n",
       "5385      0  \n",
       "5386      0  \n",
       "5387      0  \n",
       "5388      0  \n",
       "5389      0  \n",
       "5390      0  \n",
       "5391      0  \n",
       "5392      0  \n",
       "5393      0  \n",
       "5394      0  \n",
       "5395      0  \n",
       "5396      1  \n",
       "\n",
       "[5397 rows x 185 columns]"
      ]
     },
     "execution_count": 19,
     "metadata": {},
     "output_type": "execute_result"
    }
   ],
   "source": [
    "full_features"
   ]
  },
  {
   "cell_type": "code",
   "execution_count": 20,
   "metadata": {},
   "outputs": [],
   "source": [
    "full_data = full_features.merge(y_df, on = ['gov_iso', 'date'], how = 'left')"
   ]
  },
  {
   "cell_type": "code",
   "execution_count": 21,
   "metadata": {},
   "outputs": [],
   "source": [
    "X = full_data[all_feature_list]"
   ]
  },
  {
   "cell_type": "code",
   "execution_count": 22,
   "metadata": {},
   "outputs": [],
   "source": [
    "y1 = full_data[['date', 'week_1_cases']]\n",
    "y2 = full_data[['date', 'week_2_cases']]\n",
    "y2_4 = full_data[['date', 'week_2_to_4_cases']]\n",
    "y4_6 = full_data[['date', 'week_4_to_6_cases']]\n",
    "y6_8 = full_data[['date', 'week_6_to_8_cases']]"
   ]
  },
  {
   "cell_type": "code",
   "execution_count": 23,
   "metadata": {},
   "outputs": [],
   "source": [
    "def scale_features(scaler, X, categorical_cols):\n",
    "    \n",
    "    X_numerical = X.iloc[:,:(categorical_cols[0])]\n",
    "    X_categorical = X.iloc[:, categorical_cols[0]:categorical_cols[1]]\n",
    "        \n",
    "    X_numerical_scaled = pd.DataFrame(data=scaler.transform(X_numerical), columns = X_numerical.columns)\n",
    "    \n",
    "    X_scaled = pd.concat([X_numerical_scaled, X_categorical.reset_index(drop=True)], axis=1)\n",
    "    \n",
    "    return (X_scaled)"
   ]
  },
  {
   "cell_type": "code",
   "execution_count": 86,
   "metadata": {},
   "outputs": [],
   "source": [
    "def train_base_selection_model(X, y, param_grid, split_date, categorical_cols):\n",
    "    \n",
    "    # some of the ending values are undefined purposely, as there isnt't enough data to get cholera cases for x weeks\n",
    "    y = y.dropna()\n",
    "    X = X.loc[y.index]\n",
    "    \n",
    "    print ('X shape:')\n",
    "    \n",
    "    X_train, X_test = X[(X.date<split_date)].drop('date', axis=1), X[(X.date>=split_date)].drop('date', axis=1)\n",
    "    y_train, y_test = y[(y.date<split_date)].drop('date', axis=1), y[(y.date>=split_date)].drop('date', axis=1)\n",
    "    \n",
    "    scaler = StandardScaler()\n",
    "    scaler.fit(X_train.iloc[:,:categorical_cols[0]])\n",
    "    \n",
    "    X_train, X_test = scale_features(scaler, X_train, categorical_cols), scale_features(scaler, X_test, categorical_cols)\n",
    "    \n",
    "    xgb = xgboost.XGBRegressor()\n",
    "    \n",
    "    grid_search = GridSearchCV(xgb,\n",
    "                        param_grid = param_grid,\n",
    "                        cv = TimeSeriesSplit(n_splits=3).split(X_train),\n",
    "                        n_jobs = -1,\n",
    "                        scoring = 'explained_variance',\n",
    "                        verbose=True)\n",
    "    \n",
    "    grid_search.fit(X_train, y_train)\n",
    "    \n",
    "    y_pred = grid_search.predict(X_test)\n",
    "    score = explained_variance_score(y_test, y_pred)\n",
    "    mae = mean_absolute_error(y_test, y_pred)\n",
    "    \n",
    "    print('w/ all features... explained variance: %s, mean abs error: %s' % (score, mae))\n",
    "\n",
    "    \n",
    "    return(grid_search.best_estimator_, grid_search.best_params_)"
   ]
  },
  {
   "cell_type": "code",
   "execution_count": 60,
   "metadata": {},
   "outputs": [],
   "source": [
    "base_param_grid = {'nthread':[4], #when use hyperthread, xgboost may become slower\n",
    "              'objective':['reg:linear'],\n",
    "              'learning_rate': [0.01], #so called `eta` value\n",
    "              'max_depth': [8,16,32],\n",
    "              'min_child_weight': [20,35,50,65],\n",
    "              'silent': [1],\n",
    "              'subsample': [0.4, 0.5, 0.6, 0.7, 0.8],\n",
    "              'colsample_bytree': [0.4, 0.5, 0.6, 0.7, 0.8],\n",
    "              'n_estimators': [100, 200, 300]}"
   ]
  },
  {
   "cell_type": "code",
   "execution_count": 30,
   "metadata": {},
   "outputs": [
    {
     "name": "stdout",
     "output_type": "stream",
     "text": [
      "X shape:\n",
      "Fitting 2 folds for each of 243 candidates, totalling 486 fits\n"
     ]
    },
    {
     "name": "stderr",
     "output_type": "stream",
     "text": [
      "[Parallel(n_jobs=-1)]: Done  34 tasks      | elapsed:   23.4s\n",
      "[Parallel(n_jobs=-1)]: Done 184 tasks      | elapsed:  1.8min\n",
      "[Parallel(n_jobs=-1)]: Done 434 tasks      | elapsed:  5.2min\n",
      "[Parallel(n_jobs=-1)]: Done 486 out of 486 | elapsed:  6.0min finished\n"
     ]
    },
    {
     "name": "stdout",
     "output_type": "stream",
     "text": [
      "w/ all features... explained variance: 0.8286793494376657, mean abs error: 1.5383716653625767\n"
     ]
    }
   ],
   "source": [
    "week1_xgb, week1_params = train_base_selection_model(X, y1, base_param_grid, '2017-09-25', categorical_cols)"
   ]
  },
  {
   "cell_type": "code",
   "execution_count": 31,
   "metadata": {},
   "outputs": [
    {
     "name": "stdout",
     "output_type": "stream",
     "text": [
      "X shape:\n",
      "Fitting 2 folds for each of 243 candidates, totalling 486 fits\n"
     ]
    },
    {
     "name": "stderr",
     "output_type": "stream",
     "text": [
      "[Parallel(n_jobs=-1)]: Done  34 tasks      | elapsed:   23.8s\n",
      "[Parallel(n_jobs=-1)]: Done 184 tasks      | elapsed:  1.9min\n",
      "[Parallel(n_jobs=-1)]: Done 434 tasks      | elapsed:  5.4min\n",
      "[Parallel(n_jobs=-1)]: Done 486 out of 486 | elapsed:  6.2min finished\n"
     ]
    },
    {
     "name": "stdout",
     "output_type": "stream",
     "text": [
      "w/ all features... explained variance: 0.7553790910202517, mean abs error: 1.8808571368800777\n"
     ]
    }
   ],
   "source": [
    "week2_xgb, week2_params = train_base_selection_model(X, y2, base_param_grid, '2017-09-25', categorical_cols)"
   ]
  },
  {
   "cell_type": "code",
   "execution_count": 27,
   "metadata": {},
   "outputs": [
    {
     "name": "stdout",
     "output_type": "stream",
     "text": [
      "X shape:\n",
      "Fitting 2 folds for each of 243 candidates, totalling 486 fits\n"
     ]
    },
    {
     "name": "stderr",
     "output_type": "stream",
     "text": [
      "[Parallel(n_jobs=-1)]: Done  34 tasks      | elapsed:   22.1s\n",
      "[Parallel(n_jobs=-1)]: Done 184 tasks      | elapsed:  1.9min\n",
      "[Parallel(n_jobs=-1)]: Done 434 tasks      | elapsed:  5.5min\n",
      "[Parallel(n_jobs=-1)]: Done 486 out of 486 | elapsed:  6.3min finished\n"
     ]
    },
    {
     "name": "stdout",
     "output_type": "stream",
     "text": [
      "w/ all features... explained variance: 0.7031121609814357, mean abs error: 4.266358295442219\n"
     ]
    }
   ],
   "source": [
    "week2_4_xgb, week2_4_params = train_base_selection_model(X, y2_4, base_param_grid, '2017-09-25', categorical_cols)"
   ]
  },
  {
   "cell_type": "code",
   "execution_count": 87,
   "metadata": {},
   "outputs": [],
   "source": [
    "quick_search_params = {'colsample_bytree': [0.4, 0.6],\n",
    " 'learning_rate': [0.01],\n",
    " 'max_depth': [10],\n",
    " 'min_child_weight': [32, 45],\n",
    " 'n_estimators': [150],\n",
    " 'nthread': [4],\n",
    " 'objective': ['reg:linear'],\n",
    " 'silent': [1],\n",
    " 'subsample':[0.4, 0.6]}"
   ]
  },
  {
   "cell_type": "code",
   "execution_count": 88,
   "metadata": {},
   "outputs": [
    {
     "name": "stdout",
     "output_type": "stream",
     "text": [
      "X shape:\n",
      "Fitting 2 folds for each of 8 candidates, totalling 16 fits\n"
     ]
    },
    {
     "name": "stderr",
     "output_type": "stream",
     "text": [
      "[Parallel(n_jobs=-1)]: Done  16 out of  16 | elapsed:    8.8s finished\n"
     ]
    },
    {
     "name": "stdout",
     "output_type": "stream",
     "text": [
      "w/ all features... explained variance: 0.6086493190970289, mean abs error: 4.392034725129276\n"
     ]
    }
   ],
   "source": [
    "week4_6_xgb, week4_6_params = train_base_selection_model(X, y4_6, quick_search_params, '2017-09-25', categorical_cols)"
   ]
  },
  {
   "cell_type": "code",
   "execution_count": 57,
   "metadata": {},
   "outputs": [
    {
     "name": "stdout",
     "output_type": "stream",
     "text": [
      "X shape:\n",
      "Fitting 2 folds for each of 12 candidates, totalling 24 fits\n"
     ]
    },
    {
     "name": "stderr",
     "output_type": "stream",
     "text": [
      "[Parallel(n_jobs=-1)]: Done  24 out of  24 | elapsed:   11.7s finished\n"
     ]
    },
    {
     "name": "stdout",
     "output_type": "stream",
     "text": [
      "w/ all features... explained variance: 0.6423024113045884, mean abs error: 3.594763591470956\n"
     ]
    }
   ],
   "source": [
    "week6_8_xgb, week6_8_params = train_base_selection_model(X, y6_8, quick_search_params, '2017-09-25', categorical_cols)"
   ]
  },
  {
   "cell_type": "code",
   "execution_count": 30,
   "metadata": {},
   "outputs": [
    {
     "data": {
      "text/plain": [
       "{'colsample_bytree': 0.4,\n",
       " 'learning_rate': 0.01,\n",
       " 'max_depth': 10,\n",
       " 'min_child_weight': 45,\n",
       " 'n_estimators': 250,\n",
       " 'nthread': 4,\n",
       " 'objective': 'reg:linear',\n",
       " 'silent': 1,\n",
       " 'subsample': 0.4}"
      ]
     },
     "execution_count": 30,
     "metadata": {},
     "output_type": "execute_result"
    }
   ],
   "source": [
    "week1_params"
   ]
  },
  {
   "cell_type": "code",
   "execution_count": 31,
   "metadata": {
    "scrolled": true
   },
   "outputs": [
    {
     "data": {
      "text/plain": [
       "{'colsample_bytree': 0.6,\n",
       " 'learning_rate': 0.01,\n",
       " 'max_depth': 10,\n",
       " 'min_child_weight': 45,\n",
       " 'n_estimators': 150,\n",
       " 'nthread': 4,\n",
       " 'objective': 'reg:linear',\n",
       " 'silent': 1,\n",
       " 'subsample': 0.4}"
      ]
     },
     "execution_count": 31,
     "metadata": {},
     "output_type": "execute_result"
    }
   ],
   "source": [
    "week2_params"
   ]
  },
  {
   "cell_type": "code",
   "execution_count": 40,
   "metadata": {},
   "outputs": [
    {
     "data": {
      "text/plain": [
       "{'colsample_bytree': 0.4,\n",
       " 'learning_rate': 0.01,\n",
       " 'max_depth': 10,\n",
       " 'min_child_weight': 45,\n",
       " 'n_estimators': 150,\n",
       " 'nthread': 4,\n",
       " 'objective': 'reg:linear',\n",
       " 'silent': 1,\n",
       " 'subsample': 0.4}"
      ]
     },
     "execution_count": 40,
     "metadata": {},
     "output_type": "execute_result"
    }
   ],
   "source": [
    "week2_4_params"
   ]
  },
  {
   "cell_type": "code",
   "execution_count": 77,
   "metadata": {},
   "outputs": [
    {
     "data": {
      "text/plain": [
       "{'colsample_bytree': 0.4,\n",
       " 'learning_rate': 0.01,\n",
       " 'max_depth': 10,\n",
       " 'min_child_weight': 45,\n",
       " 'n_estimators': 150,\n",
       " 'nthread': 4,\n",
       " 'objective': 'reg:linear',\n",
       " 'silent': 1,\n",
       " 'subsample': 0.4}"
      ]
     },
     "execution_count": 77,
     "metadata": {},
     "output_type": "execute_result"
    }
   ],
   "source": [
    "week4_6_params"
   ]
  },
  {
   "cell_type": "code",
   "execution_count": 49,
   "metadata": {},
   "outputs": [
    {
     "data": {
      "text/plain": [
       "{'colsample_bytree': 0.4,\n",
       " 'learning_rate': 0.01,\n",
       " 'max_depth': 8,\n",
       " 'min_child_weight': 4,\n",
       " 'n_estimators': 200,\n",
       " 'nthread': 4,\n",
       " 'objective': 'reg:linear',\n",
       " 'silent': 1,\n",
       " 'subsample': 0.7}"
      ]
     },
     "execution_count": 49,
     "metadata": {},
     "output_type": "execute_result"
    }
   ],
   "source": [
    "week6_8_params"
   ]
  },
  {
   "cell_type": "code",
   "execution_count": 92,
   "metadata": {},
   "outputs": [],
   "source": [
    "model_dict = {'week1_xgb' : week1_xgb, 'week2_xgb' : week2_xgb, 'week2_to_4_xgb' : week2_4_xgb, 'week4_to_6_xgb' : week4_6_xgb, 'week6_to_8_xgb' : week6_8_xgb}"
   ]
  },
  {
   "cell_type": "code",
   "execution_count": 94,
   "metadata": {},
   "outputs": [],
   "source": [
    "for key, val in model_dict.items():\n",
    "    fig, ax = plt.subplots(1,1, figsize = (10, 30))\n",
    "    xgboost.plot_importance(val, ax=ax)\n",
    "    fig.tight_layout()\n",
    "    fig.savefig('/Users/Rohil/Documents/iGEM/yemen/feature_engineering/grouped_week_feature_importances/' + key + '.png')\n",
    "    plt.clf()\n",
    "    plt.close('all')"
   ]
  },
  {
   "cell_type": "code",
   "execution_count": 32,
   "metadata": {},
   "outputs": [],
   "source": [
    "nfeature_param_grid = {'nthread':[4], #when use hyperthread, xgboost may become slower\n",
    "              'objective':['reg:linear'],\n",
    "              'learning_rate': [0.01], #so called `eta` value\n",
    "              'max_depth': [10, 15],\n",
    "              'min_child_weight': [15, 30, 45],\n",
    "              'silent': [1],\n",
    "              'subsample': [0.5, 0.65, 0.8],\n",
    "              'colsample_bytree': [0.5, 0.65, 0.8],\n",
    "              'n_estimators': [100, 200],\n",
    "}"
   ]
  },
  {
   "cell_type": "code",
   "execution_count": 48,
   "metadata": {
    "collapsed": true
   },
   "outputs": [],
   "source": [
    "def nfeature_gridsearch(X, y, split_date, xgb_all_features, param_grid, categorical_cols):\n",
    "    \n",
    "    thresholds = sorted(xgb_all_features.feature_importances_, reverse = True)\n",
    "    five_thresh = thresholds[0:100][0::5]\n",
    "    \n",
    "    nfeature_gridsearch_df = pd.DataFrame(columns=['threshold', 'n_features', 'best_params', 'explained_variance', 'mae'])\n",
    "\n",
    "    # some of the ending values are undefined purposely, as there isnt't enough data to get cholera cases for x weeks\n",
    "    y = y.dropna()\n",
    "    X = X.loc[y.index]\n",
    "        \n",
    "    X_train, X_test = X[(X.date<split_date)].drop('date', axis=1), X[(X.date>=split_date)].drop('date', axis=1)\n",
    "    y_train, y_test = y[(y.date<split_date)].drop('date', axis=1), y[(y.date>=split_date)].drop('date', axis=1)\n",
    "    \n",
    "    scaler = StandardScaler()\n",
    "    scaler.fit(X_train.iloc[:,:categorical_cols[0]])\n",
    "    \n",
    "    X_train, X_test = scale_features(scaler, X_train, categorical_cols), scale_features(scaler, X_test, categorical_cols)\n",
    "    \n",
    "    for thresh in thresholds[0:100]:\n",
    "        # select features using threshold\n",
    "        selection = SelectFromModel(xgb_all_features, threshold=thresh, prefit=True)\n",
    "\n",
    "        select_X_train = selection.transform(X_train)\n",
    "        \n",
    "        selection_model = xgboost.XGBRegressor()\n",
    "\n",
    "        grid_search = GridSearchCV(selection_model,\n",
    "                            param_grid = param_grid,\n",
    "                            cv = TimeSeriesSplit(n_splits=2).split(select_X_train),\n",
    "                            n_jobs = -1,\n",
    "                            scoring = 'explained_variance',\n",
    "                            verbose=True)\n",
    "\n",
    "\n",
    "        grid_search.fit(select_X_train, y_train)\n",
    "\n",
    "        # eval model\n",
    "        select_X_test = selection.transform(X_test)\n",
    "        y_pred = grid_search.predict(select_X_test)\n",
    "        score = explained_variance_score(y_test, y_pred)\n",
    "        mae = mean_absolute_error(y_test, y_pred)\n",
    "\n",
    "        print('Thresh=%s, n=%s, explained variance: %s, mean abs error: %s' % (thresh, select_X_train.shape[1], score, mae))\n",
    "\n",
    "        nfeature_gridsearch_df = nfeature_gridsearch_df.append(pd.Series({'threshold':thresh, 'n_features':select_X_train.shape[1], 'best_params': grid_search.best_params_, 'explained_variance':score, 'mae': mae}), ignore_index = True)\n",
    "        \n",
    "    return (nfeature_gridsearch_df)"
   ]
  },
  {
   "cell_type": "code",
   "execution_count": 49,
   "metadata": {},
   "outputs": [
    {
     "name": "stdout",
     "output_type": "stream",
     "text": [
      "Fitting 2 folds for each of 108 candidates, totalling 216 fits\n"
     ]
    },
    {
     "name": "stderr",
     "output_type": "stream",
     "text": [
      "[Parallel(n_jobs=-1)]: Done  34 tasks      | elapsed:    6.2s\n",
      "[Parallel(n_jobs=-1)]: Done 184 tasks      | elapsed:   14.6s\n",
      "[Parallel(n_jobs=-1)]: Done 216 out of 216 | elapsed:   16.5s finished\n"
     ]
    },
    {
     "name": "stdout",
     "output_type": "stream",
     "text": [
      "Thresh=0.09749232, n=1, explained variance: 0.8303297027178167, mean abs error: 1.405146565511924\n",
      "Fitting 2 folds for each of 108 candidates, totalling 216 fits\n"
     ]
    },
    {
     "name": "stderr",
     "output_type": "stream",
     "text": [
      "[Parallel(n_jobs=-1)]: Done  34 tasks      | elapsed:    6.3s\n",
      "[Parallel(n_jobs=-1)]: Done 184 tasks      | elapsed:   14.4s\n",
      "[Parallel(n_jobs=-1)]: Done 216 out of 216 | elapsed:   16.3s finished\n"
     ]
    },
    {
     "name": "stdout",
     "output_type": "stream",
     "text": [
      "Thresh=0.07676561, n=2, explained variance: 0.8285179794953167, mean abs error: 1.4480368395374263\n",
      "Fitting 2 folds for each of 108 candidates, totalling 216 fits\n"
     ]
    },
    {
     "name": "stderr",
     "output_type": "stream",
     "text": [
      "[Parallel(n_jobs=-1)]: Done  34 tasks      | elapsed:    6.3s\n",
      "[Parallel(n_jobs=-1)]: Done 184 tasks      | elapsed:   14.5s\n",
      "[Parallel(n_jobs=-1)]: Done 216 out of 216 | elapsed:   16.6s finished\n"
     ]
    },
    {
     "name": "stdout",
     "output_type": "stream",
     "text": [
      "Thresh=0.042732857, n=3, explained variance: 0.8124768603260224, mean abs error: 1.5541567411673358\n",
      "Fitting 2 folds for each of 108 candidates, totalling 216 fits\n"
     ]
    },
    {
     "name": "stderr",
     "output_type": "stream",
     "text": [
      "[Parallel(n_jobs=-1)]: Done  34 tasks      | elapsed:    6.4s\n",
      "[Parallel(n_jobs=-1)]: Done 184 tasks      | elapsed:   15.8s\n",
      "[Parallel(n_jobs=-1)]: Done 216 out of 216 | elapsed:   17.9s finished\n"
     ]
    },
    {
     "name": "stdout",
     "output_type": "stream",
     "text": [
      "Thresh=0.035056293, n=4, explained variance: 0.8253113590177443, mean abs error: 1.485807520743108\n",
      "Fitting 2 folds for each of 108 candidates, totalling 216 fits\n"
     ]
    },
    {
     "name": "stderr",
     "output_type": "stream",
     "text": [
      "[Parallel(n_jobs=-1)]: Done  34 tasks      | elapsed:    6.3s\n",
      "[Parallel(n_jobs=-1)]: Done 184 tasks      | elapsed:   17.6s\n",
      "[Parallel(n_jobs=-1)]: Done 216 out of 216 | elapsed:   20.0s finished\n"
     ]
    },
    {
     "name": "stdout",
     "output_type": "stream",
     "text": [
      "Thresh=0.032753326, n=5, explained variance: 0.8265378407375186, mean abs error: 1.437211416321224\n",
      "Fitting 2 folds for each of 108 candidates, totalling 216 fits\n"
     ]
    },
    {
     "name": "stderr",
     "output_type": "stream",
     "text": [
      "[Parallel(n_jobs=-1)]: Done  34 tasks      | elapsed:    7.4s\n",
      "[Parallel(n_jobs=-1)]: Done 184 tasks      | elapsed:   18.5s\n",
      "[Parallel(n_jobs=-1)]: Done 216 out of 216 | elapsed:   20.7s finished\n"
     ]
    },
    {
     "name": "stdout",
     "output_type": "stream",
     "text": [
      "Thresh=0.025588537, n=6, explained variance: 0.8386194286085693, mean abs error: 1.3253127659870811\n",
      "Fitting 2 folds for each of 108 candidates, totalling 216 fits\n"
     ]
    },
    {
     "name": "stderr",
     "output_type": "stream",
     "text": [
      "[Parallel(n_jobs=-1)]: Done  34 tasks      | elapsed:    7.4s\n",
      "[Parallel(n_jobs=-1)]: Done 184 tasks      | elapsed:   18.8s\n",
      "[Parallel(n_jobs=-1)]: Done 216 out of 216 | elapsed:   21.3s finished\n"
     ]
    },
    {
     "name": "stdout",
     "output_type": "stream",
     "text": [
      "Thresh=0.02533265, n=7, explained variance: 0.8414001241712885, mean abs error: 1.3399416603079222\n",
      "Fitting 2 folds for each of 108 candidates, totalling 216 fits\n"
     ]
    },
    {
     "name": "stderr",
     "output_type": "stream",
     "text": [
      "[Parallel(n_jobs=-1)]: Done  34 tasks      | elapsed:    7.3s\n",
      "[Parallel(n_jobs=-1)]: Done 184 tasks      | elapsed:   19.4s\n",
      "[Parallel(n_jobs=-1)]: Done 216 out of 216 | elapsed:   22.4s finished\n"
     ]
    },
    {
     "name": "stdout",
     "output_type": "stream",
     "text": [
      "Thresh=0.022773797, n=8, explained variance: 0.8380247882415424, mean abs error: 1.37263177496469\n",
      "Fitting 2 folds for each of 108 candidates, totalling 216 fits\n"
     ]
    },
    {
     "name": "stderr",
     "output_type": "stream",
     "text": [
      "[Parallel(n_jobs=-1)]: Done  34 tasks      | elapsed:    7.1s\n",
      "[Parallel(n_jobs=-1)]: Done 184 tasks      | elapsed:   19.7s\n",
      "[Parallel(n_jobs=-1)]: Done 216 out of 216 | elapsed:   23.0s finished\n"
     ]
    },
    {
     "name": "stdout",
     "output_type": "stream",
     "text": [
      "Thresh=0.022006141, n=9, explained variance: 0.8393645248410349, mean abs error: 1.3809838446274443\n",
      "Fitting 2 folds for each of 108 candidates, totalling 216 fits\n"
     ]
    },
    {
     "name": "stderr",
     "output_type": "stream",
     "text": [
      "[Parallel(n_jobs=-1)]: Done  34 tasks      | elapsed:    7.4s\n",
      "[Parallel(n_jobs=-1)]: Done 184 tasks      | elapsed:   20.9s\n",
      "[Parallel(n_jobs=-1)]: Done 216 out of 216 | elapsed:   24.5s finished\n"
     ]
    },
    {
     "name": "stdout",
     "output_type": "stream",
     "text": [
      "Thresh=0.021238485, n=10, explained variance: 0.8407902383014301, mean abs error: 1.3824770613004231\n",
      "Fitting 2 folds for each of 108 candidates, totalling 216 fits\n"
     ]
    },
    {
     "name": "stderr",
     "output_type": "stream",
     "text": [
      "[Parallel(n_jobs=-1)]: Done  34 tasks      | elapsed:    7.4s\n",
      "[Parallel(n_jobs=-1)]: Done 184 tasks      | elapsed:   21.4s\n",
      "[Parallel(n_jobs=-1)]: Done 216 out of 216 | elapsed:   24.7s finished\n"
     ]
    },
    {
     "name": "stdout",
     "output_type": "stream",
     "text": [
      "Thresh=0.019447288, n=11, explained variance: 0.8438854685760494, mean abs error: 1.3995186255595702\n",
      "Fitting 2 folds for each of 108 candidates, totalling 216 fits\n"
     ]
    },
    {
     "name": "stderr",
     "output_type": "stream",
     "text": [
      "[Parallel(n_jobs=-1)]: Done  34 tasks      | elapsed:    7.2s\n",
      "[Parallel(n_jobs=-1)]: Done 184 tasks      | elapsed:   22.1s\n",
      "[Parallel(n_jobs=-1)]: Done 216 out of 216 | elapsed:   25.5s finished\n"
     ]
    },
    {
     "name": "stdout",
     "output_type": "stream",
     "text": [
      "Thresh=0.018423745, n=12, explained variance: 0.8389956005735506, mean abs error: 1.43977606617232\n",
      "Fitting 2 folds for each of 108 candidates, totalling 216 fits\n"
     ]
    },
    {
     "name": "stderr",
     "output_type": "stream",
     "text": [
      "[Parallel(n_jobs=-1)]: Done  34 tasks      | elapsed:    7.3s\n",
      "[Parallel(n_jobs=-1)]: Done 184 tasks      | elapsed:   21.7s\n",
      "[Parallel(n_jobs=-1)]: Done 216 out of 216 | elapsed:   25.4s finished\n"
     ]
    },
    {
     "name": "stdout",
     "output_type": "stream",
     "text": [
      "Thresh=0.017400205, n=13, explained variance: 0.8398171860764231, mean abs error: 1.4881094586685004\n",
      "Fitting 2 folds for each of 108 candidates, totalling 216 fits\n"
     ]
    },
    {
     "name": "stderr",
     "output_type": "stream",
     "text": [
      "[Parallel(n_jobs=-1)]: Done  34 tasks      | elapsed:    7.2s\n",
      "[Parallel(n_jobs=-1)]: Done 184 tasks      | elapsed:   23.1s\n",
      "[Parallel(n_jobs=-1)]: Done 216 out of 216 | elapsed:   26.4s finished\n"
     ]
    },
    {
     "name": "stdout",
     "output_type": "stream",
     "text": [
      "Thresh=0.016888434, n=14, explained variance: 0.7913073281433063, mean abs error: 1.9537892306621418\n",
      "Fitting 2 folds for each of 108 candidates, totalling 216 fits\n"
     ]
    },
    {
     "name": "stderr",
     "output_type": "stream",
     "text": [
      "[Parallel(n_jobs=-1)]: Done  34 tasks      | elapsed:    7.2s\n",
      "[Parallel(n_jobs=-1)]: Done 184 tasks      | elapsed:   22.6s\n",
      "[Parallel(n_jobs=-1)]: Done 216 out of 216 | elapsed:   26.6s finished\n"
     ]
    },
    {
     "name": "stdout",
     "output_type": "stream",
     "text": [
      "Thresh=0.01663255, n=15, explained variance: 0.8389126135572926, mean abs error: 1.4860118170435717\n",
      "Fitting 2 folds for each of 108 candidates, totalling 216 fits\n"
     ]
    },
    {
     "name": "stderr",
     "output_type": "stream",
     "text": [
      "[Parallel(n_jobs=-1)]: Done  34 tasks      | elapsed:    7.3s\n",
      "[Parallel(n_jobs=-1)]: Done 184 tasks      | elapsed:   23.5s\n",
      "[Parallel(n_jobs=-1)]: Done 216 out of 216 | elapsed:   27.5s finished\n"
     ]
    },
    {
     "name": "stdout",
     "output_type": "stream",
     "text": [
      "Thresh=0.016376663, n=16, explained variance: 0.8376611960409042, mean abs error: 1.4702156391183248\n",
      "Fitting 2 folds for each of 108 candidates, totalling 216 fits\n"
     ]
    },
    {
     "name": "stderr",
     "output_type": "stream",
     "text": [
      "[Parallel(n_jobs=-1)]: Done  34 tasks      | elapsed:    7.4s\n",
      "[Parallel(n_jobs=-1)]: Done 184 tasks      | elapsed:   24.2s\n",
      "[Parallel(n_jobs=-1)]: Done 216 out of 216 | elapsed:   28.6s finished\n"
     ]
    },
    {
     "name": "stdout",
     "output_type": "stream",
     "text": [
      "Thresh=0.016120778, n=18, explained variance: 0.7871464331297849, mean abs error: 1.9444084667283847\n",
      "Fitting 2 folds for each of 108 candidates, totalling 216 fits\n"
     ]
    },
    {
     "name": "stderr",
     "output_type": "stream",
     "text": [
      "[Parallel(n_jobs=-1)]: Done  34 tasks      | elapsed:    8.0s\n",
      "[Parallel(n_jobs=-1)]: Done 184 tasks      | elapsed:   25.5s\n",
      "[Parallel(n_jobs=-1)]: Done 216 out of 216 | elapsed:   29.9s finished\n"
     ]
    },
    {
     "name": "stdout",
     "output_type": "stream",
     "text": [
      "Thresh=0.016120778, n=18, explained variance: 0.7871464331297849, mean abs error: 1.9444084667283847\n",
      "Fitting 2 folds for each of 108 candidates, totalling 216 fits\n"
     ]
    },
    {
     "name": "stderr",
     "output_type": "stream",
     "text": [
      "[Parallel(n_jobs=-1)]: Done  34 tasks      | elapsed:    7.5s\n",
      "[Parallel(n_jobs=-1)]: Done 184 tasks      | elapsed:   25.9s\n",
      "[Parallel(n_jobs=-1)]: Done 216 out of 216 | elapsed:   30.2s finished\n"
     ]
    },
    {
     "name": "stdout",
     "output_type": "stream",
     "text": [
      "Thresh=0.015864892, n=19, explained variance: 0.8414319652630171, mean abs error: 1.4210739100143521\n",
      "Fitting 2 folds for each of 108 candidates, totalling 216 fits\n"
     ]
    },
    {
     "name": "stderr",
     "output_type": "stream",
     "text": [
      "[Parallel(n_jobs=-1)]: Done  34 tasks      | elapsed:    9.1s\n",
      "[Parallel(n_jobs=-1)]: Done 184 tasks      | elapsed:   28.9s\n",
      "[Parallel(n_jobs=-1)]: Done 216 out of 216 | elapsed:   33.5s finished\n"
     ]
    },
    {
     "name": "stdout",
     "output_type": "stream",
     "text": [
      "Thresh=0.014585466, n=20, explained variance: 0.7946852507656672, mean abs error: 1.8866662363736308\n",
      "Fitting 2 folds for each of 108 candidates, totalling 216 fits\n"
     ]
    },
    {
     "name": "stderr",
     "output_type": "stream",
     "text": [
      "[Parallel(n_jobs=-1)]: Done  34 tasks      | elapsed:    8.0s\n",
      "[Parallel(n_jobs=-1)]: Done 184 tasks      | elapsed:   27.4s\n",
      "[Parallel(n_jobs=-1)]: Done 216 out of 216 | elapsed:   31.9s finished\n"
     ]
    },
    {
     "name": "stdout",
     "output_type": "stream",
     "text": [
      "Thresh=0.014073695, n=21, explained variance: 0.8386086723434729, mean abs error: 1.5256752155891833\n",
      "Fitting 2 folds for each of 108 candidates, totalling 216 fits\n"
     ]
    },
    {
     "name": "stderr",
     "output_type": "stream",
     "text": [
      "[Parallel(n_jobs=-1)]: Done  34 tasks      | elapsed:    7.9s\n",
      "[Parallel(n_jobs=-1)]: Done 184 tasks      | elapsed:   27.8s\n",
      "[Parallel(n_jobs=-1)]: Done 216 out of 216 | elapsed:   32.8s finished\n"
     ]
    },
    {
     "name": "stdout",
     "output_type": "stream",
     "text": [
      "Thresh=0.013561924, n=22, explained variance: 0.837273071885304, mean abs error: 1.542116083561705\n",
      "Fitting 2 folds for each of 108 candidates, totalling 216 fits\n"
     ]
    },
    {
     "name": "stderr",
     "output_type": "stream",
     "text": [
      "[Parallel(n_jobs=-1)]: Done  34 tasks      | elapsed:    8.6s\n",
      "[Parallel(n_jobs=-1)]: Done 184 tasks      | elapsed:   28.5s\n",
      "[Parallel(n_jobs=-1)]: Done 216 out of 216 | elapsed:   33.2s finished\n"
     ]
    },
    {
     "name": "stdout",
     "output_type": "stream",
     "text": [
      "Thresh=0.013050154, n=23, explained variance: 0.8380004144112221, mean abs error: 1.4796868216641461\n",
      "Fitting 2 folds for each of 108 candidates, totalling 216 fits\n"
     ]
    },
    {
     "name": "stderr",
     "output_type": "stream",
     "text": [
      "[Parallel(n_jobs=-1)]: Done  34 tasks      | elapsed:    8.0s\n",
      "[Parallel(n_jobs=-1)]: Done 184 tasks      | elapsed:   28.0s\n",
      "[Parallel(n_jobs=-1)]: Done 216 out of 216 | elapsed:   33.1s finished\n"
     ]
    },
    {
     "name": "stdout",
     "output_type": "stream",
     "text": [
      "Thresh=0.012794268, n=26, explained variance: 0.8352025918247072, mean abs error: 1.4811711435320085\n",
      "Fitting 2 folds for each of 108 candidates, totalling 216 fits\n"
     ]
    },
    {
     "name": "stderr",
     "output_type": "stream",
     "text": [
      "[Parallel(n_jobs=-1)]: Done  34 tasks      | elapsed:    7.9s\n",
      "[Parallel(n_jobs=-1)]: Done 184 tasks      | elapsed:   29.0s\n",
      "[Parallel(n_jobs=-1)]: Done 216 out of 216 | elapsed:   32.9s finished\n"
     ]
    },
    {
     "name": "stdout",
     "output_type": "stream",
     "text": [
      "Thresh=0.012794268, n=26, explained variance: 0.8352025918247072, mean abs error: 1.4811711435320085\n",
      "Fitting 2 folds for each of 108 candidates, totalling 216 fits\n"
     ]
    },
    {
     "name": "stderr",
     "output_type": "stream",
     "text": [
      "[Parallel(n_jobs=-1)]: Done  34 tasks      | elapsed:    8.5s\n",
      "[Parallel(n_jobs=-1)]: Done 184 tasks      | elapsed:   28.6s\n",
      "[Parallel(n_jobs=-1)]: Done 216 out of 216 | elapsed:   33.6s finished\n"
     ]
    },
    {
     "name": "stdout",
     "output_type": "stream",
     "text": [
      "Thresh=0.012794268, n=26, explained variance: 0.8352025918247072, mean abs error: 1.4811711435320085\n",
      "Fitting 2 folds for each of 108 candidates, totalling 216 fits\n"
     ]
    },
    {
     "name": "stderr",
     "output_type": "stream",
     "text": [
      "[Parallel(n_jobs=-1)]: Done  34 tasks      | elapsed:    7.9s\n",
      "[Parallel(n_jobs=-1)]: Done 184 tasks      | elapsed:   28.2s\n",
      "[Parallel(n_jobs=-1)]: Done 216 out of 216 | elapsed:   33.4s finished\n"
     ]
    },
    {
     "name": "stdout",
     "output_type": "stream",
     "text": [
      "Thresh=0.012538383, n=27, explained variance: 0.8380834481276687, mean abs error: 1.5274614640933257\n",
      "Fitting 2 folds for each of 108 candidates, totalling 216 fits\n"
     ]
    },
    {
     "name": "stderr",
     "output_type": "stream",
     "text": [
      "[Parallel(n_jobs=-1)]: Done  34 tasks      | elapsed:    8.2s\n",
      "[Parallel(n_jobs=-1)]: Done 184 tasks      | elapsed:   29.4s\n",
      "[Parallel(n_jobs=-1)]: Done 216 out of 216 | elapsed:   34.7s finished\n"
     ]
    },
    {
     "name": "stdout",
     "output_type": "stream",
     "text": [
      "Thresh=0.012026612, n=28, explained variance: 0.8353310158144971, mean abs error: 1.5216434341557252\n",
      "Fitting 2 folds for each of 108 candidates, totalling 216 fits\n"
     ]
    },
    {
     "name": "stderr",
     "output_type": "stream",
     "text": [
      "[Parallel(n_jobs=-1)]: Done  34 tasks      | elapsed:    8.3s\n",
      "[Parallel(n_jobs=-1)]: Done 184 tasks      | elapsed:   29.3s\n",
      "[Parallel(n_jobs=-1)]: Done 216 out of 216 | elapsed:   34.1s finished\n"
     ]
    },
    {
     "name": "stdout",
     "output_type": "stream",
     "text": [
      "Thresh=0.011770727, n=29, explained variance: 0.8356268834230184, mean abs error: 1.5513331109380637\n",
      "Fitting 2 folds for each of 108 candidates, totalling 216 fits\n"
     ]
    },
    {
     "name": "stderr",
     "output_type": "stream",
     "text": [
      "[Parallel(n_jobs=-1)]: Done  34 tasks      | elapsed:    8.5s\n",
      "[Parallel(n_jobs=-1)]: Done 184 tasks      | elapsed:   30.7s\n",
      "[Parallel(n_jobs=-1)]: Done 216 out of 216 | elapsed:   35.5s finished\n"
     ]
    },
    {
     "name": "stdout",
     "output_type": "stream",
     "text": [
      "Thresh=0.011258956, n=30, explained variance: 0.8345456340423699, mean abs error: 1.5096682272171729\n",
      "Fitting 2 folds for each of 108 candidates, totalling 216 fits\n"
     ]
    },
    {
     "name": "stderr",
     "output_type": "stream",
     "text": [
      "[Parallel(n_jobs=-1)]: Done  34 tasks      | elapsed:    8.8s\n",
      "[Parallel(n_jobs=-1)]: Done 184 tasks      | elapsed:   30.5s\n",
      "[Parallel(n_jobs=-1)]: Done 216 out of 216 | elapsed:   35.8s finished\n"
     ]
    },
    {
     "name": "stdout",
     "output_type": "stream",
     "text": [
      "Thresh=0.0110030705, n=32, explained variance: 0.8349299146986711, mean abs error: 1.4982741111380962\n",
      "Fitting 2 folds for each of 108 candidates, totalling 216 fits\n"
     ]
    },
    {
     "name": "stderr",
     "output_type": "stream",
     "text": [
      "[Parallel(n_jobs=-1)]: Done  34 tasks      | elapsed:    8.2s\n",
      "[Parallel(n_jobs=-1)]: Done 184 tasks      | elapsed:   30.8s\n",
      "[Parallel(n_jobs=-1)]: Done 216 out of 216 | elapsed:   36.2s finished\n"
     ]
    },
    {
     "name": "stdout",
     "output_type": "stream",
     "text": [
      "Thresh=0.0110030705, n=32, explained variance: 0.8349299146986711, mean abs error: 1.4982741111380962\n",
      "Fitting 2 folds for each of 108 candidates, totalling 216 fits\n"
     ]
    },
    {
     "name": "stderr",
     "output_type": "stream",
     "text": [
      "[Parallel(n_jobs=-1)]: Done  34 tasks      | elapsed:    8.3s\n",
      "[Parallel(n_jobs=-1)]: Done 184 tasks      | elapsed:   31.1s\n",
      "[Parallel(n_jobs=-1)]: Done 216 out of 216 | elapsed:   35.7s finished\n"
     ]
    },
    {
     "name": "stdout",
     "output_type": "stream",
     "text": [
      "Thresh=0.010235415, n=33, explained variance: 0.8329365660389041, mean abs error: 1.5042303666627161\n",
      "Fitting 2 folds for each of 108 candidates, totalling 216 fits\n"
     ]
    },
    {
     "name": "stderr",
     "output_type": "stream",
     "text": [
      "[Parallel(n_jobs=-1)]: Done  34 tasks      | elapsed:    8.8s\n",
      "[Parallel(n_jobs=-1)]: Done 184 tasks      | elapsed:   31.9s\n",
      "[Parallel(n_jobs=-1)]: Done 216 out of 216 | elapsed:   37.1s finished\n"
     ]
    },
    {
     "name": "stdout",
     "output_type": "stream",
     "text": [
      "Thresh=0.009979529, n=34, explained variance: 0.8336709623067996, mean abs error: 1.5260462198016023\n",
      "Fitting 2 folds for each of 108 candidates, totalling 216 fits\n"
     ]
    },
    {
     "name": "stderr",
     "output_type": "stream",
     "text": [
      "[Parallel(n_jobs=-1)]: Done  34 tasks      | elapsed:    8.4s\n",
      "[Parallel(n_jobs=-1)]: Done 184 tasks      | elapsed:   31.0s\n",
      "[Parallel(n_jobs=-1)]: Done 216 out of 216 | elapsed:   36.9s finished\n"
     ]
    },
    {
     "name": "stdout",
     "output_type": "stream",
     "text": [
      "Thresh=0.009723644, n=35, explained variance: 0.8342754970167396, mean abs error: 1.524435308927823\n",
      "Fitting 2 folds for each of 108 candidates, totalling 216 fits\n"
     ]
    },
    {
     "name": "stderr",
     "output_type": "stream",
     "text": [
      "[Parallel(n_jobs=-1)]: Done  34 tasks      | elapsed:    8.6s\n",
      "[Parallel(n_jobs=-1)]: Done 184 tasks      | elapsed:   32.8s\n",
      "[Parallel(n_jobs=-1)]: Done 216 out of 216 | elapsed:   38.0s finished\n"
     ]
    },
    {
     "name": "stdout",
     "output_type": "stream",
     "text": [
      "Thresh=0.009211873, n=37, explained variance: 0.8373566606339082, mean abs error: 1.4994225701475004\n",
      "Fitting 2 folds for each of 108 candidates, totalling 216 fits\n"
     ]
    },
    {
     "name": "stderr",
     "output_type": "stream",
     "text": [
      "[Parallel(n_jobs=-1)]: Done  34 tasks      | elapsed:    8.9s\n",
      "[Parallel(n_jobs=-1)]: Done 184 tasks      | elapsed:   32.8s\n",
      "[Parallel(n_jobs=-1)]: Done 216 out of 216 | elapsed:   38.3s finished\n"
     ]
    },
    {
     "name": "stdout",
     "output_type": "stream",
     "text": [
      "Thresh=0.009211873, n=37, explained variance: 0.8373566606339082, mean abs error: 1.4994225701475004\n",
      "Fitting 2 folds for each of 108 candidates, totalling 216 fits\n"
     ]
    },
    {
     "name": "stderr",
     "output_type": "stream",
     "text": [
      "[Parallel(n_jobs=-1)]: Done  34 tasks      | elapsed:    8.9s\n",
      "[Parallel(n_jobs=-1)]: Done 184 tasks      | elapsed:   33.1s\n",
      "[Parallel(n_jobs=-1)]: Done 216 out of 216 | elapsed:   38.2s finished\n"
     ]
    },
    {
     "name": "stdout",
     "output_type": "stream",
     "text": [
      "Thresh=0.008700103, n=38, explained variance: 0.8322902362463196, mean abs error: 1.538610185854733\n",
      "Fitting 2 folds for each of 108 candidates, totalling 216 fits\n"
     ]
    },
    {
     "name": "stderr",
     "output_type": "stream",
     "text": [
      "[Parallel(n_jobs=-1)]: Done  34 tasks      | elapsed:    9.4s\n",
      "[Parallel(n_jobs=-1)]: Done 184 tasks      | elapsed:   36.0s\n",
      "[Parallel(n_jobs=-1)]: Done 216 out of 216 | elapsed:   42.1s finished\n"
     ]
    },
    {
     "name": "stdout",
     "output_type": "stream",
     "text": [
      "Thresh=0.0081883315, n=40, explained variance: 0.8401421579088874, mean abs error: 1.4971910902967056\n",
      "Fitting 2 folds for each of 108 candidates, totalling 216 fits\n"
     ]
    },
    {
     "name": "stderr",
     "output_type": "stream",
     "text": [
      "[Parallel(n_jobs=-1)]: Done  34 tasks      | elapsed:    9.0s\n",
      "[Parallel(n_jobs=-1)]: Done 184 tasks      | elapsed:   34.1s\n",
      "[Parallel(n_jobs=-1)]: Done 216 out of 216 | elapsed:   40.2s finished\n"
     ]
    },
    {
     "name": "stdout",
     "output_type": "stream",
     "text": [
      "Thresh=0.0081883315, n=40, explained variance: 0.8401421579088874, mean abs error: 1.4971910902967056\n",
      "Fitting 2 folds for each of 108 candidates, totalling 216 fits\n"
     ]
    },
    {
     "name": "stderr",
     "output_type": "stream",
     "text": [
      "[Parallel(n_jobs=-1)]: Done  34 tasks      | elapsed:    8.6s\n",
      "[Parallel(n_jobs=-1)]: Done 184 tasks      | elapsed:   33.6s\n",
      "[Parallel(n_jobs=-1)]: Done 216 out of 216 | elapsed:   39.1s finished\n"
     ]
    },
    {
     "name": "stdout",
     "output_type": "stream",
     "text": [
      "Thresh=0.007932446, n=41, explained variance: 0.8343790663236901, mean abs error: 1.5677768593557073\n",
      "Fitting 2 folds for each of 108 candidates, totalling 216 fits\n"
     ]
    },
    {
     "name": "stderr",
     "output_type": "stream",
     "text": [
      "[Parallel(n_jobs=-1)]: Done  34 tasks      | elapsed:    9.7s\n",
      "[Parallel(n_jobs=-1)]: Done 184 tasks      | elapsed:   36.5s\n",
      "[Parallel(n_jobs=-1)]: Done 216 out of 216 | elapsed:   42.8s finished\n"
     ]
    },
    {
     "name": "stdout",
     "output_type": "stream",
     "text": [
      "Thresh=0.007676561, n=45, explained variance: 0.8388797381615988, mean abs error: 1.454888174348522\n",
      "Fitting 2 folds for each of 108 candidates, totalling 216 fits\n"
     ]
    },
    {
     "name": "stderr",
     "output_type": "stream",
     "text": [
      "[Parallel(n_jobs=-1)]: Done  34 tasks      | elapsed:    9.5s\n",
      "[Parallel(n_jobs=-1)]: Done 184 tasks      | elapsed:   36.5s\n",
      "[Parallel(n_jobs=-1)]: Done 216 out of 216 | elapsed:   42.5s finished\n"
     ]
    },
    {
     "name": "stdout",
     "output_type": "stream",
     "text": [
      "Thresh=0.007676561, n=45, explained variance: 0.8388797381615988, mean abs error: 1.454888174348522\n",
      "Fitting 2 folds for each of 108 candidates, totalling 216 fits\n"
     ]
    },
    {
     "name": "stderr",
     "output_type": "stream",
     "text": [
      "[Parallel(n_jobs=-1)]: Done  34 tasks      | elapsed:    9.3s\n",
      "[Parallel(n_jobs=-1)]: Done 184 tasks      | elapsed:   37.3s\n",
      "[Parallel(n_jobs=-1)]: Done 216 out of 216 | elapsed:   43.6s finished\n"
     ]
    },
    {
     "name": "stdout",
     "output_type": "stream",
     "text": [
      "Thresh=0.007676561, n=45, explained variance: 0.8388797381615988, mean abs error: 1.454888174348522\n",
      "Fitting 2 folds for each of 108 candidates, totalling 216 fits\n"
     ]
    },
    {
     "name": "stderr",
     "output_type": "stream",
     "text": [
      "[Parallel(n_jobs=-1)]: Done  34 tasks      | elapsed:    9.4s\n",
      "[Parallel(n_jobs=-1)]: Done 184 tasks      | elapsed:   37.0s\n",
      "[Parallel(n_jobs=-1)]: Done 216 out of 216 | elapsed:   43.1s finished\n"
     ]
    },
    {
     "name": "stdout",
     "output_type": "stream",
     "text": [
      "Thresh=0.007676561, n=45, explained variance: 0.8388797381615988, mean abs error: 1.454888174348522\n",
      "Fitting 2 folds for each of 108 candidates, totalling 216 fits\n"
     ]
    },
    {
     "name": "stderr",
     "output_type": "stream",
     "text": [
      "[Parallel(n_jobs=-1)]: Done  34 tasks      | elapsed:    9.4s\n",
      "[Parallel(n_jobs=-1)]: Done 184 tasks      | elapsed:   37.3s\n",
      "[Parallel(n_jobs=-1)]: Done 216 out of 216 | elapsed:   43.7s finished\n"
     ]
    },
    {
     "name": "stdout",
     "output_type": "stream",
     "text": [
      "Thresh=0.0074206754, n=48, explained variance: 0.8373363980881549, mean abs error: 1.4683575288592314\n",
      "Fitting 2 folds for each of 108 candidates, totalling 216 fits\n"
     ]
    },
    {
     "name": "stderr",
     "output_type": "stream",
     "text": [
      "[Parallel(n_jobs=-1)]: Done  34 tasks      | elapsed:    9.6s\n",
      "[Parallel(n_jobs=-1)]: Done 184 tasks      | elapsed:   37.3s\n",
      "[Parallel(n_jobs=-1)]: Done 216 out of 216 | elapsed:   43.7s finished\n"
     ]
    },
    {
     "name": "stdout",
     "output_type": "stream",
     "text": [
      "Thresh=0.0074206754, n=48, explained variance: 0.8373363980881549, mean abs error: 1.4683575288592314\n",
      "Fitting 2 folds for each of 108 candidates, totalling 216 fits\n"
     ]
    },
    {
     "name": "stderr",
     "output_type": "stream",
     "text": [
      "[Parallel(n_jobs=-1)]: Done  34 tasks      | elapsed:    9.4s\n",
      "[Parallel(n_jobs=-1)]: Done 184 tasks      | elapsed:   37.6s\n",
      "[Parallel(n_jobs=-1)]: Done 216 out of 216 | elapsed:   43.9s finished\n"
     ]
    },
    {
     "name": "stdout",
     "output_type": "stream",
     "text": [
      "Thresh=0.0074206754, n=48, explained variance: 0.8373363980881549, mean abs error: 1.4683575288592314\n",
      "Fitting 2 folds for each of 108 candidates, totalling 216 fits\n"
     ]
    },
    {
     "name": "stderr",
     "output_type": "stream",
     "text": [
      "[Parallel(n_jobs=-1)]: Done  34 tasks      | elapsed:    9.4s\n",
      "[Parallel(n_jobs=-1)]: Done 184 tasks      | elapsed:   37.7s\n",
      "[Parallel(n_jobs=-1)]: Done 216 out of 216 | elapsed:   44.4s finished\n"
     ]
    },
    {
     "name": "stdout",
     "output_type": "stream",
     "text": [
      "Thresh=0.0071647903, n=49, explained variance: 0.8322845666988443, mean abs error: 1.4919109820370444\n",
      "Fitting 2 folds for each of 108 candidates, totalling 216 fits\n"
     ]
    },
    {
     "name": "stderr",
     "output_type": "stream",
     "text": [
      "[Parallel(n_jobs=-1)]: Done  34 tasks      | elapsed:   10.2s\n",
      "[Parallel(n_jobs=-1)]: Done 184 tasks      | elapsed:   38.3s\n",
      "[Parallel(n_jobs=-1)]: Done 216 out of 216 | elapsed:   45.9s finished\n"
     ]
    },
    {
     "name": "stdout",
     "output_type": "stream",
     "text": [
      "Thresh=0.0069089048, n=50, explained variance: 0.8337072158582038, mean abs error: 1.5240562020303108\n",
      "Fitting 2 folds for each of 108 candidates, totalling 216 fits\n"
     ]
    },
    {
     "name": "stderr",
     "output_type": "stream",
     "text": [
      "[Parallel(n_jobs=-1)]: Done  34 tasks      | elapsed:    9.6s\n",
      "[Parallel(n_jobs=-1)]: Done 184 tasks      | elapsed:   39.8s\n",
      "[Parallel(n_jobs=-1)]: Done 216 out of 216 | elapsed:   47.6s finished\n"
     ]
    },
    {
     "name": "stdout",
     "output_type": "stream",
     "text": [
      "Thresh=0.006397134, n=54, explained variance: 0.8360504453976804, mean abs error: 1.4562007513182311\n",
      "Fitting 2 folds for each of 108 candidates, totalling 216 fits\n"
     ]
    },
    {
     "name": "stderr",
     "output_type": "stream",
     "text": [
      "[Parallel(n_jobs=-1)]: Done  34 tasks      | elapsed:    9.9s\n",
      "[Parallel(n_jobs=-1)]: Done 184 tasks      | elapsed:   40.3s\n",
      "[Parallel(n_jobs=-1)]: Done 216 out of 216 | elapsed:   47.9s finished\n"
     ]
    },
    {
     "name": "stdout",
     "output_type": "stream",
     "text": [
      "Thresh=0.006397134, n=54, explained variance: 0.8360504453976804, mean abs error: 1.4562007513182311\n",
      "Fitting 2 folds for each of 108 candidates, totalling 216 fits\n"
     ]
    },
    {
     "name": "stderr",
     "output_type": "stream",
     "text": [
      "[Parallel(n_jobs=-1)]: Done  34 tasks      | elapsed:    9.7s\n",
      "[Parallel(n_jobs=-1)]: Done 184 tasks      | elapsed:   39.7s\n",
      "[Parallel(n_jobs=-1)]: Done 216 out of 216 | elapsed:   46.8s finished\n"
     ]
    },
    {
     "name": "stdout",
     "output_type": "stream",
     "text": [
      "Thresh=0.006397134, n=54, explained variance: 0.8360504453976804, mean abs error: 1.4562007513182311\n",
      "Fitting 2 folds for each of 108 candidates, totalling 216 fits\n"
     ]
    },
    {
     "name": "stderr",
     "output_type": "stream",
     "text": [
      "[Parallel(n_jobs=-1)]: Done  34 tasks      | elapsed:   10.0s\n",
      "[Parallel(n_jobs=-1)]: Done 184 tasks      | elapsed:   40.2s\n",
      "[Parallel(n_jobs=-1)]: Done 216 out of 216 | elapsed:   47.2s finished\n"
     ]
    },
    {
     "name": "stdout",
     "output_type": "stream",
     "text": [
      "Thresh=0.006397134, n=54, explained variance: 0.8360504453976804, mean abs error: 1.4562007513182311\n",
      "Fitting 2 folds for each of 108 candidates, totalling 216 fits\n"
     ]
    },
    {
     "name": "stderr",
     "output_type": "stream",
     "text": [
      "[Parallel(n_jobs=-1)]: Done  34 tasks      | elapsed:   10.0s\n",
      "[Parallel(n_jobs=-1)]: Done 184 tasks      | elapsed:   40.1s\n",
      "[Parallel(n_jobs=-1)]: Done 216 out of 216 | elapsed:   47.3s finished\n"
     ]
    },
    {
     "name": "stdout",
     "output_type": "stream",
     "text": [
      "Thresh=0.0061412486, n=56, explained variance: 0.8398691693726856, mean abs error: 1.4865556986314332\n",
      "Fitting 2 folds for each of 108 candidates, totalling 216 fits\n"
     ]
    },
    {
     "name": "stderr",
     "output_type": "stream",
     "text": [
      "[Parallel(n_jobs=-1)]: Done  34 tasks      | elapsed:   10.2s\n",
      "[Parallel(n_jobs=-1)]: Done 184 tasks      | elapsed:   40.4s\n",
      "[Parallel(n_jobs=-1)]: Done 216 out of 216 | elapsed:   48.4s finished\n"
     ]
    },
    {
     "name": "stdout",
     "output_type": "stream",
     "text": [
      "Thresh=0.0061412486, n=56, explained variance: 0.8398691693726856, mean abs error: 1.4865556986314332\n",
      "Fitting 2 folds for each of 108 candidates, totalling 216 fits\n"
     ]
    },
    {
     "name": "stderr",
     "output_type": "stream",
     "text": [
      "[Parallel(n_jobs=-1)]: Done  34 tasks      | elapsed:   10.0s\n",
      "[Parallel(n_jobs=-1)]: Done 184 tasks      | elapsed:   40.3s\n",
      "[Parallel(n_jobs=-1)]: Done 216 out of 216 | elapsed:   47.9s finished\n"
     ]
    },
    {
     "name": "stdout",
     "output_type": "stream",
     "text": [
      "Thresh=0.005629478, n=57, explained variance: 0.8410817714196219, mean abs error: 1.439755453568457\n",
      "Fitting 2 folds for each of 108 candidates, totalling 216 fits\n"
     ]
    },
    {
     "name": "stderr",
     "output_type": "stream",
     "text": [
      "[Parallel(n_jobs=-1)]: Done  34 tasks      | elapsed:   10.1s\n",
      "[Parallel(n_jobs=-1)]: Done 184 tasks      | elapsed:   40.8s\n",
      "[Parallel(n_jobs=-1)]: Done 216 out of 216 | elapsed:   48.7s finished\n"
     ]
    },
    {
     "name": "stdout",
     "output_type": "stream",
     "text": [
      "Thresh=0.0051177074, n=58, explained variance: 0.8345658222837685, mean abs error: 1.4934387635918425\n",
      "Fitting 2 folds for each of 108 candidates, totalling 216 fits\n"
     ]
    },
    {
     "name": "stderr",
     "output_type": "stream",
     "text": [
      "[Parallel(n_jobs=-1)]: Done  34 tasks      | elapsed:   10.0s\n",
      "[Parallel(n_jobs=-1)]: Done 184 tasks      | elapsed:   44.5s\n",
      "[Parallel(n_jobs=-1)]: Done 216 out of 216 | elapsed:   53.6s finished\n"
     ]
    },
    {
     "name": "stdout",
     "output_type": "stream",
     "text": [
      "Thresh=0.004861822, n=61, explained variance: 0.8351473608916262, mean abs error: 1.5246875316620343\n",
      "Fitting 2 folds for each of 108 candidates, totalling 216 fits\n"
     ]
    },
    {
     "name": "stderr",
     "output_type": "stream",
     "text": [
      "[Parallel(n_jobs=-1)]: Done  34 tasks      | elapsed:   12.6s\n",
      "[Parallel(n_jobs=-1)]: Done 184 tasks      | elapsed:   54.7s\n",
      "[Parallel(n_jobs=-1)]: Done 216 out of 216 | elapsed:  1.1min finished\n"
     ]
    },
    {
     "name": "stdout",
     "output_type": "stream",
     "text": [
      "Thresh=0.004861822, n=61, explained variance: 0.8351473608916262, mean abs error: 1.5246875316620343\n",
      "Fitting 2 folds for each of 108 candidates, totalling 216 fits\n"
     ]
    },
    {
     "name": "stderr",
     "output_type": "stream",
     "text": [
      "[Parallel(n_jobs=-1)]: Done  34 tasks      | elapsed:   17.7s\n",
      "[Parallel(n_jobs=-1)]: Done 184 tasks      | elapsed:   52.3s\n",
      "[Parallel(n_jobs=-1)]: Done 216 out of 216 | elapsed:  1.0min finished\n"
     ]
    },
    {
     "name": "stdout",
     "output_type": "stream",
     "text": [
      "Thresh=0.004861822, n=61, explained variance: 0.8351473608916262, mean abs error: 1.5246875316620343\n",
      "Fitting 2 folds for each of 108 candidates, totalling 216 fits\n"
     ]
    },
    {
     "name": "stderr",
     "output_type": "stream",
     "text": [
      "[Parallel(n_jobs=-1)]: Done  34 tasks      | elapsed:   10.6s\n",
      "[Parallel(n_jobs=-1)]: Done 184 tasks      | elapsed:   44.4s\n",
      "[Parallel(n_jobs=-1)]: Done 216 out of 216 | elapsed:   52.5s finished\n"
     ]
    },
    {
     "name": "stdout",
     "output_type": "stream",
     "text": [
      "Thresh=0.0046059364, n=64, explained variance: 0.8369309864421065, mean abs error: 1.4684377065036456\n",
      "Fitting 2 folds for each of 108 candidates, totalling 216 fits\n"
     ]
    },
    {
     "name": "stderr",
     "output_type": "stream",
     "text": [
      "[Parallel(n_jobs=-1)]: Done  34 tasks      | elapsed:   10.7s\n",
      "[Parallel(n_jobs=-1)]: Done 184 tasks      | elapsed:   43.8s\n",
      "[Parallel(n_jobs=-1)]: Done 216 out of 216 | elapsed:   51.7s finished\n"
     ]
    },
    {
     "name": "stdout",
     "output_type": "stream",
     "text": [
      "Thresh=0.0046059364, n=64, explained variance: 0.8369309864421065, mean abs error: 1.4684377065036456\n",
      "Fitting 2 folds for each of 108 candidates, totalling 216 fits\n"
     ]
    },
    {
     "name": "stderr",
     "output_type": "stream",
     "text": [
      "[Parallel(n_jobs=-1)]: Done  34 tasks      | elapsed:   10.5s\n",
      "[Parallel(n_jobs=-1)]: Done 184 tasks      | elapsed:   43.8s\n",
      "[Parallel(n_jobs=-1)]: Done 216 out of 216 | elapsed:   52.2s finished\n"
     ]
    },
    {
     "name": "stdout",
     "output_type": "stream",
     "text": [
      "Thresh=0.0046059364, n=64, explained variance: 0.8369309864421065, mean abs error: 1.4684377065036456\n",
      "Fitting 2 folds for each of 108 candidates, totalling 216 fits\n"
     ]
    },
    {
     "name": "stderr",
     "output_type": "stream",
     "text": [
      "[Parallel(n_jobs=-1)]: Done  34 tasks      | elapsed:   10.6s\n",
      "[Parallel(n_jobs=-1)]: Done 184 tasks      | elapsed:   44.5s\n",
      "[Parallel(n_jobs=-1)]: Done 216 out of 216 | elapsed:   52.3s finished\n"
     ]
    },
    {
     "name": "stdout",
     "output_type": "stream",
     "text": [
      "Thresh=0.0038382804, n=66, explained variance: 0.8363056689061052, mean abs error: 1.440110184985447\n",
      "Fitting 2 folds for each of 108 candidates, totalling 216 fits\n"
     ]
    },
    {
     "name": "stderr",
     "output_type": "stream",
     "text": [
      "[Parallel(n_jobs=-1)]: Done  34 tasks      | elapsed:   11.0s\n",
      "[Parallel(n_jobs=-1)]: Done 184 tasks      | elapsed:   44.9s\n",
      "[Parallel(n_jobs=-1)]: Done 216 out of 216 | elapsed:   52.5s finished\n"
     ]
    },
    {
     "name": "stdout",
     "output_type": "stream",
     "text": [
      "Thresh=0.0038382804, n=66, explained variance: 0.8363056689061052, mean abs error: 1.440110184985447\n",
      "Fitting 2 folds for each of 108 candidates, totalling 216 fits\n"
     ]
    },
    {
     "name": "stderr",
     "output_type": "stream",
     "text": [
      "[Parallel(n_jobs=-1)]: Done  34 tasks      | elapsed:   10.5s\n",
      "[Parallel(n_jobs=-1)]: Done 184 tasks      | elapsed:   46.3s\n",
      "[Parallel(n_jobs=-1)]: Done 216 out of 216 | elapsed:   54.1s finished\n"
     ]
    },
    {
     "name": "stdout",
     "output_type": "stream",
     "text": [
      "Thresh=0.0035823951, n=68, explained variance: 0.836593839835571, mean abs error: 1.479294485682532\n",
      "Fitting 2 folds for each of 108 candidates, totalling 216 fits\n"
     ]
    },
    {
     "name": "stderr",
     "output_type": "stream",
     "text": [
      "[Parallel(n_jobs=-1)]: Done  34 tasks      | elapsed:   10.6s\n",
      "[Parallel(n_jobs=-1)]: Done 184 tasks      | elapsed:   46.1s\n",
      "[Parallel(n_jobs=-1)]: Done 216 out of 216 | elapsed:   54.2s finished\n"
     ]
    },
    {
     "name": "stdout",
     "output_type": "stream",
     "text": [
      "Thresh=0.0035823951, n=68, explained variance: 0.836593839835571, mean abs error: 1.479294485682532\n",
      "Fitting 2 folds for each of 108 candidates, totalling 216 fits\n"
     ]
    },
    {
     "name": "stderr",
     "output_type": "stream",
     "text": [
      "[Parallel(n_jobs=-1)]: Done  34 tasks      | elapsed:   10.8s\n",
      "[Parallel(n_jobs=-1)]: Done 184 tasks      | elapsed:   46.8s\n",
      "[Parallel(n_jobs=-1)]: Done 216 out of 216 | elapsed:   55.1s finished\n"
     ]
    },
    {
     "name": "stdout",
     "output_type": "stream",
     "text": [
      "Thresh=0.0033265096, n=70, explained variance: 0.8368519099744007, mean abs error: 1.470264921863794\n",
      "Fitting 2 folds for each of 108 candidates, totalling 216 fits\n"
     ]
    },
    {
     "name": "stderr",
     "output_type": "stream",
     "text": [
      "[Parallel(n_jobs=-1)]: Done  34 tasks      | elapsed:   11.0s\n",
      "[Parallel(n_jobs=-1)]: Done 184 tasks      | elapsed:   46.9s\n",
      "[Parallel(n_jobs=-1)]: Done 216 out of 216 | elapsed:   55.3s finished\n"
     ]
    },
    {
     "name": "stdout",
     "output_type": "stream",
     "text": [
      "Thresh=0.0033265096, n=70, explained variance: 0.8368519099744007, mean abs error: 1.470264921863794\n",
      "Fitting 2 folds for each of 108 candidates, totalling 216 fits\n"
     ]
    },
    {
     "name": "stderr",
     "output_type": "stream",
     "text": [
      "[Parallel(n_jobs=-1)]: Done  34 tasks      | elapsed:   11.0s\n",
      "[Parallel(n_jobs=-1)]: Done 184 tasks      | elapsed:   46.6s\n",
      "[Parallel(n_jobs=-1)]: Done 216 out of 216 | elapsed:   54.8s finished\n"
     ]
    },
    {
     "name": "stdout",
     "output_type": "stream",
     "text": [
      "Thresh=0.002814739, n=71, explained variance: 0.8415940740334005, mean abs error: 1.4518956827427116\n",
      "Fitting 2 folds for each of 108 candidates, totalling 216 fits\n"
     ]
    },
    {
     "name": "stderr",
     "output_type": "stream",
     "text": [
      "[Parallel(n_jobs=-1)]: Done  34 tasks      | elapsed:   11.0s\n",
      "[Parallel(n_jobs=-1)]: Done 184 tasks      | elapsed:   46.4s\n",
      "[Parallel(n_jobs=-1)]: Done 216 out of 216 | elapsed:   54.9s finished\n"
     ]
    },
    {
     "name": "stdout",
     "output_type": "stream",
     "text": [
      "Thresh=0.0025588537, n=72, explained variance: 0.8309641322266094, mean abs error: 1.5631059455361314\n",
      "Fitting 2 folds for each of 108 candidates, totalling 216 fits\n"
     ]
    },
    {
     "name": "stderr",
     "output_type": "stream",
     "text": [
      "[Parallel(n_jobs=-1)]: Done  34 tasks      | elapsed:   11.2s\n",
      "[Parallel(n_jobs=-1)]: Done 184 tasks      | elapsed:   47.7s\n",
      "[Parallel(n_jobs=-1)]: Done 216 out of 216 | elapsed:   56.4s finished\n"
     ]
    },
    {
     "name": "stdout",
     "output_type": "stream",
     "text": [
      "Thresh=0.0015353122, n=74, explained variance: 0.8376349151258828, mean abs error: 1.4922711414439311\n",
      "Fitting 2 folds for each of 108 candidates, totalling 216 fits\n"
     ]
    },
    {
     "name": "stderr",
     "output_type": "stream",
     "text": [
      "[Parallel(n_jobs=-1)]: Done  34 tasks      | elapsed:   11.5s\n",
      "[Parallel(n_jobs=-1)]: Done 184 tasks      | elapsed:   48.4s\n",
      "[Parallel(n_jobs=-1)]: Done 216 out of 216 | elapsed:   57.0s finished\n"
     ]
    },
    {
     "name": "stdout",
     "output_type": "stream",
     "text": [
      "Thresh=0.0015353122, n=74, explained variance: 0.8376349151258828, mean abs error: 1.4922711414439311\n",
      "Fitting 2 folds for each of 108 candidates, totalling 216 fits\n"
     ]
    },
    {
     "name": "stderr",
     "output_type": "stream",
     "text": [
      "[Parallel(n_jobs=-1)]: Done  34 tasks      | elapsed:   11.2s\n",
      "[Parallel(n_jobs=-1)]: Done 184 tasks      | elapsed:   48.5s\n",
      "[Parallel(n_jobs=-1)]: Done 216 out of 216 | elapsed:   57.0s finished\n"
     ]
    },
    {
     "name": "stdout",
     "output_type": "stream",
     "text": [
      "Thresh=0.0012794269, n=76, explained variance: 0.837290651092484, mean abs error: 1.552032136346785\n",
      "Fitting 2 folds for each of 108 candidates, totalling 216 fits\n"
     ]
    },
    {
     "name": "stderr",
     "output_type": "stream",
     "text": [
      "[Parallel(n_jobs=-1)]: Done  34 tasks      | elapsed:   11.3s\n",
      "[Parallel(n_jobs=-1)]: Done 184 tasks      | elapsed:   49.1s\n",
      "[Parallel(n_jobs=-1)]: Done 216 out of 216 | elapsed:   57.4s finished\n"
     ]
    },
    {
     "name": "stdout",
     "output_type": "stream",
     "text": [
      "Thresh=0.0012794269, n=76, explained variance: 0.837290651092484, mean abs error: 1.552032136346785\n",
      "Fitting 2 folds for each of 108 candidates, totalling 216 fits\n"
     ]
    },
    {
     "name": "stderr",
     "output_type": "stream",
     "text": [
      "[Parallel(n_jobs=-1)]: Done  34 tasks      | elapsed:   11.3s\n",
      "[Parallel(n_jobs=-1)]: Done 184 tasks      | elapsed:   49.8s\n",
      "[Parallel(n_jobs=-1)]: Done 216 out of 216 | elapsed:   59.1s finished\n"
     ]
    },
    {
     "name": "stdout",
     "output_type": "stream",
     "text": [
      "Thresh=0.0010235414, n=80, explained variance: 0.8375179665981065, mean abs error: 1.5012482882458886\n",
      "Fitting 2 folds for each of 108 candidates, totalling 216 fits\n"
     ]
    },
    {
     "name": "stderr",
     "output_type": "stream",
     "text": [
      "[Parallel(n_jobs=-1)]: Done  34 tasks      | elapsed:   11.3s\n",
      "[Parallel(n_jobs=-1)]: Done 184 tasks      | elapsed:   50.3s\n",
      "[Parallel(n_jobs=-1)]: Done 216 out of 216 | elapsed:   59.7s finished\n"
     ]
    },
    {
     "name": "stdout",
     "output_type": "stream",
     "text": [
      "Thresh=0.0010235414, n=80, explained variance: 0.8375179665981065, mean abs error: 1.5012482882458886\n",
      "Fitting 2 folds for each of 108 candidates, totalling 216 fits\n"
     ]
    },
    {
     "name": "stderr",
     "output_type": "stream",
     "text": [
      "[Parallel(n_jobs=-1)]: Done  34 tasks      | elapsed:   11.7s\n",
      "[Parallel(n_jobs=-1)]: Done 184 tasks      | elapsed:   50.4s\n",
      "[Parallel(n_jobs=-1)]: Done 216 out of 216 | elapsed:   59.8s finished\n"
     ]
    },
    {
     "name": "stdout",
     "output_type": "stream",
     "text": [
      "Thresh=0.0010235414, n=80, explained variance: 0.8375179665981065, mean abs error: 1.5012482882458886\n",
      "Fitting 2 folds for each of 108 candidates, totalling 216 fits\n"
     ]
    },
    {
     "name": "stderr",
     "output_type": "stream",
     "text": [
      "[Parallel(n_jobs=-1)]: Done  34 tasks      | elapsed:   11.5s\n",
      "[Parallel(n_jobs=-1)]: Done 184 tasks      | elapsed:   49.9s\n",
      "[Parallel(n_jobs=-1)]: Done 216 out of 216 | elapsed:   59.3s finished\n"
     ]
    },
    {
     "name": "stdout",
     "output_type": "stream",
     "text": [
      "Thresh=0.0010235414, n=80, explained variance: 0.8375179665981065, mean abs error: 1.5012482882458886\n",
      "Fitting 2 folds for each of 108 candidates, totalling 216 fits\n"
     ]
    },
    {
     "name": "stderr",
     "output_type": "stream",
     "text": [
      "[Parallel(n_jobs=-1)]: Done  34 tasks      | elapsed:   11.5s\n",
      "[Parallel(n_jobs=-1)]: Done 184 tasks      | elapsed:   52.3s\n",
      "[Parallel(n_jobs=-1)]: Done 216 out of 216 | elapsed:  1.0min finished\n"
     ]
    },
    {
     "name": "stdout",
     "output_type": "stream",
     "text": [
      "Thresh=0.0007676561, n=88, explained variance: 0.8360735981211113, mean abs error: 1.5349409573085357\n",
      "Fitting 2 folds for each of 108 candidates, totalling 216 fits\n"
     ]
    },
    {
     "name": "stderr",
     "output_type": "stream",
     "text": [
      "[Parallel(n_jobs=-1)]: Done  34 tasks      | elapsed:   11.9s\n",
      "[Parallel(n_jobs=-1)]: Done 184 tasks      | elapsed:   52.7s\n",
      "[Parallel(n_jobs=-1)]: Done 216 out of 216 | elapsed:  1.0min finished\n"
     ]
    },
    {
     "name": "stdout",
     "output_type": "stream",
     "text": [
      "Thresh=0.0007676561, n=88, explained variance: 0.8360735981211113, mean abs error: 1.5349409573085357\n",
      "Fitting 2 folds for each of 108 candidates, totalling 216 fits\n"
     ]
    },
    {
     "name": "stderr",
     "output_type": "stream",
     "text": [
      "[Parallel(n_jobs=-1)]: Done  34 tasks      | elapsed:   12.1s\n",
      "[Parallel(n_jobs=-1)]: Done 184 tasks      | elapsed:   52.8s\n",
      "[Parallel(n_jobs=-1)]: Done 216 out of 216 | elapsed:  1.0min finished\n"
     ]
    },
    {
     "name": "stdout",
     "output_type": "stream",
     "text": [
      "Thresh=0.0007676561, n=88, explained variance: 0.8360735981211113, mean abs error: 1.5349409573085357\n",
      "Fitting 2 folds for each of 108 candidates, totalling 216 fits\n"
     ]
    },
    {
     "name": "stderr",
     "output_type": "stream",
     "text": [
      "[Parallel(n_jobs=-1)]: Done  34 tasks      | elapsed:   11.7s\n",
      "[Parallel(n_jobs=-1)]: Done 184 tasks      | elapsed:   51.7s\n",
      "[Parallel(n_jobs=-1)]: Done 216 out of 216 | elapsed:  1.0min finished\n"
     ]
    },
    {
     "name": "stdout",
     "output_type": "stream",
     "text": [
      "Thresh=0.0007676561, n=88, explained variance: 0.8360735981211113, mean abs error: 1.5349409573085357\n",
      "Fitting 2 folds for each of 108 candidates, totalling 216 fits\n"
     ]
    },
    {
     "name": "stderr",
     "output_type": "stream",
     "text": [
      "[Parallel(n_jobs=-1)]: Done  34 tasks      | elapsed:   11.7s\n",
      "[Parallel(n_jobs=-1)]: Done 184 tasks      | elapsed:   51.6s\n",
      "[Parallel(n_jobs=-1)]: Done 216 out of 216 | elapsed:  1.0min finished\n"
     ]
    },
    {
     "name": "stdout",
     "output_type": "stream",
     "text": [
      "Thresh=0.0007676561, n=88, explained variance: 0.8360735981211113, mean abs error: 1.5349409573085357\n",
      "Fitting 2 folds for each of 108 candidates, totalling 216 fits\n"
     ]
    },
    {
     "name": "stderr",
     "output_type": "stream",
     "text": [
      "[Parallel(n_jobs=-1)]: Done  34 tasks      | elapsed:   12.1s\n",
      "[Parallel(n_jobs=-1)]: Done 184 tasks      | elapsed:   52.2s\n",
      "[Parallel(n_jobs=-1)]: Done 216 out of 216 | elapsed:  1.0min finished\n"
     ]
    },
    {
     "name": "stdout",
     "output_type": "stream",
     "text": [
      "Thresh=0.0007676561, n=88, explained variance: 0.8360735981211113, mean abs error: 1.5349409573085357\n",
      "Fitting 2 folds for each of 108 candidates, totalling 216 fits\n"
     ]
    },
    {
     "name": "stderr",
     "output_type": "stream",
     "text": [
      "[Parallel(n_jobs=-1)]: Done  34 tasks      | elapsed:   11.6s\n",
      "[Parallel(n_jobs=-1)]: Done 184 tasks      | elapsed:   52.2s\n",
      "[Parallel(n_jobs=-1)]: Done 216 out of 216 | elapsed:  1.0min finished\n"
     ]
    },
    {
     "name": "stdout",
     "output_type": "stream",
     "text": [
      "Thresh=0.0007676561, n=88, explained variance: 0.8360735981211113, mean abs error: 1.5349409573085357\n",
      "Fitting 2 folds for each of 108 candidates, totalling 216 fits\n"
     ]
    },
    {
     "name": "stderr",
     "output_type": "stream",
     "text": [
      "[Parallel(n_jobs=-1)]: Done  34 tasks      | elapsed:   11.6s\n",
      "[Parallel(n_jobs=-1)]: Done 184 tasks      | elapsed:   52.0s\n",
      "[Parallel(n_jobs=-1)]: Done 216 out of 216 | elapsed:  1.0min finished\n"
     ]
    },
    {
     "name": "stdout",
     "output_type": "stream",
     "text": [
      "Thresh=0.0007676561, n=88, explained variance: 0.8360735981211113, mean abs error: 1.5349409573085357\n",
      "Fitting 2 folds for each of 108 candidates, totalling 216 fits\n"
     ]
    },
    {
     "name": "stderr",
     "output_type": "stream",
     "text": [
      "[Parallel(n_jobs=-1)]: Done  34 tasks      | elapsed:   12.3s\n",
      "[Parallel(n_jobs=-1)]: Done 184 tasks      | elapsed:   58.6s\n",
      "[Parallel(n_jobs=-1)]: Done 216 out of 216 | elapsed:  1.2min finished\n"
     ]
    },
    {
     "name": "stdout",
     "output_type": "stream",
     "text": [
      "Thresh=0.0005117707, n=104, explained variance: 0.8419448303332037, mean abs error: 1.4236275579971638\n",
      "Fitting 2 folds for each of 108 candidates, totalling 216 fits\n"
     ]
    },
    {
     "name": "stderr",
     "output_type": "stream",
     "text": [
      "[Parallel(n_jobs=-1)]: Done  34 tasks      | elapsed:   13.0s\n",
      "[Parallel(n_jobs=-1)]: Done 184 tasks      | elapsed:   57.2s\n",
      "[Parallel(n_jobs=-1)]: Done 216 out of 216 | elapsed:  1.1min finished\n"
     ]
    },
    {
     "name": "stdout",
     "output_type": "stream",
     "text": [
      "Thresh=0.0005117707, n=104, explained variance: 0.8419448303332037, mean abs error: 1.4236275579971638\n",
      "Fitting 2 folds for each of 108 candidates, totalling 216 fits\n"
     ]
    },
    {
     "name": "stderr",
     "output_type": "stream",
     "text": [
      "[Parallel(n_jobs=-1)]: Done  34 tasks      | elapsed:   12.1s\n",
      "[Parallel(n_jobs=-1)]: Done 184 tasks      | elapsed:   57.4s\n",
      "[Parallel(n_jobs=-1)]: Done 216 out of 216 | elapsed:  1.1min finished\n"
     ]
    },
    {
     "name": "stdout",
     "output_type": "stream",
     "text": [
      "Thresh=0.0005117707, n=104, explained variance: 0.8419448303332037, mean abs error: 1.4236275579971638\n",
      "Fitting 2 folds for each of 108 candidates, totalling 216 fits\n"
     ]
    },
    {
     "name": "stderr",
     "output_type": "stream",
     "text": [
      "[Parallel(n_jobs=-1)]: Done  34 tasks      | elapsed:   12.3s\n",
      "[Parallel(n_jobs=-1)]: Done 184 tasks      | elapsed:   57.5s\n",
      "[Parallel(n_jobs=-1)]: Done 216 out of 216 | elapsed:  1.1min finished\n"
     ]
    },
    {
     "name": "stdout",
     "output_type": "stream",
     "text": [
      "Thresh=0.0005117707, n=104, explained variance: 0.8419448303332037, mean abs error: 1.4236275579971638\n",
      "Fitting 2 folds for each of 108 candidates, totalling 216 fits\n"
     ]
    },
    {
     "name": "stderr",
     "output_type": "stream",
     "text": [
      "[Parallel(n_jobs=-1)]: Done  34 tasks      | elapsed:   12.1s\n",
      "[Parallel(n_jobs=-1)]: Done 184 tasks      | elapsed:   57.6s\n",
      "[Parallel(n_jobs=-1)]: Done 216 out of 216 | elapsed:  1.1min finished\n"
     ]
    },
    {
     "name": "stdout",
     "output_type": "stream",
     "text": [
      "Thresh=0.0005117707, n=104, explained variance: 0.8419448303332037, mean abs error: 1.4236275579971638\n",
      "Fitting 2 folds for each of 108 candidates, totalling 216 fits\n"
     ]
    },
    {
     "name": "stderr",
     "output_type": "stream",
     "text": [
      "[Parallel(n_jobs=-1)]: Done  34 tasks      | elapsed:   12.5s\n",
      "[Parallel(n_jobs=-1)]: Done 184 tasks      | elapsed:   57.7s\n",
      "[Parallel(n_jobs=-1)]: Done 216 out of 216 | elapsed:  1.1min finished\n"
     ]
    },
    {
     "name": "stdout",
     "output_type": "stream",
     "text": [
      "Thresh=0.0005117707, n=104, explained variance: 0.8419448303332037, mean abs error: 1.4236275579971638\n",
      "Fitting 2 folds for each of 108 candidates, totalling 216 fits\n"
     ]
    },
    {
     "name": "stderr",
     "output_type": "stream",
     "text": [
      "[Parallel(n_jobs=-1)]: Done  34 tasks      | elapsed:   12.1s\n",
      "[Parallel(n_jobs=-1)]: Done 184 tasks      | elapsed:   57.4s\n",
      "[Parallel(n_jobs=-1)]: Done 216 out of 216 | elapsed:  1.1min finished\n"
     ]
    },
    {
     "name": "stdout",
     "output_type": "stream",
     "text": [
      "Thresh=0.0005117707, n=104, explained variance: 0.8419448303332037, mean abs error: 1.4236275579971638\n",
      "Fitting 2 folds for each of 108 candidates, totalling 216 fits\n"
     ]
    },
    {
     "name": "stderr",
     "output_type": "stream",
     "text": [
      "[Parallel(n_jobs=-1)]: Done  34 tasks      | elapsed:   12.5s\n",
      "[Parallel(n_jobs=-1)]: Done 184 tasks      | elapsed:   57.2s\n",
      "[Parallel(n_jobs=-1)]: Done 216 out of 216 | elapsed:  1.1min finished\n"
     ]
    },
    {
     "name": "stdout",
     "output_type": "stream",
     "text": [
      "Thresh=0.0005117707, n=104, explained variance: 0.8419448303332037, mean abs error: 1.4236275579971638\n",
      "Fitting 2 folds for each of 108 candidates, totalling 216 fits\n"
     ]
    },
    {
     "name": "stderr",
     "output_type": "stream",
     "text": [
      "[Parallel(n_jobs=-1)]: Done  34 tasks      | elapsed:   12.5s\n",
      "[Parallel(n_jobs=-1)]: Done 184 tasks      | elapsed:   57.6s\n",
      "[Parallel(n_jobs=-1)]: Done 216 out of 216 | elapsed:  1.1min finished\n"
     ]
    },
    {
     "name": "stdout",
     "output_type": "stream",
     "text": [
      "Thresh=0.0005117707, n=104, explained variance: 0.8419448303332037, mean abs error: 1.4236275579971638\n",
      "Fitting 2 folds for each of 108 candidates, totalling 216 fits\n"
     ]
    },
    {
     "name": "stderr",
     "output_type": "stream",
     "text": [
      "[Parallel(n_jobs=-1)]: Done  34 tasks      | elapsed:   12.8s\n",
      "[Parallel(n_jobs=-1)]: Done 184 tasks      | elapsed:   57.3s\n",
      "[Parallel(n_jobs=-1)]: Done 216 out of 216 | elapsed:  1.1min finished\n"
     ]
    },
    {
     "name": "stdout",
     "output_type": "stream",
     "text": [
      "Thresh=0.0005117707, n=104, explained variance: 0.8419448303332037, mean abs error: 1.4236275579971638\n",
      "Fitting 2 folds for each of 108 candidates, totalling 216 fits\n"
     ]
    },
    {
     "name": "stderr",
     "output_type": "stream",
     "text": [
      "[Parallel(n_jobs=-1)]: Done  34 tasks      | elapsed:   12.5s\n",
      "[Parallel(n_jobs=-1)]: Done 184 tasks      | elapsed:   56.4s\n",
      "[Parallel(n_jobs=-1)]: Done 216 out of 216 | elapsed:  1.1min finished\n"
     ]
    },
    {
     "name": "stdout",
     "output_type": "stream",
     "text": [
      "Thresh=0.0005117707, n=104, explained variance: 0.8419448303332037, mean abs error: 1.4236275579971638\n",
      "Fitting 2 folds for each of 108 candidates, totalling 216 fits\n"
     ]
    },
    {
     "name": "stderr",
     "output_type": "stream",
     "text": [
      "[Parallel(n_jobs=-1)]: Done  34 tasks      | elapsed:   12.9s\n",
      "[Parallel(n_jobs=-1)]: Done 184 tasks      | elapsed:   57.5s\n",
      "[Parallel(n_jobs=-1)]: Done 216 out of 216 | elapsed:  1.1min finished\n"
     ]
    },
    {
     "name": "stdout",
     "output_type": "stream",
     "text": [
      "Thresh=0.0005117707, n=104, explained variance: 0.8419448303332037, mean abs error: 1.4236275579971638\n"
     ]
    }
   ],
   "source": [
    "week1_nfeature_gridsearch = nfeature_gridsearch(X, y1, '2017-09-25', week1_xgb, nfeature_param_grid, categorical_cols)"
   ]
  },
  {
   "cell_type": "code",
   "execution_count": 50,
   "metadata": {},
   "outputs": [
    {
     "name": "stdout",
     "output_type": "stream",
     "text": [
      "Fitting 2 folds for each of 108 candidates, totalling 216 fits\n"
     ]
    },
    {
     "name": "stderr",
     "output_type": "stream",
     "text": [
      "[Parallel(n_jobs=-1)]: Done  34 tasks      | elapsed:    5.9s\n",
      "[Parallel(n_jobs=-1)]: Done 184 tasks      | elapsed:   13.7s\n",
      "[Parallel(n_jobs=-1)]: Done 216 out of 216 | elapsed:   15.5s finished\n"
     ]
    },
    {
     "name": "stdout",
     "output_type": "stream",
     "text": [
      "Thresh=0.14470842, n=1, explained variance: 0.8094797633990592, mean abs error: 3.211365934950691\n",
      "Fitting 2 folds for each of 108 candidates, totalling 216 fits\n"
     ]
    },
    {
     "name": "stderr",
     "output_type": "stream",
     "text": [
      "[Parallel(n_jobs=-1)]: Done  34 tasks      | elapsed:    6.0s\n",
      "[Parallel(n_jobs=-1)]: Done 184 tasks      | elapsed:   13.8s\n",
      "[Parallel(n_jobs=-1)]: Done 216 out of 216 | elapsed:   15.6s finished\n"
     ]
    },
    {
     "name": "stdout",
     "output_type": "stream",
     "text": [
      "Thresh=0.09719223, n=2, explained variance: 0.8168454050906664, mean abs error: 3.2561631977784846\n",
      "Fitting 2 folds for each of 108 candidates, totalling 216 fits\n"
     ]
    },
    {
     "name": "stderr",
     "output_type": "stream",
     "text": [
      "[Parallel(n_jobs=-1)]: Done  34 tasks      | elapsed:    6.2s\n",
      "[Parallel(n_jobs=-1)]: Done 184 tasks      | elapsed:   14.1s\n",
      "[Parallel(n_jobs=-1)]: Done 216 out of 216 | elapsed:   16.2s finished\n"
     ]
    },
    {
     "name": "stdout",
     "output_type": "stream",
     "text": [
      "Thresh=0.05701944, n=3, explained variance: 0.7972847831658642, mean abs error: 3.447965769261271\n",
      "Fitting 2 folds for each of 108 candidates, totalling 216 fits\n"
     ]
    },
    {
     "name": "stderr",
     "output_type": "stream",
     "text": [
      "[Parallel(n_jobs=-1)]: Done  34 tasks      | elapsed:    6.3s\n",
      "[Parallel(n_jobs=-1)]: Done 184 tasks      | elapsed:   16.2s\n",
      "[Parallel(n_jobs=-1)]: Done 216 out of 216 | elapsed:   18.2s finished\n"
     ]
    },
    {
     "name": "stdout",
     "output_type": "stream",
     "text": [
      "Thresh=0.044060476, n=4, explained variance: 0.7545440508399668, mean abs error: 3.882514488956192\n",
      "Fitting 2 folds for each of 108 candidates, totalling 216 fits\n"
     ]
    },
    {
     "name": "stderr",
     "output_type": "stream",
     "text": [
      "[Parallel(n_jobs=-1)]: Done  34 tasks      | elapsed:    6.7s\n",
      "[Parallel(n_jobs=-1)]: Done 184 tasks      | elapsed:   17.7s\n",
      "[Parallel(n_jobs=-1)]: Done 216 out of 216 | elapsed:   19.8s finished\n"
     ]
    },
    {
     "name": "stdout",
     "output_type": "stream",
     "text": [
      "Thresh=0.032397408, n=5, explained variance: 0.7913017703429518, mean abs error: 3.495780286953873\n",
      "Fitting 2 folds for each of 108 candidates, totalling 216 fits\n"
     ]
    },
    {
     "name": "stderr",
     "output_type": "stream",
     "text": [
      "[Parallel(n_jobs=-1)]: Done  34 tasks      | elapsed:    6.5s\n",
      "[Parallel(n_jobs=-1)]: Done 184 tasks      | elapsed:   18.0s\n",
      "[Parallel(n_jobs=-1)]: Done 216 out of 216 | elapsed:   20.6s finished\n"
     ]
    },
    {
     "name": "stdout",
     "output_type": "stream",
     "text": [
      "Thresh=0.031533476, n=7, explained variance: 0.842461183939027, mean abs error: 2.8452503380697793\n",
      "Fitting 2 folds for each of 108 candidates, totalling 216 fits\n"
     ]
    },
    {
     "name": "stderr",
     "output_type": "stream",
     "text": [
      "[Parallel(n_jobs=-1)]: Done  34 tasks      | elapsed:    6.7s\n",
      "[Parallel(n_jobs=-1)]: Done 184 tasks      | elapsed:   18.2s\n",
      "[Parallel(n_jobs=-1)]: Done 216 out of 216 | elapsed:   20.6s finished\n"
     ]
    },
    {
     "name": "stdout",
     "output_type": "stream",
     "text": [
      "Thresh=0.031533476, n=7, explained variance: 0.842461183939027, mean abs error: 2.8452503380697793\n",
      "Fitting 2 folds for each of 108 candidates, totalling 216 fits\n"
     ]
    },
    {
     "name": "stderr",
     "output_type": "stream",
     "text": [
      "[Parallel(n_jobs=-1)]: Done  34 tasks      | elapsed:    7.0s\n",
      "[Parallel(n_jobs=-1)]: Done 184 tasks      | elapsed:   19.0s\n",
      "[Parallel(n_jobs=-1)]: Done 216 out of 216 | elapsed:   21.7s finished\n"
     ]
    },
    {
     "name": "stdout",
     "output_type": "stream",
     "text": [
      "Thresh=0.02764579, n=8, explained variance: 0.8057249110199877, mean abs error: 3.197857742792375\n",
      "Fitting 2 folds for each of 108 candidates, totalling 216 fits\n"
     ]
    },
    {
     "name": "stderr",
     "output_type": "stream",
     "text": [
      "[Parallel(n_jobs=-1)]: Done  34 tasks      | elapsed:    6.8s\n",
      "[Parallel(n_jobs=-1)]: Done 184 tasks      | elapsed:   19.1s\n",
      "[Parallel(n_jobs=-1)]: Done 216 out of 216 | elapsed:   22.2s finished\n"
     ]
    },
    {
     "name": "stdout",
     "output_type": "stream",
     "text": [
      "Thresh=0.024190065, n=9, explained variance: 0.8279662455149317, mean abs error: 3.040594108874967\n",
      "Fitting 2 folds for each of 108 candidates, totalling 216 fits\n"
     ]
    },
    {
     "name": "stderr",
     "output_type": "stream",
     "text": [
      "[Parallel(n_jobs=-1)]: Done  34 tasks      | elapsed:    6.8s\n",
      "[Parallel(n_jobs=-1)]: Done 184 tasks      | elapsed:   19.8s\n",
      "[Parallel(n_jobs=-1)]: Done 216 out of 216 | elapsed:   23.2s finished\n"
     ]
    },
    {
     "name": "stdout",
     "output_type": "stream",
     "text": [
      "Thresh=0.019438446, n=10, explained variance: 0.8311046291863468, mean abs error: 3.00072744432788\n",
      "Fitting 2 folds for each of 108 candidates, totalling 216 fits\n"
     ]
    },
    {
     "name": "stderr",
     "output_type": "stream",
     "text": [
      "[Parallel(n_jobs=-1)]: Done  34 tasks      | elapsed:    6.9s\n",
      "[Parallel(n_jobs=-1)]: Done 184 tasks      | elapsed:   20.5s\n",
      "[Parallel(n_jobs=-1)]: Done 216 out of 216 | elapsed:   23.5s finished\n"
     ]
    },
    {
     "name": "stdout",
     "output_type": "stream",
     "text": [
      "Thresh=0.01900648, n=11, explained variance: 0.8264476300857939, mean abs error: 3.0286475541381632\n",
      "Fitting 2 folds for each of 108 candidates, totalling 216 fits\n"
     ]
    },
    {
     "name": "stderr",
     "output_type": "stream",
     "text": [
      "[Parallel(n_jobs=-1)]: Done  34 tasks      | elapsed:    7.0s\n",
      "[Parallel(n_jobs=-1)]: Done 184 tasks      | elapsed:   21.1s\n",
      "[Parallel(n_jobs=-1)]: Done 216 out of 216 | elapsed:   24.1s finished\n"
     ]
    },
    {
     "name": "stdout",
     "output_type": "stream",
     "text": [
      "Thresh=0.018574513, n=12, explained variance: 0.8187127537679351, mean abs error: 3.1512062273985775\n",
      "Fitting 2 folds for each of 108 candidates, totalling 216 fits\n"
     ]
    },
    {
     "name": "stderr",
     "output_type": "stream",
     "text": [
      "[Parallel(n_jobs=-1)]: Done  34 tasks      | elapsed:    7.2s\n",
      "[Parallel(n_jobs=-1)]: Done 184 tasks      | elapsed:   21.8s\n",
      "[Parallel(n_jobs=-1)]: Done 216 out of 216 | elapsed:   24.8s finished\n"
     ]
    },
    {
     "name": "stdout",
     "output_type": "stream",
     "text": [
      "Thresh=0.017710583, n=13, explained variance: 0.8174028649461638, mean abs error: 3.1161046089011717\n",
      "Fitting 2 folds for each of 108 candidates, totalling 216 fits\n"
     ]
    },
    {
     "name": "stderr",
     "output_type": "stream",
     "text": [
      "[Parallel(n_jobs=-1)]: Done  34 tasks      | elapsed:    7.0s\n",
      "[Parallel(n_jobs=-1)]: Done 184 tasks      | elapsed:   22.3s\n",
      "[Parallel(n_jobs=-1)]: Done 216 out of 216 | elapsed:   25.6s finished\n"
     ]
    },
    {
     "name": "stdout",
     "output_type": "stream",
     "text": [
      "Thresh=0.016846653, n=15, explained variance: 0.8167002177571473, mean abs error: 3.0434382708484105\n",
      "Fitting 2 folds for each of 108 candidates, totalling 216 fits\n"
     ]
    },
    {
     "name": "stderr",
     "output_type": "stream",
     "text": [
      "[Parallel(n_jobs=-1)]: Done  34 tasks      | elapsed:    7.5s\n",
      "[Parallel(n_jobs=-1)]: Done 184 tasks      | elapsed:   22.9s\n",
      "[Parallel(n_jobs=-1)]: Done 216 out of 216 | elapsed:   26.0s finished\n"
     ]
    },
    {
     "name": "stdout",
     "output_type": "stream",
     "text": [
      "Thresh=0.016846653, n=15, explained variance: 0.8167002177571473, mean abs error: 3.0434382708484105\n",
      "Fitting 2 folds for each of 108 candidates, totalling 216 fits\n"
     ]
    },
    {
     "name": "stderr",
     "output_type": "stream",
     "text": [
      "[Parallel(n_jobs=-1)]: Done  34 tasks      | elapsed:    7.6s\n",
      "[Parallel(n_jobs=-1)]: Done 184 tasks      | elapsed:   23.1s\n",
      "[Parallel(n_jobs=-1)]: Done 216 out of 216 | elapsed:   26.9s finished\n"
     ]
    },
    {
     "name": "stdout",
     "output_type": "stream",
     "text": [
      "Thresh=0.016414687, n=16, explained variance: 0.8145298012279221, mean abs error: 3.048862660871675\n",
      "Fitting 2 folds for each of 108 candidates, totalling 216 fits\n"
     ]
    },
    {
     "name": "stderr",
     "output_type": "stream",
     "text": [
      "[Parallel(n_jobs=-1)]: Done  34 tasks      | elapsed:    7.7s\n",
      "[Parallel(n_jobs=-1)]: Done 184 tasks      | elapsed:   23.8s\n",
      "[Parallel(n_jobs=-1)]: Done 216 out of 216 | elapsed:   27.1s finished\n"
     ]
    },
    {
     "name": "stdout",
     "output_type": "stream",
     "text": [
      "Thresh=0.015550756, n=17, explained variance: 0.8185360425702075, mean abs error: 2.9795178717946174\n",
      "Fitting 2 folds for each of 108 candidates, totalling 216 fits\n"
     ]
    },
    {
     "name": "stderr",
     "output_type": "stream",
     "text": [
      "[Parallel(n_jobs=-1)]: Done  34 tasks      | elapsed:    7.8s\n",
      "[Parallel(n_jobs=-1)]: Done 184 tasks      | elapsed:   24.0s\n",
      "[Parallel(n_jobs=-1)]: Done 216 out of 216 | elapsed:   27.6s finished\n"
     ]
    },
    {
     "name": "stdout",
     "output_type": "stream",
     "text": [
      "Thresh=0.015118791, n=18, explained variance: 0.8136164748806091, mean abs error: 3.225828521646465\n",
      "Fitting 2 folds for each of 108 candidates, totalling 216 fits\n"
     ]
    },
    {
     "name": "stderr",
     "output_type": "stream",
     "text": [
      "[Parallel(n_jobs=-1)]: Done  34 tasks      | elapsed:    7.5s\n",
      "[Parallel(n_jobs=-1)]: Done 184 tasks      | elapsed:   24.8s\n",
      "[Parallel(n_jobs=-1)]: Done 216 out of 216 | elapsed:   28.5s finished\n"
     ]
    },
    {
     "name": "stdout",
     "output_type": "stream",
     "text": [
      "Thresh=0.014686825, n=21, explained variance: 0.808399264207986, mean abs error: 3.441676169825327\n",
      "Fitting 2 folds for each of 108 candidates, totalling 216 fits\n"
     ]
    },
    {
     "name": "stderr",
     "output_type": "stream",
     "text": [
      "[Parallel(n_jobs=-1)]: Done  34 tasks      | elapsed:    7.6s\n",
      "[Parallel(n_jobs=-1)]: Done 184 tasks      | elapsed:   24.5s\n",
      "[Parallel(n_jobs=-1)]: Done 216 out of 216 | elapsed:   28.6s finished\n"
     ]
    },
    {
     "name": "stdout",
     "output_type": "stream",
     "text": [
      "Thresh=0.014686825, n=21, explained variance: 0.808399264207986, mean abs error: 3.441676169825327\n",
      "Fitting 2 folds for each of 108 candidates, totalling 216 fits\n"
     ]
    },
    {
     "name": "stderr",
     "output_type": "stream",
     "text": [
      "[Parallel(n_jobs=-1)]: Done  34 tasks      | elapsed:    7.8s\n",
      "[Parallel(n_jobs=-1)]: Done 184 tasks      | elapsed:   25.4s\n",
      "[Parallel(n_jobs=-1)]: Done 216 out of 216 | elapsed:   29.1s finished\n"
     ]
    },
    {
     "name": "stdout",
     "output_type": "stream",
     "text": [
      "Thresh=0.014686825, n=21, explained variance: 0.808399264207986, mean abs error: 3.441676169825327\n",
      "Fitting 2 folds for each of 108 candidates, totalling 216 fits\n"
     ]
    },
    {
     "name": "stderr",
     "output_type": "stream",
     "text": [
      "[Parallel(n_jobs=-1)]: Done  34 tasks      | elapsed:    8.0s\n",
      "[Parallel(n_jobs=-1)]: Done 184 tasks      | elapsed:   26.3s\n",
      "[Parallel(n_jobs=-1)]: Done 216 out of 216 | elapsed:   30.8s finished\n"
     ]
    },
    {
     "name": "stdout",
     "output_type": "stream",
     "text": [
      "Thresh=0.012958963, n=23, explained variance: 0.8129144598543994, mean abs error: 3.2250632353403232\n",
      "Fitting 2 folds for each of 108 candidates, totalling 216 fits\n"
     ]
    },
    {
     "name": "stderr",
     "output_type": "stream",
     "text": [
      "[Parallel(n_jobs=-1)]: Done  34 tasks      | elapsed:    7.9s\n",
      "[Parallel(n_jobs=-1)]: Done 184 tasks      | elapsed:   26.1s\n",
      "[Parallel(n_jobs=-1)]: Done 216 out of 216 | elapsed:   30.6s finished\n"
     ]
    },
    {
     "name": "stdout",
     "output_type": "stream",
     "text": [
      "Thresh=0.012958963, n=23, explained variance: 0.8129144598543994, mean abs error: 3.2250632353403232\n",
      "Fitting 2 folds for each of 108 candidates, totalling 216 fits\n"
     ]
    },
    {
     "name": "stderr",
     "output_type": "stream",
     "text": [
      "[Parallel(n_jobs=-1)]: Done  34 tasks      | elapsed:    7.7s\n",
      "[Parallel(n_jobs=-1)]: Done 184 tasks      | elapsed:   26.3s\n",
      "[Parallel(n_jobs=-1)]: Done 216 out of 216 | elapsed:   30.9s finished\n"
     ]
    },
    {
     "name": "stdout",
     "output_type": "stream",
     "text": [
      "Thresh=0.010367171, n=25, explained variance: 0.7951804861179115, mean abs error: 3.5248381412135004\n",
      "Fitting 2 folds for each of 108 candidates, totalling 216 fits\n"
     ]
    },
    {
     "name": "stderr",
     "output_type": "stream",
     "text": [
      "[Parallel(n_jobs=-1)]: Done  34 tasks      | elapsed:    7.6s\n",
      "[Parallel(n_jobs=-1)]: Done 184 tasks      | elapsed:   26.3s\n",
      "[Parallel(n_jobs=-1)]: Done 216 out of 216 | elapsed:   30.8s finished\n"
     ]
    },
    {
     "name": "stdout",
     "output_type": "stream",
     "text": [
      "Thresh=0.010367171, n=25, explained variance: 0.7951804861179115, mean abs error: 3.5248381412135004\n",
      "Fitting 2 folds for each of 108 candidates, totalling 216 fits\n"
     ]
    },
    {
     "name": "stderr",
     "output_type": "stream",
     "text": [
      "[Parallel(n_jobs=-1)]: Done  34 tasks      | elapsed:    8.0s\n",
      "[Parallel(n_jobs=-1)]: Done 184 tasks      | elapsed:   26.5s\n",
      "[Parallel(n_jobs=-1)]: Done 216 out of 216 | elapsed:   31.0s finished\n"
     ]
    },
    {
     "name": "stdout",
     "output_type": "stream",
     "text": [
      "Thresh=0.009935205, n=26, explained variance: 0.8125989788344952, mean abs error: 3.285301692884547\n",
      "Fitting 2 folds for each of 108 candidates, totalling 216 fits\n"
     ]
    },
    {
     "name": "stderr",
     "output_type": "stream",
     "text": [
      "[Parallel(n_jobs=-1)]: Done  34 tasks      | elapsed:    7.8s\n",
      "[Parallel(n_jobs=-1)]: Done 184 tasks      | elapsed:   28.0s\n",
      "[Parallel(n_jobs=-1)]: Done 216 out of 216 | elapsed:   32.6s finished\n"
     ]
    },
    {
     "name": "stdout",
     "output_type": "stream",
     "text": [
      "Thresh=0.00950324, n=28, explained variance: 0.8116057739236645, mean abs error: 3.3403865543910265\n",
      "Fitting 2 folds for each of 108 candidates, totalling 216 fits\n"
     ]
    },
    {
     "name": "stderr",
     "output_type": "stream",
     "text": [
      "[Parallel(n_jobs=-1)]: Done  34 tasks      | elapsed:    8.3s\n",
      "[Parallel(n_jobs=-1)]: Done 184 tasks      | elapsed:   28.4s\n",
      "[Parallel(n_jobs=-1)]: Done 216 out of 216 | elapsed:   32.8s finished\n"
     ]
    },
    {
     "name": "stdout",
     "output_type": "stream",
     "text": [
      "Thresh=0.00950324, n=28, explained variance: 0.8116057739236645, mean abs error: 3.3403865543910265\n",
      "Fitting 2 folds for each of 108 candidates, totalling 216 fits\n"
     ]
    },
    {
     "name": "stderr",
     "output_type": "stream",
     "text": [
      "[Parallel(n_jobs=-1)]: Done  34 tasks      | elapsed:    8.2s\n",
      "[Parallel(n_jobs=-1)]: Done 184 tasks      | elapsed:   28.3s\n",
      "[Parallel(n_jobs=-1)]: Done 216 out of 216 | elapsed:   32.6s finished\n"
     ]
    },
    {
     "name": "stdout",
     "output_type": "stream",
     "text": [
      "Thresh=0.009071275, n=29, explained variance: 0.8135810019535609, mean abs error: 3.297242402185128\n",
      "Fitting 2 folds for each of 108 candidates, totalling 216 fits\n"
     ]
    },
    {
     "name": "stderr",
     "output_type": "stream",
     "text": [
      "[Parallel(n_jobs=-1)]: Done  34 tasks      | elapsed:    8.6s\n",
      "[Parallel(n_jobs=-1)]: Done 184 tasks      | elapsed:   28.9s\n",
      "[Parallel(n_jobs=-1)]: Done 216 out of 216 | elapsed:   33.4s finished\n"
     ]
    },
    {
     "name": "stdout",
     "output_type": "stream",
     "text": [
      "Thresh=0.008639309, n=30, explained variance: 0.8156815146897065, mean abs error: 3.1587593925978843\n",
      "Fitting 2 folds for each of 108 candidates, totalling 216 fits\n"
     ]
    },
    {
     "name": "stderr",
     "output_type": "stream",
     "text": [
      "[Parallel(n_jobs=-1)]: Done  34 tasks      | elapsed:    8.4s\n",
      "[Parallel(n_jobs=-1)]: Done 184 tasks      | elapsed:   30.0s\n",
      "[Parallel(n_jobs=-1)]: Done 216 out of 216 | elapsed:   34.7s finished\n"
     ]
    },
    {
     "name": "stdout",
     "output_type": "stream",
     "text": [
      "Thresh=0.0082073435, n=32, explained variance: 0.8074642922497327, mean abs error: 3.3940197811040216\n",
      "Fitting 2 folds for each of 108 candidates, totalling 216 fits\n"
     ]
    },
    {
     "name": "stderr",
     "output_type": "stream",
     "text": [
      "[Parallel(n_jobs=-1)]: Done  34 tasks      | elapsed:    8.3s\n",
      "[Parallel(n_jobs=-1)]: Done 184 tasks      | elapsed:   29.4s\n",
      "[Parallel(n_jobs=-1)]: Done 216 out of 216 | elapsed:   34.2s finished\n"
     ]
    },
    {
     "name": "stdout",
     "output_type": "stream",
     "text": [
      "Thresh=0.0082073435, n=32, explained variance: 0.8074642922497327, mean abs error: 3.3940197811040216\n",
      "Fitting 2 folds for each of 108 candidates, totalling 216 fits\n"
     ]
    },
    {
     "name": "stderr",
     "output_type": "stream",
     "text": [
      "[Parallel(n_jobs=-1)]: Done  34 tasks      | elapsed:    8.4s\n",
      "[Parallel(n_jobs=-1)]: Done 184 tasks      | elapsed:   30.6s\n",
      "[Parallel(n_jobs=-1)]: Done 216 out of 216 | elapsed:   35.8s finished\n"
     ]
    },
    {
     "name": "stdout",
     "output_type": "stream",
     "text": [
      "Thresh=0.007775378, n=34, explained variance: 0.8008206839313463, mean abs error: 3.551637231592429\n",
      "Fitting 2 folds for each of 108 candidates, totalling 216 fits\n"
     ]
    },
    {
     "name": "stderr",
     "output_type": "stream",
     "text": [
      "[Parallel(n_jobs=-1)]: Done  34 tasks      | elapsed:    8.5s\n",
      "[Parallel(n_jobs=-1)]: Done 184 tasks      | elapsed:   31.4s\n",
      "[Parallel(n_jobs=-1)]: Done 216 out of 216 | elapsed:   36.0s finished\n"
     ]
    },
    {
     "name": "stdout",
     "output_type": "stream",
     "text": [
      "Thresh=0.007775378, n=34, explained variance: 0.8008206839313463, mean abs error: 3.551637231592429\n",
      "Fitting 2 folds for each of 108 candidates, totalling 216 fits\n"
     ]
    },
    {
     "name": "stderr",
     "output_type": "stream",
     "text": [
      "[Parallel(n_jobs=-1)]: Done  34 tasks      | elapsed:    8.6s\n",
      "[Parallel(n_jobs=-1)]: Done 184 tasks      | elapsed:   31.1s\n",
      "[Parallel(n_jobs=-1)]: Done 216 out of 216 | elapsed:   36.7s finished\n"
     ]
    },
    {
     "name": "stdout",
     "output_type": "stream",
     "text": [
      "Thresh=0.0073434124, n=36, explained variance: 0.8078592284124748, mean abs error: 3.426968271458088\n",
      "Fitting 2 folds for each of 108 candidates, totalling 216 fits\n"
     ]
    },
    {
     "name": "stderr",
     "output_type": "stream",
     "text": [
      "[Parallel(n_jobs=-1)]: Done  34 tasks      | elapsed:    8.7s\n",
      "[Parallel(n_jobs=-1)]: Done 184 tasks      | elapsed:   31.4s\n",
      "[Parallel(n_jobs=-1)]: Done 216 out of 216 | elapsed:   36.4s finished\n"
     ]
    },
    {
     "name": "stdout",
     "output_type": "stream",
     "text": [
      "Thresh=0.0073434124, n=36, explained variance: 0.8078592284124748, mean abs error: 3.426968271458088\n",
      "Fitting 2 folds for each of 108 candidates, totalling 216 fits\n"
     ]
    },
    {
     "name": "stderr",
     "output_type": "stream",
     "text": [
      "[Parallel(n_jobs=-1)]: Done  34 tasks      | elapsed:    8.7s\n",
      "[Parallel(n_jobs=-1)]: Done 184 tasks      | elapsed:   32.0s\n",
      "[Parallel(n_jobs=-1)]: Done 216 out of 216 | elapsed:   37.9s finished\n"
     ]
    },
    {
     "name": "stdout",
     "output_type": "stream",
     "text": [
      "Thresh=0.0069114473, n=39, explained variance: 0.8055682617766173, mean abs error: 3.377027740663517\n",
      "Fitting 2 folds for each of 108 candidates, totalling 216 fits\n"
     ]
    },
    {
     "name": "stderr",
     "output_type": "stream",
     "text": [
      "[Parallel(n_jobs=-1)]: Done  34 tasks      | elapsed:    9.2s\n",
      "[Parallel(n_jobs=-1)]: Done 184 tasks      | elapsed:   32.6s\n",
      "[Parallel(n_jobs=-1)]: Done 216 out of 216 | elapsed:   38.4s finished\n"
     ]
    },
    {
     "name": "stdout",
     "output_type": "stream",
     "text": [
      "Thresh=0.0069114473, n=39, explained variance: 0.8055682617766173, mean abs error: 3.377027740663517\n",
      "Fitting 2 folds for each of 108 candidates, totalling 216 fits\n"
     ]
    },
    {
     "name": "stderr",
     "output_type": "stream",
     "text": [
      "[Parallel(n_jobs=-1)]: Done  34 tasks      | elapsed:    8.9s\n",
      "[Parallel(n_jobs=-1)]: Done 184 tasks      | elapsed:   32.3s\n",
      "[Parallel(n_jobs=-1)]: Done 216 out of 216 | elapsed:   37.8s finished\n"
     ]
    },
    {
     "name": "stdout",
     "output_type": "stream",
     "text": [
      "Thresh=0.0069114473, n=39, explained variance: 0.8055682617766173, mean abs error: 3.377027740663517\n",
      "Fitting 2 folds for each of 108 candidates, totalling 216 fits\n"
     ]
    },
    {
     "name": "stderr",
     "output_type": "stream",
     "text": [
      "[Parallel(n_jobs=-1)]: Done  34 tasks      | elapsed:    9.4s\n",
      "[Parallel(n_jobs=-1)]: Done 184 tasks      | elapsed:   33.2s\n",
      "[Parallel(n_jobs=-1)]: Done 216 out of 216 | elapsed:   38.9s finished\n"
     ]
    },
    {
     "name": "stdout",
     "output_type": "stream",
     "text": [
      "Thresh=0.0064794817, n=40, explained variance: 0.8025380331442514, mean abs error: 3.5920854262793265\n",
      "Fitting 2 folds for each of 108 candidates, totalling 216 fits\n"
     ]
    },
    {
     "name": "stderr",
     "output_type": "stream",
     "text": [
      "[Parallel(n_jobs=-1)]: Done  34 tasks      | elapsed:    9.4s\n",
      "[Parallel(n_jobs=-1)]: Done 184 tasks      | elapsed:   34.1s\n",
      "[Parallel(n_jobs=-1)]: Done 216 out of 216 | elapsed:   39.4s finished\n"
     ]
    },
    {
     "name": "stdout",
     "output_type": "stream",
     "text": [
      "Thresh=0.006047516, n=42, explained variance: 0.8053391911009948, mean abs error: 3.5023531850157683\n",
      "Fitting 2 folds for each of 108 candidates, totalling 216 fits\n"
     ]
    },
    {
     "name": "stderr",
     "output_type": "stream",
     "text": [
      "[Parallel(n_jobs=-1)]: Done  34 tasks      | elapsed:    9.5s\n",
      "[Parallel(n_jobs=-1)]: Done 184 tasks      | elapsed:   34.7s\n",
      "[Parallel(n_jobs=-1)]: Done 216 out of 216 | elapsed:   40.2s finished\n"
     ]
    },
    {
     "name": "stdout",
     "output_type": "stream",
     "text": [
      "Thresh=0.006047516, n=42, explained variance: 0.8053391911009948, mean abs error: 3.5023531850157683\n",
      "Fitting 2 folds for each of 108 candidates, totalling 216 fits\n"
     ]
    },
    {
     "name": "stderr",
     "output_type": "stream",
     "text": [
      "[Parallel(n_jobs=-1)]: Done  34 tasks      | elapsed:    9.4s\n",
      "[Parallel(n_jobs=-1)]: Done 184 tasks      | elapsed:   35.3s\n",
      "[Parallel(n_jobs=-1)]: Done 216 out of 216 | elapsed:   41.1s finished\n"
     ]
    },
    {
     "name": "stdout",
     "output_type": "stream",
     "text": [
      "Thresh=0.0056155506, n=46, explained variance: 0.8099666874547519, mean abs error: 3.3485620319040477\n",
      "Fitting 2 folds for each of 108 candidates, totalling 216 fits\n"
     ]
    },
    {
     "name": "stderr",
     "output_type": "stream",
     "text": [
      "[Parallel(n_jobs=-1)]: Done  34 tasks      | elapsed:    9.4s\n",
      "[Parallel(n_jobs=-1)]: Done 184 tasks      | elapsed:   35.1s\n",
      "[Parallel(n_jobs=-1)]: Done 216 out of 216 | elapsed:   41.3s finished\n"
     ]
    },
    {
     "name": "stdout",
     "output_type": "stream",
     "text": [
      "Thresh=0.0056155506, n=46, explained variance: 0.8099666874547519, mean abs error: 3.3485620319040477\n",
      "Fitting 2 folds for each of 108 candidates, totalling 216 fits\n"
     ]
    },
    {
     "name": "stderr",
     "output_type": "stream",
     "text": [
      "[Parallel(n_jobs=-1)]: Done  34 tasks      | elapsed:    9.1s\n",
      "[Parallel(n_jobs=-1)]: Done 184 tasks      | elapsed:   34.6s\n",
      "[Parallel(n_jobs=-1)]: Done 216 out of 216 | elapsed:   40.7s finished\n"
     ]
    },
    {
     "name": "stdout",
     "output_type": "stream",
     "text": [
      "Thresh=0.0056155506, n=46, explained variance: 0.8099666874547519, mean abs error: 3.3485620319040477\n",
      "Fitting 2 folds for each of 108 candidates, totalling 216 fits\n"
     ]
    },
    {
     "name": "stderr",
     "output_type": "stream",
     "text": [
      "[Parallel(n_jobs=-1)]: Done  34 tasks      | elapsed:    9.6s\n",
      "[Parallel(n_jobs=-1)]: Done 184 tasks      | elapsed:   35.6s\n",
      "[Parallel(n_jobs=-1)]: Done 216 out of 216 | elapsed:   41.7s finished\n"
     ]
    },
    {
     "name": "stdout",
     "output_type": "stream",
     "text": [
      "Thresh=0.0056155506, n=46, explained variance: 0.8099666874547519, mean abs error: 3.3485620319040477\n",
      "Fitting 2 folds for each of 108 candidates, totalling 216 fits\n"
     ]
    },
    {
     "name": "stderr",
     "output_type": "stream",
     "text": [
      "[Parallel(n_jobs=-1)]: Done  34 tasks      | elapsed:    9.6s\n",
      "[Parallel(n_jobs=-1)]: Done 184 tasks      | elapsed:   37.7s\n",
      "[Parallel(n_jobs=-1)]: Done 216 out of 216 | elapsed:   44.0s finished\n"
     ]
    },
    {
     "name": "stdout",
     "output_type": "stream",
     "text": [
      "Thresh=0.0051835855, n=52, explained variance: 0.8134280486605028, mean abs error: 3.3645900287684536\n",
      "Fitting 2 folds for each of 108 candidates, totalling 216 fits\n"
     ]
    },
    {
     "name": "stderr",
     "output_type": "stream",
     "text": [
      "[Parallel(n_jobs=-1)]: Done  34 tasks      | elapsed:    9.8s\n",
      "[Parallel(n_jobs=-1)]: Done 184 tasks      | elapsed:   37.8s\n",
      "[Parallel(n_jobs=-1)]: Done 216 out of 216 | elapsed:   44.4s finished\n"
     ]
    },
    {
     "name": "stdout",
     "output_type": "stream",
     "text": [
      "Thresh=0.0051835855, n=52, explained variance: 0.8134280486605028, mean abs error: 3.3645900287684536\n",
      "Fitting 2 folds for each of 108 candidates, totalling 216 fits\n"
     ]
    },
    {
     "name": "stderr",
     "output_type": "stream",
     "text": [
      "[Parallel(n_jobs=-1)]: Done  34 tasks      | elapsed:   10.3s\n",
      "[Parallel(n_jobs=-1)]: Done 184 tasks      | elapsed:   39.1s\n",
      "[Parallel(n_jobs=-1)]: Done 216 out of 216 | elapsed:   45.3s finished\n"
     ]
    },
    {
     "name": "stdout",
     "output_type": "stream",
     "text": [
      "Thresh=0.0051835855, n=52, explained variance: 0.8134280486605028, mean abs error: 3.3645900287684536\n",
      "Fitting 2 folds for each of 108 candidates, totalling 216 fits\n"
     ]
    },
    {
     "name": "stderr",
     "output_type": "stream",
     "text": [
      "[Parallel(n_jobs=-1)]: Done  34 tasks      | elapsed:    9.6s\n",
      "[Parallel(n_jobs=-1)]: Done 184 tasks      | elapsed:   37.6s\n",
      "[Parallel(n_jobs=-1)]: Done 216 out of 216 | elapsed:   44.2s finished\n"
     ]
    },
    {
     "name": "stdout",
     "output_type": "stream",
     "text": [
      "Thresh=0.0051835855, n=52, explained variance: 0.8134280486605028, mean abs error: 3.3645900287684536\n",
      "Fitting 2 folds for each of 108 candidates, totalling 216 fits\n"
     ]
    },
    {
     "name": "stderr",
     "output_type": "stream",
     "text": [
      "[Parallel(n_jobs=-1)]: Done  34 tasks      | elapsed:    9.8s\n",
      "[Parallel(n_jobs=-1)]: Done 184 tasks      | elapsed:   37.7s\n",
      "[Parallel(n_jobs=-1)]: Done 216 out of 216 | elapsed:   44.4s finished\n"
     ]
    },
    {
     "name": "stdout",
     "output_type": "stream",
     "text": [
      "Thresh=0.0051835855, n=52, explained variance: 0.8134280486605028, mean abs error: 3.3645900287684536\n",
      "Fitting 2 folds for each of 108 candidates, totalling 216 fits\n"
     ]
    },
    {
     "name": "stderr",
     "output_type": "stream",
     "text": [
      "[Parallel(n_jobs=-1)]: Done  34 tasks      | elapsed:    9.7s\n",
      "[Parallel(n_jobs=-1)]: Done 184 tasks      | elapsed:   37.9s\n",
      "[Parallel(n_jobs=-1)]: Done 216 out of 216 | elapsed:   44.5s finished\n"
     ]
    },
    {
     "name": "stdout",
     "output_type": "stream",
     "text": [
      "Thresh=0.0051835855, n=52, explained variance: 0.8134280486605028, mean abs error: 3.3645900287684536\n",
      "Fitting 2 folds for each of 108 candidates, totalling 216 fits\n"
     ]
    },
    {
     "name": "stderr",
     "output_type": "stream",
     "text": [
      "[Parallel(n_jobs=-1)]: Done  34 tasks      | elapsed:    9.5s\n",
      "[Parallel(n_jobs=-1)]: Done 184 tasks      | elapsed:   37.9s\n",
      "[Parallel(n_jobs=-1)]: Done 216 out of 216 | elapsed:   44.7s finished\n"
     ]
    },
    {
     "name": "stdout",
     "output_type": "stream",
     "text": [
      "Thresh=0.00475162, n=53, explained variance: 0.8063652541948344, mean abs error: 3.400803622150294\n",
      "Fitting 2 folds for each of 108 candidates, totalling 216 fits\n"
     ]
    },
    {
     "name": "stderr",
     "output_type": "stream",
     "text": [
      "[Parallel(n_jobs=-1)]: Done  34 tasks      | elapsed:    9.7s\n",
      "[Parallel(n_jobs=-1)]: Done 184 tasks      | elapsed:   39.3s\n",
      "[Parallel(n_jobs=-1)]: Done 216 out of 216 | elapsed:   46.3s finished\n"
     ]
    },
    {
     "name": "stdout",
     "output_type": "stream",
     "text": [
      "Thresh=0.0043196543, n=55, explained variance: 0.8147111945564357, mean abs error: 3.254845380213831\n",
      "Fitting 2 folds for each of 108 candidates, totalling 216 fits\n"
     ]
    },
    {
     "name": "stderr",
     "output_type": "stream",
     "text": [
      "[Parallel(n_jobs=-1)]: Done  34 tasks      | elapsed:    9.7s\n",
      "[Parallel(n_jobs=-1)]: Done 184 tasks      | elapsed:   38.8s\n",
      "[Parallel(n_jobs=-1)]: Done 216 out of 216 | elapsed:   45.5s finished\n"
     ]
    },
    {
     "name": "stdout",
     "output_type": "stream",
     "text": [
      "Thresh=0.0043196543, n=55, explained variance: 0.8147111945564357, mean abs error: 3.254845380213831\n",
      "Fitting 2 folds for each of 108 candidates, totalling 216 fits\n"
     ]
    },
    {
     "name": "stderr",
     "output_type": "stream",
     "text": [
      "[Parallel(n_jobs=-1)]: Done  34 tasks      | elapsed:    9.8s\n",
      "[Parallel(n_jobs=-1)]: Done 184 tasks      | elapsed:   39.4s\n",
      "[Parallel(n_jobs=-1)]: Done 216 out of 216 | elapsed:   46.3s finished\n"
     ]
    },
    {
     "name": "stdout",
     "output_type": "stream",
     "text": [
      "Thresh=0.003887689, n=56, explained variance: 0.8009452282258984, mean abs error: 3.466795257467156\n",
      "Fitting 2 folds for each of 108 candidates, totalling 216 fits\n"
     ]
    },
    {
     "name": "stderr",
     "output_type": "stream",
     "text": [
      "[Parallel(n_jobs=-1)]: Done  34 tasks      | elapsed:   10.0s\n",
      "[Parallel(n_jobs=-1)]: Done 184 tasks      | elapsed:   39.6s\n",
      "[Parallel(n_jobs=-1)]: Done 216 out of 216 | elapsed:   46.7s finished\n"
     ]
    },
    {
     "name": "stdout",
     "output_type": "stream",
     "text": [
      "Thresh=0.0034557236, n=57, explained variance: 0.8114021394902755, mean abs error: 3.36754156042884\n",
      "Fitting 2 folds for each of 108 candidates, totalling 216 fits\n"
     ]
    },
    {
     "name": "stderr",
     "output_type": "stream",
     "text": [
      "[Parallel(n_jobs=-1)]: Done  34 tasks      | elapsed:   10.6s\n",
      "[Parallel(n_jobs=-1)]: Done 184 tasks      | elapsed:   41.7s\n",
      "[Parallel(n_jobs=-1)]: Done 216 out of 216 | elapsed:   48.8s finished\n"
     ]
    },
    {
     "name": "stdout",
     "output_type": "stream",
     "text": [
      "Thresh=0.003023758, n=60, explained variance: 0.8160256913620377, mean abs error: 3.2708882022141026\n",
      "Fitting 2 folds for each of 108 candidates, totalling 216 fits\n"
     ]
    },
    {
     "name": "stderr",
     "output_type": "stream",
     "text": [
      "[Parallel(n_jobs=-1)]: Done  34 tasks      | elapsed:   10.4s\n",
      "[Parallel(n_jobs=-1)]: Done 184 tasks      | elapsed:   41.5s\n",
      "[Parallel(n_jobs=-1)]: Done 216 out of 216 | elapsed:   48.6s finished\n"
     ]
    },
    {
     "name": "stdout",
     "output_type": "stream",
     "text": [
      "Thresh=0.003023758, n=60, explained variance: 0.8160256913620377, mean abs error: 3.2708882022141026\n",
      "Fitting 2 folds for each of 108 candidates, totalling 216 fits\n"
     ]
    },
    {
     "name": "stderr",
     "output_type": "stream",
     "text": [
      "[Parallel(n_jobs=-1)]: Done  34 tasks      | elapsed:   10.6s\n",
      "[Parallel(n_jobs=-1)]: Done 184 tasks      | elapsed:   41.4s\n",
      "[Parallel(n_jobs=-1)]: Done 216 out of 216 | elapsed:   48.7s finished\n"
     ]
    },
    {
     "name": "stdout",
     "output_type": "stream",
     "text": [
      "Thresh=0.003023758, n=60, explained variance: 0.8160256913620377, mean abs error: 3.2708882022141026\n",
      "Fitting 2 folds for each of 108 candidates, totalling 216 fits\n"
     ]
    },
    {
     "name": "stderr",
     "output_type": "stream",
     "text": [
      "[Parallel(n_jobs=-1)]: Done  34 tasks      | elapsed:   10.9s\n",
      "[Parallel(n_jobs=-1)]: Done 184 tasks      | elapsed:   43.3s\n",
      "[Parallel(n_jobs=-1)]: Done 216 out of 216 | elapsed:   51.3s finished\n"
     ]
    },
    {
     "name": "stdout",
     "output_type": "stream",
     "text": [
      "Thresh=0.0025917927, n=66, explained variance: 0.8126544800816956, mean abs error: 3.2711711656873317\n",
      "Fitting 2 folds for each of 108 candidates, totalling 216 fits\n"
     ]
    },
    {
     "name": "stderr",
     "output_type": "stream",
     "text": [
      "[Parallel(n_jobs=-1)]: Done  34 tasks      | elapsed:   10.6s\n",
      "[Parallel(n_jobs=-1)]: Done 184 tasks      | elapsed:   43.0s\n",
      "[Parallel(n_jobs=-1)]: Done 216 out of 216 | elapsed:   50.6s finished\n"
     ]
    },
    {
     "name": "stdout",
     "output_type": "stream",
     "text": [
      "Thresh=0.0025917927, n=66, explained variance: 0.8126544800816956, mean abs error: 3.2711711656873317\n",
      "Fitting 2 folds for each of 108 candidates, totalling 216 fits\n"
     ]
    },
    {
     "name": "stderr",
     "output_type": "stream",
     "text": [
      "[Parallel(n_jobs=-1)]: Done  34 tasks      | elapsed:   10.2s\n",
      "[Parallel(n_jobs=-1)]: Done 184 tasks      | elapsed:   42.3s\n",
      "[Parallel(n_jobs=-1)]: Done 216 out of 216 | elapsed:   50.1s finished\n"
     ]
    },
    {
     "name": "stdout",
     "output_type": "stream",
     "text": [
      "Thresh=0.0025917927, n=66, explained variance: 0.8126544800816956, mean abs error: 3.2711711656873317\n",
      "Fitting 2 folds for each of 108 candidates, totalling 216 fits\n"
     ]
    },
    {
     "name": "stderr",
     "output_type": "stream",
     "text": [
      "[Parallel(n_jobs=-1)]: Done  34 tasks      | elapsed:   10.5s\n",
      "[Parallel(n_jobs=-1)]: Done 184 tasks      | elapsed:   43.2s\n",
      "[Parallel(n_jobs=-1)]: Done 216 out of 216 | elapsed:   50.8s finished\n"
     ]
    },
    {
     "name": "stdout",
     "output_type": "stream",
     "text": [
      "Thresh=0.0025917927, n=66, explained variance: 0.8126544800816956, mean abs error: 3.2711711656873317\n",
      "Fitting 2 folds for each of 108 candidates, totalling 216 fits\n"
     ]
    },
    {
     "name": "stderr",
     "output_type": "stream",
     "text": [
      "[Parallel(n_jobs=-1)]: Done  34 tasks      | elapsed:   10.5s\n",
      "[Parallel(n_jobs=-1)]: Done 184 tasks      | elapsed:   42.6s\n",
      "[Parallel(n_jobs=-1)]: Done 216 out of 216 | elapsed:   50.4s finished\n"
     ]
    },
    {
     "name": "stdout",
     "output_type": "stream",
     "text": [
      "Thresh=0.0025917927, n=66, explained variance: 0.8126544800816956, mean abs error: 3.2711711656873317\n",
      "Fitting 2 folds for each of 108 candidates, totalling 216 fits\n"
     ]
    },
    {
     "name": "stderr",
     "output_type": "stream",
     "text": [
      "[Parallel(n_jobs=-1)]: Done  34 tasks      | elapsed:   10.3s\n",
      "[Parallel(n_jobs=-1)]: Done 184 tasks      | elapsed:   42.7s\n",
      "[Parallel(n_jobs=-1)]: Done 216 out of 216 | elapsed:   50.5s finished\n"
     ]
    },
    {
     "name": "stdout",
     "output_type": "stream",
     "text": [
      "Thresh=0.0025917927, n=66, explained variance: 0.8126544800816956, mean abs error: 3.2711711656873317\n",
      "Fitting 2 folds for each of 108 candidates, totalling 216 fits\n"
     ]
    },
    {
     "name": "stderr",
     "output_type": "stream",
     "text": [
      "[Parallel(n_jobs=-1)]: Done  34 tasks      | elapsed:   11.0s\n",
      "[Parallel(n_jobs=-1)]: Done 184 tasks      | elapsed:   44.8s\n",
      "[Parallel(n_jobs=-1)]: Done 216 out of 216 | elapsed:   53.1s finished\n"
     ]
    },
    {
     "name": "stdout",
     "output_type": "stream",
     "text": [
      "Thresh=0.0021598272, n=71, explained variance: 0.8182313767734154, mean abs error: 3.418670505455974\n",
      "Fitting 2 folds for each of 108 candidates, totalling 216 fits\n"
     ]
    },
    {
     "name": "stderr",
     "output_type": "stream",
     "text": [
      "[Parallel(n_jobs=-1)]: Done  34 tasks      | elapsed:   10.5s\n",
      "[Parallel(n_jobs=-1)]: Done 184 tasks      | elapsed:   44.9s\n",
      "[Parallel(n_jobs=-1)]: Done 216 out of 216 | elapsed:   53.2s finished\n"
     ]
    },
    {
     "name": "stdout",
     "output_type": "stream",
     "text": [
      "Thresh=0.0021598272, n=71, explained variance: 0.8182313767734154, mean abs error: 3.418670505455974\n",
      "Fitting 2 folds for each of 108 candidates, totalling 216 fits\n"
     ]
    },
    {
     "name": "stderr",
     "output_type": "stream",
     "text": [
      "[Parallel(n_jobs=-1)]: Done  34 tasks      | elapsed:   10.8s\n",
      "[Parallel(n_jobs=-1)]: Done 184 tasks      | elapsed:   45.7s\n",
      "[Parallel(n_jobs=-1)]: Done 216 out of 216 | elapsed:   53.8s finished\n"
     ]
    },
    {
     "name": "stdout",
     "output_type": "stream",
     "text": [
      "Thresh=0.0021598272, n=71, explained variance: 0.8182313767734154, mean abs error: 3.418670505455974\n",
      "Fitting 2 folds for each of 108 candidates, totalling 216 fits\n"
     ]
    },
    {
     "name": "stderr",
     "output_type": "stream",
     "text": [
      "[Parallel(n_jobs=-1)]: Done  34 tasks      | elapsed:   10.6s\n",
      "[Parallel(n_jobs=-1)]: Done 184 tasks      | elapsed:   44.3s\n",
      "[Parallel(n_jobs=-1)]: Done 216 out of 216 | elapsed:   52.6s finished\n"
     ]
    },
    {
     "name": "stdout",
     "output_type": "stream",
     "text": [
      "Thresh=0.0021598272, n=71, explained variance: 0.8182313767734154, mean abs error: 3.418670505455974\n",
      "Fitting 2 folds for each of 108 candidates, totalling 216 fits\n"
     ]
    },
    {
     "name": "stderr",
     "output_type": "stream",
     "text": [
      "[Parallel(n_jobs=-1)]: Done  34 tasks      | elapsed:   10.8s\n",
      "[Parallel(n_jobs=-1)]: Done 184 tasks      | elapsed:   45.3s\n",
      "[Parallel(n_jobs=-1)]: Done 216 out of 216 | elapsed:   53.4s finished\n"
     ]
    },
    {
     "name": "stdout",
     "output_type": "stream",
     "text": [
      "Thresh=0.0021598272, n=71, explained variance: 0.8182313767734154, mean abs error: 3.418670505455974\n",
      "Fitting 2 folds for each of 108 candidates, totalling 216 fits\n"
     ]
    },
    {
     "name": "stderr",
     "output_type": "stream",
     "text": [
      "[Parallel(n_jobs=-1)]: Done  34 tasks      | elapsed:   11.1s\n",
      "[Parallel(n_jobs=-1)]: Done 184 tasks      | elapsed:   46.1s\n",
      "[Parallel(n_jobs=-1)]: Done 216 out of 216 | elapsed:   54.5s finished\n"
     ]
    },
    {
     "name": "stdout",
     "output_type": "stream",
     "text": [
      "Thresh=0.0017278618, n=74, explained variance: 0.8148562443455094, mean abs error: 3.324074369467881\n",
      "Fitting 2 folds for each of 108 candidates, totalling 216 fits\n"
     ]
    },
    {
     "name": "stderr",
     "output_type": "stream",
     "text": [
      "[Parallel(n_jobs=-1)]: Done  34 tasks      | elapsed:   11.5s\n",
      "[Parallel(n_jobs=-1)]: Done 184 tasks      | elapsed:   46.8s\n",
      "[Parallel(n_jobs=-1)]: Done 216 out of 216 | elapsed:   55.7s finished\n"
     ]
    },
    {
     "name": "stdout",
     "output_type": "stream",
     "text": [
      "Thresh=0.0017278618, n=74, explained variance: 0.8148562443455094, mean abs error: 3.324074369467881\n",
      "Fitting 2 folds for each of 108 candidates, totalling 216 fits\n"
     ]
    },
    {
     "name": "stderr",
     "output_type": "stream",
     "text": [
      "[Parallel(n_jobs=-1)]: Done  34 tasks      | elapsed:   11.7s\n",
      "[Parallel(n_jobs=-1)]: Done 184 tasks      | elapsed:   47.4s\n",
      "[Parallel(n_jobs=-1)]: Done 216 out of 216 | elapsed:   55.6s finished\n"
     ]
    },
    {
     "name": "stdout",
     "output_type": "stream",
     "text": [
      "Thresh=0.0017278618, n=74, explained variance: 0.8148562443455094, mean abs error: 3.324074369467881\n",
      "Fitting 2 folds for each of 108 candidates, totalling 216 fits\n"
     ]
    },
    {
     "name": "stderr",
     "output_type": "stream",
     "text": [
      "[Parallel(n_jobs=-1)]: Done  34 tasks      | elapsed:   11.4s\n",
      "[Parallel(n_jobs=-1)]: Done 184 tasks      | elapsed:   47.9s\n",
      "[Parallel(n_jobs=-1)]: Done 216 out of 216 | elapsed:   56.3s finished\n"
     ]
    },
    {
     "name": "stdout",
     "output_type": "stream",
     "text": [
      "Thresh=0.0012958964, n=78, explained variance: 0.8052037752099135, mean abs error: 3.422825484257137\n",
      "Fitting 2 folds for each of 108 candidates, totalling 216 fits\n"
     ]
    },
    {
     "name": "stderr",
     "output_type": "stream",
     "text": [
      "[Parallel(n_jobs=-1)]: Done  34 tasks      | elapsed:   11.3s\n",
      "[Parallel(n_jobs=-1)]: Done 184 tasks      | elapsed:   47.5s\n",
      "[Parallel(n_jobs=-1)]: Done 216 out of 216 | elapsed:   56.1s finished\n"
     ]
    },
    {
     "name": "stdout",
     "output_type": "stream",
     "text": [
      "Thresh=0.0012958964, n=78, explained variance: 0.8052037752099135, mean abs error: 3.422825484257137\n",
      "Fitting 2 folds for each of 108 candidates, totalling 216 fits\n"
     ]
    },
    {
     "name": "stderr",
     "output_type": "stream",
     "text": [
      "[Parallel(n_jobs=-1)]: Done  34 tasks      | elapsed:   11.5s\n",
      "[Parallel(n_jobs=-1)]: Done 184 tasks      | elapsed:   47.4s\n",
      "[Parallel(n_jobs=-1)]: Done 216 out of 216 | elapsed:   56.2s finished\n"
     ]
    },
    {
     "name": "stdout",
     "output_type": "stream",
     "text": [
      "Thresh=0.0012958964, n=78, explained variance: 0.8052037752099135, mean abs error: 3.422825484257137\n",
      "Fitting 2 folds for each of 108 candidates, totalling 216 fits\n"
     ]
    },
    {
     "name": "stderr",
     "output_type": "stream",
     "text": [
      "[Parallel(n_jobs=-1)]: Done  34 tasks      | elapsed:   11.4s\n",
      "[Parallel(n_jobs=-1)]: Done 184 tasks      | elapsed:   47.7s\n",
      "[Parallel(n_jobs=-1)]: Done 216 out of 216 | elapsed:   56.4s finished\n"
     ]
    },
    {
     "name": "stdout",
     "output_type": "stream",
     "text": [
      "Thresh=0.0012958964, n=78, explained variance: 0.8052037752099135, mean abs error: 3.422825484257137\n",
      "Fitting 2 folds for each of 108 candidates, totalling 216 fits\n"
     ]
    },
    {
     "name": "stderr",
     "output_type": "stream",
     "text": [
      "[Parallel(n_jobs=-1)]: Done  34 tasks      | elapsed:   12.0s\n",
      "[Parallel(n_jobs=-1)]: Done 184 tasks      | elapsed:   49.8s\n",
      "[Parallel(n_jobs=-1)]: Done 216 out of 216 | elapsed:   58.9s finished\n"
     ]
    },
    {
     "name": "stdout",
     "output_type": "stream",
     "text": [
      "Thresh=0.0008639309, n=84, explained variance: 0.8170365722265123, mean abs error: 3.3421725137025184\n",
      "Fitting 2 folds for each of 108 candidates, totalling 216 fits\n"
     ]
    },
    {
     "name": "stderr",
     "output_type": "stream",
     "text": [
      "[Parallel(n_jobs=-1)]: Done  34 tasks      | elapsed:   11.7s\n",
      "[Parallel(n_jobs=-1)]: Done 184 tasks      | elapsed:   49.9s\n",
      "[Parallel(n_jobs=-1)]: Done 216 out of 216 | elapsed:   59.1s finished\n"
     ]
    },
    {
     "name": "stdout",
     "output_type": "stream",
     "text": [
      "Thresh=0.0008639309, n=84, explained variance: 0.8170365722265123, mean abs error: 3.3421725137025184\n",
      "Fitting 2 folds for each of 108 candidates, totalling 216 fits\n"
     ]
    },
    {
     "name": "stderr",
     "output_type": "stream",
     "text": [
      "[Parallel(n_jobs=-1)]: Done  34 tasks      | elapsed:   11.6s\n",
      "[Parallel(n_jobs=-1)]: Done 184 tasks      | elapsed:   49.4s\n",
      "[Parallel(n_jobs=-1)]: Done 216 out of 216 | elapsed:   59.1s finished\n"
     ]
    },
    {
     "name": "stdout",
     "output_type": "stream",
     "text": [
      "Thresh=0.0008639309, n=84, explained variance: 0.8170365722265123, mean abs error: 3.3421725137025184\n",
      "Fitting 2 folds for each of 108 candidates, totalling 216 fits\n"
     ]
    },
    {
     "name": "stderr",
     "output_type": "stream",
     "text": [
      "[Parallel(n_jobs=-1)]: Done  34 tasks      | elapsed:   11.8s\n",
      "[Parallel(n_jobs=-1)]: Done 184 tasks      | elapsed:   49.5s\n",
      "[Parallel(n_jobs=-1)]: Done 216 out of 216 | elapsed:   59.0s finished\n"
     ]
    },
    {
     "name": "stdout",
     "output_type": "stream",
     "text": [
      "Thresh=0.0008639309, n=84, explained variance: 0.8170365722265123, mean abs error: 3.3421725137025184\n",
      "Fitting 2 folds for each of 108 candidates, totalling 216 fits\n"
     ]
    },
    {
     "name": "stderr",
     "output_type": "stream",
     "text": [
      "[Parallel(n_jobs=-1)]: Done  34 tasks      | elapsed:   11.4s\n",
      "[Parallel(n_jobs=-1)]: Done 184 tasks      | elapsed:   49.6s\n",
      "[Parallel(n_jobs=-1)]: Done 216 out of 216 | elapsed:   58.9s finished\n"
     ]
    },
    {
     "name": "stdout",
     "output_type": "stream",
     "text": [
      "Thresh=0.0008639309, n=84, explained variance: 0.8170365722265123, mean abs error: 3.3421725137025184\n",
      "Fitting 2 folds for each of 108 candidates, totalling 216 fits\n"
     ]
    },
    {
     "name": "stderr",
     "output_type": "stream",
     "text": [
      "[Parallel(n_jobs=-1)]: Done  34 tasks      | elapsed:   11.6s\n",
      "[Parallel(n_jobs=-1)]: Done 184 tasks      | elapsed:   50.9s\n",
      "[Parallel(n_jobs=-1)]: Done 216 out of 216 | elapsed:   59.9s finished\n"
     ]
    },
    {
     "name": "stdout",
     "output_type": "stream",
     "text": [
      "Thresh=0.0008639309, n=84, explained variance: 0.8170365722265123, mean abs error: 3.3421725137025184\n",
      "Fitting 2 folds for each of 108 candidates, totalling 216 fits\n"
     ]
    },
    {
     "name": "stderr",
     "output_type": "stream",
     "text": [
      "[Parallel(n_jobs=-1)]: Done  34 tasks      | elapsed:   12.1s\n",
      "[Parallel(n_jobs=-1)]: Done 184 tasks      | elapsed:   53.7s\n",
      "[Parallel(n_jobs=-1)]: Done 216 out of 216 | elapsed:  1.1min finished\n"
     ]
    },
    {
     "name": "stdout",
     "output_type": "stream",
     "text": [
      "Thresh=0.00043196545, n=97, explained variance: 0.8126316138834355, mean abs error: 3.446633436184453\n",
      "Fitting 2 folds for each of 108 candidates, totalling 216 fits\n"
     ]
    },
    {
     "name": "stderr",
     "output_type": "stream",
     "text": [
      "[Parallel(n_jobs=-1)]: Done  34 tasks      | elapsed:   12.7s\n",
      "[Parallel(n_jobs=-1)]: Done 184 tasks      | elapsed:   54.8s\n",
      "[Parallel(n_jobs=-1)]: Done 216 out of 216 | elapsed:  1.1min finished\n"
     ]
    },
    {
     "name": "stdout",
     "output_type": "stream",
     "text": [
      "Thresh=0.00043196545, n=97, explained variance: 0.8126316138834355, mean abs error: 3.446633436184453\n",
      "Fitting 2 folds for each of 108 candidates, totalling 216 fits\n"
     ]
    },
    {
     "name": "stderr",
     "output_type": "stream",
     "text": [
      "[Parallel(n_jobs=-1)]: Done  34 tasks      | elapsed:   12.2s\n",
      "[Parallel(n_jobs=-1)]: Done 184 tasks      | elapsed:   54.1s\n",
      "[Parallel(n_jobs=-1)]: Done 216 out of 216 | elapsed:  1.1min finished\n"
     ]
    },
    {
     "name": "stdout",
     "output_type": "stream",
     "text": [
      "Thresh=0.00043196545, n=97, explained variance: 0.8126316138834355, mean abs error: 3.446633436184453\n",
      "Fitting 2 folds for each of 108 candidates, totalling 216 fits\n"
     ]
    },
    {
     "name": "stderr",
     "output_type": "stream",
     "text": [
      "[Parallel(n_jobs=-1)]: Done  34 tasks      | elapsed:   12.6s\n",
      "[Parallel(n_jobs=-1)]: Done 184 tasks      | elapsed:   54.1s\n",
      "[Parallel(n_jobs=-1)]: Done 216 out of 216 | elapsed:  1.1min finished\n"
     ]
    },
    {
     "name": "stdout",
     "output_type": "stream",
     "text": [
      "Thresh=0.00043196545, n=97, explained variance: 0.8126316138834355, mean abs error: 3.446633436184453\n",
      "Fitting 2 folds for each of 108 candidates, totalling 216 fits\n"
     ]
    },
    {
     "name": "stderr",
     "output_type": "stream",
     "text": [
      "[Parallel(n_jobs=-1)]: Done  34 tasks      | elapsed:   11.9s\n",
      "[Parallel(n_jobs=-1)]: Done 184 tasks      | elapsed:   53.9s\n",
      "[Parallel(n_jobs=-1)]: Done 216 out of 216 | elapsed:  1.1min finished\n"
     ]
    },
    {
     "name": "stdout",
     "output_type": "stream",
     "text": [
      "Thresh=0.00043196545, n=97, explained variance: 0.8126316138834355, mean abs error: 3.446633436184453\n",
      "Fitting 2 folds for each of 108 candidates, totalling 216 fits\n"
     ]
    },
    {
     "name": "stderr",
     "output_type": "stream",
     "text": [
      "[Parallel(n_jobs=-1)]: Done  34 tasks      | elapsed:   12.0s\n",
      "[Parallel(n_jobs=-1)]: Done 184 tasks      | elapsed:   53.8s\n",
      "[Parallel(n_jobs=-1)]: Done 216 out of 216 | elapsed:  1.1min finished\n"
     ]
    },
    {
     "name": "stdout",
     "output_type": "stream",
     "text": [
      "Thresh=0.00043196545, n=97, explained variance: 0.8126316138834355, mean abs error: 3.446633436184453\n",
      "Fitting 2 folds for each of 108 candidates, totalling 216 fits\n"
     ]
    },
    {
     "name": "stderr",
     "output_type": "stream",
     "text": [
      "[Parallel(n_jobs=-1)]: Done  34 tasks      | elapsed:   11.9s\n",
      "[Parallel(n_jobs=-1)]: Done 184 tasks      | elapsed:   53.4s\n",
      "[Parallel(n_jobs=-1)]: Done 216 out of 216 | elapsed:  1.1min finished\n"
     ]
    },
    {
     "name": "stdout",
     "output_type": "stream",
     "text": [
      "Thresh=0.00043196545, n=97, explained variance: 0.8126316138834355, mean abs error: 3.446633436184453\n",
      "Fitting 2 folds for each of 108 candidates, totalling 216 fits\n"
     ]
    },
    {
     "name": "stderr",
     "output_type": "stream",
     "text": [
      "[Parallel(n_jobs=-1)]: Done  34 tasks      | elapsed:   11.6s\n",
      "[Parallel(n_jobs=-1)]: Done 184 tasks      | elapsed:   54.2s\n",
      "[Parallel(n_jobs=-1)]: Done 216 out of 216 | elapsed:  1.1min finished\n"
     ]
    },
    {
     "name": "stdout",
     "output_type": "stream",
     "text": [
      "Thresh=0.00043196545, n=97, explained variance: 0.8126316138834355, mean abs error: 3.446633436184453\n",
      "Fitting 2 folds for each of 108 candidates, totalling 216 fits\n"
     ]
    },
    {
     "name": "stderr",
     "output_type": "stream",
     "text": [
      "[Parallel(n_jobs=-1)]: Done  34 tasks      | elapsed:   13.1s\n",
      "[Parallel(n_jobs=-1)]: Done 184 tasks      | elapsed:   57.4s\n",
      "[Parallel(n_jobs=-1)]: Done 216 out of 216 | elapsed:  1.1min finished\n"
     ]
    },
    {
     "name": "stdout",
     "output_type": "stream",
     "text": [
      "Thresh=0.00043196545, n=97, explained variance: 0.8126316138834355, mean abs error: 3.446633436184453\n",
      "Fitting 2 folds for each of 108 candidates, totalling 216 fits\n"
     ]
    },
    {
     "name": "stderr",
     "output_type": "stream",
     "text": [
      "[Parallel(n_jobs=-1)]: Done  34 tasks      | elapsed:   11.7s\n",
      "[Parallel(n_jobs=-1)]: Done 184 tasks      | elapsed:   53.9s\n",
      "[Parallel(n_jobs=-1)]: Done 216 out of 216 | elapsed:  1.1min finished\n"
     ]
    },
    {
     "name": "stdout",
     "output_type": "stream",
     "text": [
      "Thresh=0.00043196545, n=97, explained variance: 0.8126316138834355, mean abs error: 3.446633436184453\n",
      "Fitting 2 folds for each of 108 candidates, totalling 216 fits\n"
     ]
    },
    {
     "name": "stderr",
     "output_type": "stream",
     "text": [
      "[Parallel(n_jobs=-1)]: Done  34 tasks      | elapsed:   12.4s\n",
      "[Parallel(n_jobs=-1)]: Done 184 tasks      | elapsed:   54.9s\n",
      "[Parallel(n_jobs=-1)]: Done 216 out of 216 | elapsed:  1.1min finished\n"
     ]
    },
    {
     "name": "stdout",
     "output_type": "stream",
     "text": [
      "Thresh=0.00043196545, n=97, explained variance: 0.8126316138834355, mean abs error: 3.446633436184453\n",
      "Fitting 2 folds for each of 108 candidates, totalling 216 fits\n"
     ]
    },
    {
     "name": "stderr",
     "output_type": "stream",
     "text": [
      "[Parallel(n_jobs=-1)]: Done  34 tasks      | elapsed:   12.4s\n",
      "[Parallel(n_jobs=-1)]: Done 184 tasks      | elapsed:   54.1s\n",
      "[Parallel(n_jobs=-1)]: Done 216 out of 216 | elapsed:  1.1min finished\n"
     ]
    },
    {
     "name": "stdout",
     "output_type": "stream",
     "text": [
      "Thresh=0.00043196545, n=97, explained variance: 0.8126316138834355, mean abs error: 3.446633436184453\n",
      "Fitting 2 folds for each of 108 candidates, totalling 216 fits\n"
     ]
    },
    {
     "name": "stderr",
     "output_type": "stream",
     "text": [
      "[Parallel(n_jobs=-1)]: Done  34 tasks      | elapsed:   11.7s\n",
      "[Parallel(n_jobs=-1)]: Done 184 tasks      | elapsed:   54.1s\n",
      "[Parallel(n_jobs=-1)]: Done 216 out of 216 | elapsed:  1.1min finished\n"
     ]
    },
    {
     "name": "stdout",
     "output_type": "stream",
     "text": [
      "Thresh=0.00043196545, n=97, explained variance: 0.8126316138834355, mean abs error: 3.446633436184453\n",
      "Fitting 2 folds for each of 108 candidates, totalling 216 fits\n"
     ]
    },
    {
     "name": "stderr",
     "output_type": "stream",
     "text": [
      "[Parallel(n_jobs=-1)]: Done  34 tasks      | elapsed:   15.6s\n",
      "[Parallel(n_jobs=-1)]: Done 184 tasks      | elapsed:  1.4min\n",
      "[Parallel(n_jobs=-1)]: Done 216 out of 216 | elapsed:  1.6min finished\n"
     ]
    },
    {
     "name": "stdout",
     "output_type": "stream",
     "text": [
      "Thresh=0.0, n=183, explained variance: 0.8148520588735845, mean abs error: 3.289227270358747\n",
      "Fitting 2 folds for each of 108 candidates, totalling 216 fits\n"
     ]
    },
    {
     "name": "stderr",
     "output_type": "stream",
     "text": [
      "[Parallel(n_jobs=-1)]: Done  34 tasks      | elapsed:   15.9s\n",
      "[Parallel(n_jobs=-1)]: Done 184 tasks      | elapsed:  1.4min\n",
      "[Parallel(n_jobs=-1)]: Done 216 out of 216 | elapsed:  1.6min finished\n"
     ]
    },
    {
     "name": "stdout",
     "output_type": "stream",
     "text": [
      "Thresh=0.0, n=183, explained variance: 0.8148520588735845, mean abs error: 3.289227270358747\n",
      "Fitting 2 folds for each of 108 candidates, totalling 216 fits\n"
     ]
    },
    {
     "name": "stderr",
     "output_type": "stream",
     "text": [
      "[Parallel(n_jobs=-1)]: Done  34 tasks      | elapsed:   16.6s\n",
      "[Parallel(n_jobs=-1)]: Done 184 tasks      | elapsed:  1.4min\n",
      "[Parallel(n_jobs=-1)]: Done 216 out of 216 | elapsed:  1.6min finished\n"
     ]
    },
    {
     "name": "stdout",
     "output_type": "stream",
     "text": [
      "Thresh=0.0, n=183, explained variance: 0.8148520588735845, mean abs error: 3.289227270358747\n"
     ]
    }
   ],
   "source": [
    "week2_nfeature_gridsearch = nfeature_gridsearch(X, y2, '2017-09-25', week2_xgb, nfeature_param_grid, categorical_cols)"
   ]
  },
  {
   "cell_type": "code",
   "execution_count": 51,
   "metadata": {},
   "outputs": [
    {
     "name": "stdout",
     "output_type": "stream",
     "text": [
      "Fitting 2 folds for each of 108 candidates, totalling 216 fits\n"
     ]
    },
    {
     "name": "stderr",
     "output_type": "stream",
     "text": [
      "[Parallel(n_jobs=-1)]: Done  34 tasks      | elapsed:    5.9s\n",
      "[Parallel(n_jobs=-1)]: Done 184 tasks      | elapsed:   13.5s\n",
      "[Parallel(n_jobs=-1)]: Done 216 out of 216 | elapsed:   15.3s finished\n"
     ]
    },
    {
     "name": "stdout",
     "output_type": "stream",
     "text": [
      "Thresh=0.103797466, n=1, explained variance: 0.7647351997584207, mean abs error: 8.150259185014216\n",
      "Fitting 2 folds for each of 108 candidates, totalling 216 fits\n"
     ]
    },
    {
     "name": "stderr",
     "output_type": "stream",
     "text": [
      "[Parallel(n_jobs=-1)]: Done  34 tasks      | elapsed:    6.0s\n",
      "[Parallel(n_jobs=-1)]: Done 184 tasks      | elapsed:   13.8s\n",
      "[Parallel(n_jobs=-1)]: Done 216 out of 216 | elapsed:   15.6s finished\n"
     ]
    },
    {
     "name": "stdout",
     "output_type": "stream",
     "text": [
      "Thresh=0.067510545, n=2, explained variance: 0.7586334040176724, mean abs error: 8.409207483857228\n",
      "Fitting 2 folds for each of 108 candidates, totalling 216 fits\n"
     ]
    },
    {
     "name": "stderr",
     "output_type": "stream",
     "text": [
      "[Parallel(n_jobs=-1)]: Done  34 tasks      | elapsed:    6.2s\n",
      "[Parallel(n_jobs=-1)]: Done 184 tasks      | elapsed:   14.5s\n",
      "[Parallel(n_jobs=-1)]: Done 216 out of 216 | elapsed:   16.8s finished\n"
     ]
    },
    {
     "name": "stdout",
     "output_type": "stream",
     "text": [
      "Thresh=0.057805907, n=3, explained variance: 0.724702827295254, mean abs error: 8.953539003485048\n",
      "Fitting 2 folds for each of 108 candidates, totalling 216 fits\n"
     ]
    },
    {
     "name": "stderr",
     "output_type": "stream",
     "text": [
      "[Parallel(n_jobs=-1)]: Done  34 tasks      | elapsed:    6.3s\n",
      "[Parallel(n_jobs=-1)]: Done 184 tasks      | elapsed:   16.6s\n",
      "[Parallel(n_jobs=-1)]: Done 216 out of 216 | elapsed:   18.6s finished\n"
     ]
    },
    {
     "name": "stdout",
     "output_type": "stream",
     "text": [
      "Thresh=0.04978903, n=4, explained variance: 0.755685385717017, mean abs error: 8.993322255655626\n",
      "Fitting 2 folds for each of 108 candidates, totalling 216 fits\n"
     ]
    },
    {
     "name": "stderr",
     "output_type": "stream",
     "text": [
      "[Parallel(n_jobs=-1)]: Done  34 tasks      | elapsed:    6.7s\n",
      "[Parallel(n_jobs=-1)]: Done 184 tasks      | elapsed:   17.7s\n",
      "[Parallel(n_jobs=-1)]: Done 216 out of 216 | elapsed:   19.8s finished\n"
     ]
    },
    {
     "name": "stdout",
     "output_type": "stream",
     "text": [
      "Thresh=0.035443038, n=5, explained variance: 0.8105584640472545, mean abs error: 7.193288157093427\n",
      "Fitting 2 folds for each of 108 candidates, totalling 216 fits\n"
     ]
    },
    {
     "name": "stderr",
     "output_type": "stream",
     "text": [
      "[Parallel(n_jobs=-1)]: Done  34 tasks      | elapsed:    6.5s\n",
      "[Parallel(n_jobs=-1)]: Done 184 tasks      | elapsed:   17.7s\n",
      "[Parallel(n_jobs=-1)]: Done 216 out of 216 | elapsed:   20.0s finished\n"
     ]
    },
    {
     "name": "stdout",
     "output_type": "stream",
     "text": [
      "Thresh=0.032489453, n=6, explained variance: 0.8231268844358687, mean abs error: 6.571774346558181\n",
      "Fitting 2 folds for each of 108 candidates, totalling 216 fits\n"
     ]
    },
    {
     "name": "stderr",
     "output_type": "stream",
     "text": [
      "[Parallel(n_jobs=-1)]: Done  34 tasks      | elapsed:    6.8s\n",
      "[Parallel(n_jobs=-1)]: Done 184 tasks      | elapsed:   18.6s\n",
      "[Parallel(n_jobs=-1)]: Done 216 out of 216 | elapsed:   21.3s finished\n"
     ]
    },
    {
     "name": "stdout",
     "output_type": "stream",
     "text": [
      "Thresh=0.030801687, n=7, explained variance: 0.8209182129265068, mean abs error: 7.197021679224889\n",
      "Fitting 2 folds for each of 108 candidates, totalling 216 fits\n"
     ]
    },
    {
     "name": "stderr",
     "output_type": "stream",
     "text": [
      "[Parallel(n_jobs=-1)]: Done  34 tasks      | elapsed:    6.9s\n",
      "[Parallel(n_jobs=-1)]: Done 184 tasks      | elapsed:   19.2s\n",
      "[Parallel(n_jobs=-1)]: Done 216 out of 216 | elapsed:   22.0s finished\n"
     ]
    },
    {
     "name": "stdout",
     "output_type": "stream",
     "text": [
      "Thresh=0.027848102, n=8, explained variance: 0.8067162860451051, mean abs error: 6.837904789525734\n",
      "Fitting 2 folds for each of 108 candidates, totalling 216 fits\n"
     ]
    },
    {
     "name": "stderr",
     "output_type": "stream",
     "text": [
      "[Parallel(n_jobs=-1)]: Done  34 tasks      | elapsed:    6.7s\n",
      "[Parallel(n_jobs=-1)]: Done 184 tasks      | elapsed:   19.1s\n",
      "[Parallel(n_jobs=-1)]: Done 216 out of 216 | elapsed:   22.3s finished\n"
     ]
    },
    {
     "name": "stdout",
     "output_type": "stream",
     "text": [
      "Thresh=0.025316456, n=9, explained variance: 0.7987812190437164, mean abs error: 6.957850576116855\n",
      "Fitting 2 folds for each of 108 candidates, totalling 216 fits\n"
     ]
    },
    {
     "name": "stderr",
     "output_type": "stream",
     "text": [
      "[Parallel(n_jobs=-1)]: Done  34 tasks      | elapsed:    6.9s\n",
      "[Parallel(n_jobs=-1)]: Done 184 tasks      | elapsed:   20.7s\n",
      "[Parallel(n_jobs=-1)]: Done 216 out of 216 | elapsed:   23.7s finished\n"
     ]
    },
    {
     "name": "stdout",
     "output_type": "stream",
     "text": [
      "Thresh=0.024894515, n=10, explained variance: 0.7986436264495683, mean abs error: 6.794609197848821\n",
      "Fitting 2 folds for each of 108 candidates, totalling 216 fits\n"
     ]
    },
    {
     "name": "stderr",
     "output_type": "stream",
     "text": [
      "[Parallel(n_jobs=-1)]: Done  34 tasks      | elapsed:    6.9s\n",
      "[Parallel(n_jobs=-1)]: Done 184 tasks      | elapsed:   20.9s\n",
      "[Parallel(n_jobs=-1)]: Done 216 out of 216 | elapsed:   24.3s finished\n"
     ]
    },
    {
     "name": "stdout",
     "output_type": "stream",
     "text": [
      "Thresh=0.021518987, n=12, explained variance: 0.796628560084821, mean abs error: 6.5293506043421745\n",
      "Fitting 2 folds for each of 108 candidates, totalling 216 fits\n"
     ]
    },
    {
     "name": "stderr",
     "output_type": "stream",
     "text": [
      "[Parallel(n_jobs=-1)]: Done  34 tasks      | elapsed:    7.0s\n",
      "[Parallel(n_jobs=-1)]: Done 184 tasks      | elapsed:   21.2s\n",
      "[Parallel(n_jobs=-1)]: Done 216 out of 216 | elapsed:   24.4s finished\n"
     ]
    },
    {
     "name": "stdout",
     "output_type": "stream",
     "text": [
      "Thresh=0.021518987, n=12, explained variance: 0.796628560084821, mean abs error: 6.5293506043421745\n",
      "Fitting 2 folds for each of 108 candidates, totalling 216 fits\n"
     ]
    },
    {
     "name": "stderr",
     "output_type": "stream",
     "text": [
      "[Parallel(n_jobs=-1)]: Done  34 tasks      | elapsed:    7.0s\n",
      "[Parallel(n_jobs=-1)]: Done 184 tasks      | elapsed:   21.6s\n",
      "[Parallel(n_jobs=-1)]: Done 216 out of 216 | elapsed:   25.3s finished\n"
     ]
    },
    {
     "name": "stdout",
     "output_type": "stream",
     "text": [
      "Thresh=0.019409282, n=13, explained variance: 0.7941262071362676, mean abs error: 6.923759441275936\n",
      "Fitting 2 folds for each of 108 candidates, totalling 216 fits\n"
     ]
    },
    {
     "name": "stderr",
     "output_type": "stream",
     "text": [
      "[Parallel(n_jobs=-1)]: Done  34 tasks      | elapsed:    7.3s\n",
      "[Parallel(n_jobs=-1)]: Done 184 tasks      | elapsed:   22.2s\n",
      "[Parallel(n_jobs=-1)]: Done 216 out of 216 | elapsed:   25.9s finished\n"
     ]
    },
    {
     "name": "stdout",
     "output_type": "stream",
     "text": [
      "Thresh=0.01898734, n=14, explained variance: 0.781462608068437, mean abs error: 7.196350283501627\n",
      "Fitting 2 folds for each of 108 candidates, totalling 216 fits\n"
     ]
    },
    {
     "name": "stderr",
     "output_type": "stream",
     "text": [
      "[Parallel(n_jobs=-1)]: Done  34 tasks      | elapsed:    7.3s\n",
      "[Parallel(n_jobs=-1)]: Done 184 tasks      | elapsed:   22.9s\n",
      "[Parallel(n_jobs=-1)]: Done 216 out of 216 | elapsed:   26.4s finished\n"
     ]
    },
    {
     "name": "stdout",
     "output_type": "stream",
     "text": [
      "Thresh=0.017721519, n=15, explained variance: 0.7931751311308333, mean abs error: 7.039889981109409\n",
      "Fitting 2 folds for each of 108 candidates, totalling 216 fits\n"
     ]
    },
    {
     "name": "stderr",
     "output_type": "stream",
     "text": [
      "[Parallel(n_jobs=-1)]: Done  34 tasks      | elapsed:    7.7s\n",
      "[Parallel(n_jobs=-1)]: Done 184 tasks      | elapsed:   23.6s\n",
      "[Parallel(n_jobs=-1)]: Done 216 out of 216 | elapsed:   26.9s finished\n"
     ]
    },
    {
     "name": "stdout",
     "output_type": "stream",
     "text": [
      "Thresh=0.016455697, n=16, explained variance: 0.7887825211373218, mean abs error: 7.0226713578078765\n",
      "Fitting 2 folds for each of 108 candidates, totalling 216 fits\n"
     ]
    },
    {
     "name": "stderr",
     "output_type": "stream",
     "text": [
      "[Parallel(n_jobs=-1)]: Done  34 tasks      | elapsed:    7.6s\n",
      "[Parallel(n_jobs=-1)]: Done 184 tasks      | elapsed:   24.1s\n",
      "[Parallel(n_jobs=-1)]: Done 216 out of 216 | elapsed:   27.4s finished\n"
     ]
    },
    {
     "name": "stdout",
     "output_type": "stream",
     "text": [
      "Thresh=0.016033756, n=18, explained variance: 0.7912330744860646, mean abs error: 7.042169906242256\n",
      "Fitting 2 folds for each of 108 candidates, totalling 216 fits\n"
     ]
    },
    {
     "name": "stderr",
     "output_type": "stream",
     "text": [
      "[Parallel(n_jobs=-1)]: Done  34 tasks      | elapsed:    7.5s\n",
      "[Parallel(n_jobs=-1)]: Done 184 tasks      | elapsed:   24.1s\n",
      "[Parallel(n_jobs=-1)]: Done 216 out of 216 | elapsed:   27.5s finished\n"
     ]
    },
    {
     "name": "stdout",
     "output_type": "stream",
     "text": [
      "Thresh=0.016033756, n=18, explained variance: 0.7912330744860646, mean abs error: 7.042169906242256\n",
      "Fitting 2 folds for each of 108 candidates, totalling 216 fits\n"
     ]
    },
    {
     "name": "stderr",
     "output_type": "stream",
     "text": [
      "[Parallel(n_jobs=-1)]: Done  34 tasks      | elapsed:    7.7s\n",
      "[Parallel(n_jobs=-1)]: Done 184 tasks      | elapsed:   24.7s\n",
      "[Parallel(n_jobs=-1)]: Done 216 out of 216 | elapsed:   28.3s finished\n"
     ]
    },
    {
     "name": "stdout",
     "output_type": "stream",
     "text": [
      "Thresh=0.015611814, n=19, explained variance: 0.7908284245604165, mean abs error: 6.899423168383848\n",
      "Fitting 2 folds for each of 108 candidates, totalling 216 fits\n"
     ]
    },
    {
     "name": "stderr",
     "output_type": "stream",
     "text": [
      "[Parallel(n_jobs=-1)]: Done  34 tasks      | elapsed:    8.0s\n",
      "[Parallel(n_jobs=-1)]: Done 184 tasks      | elapsed:   25.2s\n",
      "[Parallel(n_jobs=-1)]: Done 216 out of 216 | elapsed:   29.0s finished\n"
     ]
    },
    {
     "name": "stdout",
     "output_type": "stream",
     "text": [
      "Thresh=0.015189873, n=20, explained variance: 0.7875881888926695, mean abs error: 7.013684458246982\n",
      "Fitting 2 folds for each of 108 candidates, totalling 216 fits\n"
     ]
    },
    {
     "name": "stderr",
     "output_type": "stream",
     "text": [
      "[Parallel(n_jobs=-1)]: Done  34 tasks      | elapsed:    7.6s\n",
      "[Parallel(n_jobs=-1)]: Done 184 tasks      | elapsed:   25.7s\n",
      "[Parallel(n_jobs=-1)]: Done 216 out of 216 | elapsed:   29.4s finished\n"
     ]
    },
    {
     "name": "stdout",
     "output_type": "stream",
     "text": [
      "Thresh=0.013924051, n=22, explained variance: 0.7777749716883783, mean abs error: 7.4388491492626265\n",
      "Fitting 2 folds for each of 108 candidates, totalling 216 fits\n"
     ]
    },
    {
     "name": "stderr",
     "output_type": "stream",
     "text": [
      "[Parallel(n_jobs=-1)]: Done  34 tasks      | elapsed:    7.6s\n",
      "[Parallel(n_jobs=-1)]: Done 184 tasks      | elapsed:   26.3s\n",
      "[Parallel(n_jobs=-1)]: Done 216 out of 216 | elapsed:   29.9s finished\n"
     ]
    },
    {
     "name": "stdout",
     "output_type": "stream",
     "text": [
      "Thresh=0.013924051, n=22, explained variance: 0.7777749716883783, mean abs error: 7.4388491492626265\n",
      "Fitting 2 folds for each of 108 candidates, totalling 216 fits\n"
     ]
    },
    {
     "name": "stderr",
     "output_type": "stream",
     "text": [
      "[Parallel(n_jobs=-1)]: Done  34 tasks      | elapsed:    7.8s\n",
      "[Parallel(n_jobs=-1)]: Done 184 tasks      | elapsed:   25.8s\n",
      "[Parallel(n_jobs=-1)]: Done 216 out of 216 | elapsed:   30.1s finished\n"
     ]
    },
    {
     "name": "stdout",
     "output_type": "stream",
     "text": [
      "Thresh=0.0130801685, n=23, explained variance: 0.7869768273935045, mean abs error: 7.172048115808115\n",
      "Fitting 2 folds for each of 108 candidates, totalling 216 fits\n"
     ]
    },
    {
     "name": "stderr",
     "output_type": "stream",
     "text": [
      "[Parallel(n_jobs=-1)]: Done  34 tasks      | elapsed:    7.9s\n",
      "[Parallel(n_jobs=-1)]: Done 184 tasks      | elapsed:   26.7s\n",
      "[Parallel(n_jobs=-1)]: Done 216 out of 216 | elapsed:   31.0s finished\n"
     ]
    },
    {
     "name": "stdout",
     "output_type": "stream",
     "text": [
      "Thresh=0.012658228, n=25, explained variance: 0.7861829870629309, mean abs error: 7.239465102424022\n",
      "Fitting 2 folds for each of 108 candidates, totalling 216 fits\n"
     ]
    },
    {
     "name": "stderr",
     "output_type": "stream",
     "text": [
      "[Parallel(n_jobs=-1)]: Done  34 tasks      | elapsed:    7.7s\n",
      "[Parallel(n_jobs=-1)]: Done 184 tasks      | elapsed:   26.4s\n",
      "[Parallel(n_jobs=-1)]: Done 216 out of 216 | elapsed:   30.8s finished\n"
     ]
    },
    {
     "name": "stdout",
     "output_type": "stream",
     "text": [
      "Thresh=0.012658228, n=25, explained variance: 0.7861829870629309, mean abs error: 7.239465102424022\n",
      "Fitting 2 folds for each of 108 candidates, totalling 216 fits\n"
     ]
    },
    {
     "name": "stderr",
     "output_type": "stream",
     "text": [
      "[Parallel(n_jobs=-1)]: Done  34 tasks      | elapsed:    8.1s\n",
      "[Parallel(n_jobs=-1)]: Done 184 tasks      | elapsed:   27.5s\n",
      "[Parallel(n_jobs=-1)]: Done 216 out of 216 | elapsed:   32.2s finished\n"
     ]
    },
    {
     "name": "stdout",
     "output_type": "stream",
     "text": [
      "Thresh=0.012236287, n=27, explained variance: 0.7787372550116889, mean abs error: 7.579863523865819\n",
      "Fitting 2 folds for each of 108 candidates, totalling 216 fits\n"
     ]
    },
    {
     "name": "stderr",
     "output_type": "stream",
     "text": [
      "[Parallel(n_jobs=-1)]: Done  34 tasks      | elapsed:    7.9s\n",
      "[Parallel(n_jobs=-1)]: Done 184 tasks      | elapsed:   27.3s\n",
      "[Parallel(n_jobs=-1)]: Done 216 out of 216 | elapsed:   31.9s finished\n"
     ]
    },
    {
     "name": "stdout",
     "output_type": "stream",
     "text": [
      "Thresh=0.012236287, n=27, explained variance: 0.7787372550116889, mean abs error: 7.579863523865819\n",
      "Fitting 2 folds for each of 108 candidates, totalling 216 fits\n"
     ]
    },
    {
     "name": "stderr",
     "output_type": "stream",
     "text": [
      "[Parallel(n_jobs=-1)]: Done  34 tasks      | elapsed:    7.9s\n",
      "[Parallel(n_jobs=-1)]: Done 184 tasks      | elapsed:   27.5s\n",
      "[Parallel(n_jobs=-1)]: Done 216 out of 216 | elapsed:   32.2s finished\n"
     ]
    },
    {
     "name": "stdout",
     "output_type": "stream",
     "text": [
      "Thresh=0.011814346, n=28, explained variance: 0.7642874271125202, mean abs error: 7.67428942925637\n",
      "Fitting 2 folds for each of 108 candidates, totalling 216 fits\n"
     ]
    },
    {
     "name": "stderr",
     "output_type": "stream",
     "text": [
      "[Parallel(n_jobs=-1)]: Done  34 tasks      | elapsed:    7.8s\n",
      "[Parallel(n_jobs=-1)]: Done 184 tasks      | elapsed:   27.9s\n",
      "[Parallel(n_jobs=-1)]: Done 216 out of 216 | elapsed:   32.9s finished\n"
     ]
    },
    {
     "name": "stdout",
     "output_type": "stream",
     "text": [
      "Thresh=0.011392405, n=29, explained variance: 0.7709913830815289, mean abs error: 7.902825521363623\n",
      "Fitting 2 folds for each of 108 candidates, totalling 216 fits\n"
     ]
    },
    {
     "name": "stderr",
     "output_type": "stream",
     "text": [
      "[Parallel(n_jobs=-1)]: Done  34 tasks      | elapsed:    8.3s\n",
      "[Parallel(n_jobs=-1)]: Done 184 tasks      | elapsed:   30.0s\n",
      "[Parallel(n_jobs=-1)]: Done 216 out of 216 | elapsed:   35.0s finished\n"
     ]
    },
    {
     "name": "stdout",
     "output_type": "stream",
     "text": [
      "Thresh=0.010548524, n=33, explained variance: 0.766343704230773, mean abs error: 7.867706552738127\n",
      "Fitting 2 folds for each of 108 candidates, totalling 216 fits\n"
     ]
    },
    {
     "name": "stderr",
     "output_type": "stream",
     "text": [
      "[Parallel(n_jobs=-1)]: Done  34 tasks      | elapsed:    8.6s\n",
      "[Parallel(n_jobs=-1)]: Done 184 tasks      | elapsed:   30.3s\n",
      "[Parallel(n_jobs=-1)]: Done 216 out of 216 | elapsed:   35.0s finished\n"
     ]
    },
    {
     "name": "stdout",
     "output_type": "stream",
     "text": [
      "Thresh=0.010548524, n=33, explained variance: 0.766343704230773, mean abs error: 7.867706552738127\n",
      "Fitting 2 folds for each of 108 candidates, totalling 216 fits\n"
     ]
    },
    {
     "name": "stderr",
     "output_type": "stream",
     "text": [
      "[Parallel(n_jobs=-1)]: Done  34 tasks      | elapsed:    8.4s\n",
      "[Parallel(n_jobs=-1)]: Done 184 tasks      | elapsed:   29.9s\n",
      "[Parallel(n_jobs=-1)]: Done 216 out of 216 | elapsed:   34.7s finished\n"
     ]
    },
    {
     "name": "stdout",
     "output_type": "stream",
     "text": [
      "Thresh=0.010548524, n=33, explained variance: 0.766343704230773, mean abs error: 7.867706552738127\n",
      "Fitting 2 folds for each of 108 candidates, totalling 216 fits\n"
     ]
    },
    {
     "name": "stderr",
     "output_type": "stream",
     "text": [
      "[Parallel(n_jobs=-1)]: Done  34 tasks      | elapsed:    9.0s\n",
      "[Parallel(n_jobs=-1)]: Done 184 tasks      | elapsed:   31.2s\n",
      "[Parallel(n_jobs=-1)]: Done 216 out of 216 | elapsed:   36.1s finished\n"
     ]
    },
    {
     "name": "stdout",
     "output_type": "stream",
     "text": [
      "Thresh=0.010548524, n=33, explained variance: 0.766343704230773, mean abs error: 7.867706552738127\n",
      "Fitting 2 folds for each of 108 candidates, totalling 216 fits\n"
     ]
    },
    {
     "name": "stderr",
     "output_type": "stream",
     "text": [
      "[Parallel(n_jobs=-1)]: Done  34 tasks      | elapsed:    8.5s\n",
      "[Parallel(n_jobs=-1)]: Done 184 tasks      | elapsed:   30.9s\n",
      "[Parallel(n_jobs=-1)]: Done 216 out of 216 | elapsed:   36.0s finished\n"
     ]
    },
    {
     "name": "stdout",
     "output_type": "stream",
     "text": [
      "Thresh=0.009704641, n=35, explained variance: 0.7851618223447003, mean abs error: 7.208641268207411\n",
      "Fitting 2 folds for each of 108 candidates, totalling 216 fits\n"
     ]
    },
    {
     "name": "stderr",
     "output_type": "stream",
     "text": [
      "[Parallel(n_jobs=-1)]: Done  34 tasks      | elapsed:    8.8s\n",
      "[Parallel(n_jobs=-1)]: Done 184 tasks      | elapsed:   30.9s\n",
      "[Parallel(n_jobs=-1)]: Done 216 out of 216 | elapsed:   36.0s finished\n"
     ]
    },
    {
     "name": "stdout",
     "output_type": "stream",
     "text": [
      "Thresh=0.009704641, n=35, explained variance: 0.7851618223447003, mean abs error: 7.208641268207411\n",
      "Fitting 2 folds for each of 108 candidates, totalling 216 fits\n"
     ]
    },
    {
     "name": "stderr",
     "output_type": "stream",
     "text": [
      "[Parallel(n_jobs=-1)]: Done  34 tasks      | elapsed:    8.7s\n",
      "[Parallel(n_jobs=-1)]: Done 184 tasks      | elapsed:   31.9s\n",
      "[Parallel(n_jobs=-1)]: Done 216 out of 216 | elapsed:   37.0s finished\n"
     ]
    },
    {
     "name": "stdout",
     "output_type": "stream",
     "text": [
      "Thresh=0.008438818, n=36, explained variance: 0.7658523413021352, mean abs error: 7.682627697735986\n",
      "Fitting 2 folds for each of 108 candidates, totalling 216 fits\n"
     ]
    },
    {
     "name": "stderr",
     "output_type": "stream",
     "text": [
      "[Parallel(n_jobs=-1)]: Done  34 tasks      | elapsed:    8.5s\n",
      "[Parallel(n_jobs=-1)]: Done 184 tasks      | elapsed:   32.1s\n",
      "[Parallel(n_jobs=-1)]: Done 216 out of 216 | elapsed:   37.2s finished\n"
     ]
    },
    {
     "name": "stdout",
     "output_type": "stream",
     "text": [
      "Thresh=0.008016878, n=37, explained variance: 0.7731730202303557, mean abs error: 7.673091871566516\n",
      "Fitting 2 folds for each of 108 candidates, totalling 216 fits\n"
     ]
    },
    {
     "name": "stderr",
     "output_type": "stream",
     "text": [
      "[Parallel(n_jobs=-1)]: Done  34 tasks      | elapsed:    8.8s\n",
      "[Parallel(n_jobs=-1)]: Done 184 tasks      | elapsed:   33.5s\n",
      "[Parallel(n_jobs=-1)]: Done 216 out of 216 | elapsed:   39.1s finished\n"
     ]
    },
    {
     "name": "stdout",
     "output_type": "stream",
     "text": [
      "Thresh=0.0075949365, n=40, explained variance: 0.7769288370487373, mean abs error: 7.585793763544867\n",
      "Fitting 2 folds for each of 108 candidates, totalling 216 fits\n"
     ]
    },
    {
     "name": "stderr",
     "output_type": "stream",
     "text": [
      "[Parallel(n_jobs=-1)]: Done  34 tasks      | elapsed:    8.8s\n",
      "[Parallel(n_jobs=-1)]: Done 184 tasks      | elapsed:   33.6s\n",
      "[Parallel(n_jobs=-1)]: Done 216 out of 216 | elapsed:   39.5s finished\n"
     ]
    },
    {
     "name": "stdout",
     "output_type": "stream",
     "text": [
      "Thresh=0.0075949365, n=40, explained variance: 0.7769288370487373, mean abs error: 7.585793763544867\n",
      "Fitting 2 folds for each of 108 candidates, totalling 216 fits\n"
     ]
    },
    {
     "name": "stderr",
     "output_type": "stream",
     "text": [
      "[Parallel(n_jobs=-1)]: Done  34 tasks      | elapsed:    8.5s\n",
      "[Parallel(n_jobs=-1)]: Done 184 tasks      | elapsed:   33.6s\n",
      "[Parallel(n_jobs=-1)]: Done 216 out of 216 | elapsed:   39.0s finished\n"
     ]
    },
    {
     "name": "stdout",
     "output_type": "stream",
     "text": [
      "Thresh=0.0075949365, n=40, explained variance: 0.7769288370487373, mean abs error: 7.585793763544867\n",
      "Fitting 2 folds for each of 108 candidates, totalling 216 fits\n"
     ]
    },
    {
     "name": "stderr",
     "output_type": "stream",
     "text": [
      "[Parallel(n_jobs=-1)]: Done  34 tasks      | elapsed:    8.8s\n",
      "[Parallel(n_jobs=-1)]: Done 184 tasks      | elapsed:   33.8s\n",
      "[Parallel(n_jobs=-1)]: Done 216 out of 216 | elapsed:   39.3s finished\n"
     ]
    },
    {
     "name": "stdout",
     "output_type": "stream",
     "text": [
      "Thresh=0.006751055, n=41, explained variance: 0.7745974049756428, mean abs error: 7.977447378176298\n",
      "Fitting 2 folds for each of 108 candidates, totalling 216 fits\n"
     ]
    },
    {
     "name": "stderr",
     "output_type": "stream",
     "text": [
      "[Parallel(n_jobs=-1)]: Done  34 tasks      | elapsed:    8.9s\n",
      "[Parallel(n_jobs=-1)]: Done 184 tasks      | elapsed:   34.4s\n",
      "[Parallel(n_jobs=-1)]: Done 216 out of 216 | elapsed:   40.8s finished\n"
     ]
    },
    {
     "name": "stdout",
     "output_type": "stream",
     "text": [
      "Thresh=0.006329114, n=44, explained variance: 0.7650902580875382, mean abs error: 7.932305825366004\n",
      "Fitting 2 folds for each of 108 candidates, totalling 216 fits\n"
     ]
    },
    {
     "name": "stderr",
     "output_type": "stream",
     "text": [
      "[Parallel(n_jobs=-1)]: Done  34 tasks      | elapsed:    9.4s\n",
      "[Parallel(n_jobs=-1)]: Done 184 tasks      | elapsed:   35.4s\n",
      "[Parallel(n_jobs=-1)]: Done 216 out of 216 | elapsed:   41.3s finished\n"
     ]
    },
    {
     "name": "stdout",
     "output_type": "stream",
     "text": [
      "Thresh=0.006329114, n=44, explained variance: 0.7650902580875382, mean abs error: 7.932305825366004\n",
      "Fitting 2 folds for each of 108 candidates, totalling 216 fits\n"
     ]
    },
    {
     "name": "stderr",
     "output_type": "stream",
     "text": [
      "[Parallel(n_jobs=-1)]: Done  34 tasks      | elapsed:    9.0s\n",
      "[Parallel(n_jobs=-1)]: Done 184 tasks      | elapsed:   34.6s\n",
      "[Parallel(n_jobs=-1)]: Done 216 out of 216 | elapsed:   40.8s finished\n"
     ]
    },
    {
     "name": "stdout",
     "output_type": "stream",
     "text": [
      "Thresh=0.006329114, n=44, explained variance: 0.7650902580875382, mean abs error: 7.932305825366004\n",
      "Fitting 2 folds for each of 108 candidates, totalling 216 fits\n"
     ]
    },
    {
     "name": "stderr",
     "output_type": "stream",
     "text": [
      "[Parallel(n_jobs=-1)]: Done  34 tasks      | elapsed:    8.9s\n",
      "[Parallel(n_jobs=-1)]: Done 184 tasks      | elapsed:   35.2s\n",
      "[Parallel(n_jobs=-1)]: Done 216 out of 216 | elapsed:   41.2s finished\n"
     ]
    },
    {
     "name": "stdout",
     "output_type": "stream",
     "text": [
      "Thresh=0.005485232, n=46, explained variance: 0.7677896590717206, mean abs error: 7.761373983403568\n",
      "Fitting 2 folds for each of 108 candidates, totalling 216 fits\n"
     ]
    },
    {
     "name": "stderr",
     "output_type": "stream",
     "text": [
      "[Parallel(n_jobs=-1)]: Done  34 tasks      | elapsed:    9.7s\n",
      "[Parallel(n_jobs=-1)]: Done 184 tasks      | elapsed:   35.4s\n",
      "[Parallel(n_jobs=-1)]: Done 216 out of 216 | elapsed:   42.0s finished\n"
     ]
    },
    {
     "name": "stdout",
     "output_type": "stream",
     "text": [
      "Thresh=0.005485232, n=46, explained variance: 0.7677896590717206, mean abs error: 7.761373983403568\n",
      "Fitting 2 folds for each of 108 candidates, totalling 216 fits\n"
     ]
    },
    {
     "name": "stderr",
     "output_type": "stream",
     "text": [
      "[Parallel(n_jobs=-1)]: Done  34 tasks      | elapsed:    9.2s\n",
      "[Parallel(n_jobs=-1)]: Done 184 tasks      | elapsed:   35.6s\n",
      "[Parallel(n_jobs=-1)]: Done 216 out of 216 | elapsed:   41.6s finished\n"
     ]
    },
    {
     "name": "stdout",
     "output_type": "stream",
     "text": [
      "Thresh=0.005063291, n=47, explained variance: 0.7156056454571909, mean abs error: 9.821428545029669\n",
      "Fitting 2 folds for each of 108 candidates, totalling 216 fits\n"
     ]
    },
    {
     "name": "stderr",
     "output_type": "stream",
     "text": [
      "[Parallel(n_jobs=-1)]: Done  34 tasks      | elapsed:    9.8s\n",
      "[Parallel(n_jobs=-1)]: Done 184 tasks      | elapsed:   38.0s\n",
      "[Parallel(n_jobs=-1)]: Done 216 out of 216 | elapsed:   44.5s finished\n"
     ]
    },
    {
     "name": "stdout",
     "output_type": "stream",
     "text": [
      "Thresh=0.0046413504, n=51, explained variance: 0.6912927849429635, mean abs error: 10.611764768746546\n",
      "Fitting 2 folds for each of 108 candidates, totalling 216 fits\n"
     ]
    },
    {
     "name": "stderr",
     "output_type": "stream",
     "text": [
      "[Parallel(n_jobs=-1)]: Done  34 tasks      | elapsed:    9.7s\n",
      "[Parallel(n_jobs=-1)]: Done 184 tasks      | elapsed:   37.3s\n",
      "[Parallel(n_jobs=-1)]: Done 216 out of 216 | elapsed:   43.9s finished\n"
     ]
    },
    {
     "name": "stdout",
     "output_type": "stream",
     "text": [
      "Thresh=0.0046413504, n=51, explained variance: 0.6912927849429635, mean abs error: 10.611764768746546\n",
      "Fitting 2 folds for each of 108 candidates, totalling 216 fits\n"
     ]
    },
    {
     "name": "stderr",
     "output_type": "stream",
     "text": [
      "[Parallel(n_jobs=-1)]: Done  34 tasks      | elapsed:    9.5s\n",
      "[Parallel(n_jobs=-1)]: Done 184 tasks      | elapsed:   37.3s\n",
      "[Parallel(n_jobs=-1)]: Done 216 out of 216 | elapsed:   44.1s finished\n"
     ]
    },
    {
     "name": "stdout",
     "output_type": "stream",
     "text": [
      "Thresh=0.0046413504, n=51, explained variance: 0.6912927849429635, mean abs error: 10.611764768746546\n",
      "Fitting 2 folds for each of 108 candidates, totalling 216 fits\n"
     ]
    },
    {
     "name": "stderr",
     "output_type": "stream",
     "text": [
      "[Parallel(n_jobs=-1)]: Done  34 tasks      | elapsed:    9.6s\n",
      "[Parallel(n_jobs=-1)]: Done 184 tasks      | elapsed:   37.9s\n",
      "[Parallel(n_jobs=-1)]: Done 216 out of 216 | elapsed:   44.4s finished\n"
     ]
    },
    {
     "name": "stdout",
     "output_type": "stream",
     "text": [
      "Thresh=0.0046413504, n=51, explained variance: 0.6912927849429635, mean abs error: 10.611764768746546\n",
      "Fitting 2 folds for each of 108 candidates, totalling 216 fits\n"
     ]
    },
    {
     "name": "stderr",
     "output_type": "stream",
     "text": [
      "[Parallel(n_jobs=-1)]: Done  34 tasks      | elapsed:   10.0s\n",
      "[Parallel(n_jobs=-1)]: Done 184 tasks      | elapsed:   39.6s\n",
      "[Parallel(n_jobs=-1)]: Done 216 out of 216 | elapsed:   46.6s finished\n"
     ]
    },
    {
     "name": "stdout",
     "output_type": "stream",
     "text": [
      "Thresh=0.0037974683, n=57, explained variance: 0.7042305875257259, mean abs error: 9.794378750870926\n",
      "Fitting 2 folds for each of 108 candidates, totalling 216 fits\n"
     ]
    },
    {
     "name": "stderr",
     "output_type": "stream",
     "text": [
      "[Parallel(n_jobs=-1)]: Done  34 tasks      | elapsed:   10.2s\n",
      "[Parallel(n_jobs=-1)]: Done 184 tasks      | elapsed:   39.5s\n",
      "[Parallel(n_jobs=-1)]: Done 216 out of 216 | elapsed:   47.2s finished\n"
     ]
    },
    {
     "name": "stdout",
     "output_type": "stream",
     "text": [
      "Thresh=0.0037974683, n=57, explained variance: 0.7042305875257259, mean abs error: 9.794378750870926\n",
      "Fitting 2 folds for each of 108 candidates, totalling 216 fits\n"
     ]
    },
    {
     "name": "stderr",
     "output_type": "stream",
     "text": [
      "[Parallel(n_jobs=-1)]: Done  34 tasks      | elapsed:   10.0s\n",
      "[Parallel(n_jobs=-1)]: Done 184 tasks      | elapsed:   39.6s\n",
      "[Parallel(n_jobs=-1)]: Done 216 out of 216 | elapsed:   46.8s finished\n"
     ]
    },
    {
     "name": "stdout",
     "output_type": "stream",
     "text": [
      "Thresh=0.0037974683, n=57, explained variance: 0.7042305875257259, mean abs error: 9.794378750870926\n",
      "Fitting 2 folds for each of 108 candidates, totalling 216 fits\n"
     ]
    },
    {
     "name": "stderr",
     "output_type": "stream",
     "text": [
      "[Parallel(n_jobs=-1)]: Done  34 tasks      | elapsed:    9.6s\n",
      "[Parallel(n_jobs=-1)]: Done 184 tasks      | elapsed:   40.1s\n",
      "[Parallel(n_jobs=-1)]: Done 216 out of 216 | elapsed:   47.0s finished\n"
     ]
    },
    {
     "name": "stdout",
     "output_type": "stream",
     "text": [
      "Thresh=0.0037974683, n=57, explained variance: 0.7042305875257259, mean abs error: 9.794378750870926\n",
      "Fitting 2 folds for each of 108 candidates, totalling 216 fits\n"
     ]
    },
    {
     "name": "stderr",
     "output_type": "stream",
     "text": [
      "[Parallel(n_jobs=-1)]: Done  34 tasks      | elapsed:   10.1s\n",
      "[Parallel(n_jobs=-1)]: Done 184 tasks      | elapsed:   40.6s\n",
      "[Parallel(n_jobs=-1)]: Done 216 out of 216 | elapsed:   47.5s finished\n"
     ]
    },
    {
     "name": "stdout",
     "output_type": "stream",
     "text": [
      "Thresh=0.0037974683, n=57, explained variance: 0.7042305875257259, mean abs error: 9.794378750870926\n",
      "Fitting 2 folds for each of 108 candidates, totalling 216 fits\n"
     ]
    },
    {
     "name": "stderr",
     "output_type": "stream",
     "text": [
      "[Parallel(n_jobs=-1)]: Done  34 tasks      | elapsed:   10.0s\n",
      "[Parallel(n_jobs=-1)]: Done 184 tasks      | elapsed:   39.9s\n",
      "[Parallel(n_jobs=-1)]: Done 216 out of 216 | elapsed:   47.0s finished\n"
     ]
    },
    {
     "name": "stdout",
     "output_type": "stream",
     "text": [
      "Thresh=0.0037974683, n=57, explained variance: 0.7042305875257259, mean abs error: 9.794378750870926\n",
      "Fitting 2 folds for each of 108 candidates, totalling 216 fits\n"
     ]
    },
    {
     "name": "stderr",
     "output_type": "stream",
     "text": [
      "[Parallel(n_jobs=-1)]: Done  34 tasks      | elapsed:   10.0s\n",
      "[Parallel(n_jobs=-1)]: Done 184 tasks      | elapsed:   40.8s\n",
      "[Parallel(n_jobs=-1)]: Done 216 out of 216 | elapsed:   48.1s finished\n"
     ]
    },
    {
     "name": "stdout",
     "output_type": "stream",
     "text": [
      "Thresh=0.0033755274, n=59, explained variance: 0.7183155882867789, mean abs error: 9.621964289614839\n",
      "Fitting 2 folds for each of 108 candidates, totalling 216 fits\n"
     ]
    },
    {
     "name": "stderr",
     "output_type": "stream",
     "text": [
      "[Parallel(n_jobs=-1)]: Done  34 tasks      | elapsed:   10.4s\n",
      "[Parallel(n_jobs=-1)]: Done 184 tasks      | elapsed:   40.7s\n",
      "[Parallel(n_jobs=-1)]: Done 216 out of 216 | elapsed:   47.6s finished\n"
     ]
    },
    {
     "name": "stdout",
     "output_type": "stream",
     "text": [
      "Thresh=0.0033755274, n=59, explained variance: 0.7183155882867789, mean abs error: 9.621964289614839\n",
      "Fitting 2 folds for each of 108 candidates, totalling 216 fits\n"
     ]
    },
    {
     "name": "stderr",
     "output_type": "stream",
     "text": [
      "[Parallel(n_jobs=-1)]: Done  34 tasks      | elapsed:   10.2s\n",
      "[Parallel(n_jobs=-1)]: Done 184 tasks      | elapsed:   41.6s\n",
      "[Parallel(n_jobs=-1)]: Done 216 out of 216 | elapsed:   49.2s finished\n"
     ]
    },
    {
     "name": "stdout",
     "output_type": "stream",
     "text": [
      "Thresh=0.0029535864, n=62, explained variance: 0.7062003044478093, mean abs error: 9.509729150173799\n",
      "Fitting 2 folds for each of 108 candidates, totalling 216 fits\n"
     ]
    },
    {
     "name": "stderr",
     "output_type": "stream",
     "text": [
      "[Parallel(n_jobs=-1)]: Done  34 tasks      | elapsed:   10.1s\n",
      "[Parallel(n_jobs=-1)]: Done 184 tasks      | elapsed:   42.2s\n",
      "[Parallel(n_jobs=-1)]: Done 216 out of 216 | elapsed:   49.8s finished\n"
     ]
    },
    {
     "name": "stdout",
     "output_type": "stream",
     "text": [
      "Thresh=0.0029535864, n=62, explained variance: 0.7062003044478093, mean abs error: 9.509729150173799\n",
      "Fitting 2 folds for each of 108 candidates, totalling 216 fits\n"
     ]
    },
    {
     "name": "stderr",
     "output_type": "stream",
     "text": [
      "[Parallel(n_jobs=-1)]: Done  34 tasks      | elapsed:   10.3s\n",
      "[Parallel(n_jobs=-1)]: Done 184 tasks      | elapsed:   41.6s\n",
      "[Parallel(n_jobs=-1)]: Done 216 out of 216 | elapsed:   49.1s finished\n"
     ]
    },
    {
     "name": "stdout",
     "output_type": "stream",
     "text": [
      "Thresh=0.0029535864, n=62, explained variance: 0.7062003044478093, mean abs error: 9.509729150173799\n",
      "Fitting 2 folds for each of 108 candidates, totalling 216 fits\n"
     ]
    },
    {
     "name": "stderr",
     "output_type": "stream",
     "text": [
      "[Parallel(n_jobs=-1)]: Done  34 tasks      | elapsed:   10.5s\n",
      "[Parallel(n_jobs=-1)]: Done 184 tasks      | elapsed:   43.3s\n",
      "[Parallel(n_jobs=-1)]: Done 216 out of 216 | elapsed:   51.3s finished\n"
     ]
    },
    {
     "name": "stdout",
     "output_type": "stream",
     "text": [
      "Thresh=0.0025316456, n=66, explained variance: 0.6923572357387224, mean abs error: 9.935028865224725\n",
      "Fitting 2 folds for each of 108 candidates, totalling 216 fits\n"
     ]
    },
    {
     "name": "stderr",
     "output_type": "stream",
     "text": [
      "[Parallel(n_jobs=-1)]: Done  34 tasks      | elapsed:   10.4s\n",
      "[Parallel(n_jobs=-1)]: Done 184 tasks      | elapsed:   42.9s\n",
      "[Parallel(n_jobs=-1)]: Done 216 out of 216 | elapsed:   51.0s finished\n"
     ]
    },
    {
     "name": "stdout",
     "output_type": "stream",
     "text": [
      "Thresh=0.0025316456, n=66, explained variance: 0.6923572357387224, mean abs error: 9.935028865224725\n",
      "Fitting 2 folds for each of 108 candidates, totalling 216 fits\n"
     ]
    },
    {
     "name": "stderr",
     "output_type": "stream",
     "text": [
      "[Parallel(n_jobs=-1)]: Done  34 tasks      | elapsed:   10.3s\n",
      "[Parallel(n_jobs=-1)]: Done 184 tasks      | elapsed:   42.9s\n",
      "[Parallel(n_jobs=-1)]: Done 216 out of 216 | elapsed:   50.7s finished\n"
     ]
    },
    {
     "name": "stdout",
     "output_type": "stream",
     "text": [
      "Thresh=0.0025316456, n=66, explained variance: 0.6923572357387224, mean abs error: 9.935028865224725\n",
      "Fitting 2 folds for each of 108 candidates, totalling 216 fits\n"
     ]
    },
    {
     "name": "stderr",
     "output_type": "stream",
     "text": [
      "[Parallel(n_jobs=-1)]: Done  34 tasks      | elapsed:   10.5s\n",
      "[Parallel(n_jobs=-1)]: Done 184 tasks      | elapsed:   42.8s\n",
      "[Parallel(n_jobs=-1)]: Done 216 out of 216 | elapsed:   50.8s finished\n"
     ]
    },
    {
     "name": "stdout",
     "output_type": "stream",
     "text": [
      "Thresh=0.0025316456, n=66, explained variance: 0.6923572357387224, mean abs error: 9.935028865224725\n",
      "Fitting 2 folds for each of 108 candidates, totalling 216 fits\n"
     ]
    },
    {
     "name": "stderr",
     "output_type": "stream",
     "text": [
      "[Parallel(n_jobs=-1)]: Done  34 tasks      | elapsed:   10.4s\n",
      "[Parallel(n_jobs=-1)]: Done 184 tasks      | elapsed:   44.8s\n",
      "[Parallel(n_jobs=-1)]: Done 216 out of 216 | elapsed:   53.1s finished\n"
     ]
    },
    {
     "name": "stdout",
     "output_type": "stream",
     "text": [
      "Thresh=0.0021097045, n=70, explained variance: 0.7129132166169709, mean abs error: 9.734334805473035\n",
      "Fitting 2 folds for each of 108 candidates, totalling 216 fits\n"
     ]
    },
    {
     "name": "stderr",
     "output_type": "stream",
     "text": [
      "[Parallel(n_jobs=-1)]: Done  34 tasks      | elapsed:   10.5s\n",
      "[Parallel(n_jobs=-1)]: Done 184 tasks      | elapsed:   45.5s\n",
      "[Parallel(n_jobs=-1)]: Done 216 out of 216 | elapsed:   53.7s finished\n"
     ]
    },
    {
     "name": "stdout",
     "output_type": "stream",
     "text": [
      "Thresh=0.0021097045, n=70, explained variance: 0.7129132166169709, mean abs error: 9.734334805473035\n",
      "Fitting 2 folds for each of 108 candidates, totalling 216 fits\n"
     ]
    },
    {
     "name": "stderr",
     "output_type": "stream",
     "text": [
      "[Parallel(n_jobs=-1)]: Done  34 tasks      | elapsed:   10.7s\n",
      "[Parallel(n_jobs=-1)]: Done 184 tasks      | elapsed:   45.1s\n",
      "[Parallel(n_jobs=-1)]: Done 216 out of 216 | elapsed:   53.1s finished\n"
     ]
    },
    {
     "name": "stdout",
     "output_type": "stream",
     "text": [
      "Thresh=0.0021097045, n=70, explained variance: 0.7129132166169709, mean abs error: 9.734334805473035\n",
      "Fitting 2 folds for each of 108 candidates, totalling 216 fits\n"
     ]
    },
    {
     "name": "stderr",
     "output_type": "stream",
     "text": [
      "[Parallel(n_jobs=-1)]: Done  34 tasks      | elapsed:   10.8s\n",
      "[Parallel(n_jobs=-1)]: Done 184 tasks      | elapsed:   45.5s\n",
      "[Parallel(n_jobs=-1)]: Done 216 out of 216 | elapsed:   53.8s finished\n"
     ]
    },
    {
     "name": "stdout",
     "output_type": "stream",
     "text": [
      "Thresh=0.0021097045, n=70, explained variance: 0.7129132166169709, mean abs error: 9.734334805473035\n",
      "Fitting 2 folds for each of 108 candidates, totalling 216 fits\n"
     ]
    },
    {
     "name": "stderr",
     "output_type": "stream",
     "text": [
      "[Parallel(n_jobs=-1)]: Done  34 tasks      | elapsed:   11.0s\n",
      "[Parallel(n_jobs=-1)]: Done 184 tasks      | elapsed:   47.4s\n",
      "[Parallel(n_jobs=-1)]: Done 216 out of 216 | elapsed:   56.3s finished\n"
     ]
    },
    {
     "name": "stdout",
     "output_type": "stream",
     "text": [
      "Thresh=0.0016877637, n=77, explained variance: 0.7236614212905415, mean abs error: 9.273400675949132\n",
      "Fitting 2 folds for each of 108 candidates, totalling 216 fits\n"
     ]
    },
    {
     "name": "stderr",
     "output_type": "stream",
     "text": [
      "[Parallel(n_jobs=-1)]: Done  34 tasks      | elapsed:   11.2s\n",
      "[Parallel(n_jobs=-1)]: Done 184 tasks      | elapsed:   48.1s\n",
      "[Parallel(n_jobs=-1)]: Done 216 out of 216 | elapsed:   57.2s finished\n"
     ]
    },
    {
     "name": "stdout",
     "output_type": "stream",
     "text": [
      "Thresh=0.0016877637, n=77, explained variance: 0.7236614212905415, mean abs error: 9.273400675949132\n",
      "Fitting 2 folds for each of 108 candidates, totalling 216 fits\n"
     ]
    },
    {
     "name": "stderr",
     "output_type": "stream",
     "text": [
      "[Parallel(n_jobs=-1)]: Done  34 tasks      | elapsed:   11.1s\n",
      "[Parallel(n_jobs=-1)]: Done 184 tasks      | elapsed:   47.2s\n",
      "[Parallel(n_jobs=-1)]: Done 216 out of 216 | elapsed:   55.7s finished\n"
     ]
    },
    {
     "name": "stdout",
     "output_type": "stream",
     "text": [
      "Thresh=0.0016877637, n=77, explained variance: 0.7236614212905415, mean abs error: 9.273400675949132\n",
      "Fitting 2 folds for each of 108 candidates, totalling 216 fits\n"
     ]
    },
    {
     "name": "stderr",
     "output_type": "stream",
     "text": [
      "[Parallel(n_jobs=-1)]: Done  34 tasks      | elapsed:   11.3s\n",
      "[Parallel(n_jobs=-1)]: Done 184 tasks      | elapsed:   48.2s\n",
      "[Parallel(n_jobs=-1)]: Done 216 out of 216 | elapsed:   57.0s finished\n"
     ]
    },
    {
     "name": "stdout",
     "output_type": "stream",
     "text": [
      "Thresh=0.0016877637, n=77, explained variance: 0.7236614212905415, mean abs error: 9.273400675949132\n",
      "Fitting 2 folds for each of 108 candidates, totalling 216 fits\n"
     ]
    },
    {
     "name": "stderr",
     "output_type": "stream",
     "text": [
      "[Parallel(n_jobs=-1)]: Done  34 tasks      | elapsed:   11.1s\n",
      "[Parallel(n_jobs=-1)]: Done 184 tasks      | elapsed:   47.3s\n",
      "[Parallel(n_jobs=-1)]: Done 216 out of 216 | elapsed:   55.7s finished\n"
     ]
    },
    {
     "name": "stdout",
     "output_type": "stream",
     "text": [
      "Thresh=0.0016877637, n=77, explained variance: 0.7236614212905415, mean abs error: 9.273400675949132\n",
      "Fitting 2 folds for each of 108 candidates, totalling 216 fits\n"
     ]
    },
    {
     "name": "stderr",
     "output_type": "stream",
     "text": [
      "[Parallel(n_jobs=-1)]: Done  34 tasks      | elapsed:   11.2s\n",
      "[Parallel(n_jobs=-1)]: Done 184 tasks      | elapsed:   48.0s\n",
      "[Parallel(n_jobs=-1)]: Done 216 out of 216 | elapsed:   56.7s finished\n"
     ]
    },
    {
     "name": "stdout",
     "output_type": "stream",
     "text": [
      "Thresh=0.0016877637, n=77, explained variance: 0.7236614212905415, mean abs error: 9.273400675949132\n",
      "Fitting 2 folds for each of 108 candidates, totalling 216 fits\n"
     ]
    },
    {
     "name": "stderr",
     "output_type": "stream",
     "text": [
      "[Parallel(n_jobs=-1)]: Done  34 tasks      | elapsed:   11.0s\n",
      "[Parallel(n_jobs=-1)]: Done 184 tasks      | elapsed:   47.8s\n",
      "[Parallel(n_jobs=-1)]: Done 216 out of 216 | elapsed:   56.8s finished\n"
     ]
    },
    {
     "name": "stdout",
     "output_type": "stream",
     "text": [
      "Thresh=0.0016877637, n=77, explained variance: 0.7236614212905415, mean abs error: 9.273400675949132\n",
      "Fitting 2 folds for each of 108 candidates, totalling 216 fits\n"
     ]
    },
    {
     "name": "stderr",
     "output_type": "stream",
     "text": [
      "[Parallel(n_jobs=-1)]: Done  34 tasks      | elapsed:   11.3s\n",
      "[Parallel(n_jobs=-1)]: Done 184 tasks      | elapsed:   48.7s\n",
      "[Parallel(n_jobs=-1)]: Done 216 out of 216 | elapsed:   58.4s finished\n"
     ]
    },
    {
     "name": "stdout",
     "output_type": "stream",
     "text": [
      "Thresh=0.0012658228, n=83, explained variance: 0.7008872405845559, mean abs error: 9.680636466051658\n",
      "Fitting 2 folds for each of 108 candidates, totalling 216 fits\n"
     ]
    },
    {
     "name": "stderr",
     "output_type": "stream",
     "text": [
      "[Parallel(n_jobs=-1)]: Done  34 tasks      | elapsed:   11.4s\n",
      "[Parallel(n_jobs=-1)]: Done 184 tasks      | elapsed:   49.0s\n",
      "[Parallel(n_jobs=-1)]: Done 216 out of 216 | elapsed:   58.1s finished\n"
     ]
    },
    {
     "name": "stdout",
     "output_type": "stream",
     "text": [
      "Thresh=0.0012658228, n=83, explained variance: 0.7008872405845559, mean abs error: 9.680636466051658\n",
      "Fitting 2 folds for each of 108 candidates, totalling 216 fits\n"
     ]
    },
    {
     "name": "stderr",
     "output_type": "stream",
     "text": [
      "[Parallel(n_jobs=-1)]: Done  34 tasks      | elapsed:   11.4s\n",
      "[Parallel(n_jobs=-1)]: Done 184 tasks      | elapsed:   49.3s\n",
      "[Parallel(n_jobs=-1)]: Done 216 out of 216 | elapsed:   58.5s finished\n"
     ]
    },
    {
     "name": "stdout",
     "output_type": "stream",
     "text": [
      "Thresh=0.0012658228, n=83, explained variance: 0.7008872405845559, mean abs error: 9.680636466051658\n",
      "Fitting 2 folds for each of 108 candidates, totalling 216 fits\n"
     ]
    },
    {
     "name": "stderr",
     "output_type": "stream",
     "text": [
      "[Parallel(n_jobs=-1)]: Done  34 tasks      | elapsed:   11.6s\n",
      "[Parallel(n_jobs=-1)]: Done 184 tasks      | elapsed:   49.2s\n",
      "[Parallel(n_jobs=-1)]: Done 216 out of 216 | elapsed:   58.5s finished\n"
     ]
    },
    {
     "name": "stdout",
     "output_type": "stream",
     "text": [
      "Thresh=0.0012658228, n=83, explained variance: 0.7008872405845559, mean abs error: 9.680636466051658\n",
      "Fitting 2 folds for each of 108 candidates, totalling 216 fits\n"
     ]
    },
    {
     "name": "stderr",
     "output_type": "stream",
     "text": [
      "[Parallel(n_jobs=-1)]: Done  34 tasks      | elapsed:   11.2s\n",
      "[Parallel(n_jobs=-1)]: Done 184 tasks      | elapsed:   48.9s\n",
      "[Parallel(n_jobs=-1)]: Done 216 out of 216 | elapsed:   58.2s finished\n"
     ]
    },
    {
     "name": "stdout",
     "output_type": "stream",
     "text": [
      "Thresh=0.0012658228, n=83, explained variance: 0.7008872405845559, mean abs error: 9.680636466051658\n",
      "Fitting 2 folds for each of 108 candidates, totalling 216 fits\n"
     ]
    },
    {
     "name": "stderr",
     "output_type": "stream",
     "text": [
      "[Parallel(n_jobs=-1)]: Done  34 tasks      | elapsed:   11.6s\n",
      "[Parallel(n_jobs=-1)]: Done 184 tasks      | elapsed:   49.5s\n",
      "[Parallel(n_jobs=-1)]: Done 216 out of 216 | elapsed:   58.4s finished\n"
     ]
    },
    {
     "name": "stdout",
     "output_type": "stream",
     "text": [
      "Thresh=0.0012658228, n=83, explained variance: 0.7008872405845559, mean abs error: 9.680636466051658\n",
      "Fitting 2 folds for each of 108 candidates, totalling 216 fits\n"
     ]
    },
    {
     "name": "stderr",
     "output_type": "stream",
     "text": [
      "[Parallel(n_jobs=-1)]: Done  34 tasks      | elapsed:   12.0s\n",
      "[Parallel(n_jobs=-1)]: Done 184 tasks      | elapsed:   53.2s\n",
      "[Parallel(n_jobs=-1)]: Done 216 out of 216 | elapsed:  1.1min finished\n"
     ]
    },
    {
     "name": "stdout",
     "output_type": "stream",
     "text": [
      "Thresh=0.00084388186, n=92, explained variance: 0.7115903623242121, mean abs error: 9.749803375089812\n",
      "Fitting 2 folds for each of 108 candidates, totalling 216 fits\n"
     ]
    },
    {
     "name": "stderr",
     "output_type": "stream",
     "text": [
      "[Parallel(n_jobs=-1)]: Done  34 tasks      | elapsed:   11.9s\n",
      "[Parallel(n_jobs=-1)]: Done 184 tasks      | elapsed:   52.6s\n",
      "[Parallel(n_jobs=-1)]: Done 216 out of 216 | elapsed:  1.0min finished\n"
     ]
    },
    {
     "name": "stdout",
     "output_type": "stream",
     "text": [
      "Thresh=0.00084388186, n=92, explained variance: 0.7115903623242121, mean abs error: 9.749803375089812\n",
      "Fitting 2 folds for each of 108 candidates, totalling 216 fits\n"
     ]
    },
    {
     "name": "stderr",
     "output_type": "stream",
     "text": [
      "[Parallel(n_jobs=-1)]: Done  34 tasks      | elapsed:   11.9s\n",
      "[Parallel(n_jobs=-1)]: Done 184 tasks      | elapsed:   52.9s\n",
      "[Parallel(n_jobs=-1)]: Done 216 out of 216 | elapsed:  1.0min finished\n"
     ]
    },
    {
     "name": "stdout",
     "output_type": "stream",
     "text": [
      "Thresh=0.00084388186, n=92, explained variance: 0.7115903623242121, mean abs error: 9.749803375089812\n",
      "Fitting 2 folds for each of 108 candidates, totalling 216 fits\n"
     ]
    },
    {
     "name": "stderr",
     "output_type": "stream",
     "text": [
      "[Parallel(n_jobs=-1)]: Done  34 tasks      | elapsed:   11.9s\n",
      "[Parallel(n_jobs=-1)]: Done 184 tasks      | elapsed:   53.8s\n",
      "[Parallel(n_jobs=-1)]: Done 216 out of 216 | elapsed:  1.1min finished\n"
     ]
    },
    {
     "name": "stdout",
     "output_type": "stream",
     "text": [
      "Thresh=0.00084388186, n=92, explained variance: 0.7115903623242121, mean abs error: 9.749803375089812\n",
      "Fitting 2 folds for each of 108 candidates, totalling 216 fits\n"
     ]
    },
    {
     "name": "stderr",
     "output_type": "stream",
     "text": [
      "[Parallel(n_jobs=-1)]: Done  34 tasks      | elapsed:   11.8s\n",
      "[Parallel(n_jobs=-1)]: Done 184 tasks      | elapsed:   53.6s\n",
      "[Parallel(n_jobs=-1)]: Done 216 out of 216 | elapsed:  1.1min finished\n"
     ]
    },
    {
     "name": "stdout",
     "output_type": "stream",
     "text": [
      "Thresh=0.00084388186, n=92, explained variance: 0.7115903623242121, mean abs error: 9.749803375089812\n",
      "Fitting 2 folds for each of 108 candidates, totalling 216 fits\n"
     ]
    },
    {
     "name": "stderr",
     "output_type": "stream",
     "text": [
      "[Parallel(n_jobs=-1)]: Done  34 tasks      | elapsed:   11.7s\n",
      "[Parallel(n_jobs=-1)]: Done 184 tasks      | elapsed:   54.6s\n",
      "[Parallel(n_jobs=-1)]: Done 216 out of 216 | elapsed:  1.1min finished\n"
     ]
    },
    {
     "name": "stdout",
     "output_type": "stream",
     "text": [
      "Thresh=0.00084388186, n=92, explained variance: 0.7115903623242121, mean abs error: 9.749803375089812\n",
      "Fitting 2 folds for each of 108 candidates, totalling 216 fits\n"
     ]
    },
    {
     "name": "stderr",
     "output_type": "stream",
     "text": [
      "[Parallel(n_jobs=-1)]: Done  34 tasks      | elapsed:   11.9s\n",
      "[Parallel(n_jobs=-1)]: Done 184 tasks      | elapsed:   53.4s\n",
      "[Parallel(n_jobs=-1)]: Done 216 out of 216 | elapsed:  1.1min finished\n"
     ]
    },
    {
     "name": "stdout",
     "output_type": "stream",
     "text": [
      "Thresh=0.00084388186, n=92, explained variance: 0.7115903623242121, mean abs error: 9.749803375089812\n",
      "Fitting 2 folds for each of 108 candidates, totalling 216 fits\n"
     ]
    },
    {
     "name": "stderr",
     "output_type": "stream",
     "text": [
      "[Parallel(n_jobs=-1)]: Done  34 tasks      | elapsed:   11.7s\n",
      "[Parallel(n_jobs=-1)]: Done 184 tasks      | elapsed:   53.3s\n",
      "[Parallel(n_jobs=-1)]: Done 216 out of 216 | elapsed:  1.1min finished\n"
     ]
    },
    {
     "name": "stdout",
     "output_type": "stream",
     "text": [
      "Thresh=0.00084388186, n=92, explained variance: 0.7115903623242121, mean abs error: 9.749803375089812\n",
      "Fitting 2 folds for each of 108 candidates, totalling 216 fits\n"
     ]
    },
    {
     "name": "stderr",
     "output_type": "stream",
     "text": [
      "[Parallel(n_jobs=-1)]: Done  34 tasks      | elapsed:   12.7s\n",
      "[Parallel(n_jobs=-1)]: Done 184 tasks      | elapsed:   55.7s\n",
      "[Parallel(n_jobs=-1)]: Done 216 out of 216 | elapsed:  1.1min finished\n"
     ]
    },
    {
     "name": "stdout",
     "output_type": "stream",
     "text": [
      "Thresh=0.00084388186, n=92, explained variance: 0.7115903623242121, mean abs error: 9.749803375089812\n",
      "Fitting 2 folds for each of 108 candidates, totalling 216 fits\n"
     ]
    },
    {
     "name": "stderr",
     "output_type": "stream",
     "text": [
      "[Parallel(n_jobs=-1)]: Done  34 tasks      | elapsed:   13.3s\n",
      "[Parallel(n_jobs=-1)]: Done 184 tasks      | elapsed:  1.1min\n",
      "[Parallel(n_jobs=-1)]: Done 216 out of 216 | elapsed:  1.2min finished\n"
     ]
    },
    {
     "name": "stdout",
     "output_type": "stream",
     "text": [
      "Thresh=0.00042194093, n=108, explained variance: 0.722195269258969, mean abs error: 9.344307361062603\n",
      "Fitting 2 folds for each of 108 candidates, totalling 216 fits\n"
     ]
    },
    {
     "name": "stderr",
     "output_type": "stream",
     "text": [
      "[Parallel(n_jobs=-1)]: Done  34 tasks      | elapsed:   13.1s\n",
      "[Parallel(n_jobs=-1)]: Done 184 tasks      | elapsed:   58.1s\n",
      "[Parallel(n_jobs=-1)]: Done 216 out of 216 | elapsed:  1.2min finished\n"
     ]
    },
    {
     "name": "stdout",
     "output_type": "stream",
     "text": [
      "Thresh=0.00042194093, n=108, explained variance: 0.722195269258969, mean abs error: 9.344307361062603\n",
      "Fitting 2 folds for each of 108 candidates, totalling 216 fits\n"
     ]
    },
    {
     "name": "stderr",
     "output_type": "stream",
     "text": [
      "[Parallel(n_jobs=-1)]: Done  34 tasks      | elapsed:   12.4s\n",
      "[Parallel(n_jobs=-1)]: Done 184 tasks      | elapsed:  1.0min\n",
      "[Parallel(n_jobs=-1)]: Done 216 out of 216 | elapsed:  1.2min finished\n"
     ]
    },
    {
     "name": "stdout",
     "output_type": "stream",
     "text": [
      "Thresh=0.00042194093, n=108, explained variance: 0.722195269258969, mean abs error: 9.344307361062603\n",
      "Fitting 2 folds for each of 108 candidates, totalling 216 fits\n"
     ]
    },
    {
     "name": "stderr",
     "output_type": "stream",
     "text": [
      "[Parallel(n_jobs=-1)]: Done  34 tasks      | elapsed:   12.8s\n",
      "[Parallel(n_jobs=-1)]: Done 184 tasks      | elapsed:   58.1s\n",
      "[Parallel(n_jobs=-1)]: Done 216 out of 216 | elapsed:  1.2min finished\n"
     ]
    },
    {
     "name": "stdout",
     "output_type": "stream",
     "text": [
      "Thresh=0.00042194093, n=108, explained variance: 0.722195269258969, mean abs error: 9.344307361062603\n",
      "Fitting 2 folds for each of 108 candidates, totalling 216 fits\n"
     ]
    },
    {
     "name": "stderr",
     "output_type": "stream",
     "text": [
      "[Parallel(n_jobs=-1)]: Done  34 tasks      | elapsed:   12.8s\n",
      "[Parallel(n_jobs=-1)]: Done 184 tasks      | elapsed:   58.2s\n",
      "[Parallel(n_jobs=-1)]: Done 216 out of 216 | elapsed:  1.2min finished\n"
     ]
    },
    {
     "name": "stdout",
     "output_type": "stream",
     "text": [
      "Thresh=0.00042194093, n=108, explained variance: 0.722195269258969, mean abs error: 9.344307361062603\n",
      "Fitting 2 folds for each of 108 candidates, totalling 216 fits\n"
     ]
    },
    {
     "name": "stderr",
     "output_type": "stream",
     "text": [
      "[Parallel(n_jobs=-1)]: Done  34 tasks      | elapsed:   12.5s\n",
      "[Parallel(n_jobs=-1)]: Done 184 tasks      | elapsed:   59.0s\n",
      "[Parallel(n_jobs=-1)]: Done 216 out of 216 | elapsed:  1.2min finished\n"
     ]
    },
    {
     "name": "stdout",
     "output_type": "stream",
     "text": [
      "Thresh=0.00042194093, n=108, explained variance: 0.722195269258969, mean abs error: 9.344307361062603\n",
      "Fitting 2 folds for each of 108 candidates, totalling 216 fits\n"
     ]
    },
    {
     "name": "stderr",
     "output_type": "stream",
     "text": [
      "[Parallel(n_jobs=-1)]: Done  34 tasks      | elapsed:   12.3s\n",
      "[Parallel(n_jobs=-1)]: Done 184 tasks      | elapsed:   58.2s\n",
      "[Parallel(n_jobs=-1)]: Done 216 out of 216 | elapsed:  1.1min finished\n"
     ]
    },
    {
     "name": "stdout",
     "output_type": "stream",
     "text": [
      "Thresh=0.00042194093, n=108, explained variance: 0.722195269258969, mean abs error: 9.344307361062603\n",
      "Fitting 2 folds for each of 108 candidates, totalling 216 fits\n"
     ]
    },
    {
     "name": "stderr",
     "output_type": "stream",
     "text": [
      "[Parallel(n_jobs=-1)]: Done  34 tasks      | elapsed:   12.7s\n",
      "[Parallel(n_jobs=-1)]: Done 184 tasks      | elapsed:   58.5s\n",
      "[Parallel(n_jobs=-1)]: Done 216 out of 216 | elapsed:  1.2min finished\n"
     ]
    },
    {
     "name": "stdout",
     "output_type": "stream",
     "text": [
      "Thresh=0.00042194093, n=108, explained variance: 0.722195269258969, mean abs error: 9.344307361062603\n"
     ]
    }
   ],
   "source": [
    "week4_nfeature_gridsearch = nfeature_gridsearch(X, y4, '2017-09-25', week4_xgb, nfeature_param_grid, categorical_cols)"
   ]
  },
  {
   "cell_type": "code",
   "execution_count": 52,
   "metadata": {
    "scrolled": true
   },
   "outputs": [
    {
     "name": "stdout",
     "output_type": "stream",
     "text": [
      "Fitting 2 folds for each of 108 candidates, totalling 216 fits\n"
     ]
    },
    {
     "name": "stderr",
     "output_type": "stream",
     "text": [
      "[Parallel(n_jobs=-1)]: Done  34 tasks      | elapsed:    6.0s\n",
      "[Parallel(n_jobs=-1)]: Done 184 tasks      | elapsed:   13.7s\n",
      "[Parallel(n_jobs=-1)]: Done 216 out of 216 | elapsed:   15.6s finished\n"
     ]
    },
    {
     "name": "stdout",
     "output_type": "stream",
     "text": [
      "Thresh=0.0321321, n=1, explained variance: 0.7396234140455316, mean abs error: 12.43686032115643\n",
      "Fitting 2 folds for each of 108 candidates, totalling 216 fits\n"
     ]
    },
    {
     "name": "stderr",
     "output_type": "stream",
     "text": [
      "[Parallel(n_jobs=-1)]: Done  34 tasks      | elapsed:    6.2s\n",
      "[Parallel(n_jobs=-1)]: Done 184 tasks      | elapsed:   15.0s\n",
      "[Parallel(n_jobs=-1)]: Done 216 out of 216 | elapsed:   17.1s finished\n"
     ]
    },
    {
     "name": "stdout",
     "output_type": "stream",
     "text": [
      "Thresh=0.031239541, n=2, explained variance: 0.715546287795185, mean abs error: 15.33558335064881\n",
      "Fitting 2 folds for each of 108 candidates, totalling 216 fits\n"
     ]
    },
    {
     "name": "stderr",
     "output_type": "stream",
     "text": [
      "[Parallel(n_jobs=-1)]: Done  34 tasks      | elapsed:    6.0s\n",
      "[Parallel(n_jobs=-1)]: Done 184 tasks      | elapsed:   14.7s\n",
      "[Parallel(n_jobs=-1)]: Done 216 out of 216 | elapsed:   17.0s finished\n"
     ]
    },
    {
     "name": "stdout",
     "output_type": "stream",
     "text": [
      "Thresh=0.030346982, n=3, explained variance: 0.7388503824280201, mean abs error: 13.597845565733257\n",
      "Fitting 2 folds for each of 108 candidates, totalling 216 fits\n"
     ]
    },
    {
     "name": "stderr",
     "output_type": "stream",
     "text": [
      "[Parallel(n_jobs=-1)]: Done  34 tasks      | elapsed:    6.3s\n",
      "[Parallel(n_jobs=-1)]: Done 184 tasks      | elapsed:   16.8s\n",
      "[Parallel(n_jobs=-1)]: Done 216 out of 216 | elapsed:   18.8s finished\n"
     ]
    },
    {
     "name": "stdout",
     "output_type": "stream",
     "text": [
      "Thresh=0.030235412, n=4, explained variance: 0.7298691592570865, mean abs error: 13.93536349174944\n",
      "Fitting 2 folds for each of 108 candidates, totalling 216 fits\n"
     ]
    },
    {
     "name": "stderr",
     "output_type": "stream",
     "text": [
      "[Parallel(n_jobs=-1)]: Done  34 tasks      | elapsed:    6.3s\n",
      "[Parallel(n_jobs=-1)]: Done 184 tasks      | elapsed:   17.6s\n",
      "[Parallel(n_jobs=-1)]: Done 216 out of 216 | elapsed:   20.1s finished\n"
     ]
    },
    {
     "name": "stdout",
     "output_type": "stream",
     "text": [
      "Thresh=0.028673435, n=5, explained variance: 0.7885143771118608, mean abs error: 11.4703615497446\n",
      "Fitting 2 folds for each of 108 candidates, totalling 216 fits\n"
     ]
    },
    {
     "name": "stderr",
     "output_type": "stream",
     "text": [
      "[Parallel(n_jobs=-1)]: Done  34 tasks      | elapsed:    6.8s\n",
      "[Parallel(n_jobs=-1)]: Done 184 tasks      | elapsed:   18.1s\n",
      "[Parallel(n_jobs=-1)]: Done 216 out of 216 | elapsed:   20.4s finished\n"
     ]
    },
    {
     "name": "stdout",
     "output_type": "stream",
     "text": [
      "Thresh=0.026999889, n=6, explained variance: 0.7587032660986207, mean abs error: 10.781584649950291\n",
      "Fitting 2 folds for each of 108 candidates, totalling 216 fits\n"
     ]
    },
    {
     "name": "stderr",
     "output_type": "stream",
     "text": [
      "[Parallel(n_jobs=-1)]: Done  34 tasks      | elapsed:    6.7s\n",
      "[Parallel(n_jobs=-1)]: Done 184 tasks      | elapsed:   18.9s\n",
      "[Parallel(n_jobs=-1)]: Done 216 out of 216 | elapsed:   21.5s finished\n"
     ]
    },
    {
     "name": "stdout",
     "output_type": "stream",
     "text": [
      "Thresh=0.026888318, n=7, explained variance: 0.7733073725249731, mean abs error: 12.353243060525442\n",
      "Fitting 2 folds for each of 108 candidates, totalling 216 fits\n"
     ]
    },
    {
     "name": "stderr",
     "output_type": "stream",
     "text": [
      "[Parallel(n_jobs=-1)]: Done  34 tasks      | elapsed:    6.9s\n",
      "[Parallel(n_jobs=-1)]: Done 184 tasks      | elapsed:   19.6s\n",
      "[Parallel(n_jobs=-1)]: Done 216 out of 216 | elapsed:   22.7s finished\n"
     ]
    },
    {
     "name": "stdout",
     "output_type": "stream",
     "text": [
      "Thresh=0.025103202, n=8, explained variance: 0.7358830544297541, mean abs error: 12.283505885603693\n",
      "Fitting 2 folds for each of 108 candidates, totalling 216 fits\n"
     ]
    },
    {
     "name": "stderr",
     "output_type": "stream",
     "text": [
      "[Parallel(n_jobs=-1)]: Done  34 tasks      | elapsed:    6.8s\n",
      "[Parallel(n_jobs=-1)]: Done 184 tasks      | elapsed:   19.5s\n",
      "[Parallel(n_jobs=-1)]: Done 216 out of 216 | elapsed:   22.7s finished\n"
     ]
    },
    {
     "name": "stdout",
     "output_type": "stream",
     "text": [
      "Thresh=0.023764364, n=9, explained variance: 0.76157304005216, mean abs error: 11.491743547118885\n",
      "Fitting 2 folds for each of 108 candidates, totalling 216 fits\n"
     ]
    },
    {
     "name": "stderr",
     "output_type": "stream",
     "text": [
      "[Parallel(n_jobs=-1)]: Done  34 tasks      | elapsed:    6.8s\n",
      "[Parallel(n_jobs=-1)]: Done 184 tasks      | elapsed:   20.0s\n",
      "[Parallel(n_jobs=-1)]: Done 216 out of 216 | elapsed:   23.3s finished\n"
     ]
    },
    {
     "name": "stdout",
     "output_type": "stream",
     "text": [
      "Thresh=0.023094947, n=10, explained variance: 0.7484146240064165, mean abs error: 11.662379108985755\n",
      "Fitting 2 folds for each of 108 candidates, totalling 216 fits\n"
     ]
    },
    {
     "name": "stderr",
     "output_type": "stream",
     "text": [
      "[Parallel(n_jobs=-1)]: Done  34 tasks      | elapsed:    6.9s\n",
      "[Parallel(n_jobs=-1)]: Done 184 tasks      | elapsed:   21.0s\n",
      "[Parallel(n_jobs=-1)]: Done 216 out of 216 | elapsed:   24.1s finished\n"
     ]
    },
    {
     "name": "stdout",
     "output_type": "stream",
     "text": [
      "Thresh=0.022871807, n=11, explained variance: 0.7469188392962518, mean abs error: 11.747172495609805\n",
      "Fitting 2 folds for each of 108 candidates, totalling 216 fits\n"
     ]
    },
    {
     "name": "stderr",
     "output_type": "stream",
     "text": [
      "[Parallel(n_jobs=-1)]: Done  34 tasks      | elapsed:    7.2s\n",
      "[Parallel(n_jobs=-1)]: Done 184 tasks      | elapsed:   21.8s\n",
      "[Parallel(n_jobs=-1)]: Done 216 out of 216 | elapsed:   24.9s finished\n"
     ]
    },
    {
     "name": "stdout",
     "output_type": "stream",
     "text": [
      "Thresh=0.022537097, n=12, explained variance: 0.7477085038880973, mean abs error: 11.605689953879152\n",
      "Fitting 2 folds for each of 108 candidates, totalling 216 fits\n"
     ]
    },
    {
     "name": "stderr",
     "output_type": "stream",
     "text": [
      "[Parallel(n_jobs=-1)]: Done  34 tasks      | elapsed:    6.9s\n",
      "[Parallel(n_jobs=-1)]: Done 184 tasks      | elapsed:   21.7s\n",
      "[Parallel(n_jobs=-1)]: Done 216 out of 216 | elapsed:   24.8s finished\n"
     ]
    },
    {
     "name": "stdout",
     "output_type": "stream",
     "text": [
      "Thresh=0.022090819, n=13, explained variance: 0.7442976040274637, mean abs error: 12.222682223428746\n",
      "Fitting 2 folds for each of 108 candidates, totalling 216 fits\n"
     ]
    },
    {
     "name": "stderr",
     "output_type": "stream",
     "text": [
      "[Parallel(n_jobs=-1)]: Done  34 tasks      | elapsed:    7.6s\n",
      "[Parallel(n_jobs=-1)]: Done 184 tasks      | elapsed:   23.6s\n",
      "[Parallel(n_jobs=-1)]: Done 216 out of 216 | elapsed:   26.9s finished\n"
     ]
    },
    {
     "name": "stdout",
     "output_type": "stream",
     "text": [
      "Thresh=0.02153297, n=14, explained variance: 0.7142669489070508, mean abs error: 12.599590924709197\n",
      "Fitting 2 folds for each of 108 candidates, totalling 216 fits\n"
     ]
    },
    {
     "name": "stderr",
     "output_type": "stream",
     "text": [
      "[Parallel(n_jobs=-1)]: Done  34 tasks      | elapsed:    7.3s\n",
      "[Parallel(n_jobs=-1)]: Done 184 tasks      | elapsed:   23.1s\n",
      "[Parallel(n_jobs=-1)]: Done 216 out of 216 | elapsed:   26.3s finished\n"
     ]
    },
    {
     "name": "stdout",
     "output_type": "stream",
     "text": [
      "Thresh=0.020417271, n=15, explained variance: 0.7263328255787753, mean abs error: 12.837156379992415\n",
      "Fitting 2 folds for each of 108 candidates, totalling 216 fits\n"
     ]
    },
    {
     "name": "stderr",
     "output_type": "stream",
     "text": [
      "[Parallel(n_jobs=-1)]: Done  34 tasks      | elapsed:    7.6s\n",
      "[Parallel(n_jobs=-1)]: Done 184 tasks      | elapsed:   23.8s\n",
      "[Parallel(n_jobs=-1)]: Done 216 out of 216 | elapsed:   27.2s finished\n"
     ]
    },
    {
     "name": "stdout",
     "output_type": "stream",
     "text": [
      "Thresh=0.018966863, n=16, explained variance: 0.720792108270726, mean abs error: 11.931476838325414\n",
      "Fitting 2 folds for each of 108 candidates, totalling 216 fits\n"
     ]
    },
    {
     "name": "stderr",
     "output_type": "stream",
     "text": [
      "[Parallel(n_jobs=-1)]: Done  34 tasks      | elapsed:    7.3s\n",
      "[Parallel(n_jobs=-1)]: Done 184 tasks      | elapsed:   23.9s\n",
      "[Parallel(n_jobs=-1)]: Done 216 out of 216 | elapsed:   27.7s finished\n"
     ]
    },
    {
     "name": "stdout",
     "output_type": "stream",
     "text": [
      "Thresh=0.017628027, n=17, explained variance: 0.7686688348406299, mean abs error: 11.405779799240081\n",
      "Fitting 2 folds for each of 108 candidates, totalling 216 fits\n"
     ]
    },
    {
     "name": "stderr",
     "output_type": "stream",
     "text": [
      "[Parallel(n_jobs=-1)]: Done  34 tasks      | elapsed:    7.3s\n",
      "[Parallel(n_jobs=-1)]: Done 184 tasks      | elapsed:   24.5s\n",
      "[Parallel(n_jobs=-1)]: Done 216 out of 216 | elapsed:   28.7s finished\n"
     ]
    },
    {
     "name": "stdout",
     "output_type": "stream",
     "text": [
      "Thresh=0.017404886, n=19, explained variance: 0.7395821440000294, mean abs error: 12.227859290242291\n",
      "Fitting 2 folds for each of 108 candidates, totalling 216 fits\n"
     ]
    },
    {
     "name": "stderr",
     "output_type": "stream",
     "text": [
      "[Parallel(n_jobs=-1)]: Done  34 tasks      | elapsed:    7.5s\n",
      "[Parallel(n_jobs=-1)]: Done 184 tasks      | elapsed:   24.7s\n",
      "[Parallel(n_jobs=-1)]: Done 216 out of 216 | elapsed:   28.6s finished\n"
     ]
    },
    {
     "name": "stdout",
     "output_type": "stream",
     "text": [
      "Thresh=0.017404886, n=19, explained variance: 0.7395821440000294, mean abs error: 12.227859290242291\n",
      "Fitting 2 folds for each of 108 candidates, totalling 216 fits\n"
     ]
    },
    {
     "name": "stderr",
     "output_type": "stream",
     "text": [
      "[Parallel(n_jobs=-1)]: Done  34 tasks      | elapsed:    7.4s\n",
      "[Parallel(n_jobs=-1)]: Done 184 tasks      | elapsed:   25.1s\n",
      "[Parallel(n_jobs=-1)]: Done 216 out of 216 | elapsed:   29.4s finished\n"
     ]
    },
    {
     "name": "stdout",
     "output_type": "stream",
     "text": [
      "Thresh=0.017181747, n=20, explained variance: 0.7109093137061778, mean abs error: 13.99955090562063\n",
      "Fitting 2 folds for each of 108 candidates, totalling 216 fits\n"
     ]
    },
    {
     "name": "stderr",
     "output_type": "stream",
     "text": [
      "[Parallel(n_jobs=-1)]: Done  34 tasks      | elapsed:    7.7s\n",
      "[Parallel(n_jobs=-1)]: Done 184 tasks      | elapsed:   25.2s\n",
      "[Parallel(n_jobs=-1)]: Done 216 out of 216 | elapsed:   29.6s finished\n"
     ]
    },
    {
     "name": "stdout",
     "output_type": "stream",
     "text": [
      "Thresh=0.016512329, n=21, explained variance: 0.7371731396860915, mean abs error: 13.439946218995333\n",
      "Fitting 2 folds for each of 108 candidates, totalling 216 fits\n"
     ]
    },
    {
     "name": "stderr",
     "output_type": "stream",
     "text": [
      "[Parallel(n_jobs=-1)]: Done  34 tasks      | elapsed:    7.6s\n",
      "[Parallel(n_jobs=-1)]: Done 184 tasks      | elapsed:   25.8s\n",
      "[Parallel(n_jobs=-1)]: Done 216 out of 216 | elapsed:   30.2s finished\n"
     ]
    },
    {
     "name": "stdout",
     "output_type": "stream",
     "text": [
      "Thresh=0.01573134, n=22, explained variance: 0.6994456939787186, mean abs error: 12.342822067113953\n",
      "Fitting 2 folds for each of 108 candidates, totalling 216 fits\n"
     ]
    },
    {
     "name": "stderr",
     "output_type": "stream",
     "text": [
      "[Parallel(n_jobs=-1)]: Done  34 tasks      | elapsed:    8.1s\n",
      "[Parallel(n_jobs=-1)]: Done 184 tasks      | elapsed:   26.6s\n",
      "[Parallel(n_jobs=-1)]: Done 216 out of 216 | elapsed:   30.9s finished\n"
     ]
    },
    {
     "name": "stdout",
     "output_type": "stream",
     "text": [
      "Thresh=0.015173491, n=23, explained variance: 0.7152102036584551, mean abs error: 14.337446990634485\n",
      "Fitting 2 folds for each of 108 candidates, totalling 216 fits\n"
     ]
    },
    {
     "name": "stderr",
     "output_type": "stream",
     "text": [
      "[Parallel(n_jobs=-1)]: Done  34 tasks      | elapsed:    7.9s\n",
      "[Parallel(n_jobs=-1)]: Done 184 tasks      | elapsed:   27.1s\n",
      "[Parallel(n_jobs=-1)]: Done 216 out of 216 | elapsed:   31.5s finished\n"
     ]
    },
    {
     "name": "stdout",
     "output_type": "stream",
     "text": [
      "Thresh=0.014950352, n=24, explained variance: 0.718222063205823, mean abs error: 13.823379476558824\n",
      "Fitting 2 folds for each of 108 candidates, totalling 216 fits\n"
     ]
    },
    {
     "name": "stderr",
     "output_type": "stream",
     "text": [
      "[Parallel(n_jobs=-1)]: Done  34 tasks      | elapsed:    8.4s\n",
      "[Parallel(n_jobs=-1)]: Done 184 tasks      | elapsed:   27.9s\n",
      "[Parallel(n_jobs=-1)]: Done 216 out of 216 | elapsed:   32.2s finished\n"
     ]
    },
    {
     "name": "stdout",
     "output_type": "stream",
     "text": [
      "Thresh=0.014838781, n=25, explained variance: 0.7268414665768512, mean abs error: 11.95008937088664\n",
      "Fitting 2 folds for each of 108 candidates, totalling 216 fits\n"
     ]
    },
    {
     "name": "stderr",
     "output_type": "stream",
     "text": [
      "[Parallel(n_jobs=-1)]: Done  34 tasks      | elapsed:    8.6s\n",
      "[Parallel(n_jobs=-1)]: Done 184 tasks      | elapsed:   28.5s\n",
      "[Parallel(n_jobs=-1)]: Done 216 out of 216 | elapsed:   32.8s finished\n"
     ]
    },
    {
     "name": "stdout",
     "output_type": "stream",
     "text": [
      "Thresh=0.014615642, n=26, explained variance: 0.7046923714972333, mean abs error: 12.894339885243639\n",
      "Fitting 2 folds for each of 108 candidates, totalling 216 fits\n"
     ]
    },
    {
     "name": "stderr",
     "output_type": "stream",
     "text": [
      "[Parallel(n_jobs=-1)]: Done  34 tasks      | elapsed:    8.0s\n",
      "[Parallel(n_jobs=-1)]: Done 184 tasks      | elapsed:   28.1s\n",
      "[Parallel(n_jobs=-1)]: Done 216 out of 216 | elapsed:   32.4s finished\n"
     ]
    },
    {
     "name": "stdout",
     "output_type": "stream",
     "text": [
      "Thresh=0.014504072, n=27, explained variance: 0.6855968788980911, mean abs error: 14.437744212752873\n",
      "Fitting 2 folds for each of 108 candidates, totalling 216 fits\n"
     ]
    },
    {
     "name": "stderr",
     "output_type": "stream",
     "text": [
      "[Parallel(n_jobs=-1)]: Done  34 tasks      | elapsed:    8.7s\n",
      "[Parallel(n_jobs=-1)]: Done 184 tasks      | elapsed:   29.5s\n",
      "[Parallel(n_jobs=-1)]: Done 216 out of 216 | elapsed:   33.8s finished\n"
     ]
    },
    {
     "name": "stdout",
     "output_type": "stream",
     "text": [
      "Thresh=0.014280933, n=28, explained variance: 0.6581435846299553, mean abs error: 15.292605958525055\n",
      "Fitting 2 folds for each of 108 candidates, totalling 216 fits\n"
     ]
    },
    {
     "name": "stderr",
     "output_type": "stream",
     "text": [
      "[Parallel(n_jobs=-1)]: Done  34 tasks      | elapsed:    8.2s\n",
      "[Parallel(n_jobs=-1)]: Done 184 tasks      | elapsed:   28.8s\n",
      "[Parallel(n_jobs=-1)]: Done 216 out of 216 | elapsed:   33.2s finished\n"
     ]
    },
    {
     "name": "stdout",
     "output_type": "stream",
     "text": [
      "Thresh=0.014169363, n=29, explained variance: 0.6457782454520866, mean abs error: 15.295374201749004\n",
      "Fitting 2 folds for each of 108 candidates, totalling 216 fits\n"
     ]
    },
    {
     "name": "stderr",
     "output_type": "stream",
     "text": [
      "[Parallel(n_jobs=-1)]: Done  34 tasks      | elapsed:    8.5s\n",
      "[Parallel(n_jobs=-1)]: Done 184 tasks      | elapsed:   30.4s\n",
      "[Parallel(n_jobs=-1)]: Done 216 out of 216 | elapsed:   34.7s finished\n"
     ]
    },
    {
     "name": "stdout",
     "output_type": "stream",
     "text": [
      "Thresh=0.013611514, n=31, explained variance: 0.5883008686175761, mean abs error: 16.97886153457575\n",
      "Fitting 2 folds for each of 108 candidates, totalling 216 fits\n"
     ]
    },
    {
     "name": "stderr",
     "output_type": "stream",
     "text": [
      "[Parallel(n_jobs=-1)]: Done  34 tasks      | elapsed:    8.5s\n",
      "[Parallel(n_jobs=-1)]: Done 184 tasks      | elapsed:   30.1s\n",
      "[Parallel(n_jobs=-1)]: Done 216 out of 216 | elapsed:   35.1s finished\n"
     ]
    },
    {
     "name": "stdout",
     "output_type": "stream",
     "text": [
      "Thresh=0.013611514, n=31, explained variance: 0.5883008686175761, mean abs error: 16.97886153457575\n",
      "Fitting 2 folds for each of 108 candidates, totalling 216 fits\n"
     ]
    },
    {
     "name": "stderr",
     "output_type": "stream",
     "text": [
      "[Parallel(n_jobs=-1)]: Done  34 tasks      | elapsed:    8.3s\n",
      "[Parallel(n_jobs=-1)]: Done 184 tasks      | elapsed:   30.2s\n",
      "[Parallel(n_jobs=-1)]: Done 216 out of 216 | elapsed:   35.1s finished\n"
     ]
    },
    {
     "name": "stdout",
     "output_type": "stream",
     "text": [
      "Thresh=0.0134999445, n=32, explained variance: 0.6696959033939422, mean abs error: 14.957468422091978\n",
      "Fitting 2 folds for each of 108 candidates, totalling 216 fits\n"
     ]
    },
    {
     "name": "stderr",
     "output_type": "stream",
     "text": [
      "[Parallel(n_jobs=-1)]: Done  34 tasks      | elapsed:    8.4s\n",
      "[Parallel(n_jobs=-1)]: Done 184 tasks      | elapsed:   30.8s\n",
      "[Parallel(n_jobs=-1)]: Done 216 out of 216 | elapsed:   36.0s finished\n"
     ]
    },
    {
     "name": "stdout",
     "output_type": "stream",
     "text": [
      "Thresh=0.013165235, n=33, explained variance: 0.6771142246783854, mean abs error: 13.618074902075952\n",
      "Fitting 2 folds for each of 108 candidates, totalling 216 fits\n"
     ]
    },
    {
     "name": "stderr",
     "output_type": "stream",
     "text": [
      "[Parallel(n_jobs=-1)]: Done  34 tasks      | elapsed:    8.5s\n",
      "[Parallel(n_jobs=-1)]: Done 184 tasks      | elapsed:   30.7s\n",
      "[Parallel(n_jobs=-1)]: Done 216 out of 216 | elapsed:   36.4s finished\n"
     ]
    },
    {
     "name": "stdout",
     "output_type": "stream",
     "text": [
      "Thresh=0.012607386, n=34, explained variance: 0.6819683033870616, mean abs error: 13.264079890521343\n",
      "Fitting 2 folds for each of 108 candidates, totalling 216 fits\n"
     ]
    },
    {
     "name": "stderr",
     "output_type": "stream",
     "text": [
      "[Parallel(n_jobs=-1)]: Done  34 tasks      | elapsed:    8.7s\n",
      "[Parallel(n_jobs=-1)]: Done 184 tasks      | elapsed:   31.2s\n",
      "[Parallel(n_jobs=-1)]: Done 216 out of 216 | elapsed:   36.7s finished\n"
     ]
    },
    {
     "name": "stdout",
     "output_type": "stream",
     "text": [
      "Thresh=0.012384246, n=35, explained variance: 0.6625811296634638, mean abs error: 13.97915150208893\n",
      "Fitting 2 folds for each of 108 candidates, totalling 216 fits\n"
     ]
    },
    {
     "name": "stderr",
     "output_type": "stream",
     "text": [
      "[Parallel(n_jobs=-1)]: Done  34 tasks      | elapsed:    8.5s\n",
      "[Parallel(n_jobs=-1)]: Done 184 tasks      | elapsed:   32.0s\n",
      "[Parallel(n_jobs=-1)]: Done 216 out of 216 | elapsed:   37.3s finished\n"
     ]
    },
    {
     "name": "stdout",
     "output_type": "stream",
     "text": [
      "Thresh=0.012272676, n=36, explained variance: 0.6599812879284495, mean abs error: 13.828325254914814\n",
      "Fitting 2 folds for each of 108 candidates, totalling 216 fits\n"
     ]
    },
    {
     "name": "stderr",
     "output_type": "stream",
     "text": [
      "[Parallel(n_jobs=-1)]: Done  34 tasks      | elapsed:    8.6s\n",
      "[Parallel(n_jobs=-1)]: Done 184 tasks      | elapsed:   32.0s\n",
      "[Parallel(n_jobs=-1)]: Done 216 out of 216 | elapsed:   37.6s finished\n"
     ]
    },
    {
     "name": "stdout",
     "output_type": "stream",
     "text": [
      "Thresh=0.011826398, n=37, explained variance: 0.6767378213727561, mean abs error: 14.412623183730929\n",
      "Fitting 2 folds for each of 108 candidates, totalling 216 fits\n"
     ]
    },
    {
     "name": "stderr",
     "output_type": "stream",
     "text": [
      "[Parallel(n_jobs=-1)]: Done  34 tasks      | elapsed:    8.9s\n",
      "[Parallel(n_jobs=-1)]: Done 184 tasks      | elapsed:   32.8s\n",
      "[Parallel(n_jobs=-1)]: Done 216 out of 216 | elapsed:   38.4s finished\n"
     ]
    },
    {
     "name": "stdout",
     "output_type": "stream",
     "text": [
      "Thresh=0.011268549, n=38, explained variance: 0.6768075029944309, mean abs error: 13.391224159478517\n",
      "Fitting 2 folds for each of 108 candidates, totalling 216 fits\n"
     ]
    },
    {
     "name": "stderr",
     "output_type": "stream",
     "text": [
      "[Parallel(n_jobs=-1)]: Done  34 tasks      | elapsed:    9.2s\n",
      "[Parallel(n_jobs=-1)]: Done 184 tasks      | elapsed:   34.1s\n",
      "[Parallel(n_jobs=-1)]: Done 216 out of 216 | elapsed:   39.8s finished\n"
     ]
    },
    {
     "name": "stdout",
     "output_type": "stream",
     "text": [
      "Thresh=0.010933839, n=39, explained variance: 0.675799213328302, mean abs error: 14.556277220544228\n",
      "Fitting 2 folds for each of 108 candidates, totalling 216 fits\n"
     ]
    },
    {
     "name": "stderr",
     "output_type": "stream",
     "text": [
      "[Parallel(n_jobs=-1)]: Done  34 tasks      | elapsed:    8.7s\n",
      "[Parallel(n_jobs=-1)]: Done 184 tasks      | elapsed:   33.8s\n",
      "[Parallel(n_jobs=-1)]: Done 216 out of 216 | elapsed:   39.8s finished\n"
     ]
    },
    {
     "name": "stdout",
     "output_type": "stream",
     "text": [
      "Thresh=0.0103759905, n=40, explained variance: 0.6065022530582497, mean abs error: 14.902006952098727\n",
      "Fitting 2 folds for each of 108 candidates, totalling 216 fits\n"
     ]
    },
    {
     "name": "stderr",
     "output_type": "stream",
     "text": [
      "[Parallel(n_jobs=-1)]: Done  34 tasks      | elapsed:    9.2s\n",
      "[Parallel(n_jobs=-1)]: Done 184 tasks      | elapsed:   34.4s\n",
      "[Parallel(n_jobs=-1)]: Done 216 out of 216 | elapsed:   40.1s finished\n"
     ]
    },
    {
     "name": "stdout",
     "output_type": "stream",
     "text": [
      "Thresh=0.01026442, n=41, explained variance: 0.6618451700318252, mean abs error: 15.422068696205121\n",
      "Fitting 2 folds for each of 108 candidates, totalling 216 fits\n"
     ]
    },
    {
     "name": "stderr",
     "output_type": "stream",
     "text": [
      "[Parallel(n_jobs=-1)]: Done  34 tasks      | elapsed:    9.4s\n",
      "[Parallel(n_jobs=-1)]: Done 184 tasks      | elapsed:   34.6s\n",
      "[Parallel(n_jobs=-1)]: Done 216 out of 216 | elapsed:   40.6s finished\n"
     ]
    },
    {
     "name": "stdout",
     "output_type": "stream",
     "text": [
      "Thresh=0.010041281, n=42, explained variance: 0.6448678939480124, mean abs error: 15.33194911617194\n",
      "Fitting 2 folds for each of 108 candidates, totalling 216 fits\n"
     ]
    },
    {
     "name": "stderr",
     "output_type": "stream",
     "text": [
      "[Parallel(n_jobs=-1)]: Done  34 tasks      | elapsed:    9.4s\n",
      "[Parallel(n_jobs=-1)]: Done 184 tasks      | elapsed:   34.6s\n",
      "[Parallel(n_jobs=-1)]: Done 216 out of 216 | elapsed:   40.8s finished\n"
     ]
    },
    {
     "name": "stdout",
     "output_type": "stream",
     "text": [
      "Thresh=0.0091487225, n=43, explained variance: 0.6929851523425123, mean abs error: 13.141464944091895\n",
      "Fitting 2 folds for each of 108 candidates, totalling 216 fits\n"
     ]
    },
    {
     "name": "stderr",
     "output_type": "stream",
     "text": [
      "[Parallel(n_jobs=-1)]: Done  34 tasks      | elapsed:    9.6s\n",
      "[Parallel(n_jobs=-1)]: Done 184 tasks      | elapsed:   35.7s\n",
      "[Parallel(n_jobs=-1)]: Done 216 out of 216 | elapsed:   41.6s finished\n"
     ]
    },
    {
     "name": "stdout",
     "output_type": "stream",
     "text": [
      "Thresh=0.007475176, n=44, explained variance: 0.6154273460461026, mean abs error: 15.676255066059507\n",
      "Fitting 2 folds for each of 108 candidates, totalling 216 fits\n"
     ]
    },
    {
     "name": "stderr",
     "output_type": "stream",
     "text": [
      "[Parallel(n_jobs=-1)]: Done  34 tasks      | elapsed:    9.4s\n",
      "[Parallel(n_jobs=-1)]: Done 184 tasks      | elapsed:   35.7s\n",
      "[Parallel(n_jobs=-1)]: Done 216 out of 216 | elapsed:   42.1s finished\n"
     ]
    },
    {
     "name": "stdout",
     "output_type": "stream",
     "text": [
      "Thresh=0.0070288964, n=46, explained variance: 0.6549681231712492, mean abs error: 14.890093662609244\n",
      "Fitting 2 folds for each of 108 candidates, totalling 216 fits\n"
     ]
    },
    {
     "name": "stderr",
     "output_type": "stream",
     "text": [
      "[Parallel(n_jobs=-1)]: Done  34 tasks      | elapsed:    9.6s\n",
      "[Parallel(n_jobs=-1)]: Done 184 tasks      | elapsed:   36.0s\n",
      "[Parallel(n_jobs=-1)]: Done 216 out of 216 | elapsed:   42.2s finished\n"
     ]
    },
    {
     "name": "stdout",
     "output_type": "stream",
     "text": [
      "Thresh=0.0070288964, n=46, explained variance: 0.6549681231712492, mean abs error: 14.890093662609244\n",
      "Fitting 2 folds for each of 108 candidates, totalling 216 fits\n"
     ]
    },
    {
     "name": "stderr",
     "output_type": "stream",
     "text": [
      "[Parallel(n_jobs=-1)]: Done  34 tasks      | elapsed:    9.7s\n",
      "[Parallel(n_jobs=-1)]: Done 184 tasks      | elapsed:   36.3s\n",
      "[Parallel(n_jobs=-1)]: Done 216 out of 216 | elapsed:   42.8s finished\n"
     ]
    },
    {
     "name": "stdout",
     "output_type": "stream",
     "text": [
      "Thresh=0.0066941874, n=47, explained variance: 0.6439454558079679, mean abs error: 14.857824337682377\n",
      "Fitting 2 folds for each of 108 candidates, totalling 216 fits\n"
     ]
    },
    {
     "name": "stderr",
     "output_type": "stream",
     "text": [
      "[Parallel(n_jobs=-1)]: Done  34 tasks      | elapsed:    9.7s\n",
      "[Parallel(n_jobs=-1)]: Done 184 tasks      | elapsed:   37.1s\n",
      "[Parallel(n_jobs=-1)]: Done 216 out of 216 | elapsed:   43.6s finished\n"
     ]
    },
    {
     "name": "stdout",
     "output_type": "stream",
     "text": [
      "Thresh=0.0065826173, n=49, explained variance: 0.6180864017994852, mean abs error: 15.499396395456081\n",
      "Fitting 2 folds for each of 108 candidates, totalling 216 fits\n"
     ]
    },
    {
     "name": "stderr",
     "output_type": "stream",
     "text": [
      "[Parallel(n_jobs=-1)]: Done  34 tasks      | elapsed:    9.7s\n",
      "[Parallel(n_jobs=-1)]: Done 184 tasks      | elapsed:   37.0s\n",
      "[Parallel(n_jobs=-1)]: Done 216 out of 216 | elapsed:   43.6s finished\n"
     ]
    },
    {
     "name": "stdout",
     "output_type": "stream",
     "text": [
      "Thresh=0.0065826173, n=49, explained variance: 0.6180864017994852, mean abs error: 15.499396395456081\n",
      "Fitting 2 folds for each of 108 candidates, totalling 216 fits\n"
     ]
    },
    {
     "name": "stderr",
     "output_type": "stream",
     "text": [
      "[Parallel(n_jobs=-1)]: Done  34 tasks      | elapsed:    9.5s\n",
      "[Parallel(n_jobs=-1)]: Done 184 tasks      | elapsed:   38.1s\n",
      "[Parallel(n_jobs=-1)]: Done 216 out of 216 | elapsed:   44.6s finished\n"
     ]
    },
    {
     "name": "stdout",
     "output_type": "stream",
     "text": [
      "Thresh=0.006359478, n=51, explained variance: 0.6187165664811425, mean abs error: 16.29915578714223\n",
      "Fitting 2 folds for each of 108 candidates, totalling 216 fits\n"
     ]
    },
    {
     "name": "stderr",
     "output_type": "stream",
     "text": [
      "[Parallel(n_jobs=-1)]: Done  34 tasks      | elapsed:    9.6s\n",
      "[Parallel(n_jobs=-1)]: Done 184 tasks      | elapsed:   37.8s\n",
      "[Parallel(n_jobs=-1)]: Done 216 out of 216 | elapsed:   44.2s finished\n"
     ]
    },
    {
     "name": "stdout",
     "output_type": "stream",
     "text": [
      "Thresh=0.006359478, n=51, explained variance: 0.6187165664811425, mean abs error: 16.29915578714223\n",
      "Fitting 2 folds for each of 108 candidates, totalling 216 fits\n"
     ]
    },
    {
     "name": "stderr",
     "output_type": "stream",
     "text": [
      "[Parallel(n_jobs=-1)]: Done  34 tasks      | elapsed:    9.5s\n",
      "[Parallel(n_jobs=-1)]: Done 184 tasks      | elapsed:   38.2s\n",
      "[Parallel(n_jobs=-1)]: Done 216 out of 216 | elapsed:   45.1s finished\n"
     ]
    },
    {
     "name": "stdout",
     "output_type": "stream",
     "text": [
      "Thresh=0.005913199, n=52, explained variance: 0.6477345528794679, mean abs error: 14.396669646624735\n",
      "Fitting 2 folds for each of 108 candidates, totalling 216 fits\n"
     ]
    },
    {
     "name": "stderr",
     "output_type": "stream",
     "text": [
      "[Parallel(n_jobs=-1)]: Done  34 tasks      | elapsed:   10.0s\n",
      "[Parallel(n_jobs=-1)]: Done 184 tasks      | elapsed:   39.4s\n",
      "[Parallel(n_jobs=-1)]: Done 216 out of 216 | elapsed:   46.4s finished\n"
     ]
    },
    {
     "name": "stdout",
     "output_type": "stream",
     "text": [
      "Thresh=0.0054669194, n=53, explained variance: 0.6323213853611964, mean abs error: 15.706282052819812\n",
      "Fitting 2 folds for each of 108 candidates, totalling 216 fits\n"
     ]
    },
    {
     "name": "stderr",
     "output_type": "stream",
     "text": [
      "[Parallel(n_jobs=-1)]: Done  34 tasks      | elapsed:    9.9s\n",
      "[Parallel(n_jobs=-1)]: Done 184 tasks      | elapsed:   40.4s\n",
      "[Parallel(n_jobs=-1)]: Done 216 out of 216 | elapsed:   47.3s finished\n"
     ]
    },
    {
     "name": "stdout",
     "output_type": "stream",
     "text": [
      "Thresh=0.00513221, n=55, explained variance: 0.6488855133228055, mean abs error: 14.777769390127762\n",
      "Fitting 2 folds for each of 108 candidates, totalling 216 fits\n"
     ]
    },
    {
     "name": "stderr",
     "output_type": "stream",
     "text": [
      "[Parallel(n_jobs=-1)]: Done  34 tasks      | elapsed:    9.8s\n",
      "[Parallel(n_jobs=-1)]: Done 184 tasks      | elapsed:   39.6s\n",
      "[Parallel(n_jobs=-1)]: Done 216 out of 216 | elapsed:   46.8s finished\n"
     ]
    },
    {
     "name": "stdout",
     "output_type": "stream",
     "text": [
      "Thresh=0.00513221, n=55, explained variance: 0.6488855133228055, mean abs error: 14.777769390127762\n",
      "Fitting 2 folds for each of 108 candidates, totalling 216 fits\n"
     ]
    },
    {
     "name": "stderr",
     "output_type": "stream",
     "text": [
      "[Parallel(n_jobs=-1)]: Done  34 tasks      | elapsed:    9.8s\n",
      "[Parallel(n_jobs=-1)]: Done 184 tasks      | elapsed:   40.4s\n",
      "[Parallel(n_jobs=-1)]: Done 216 out of 216 | elapsed:   47.5s finished\n"
     ]
    },
    {
     "name": "stdout",
     "output_type": "stream",
     "text": [
      "Thresh=0.0050206403, n=56, explained variance: 0.6165790178679432, mean abs error: 15.776017193628864\n",
      "Fitting 2 folds for each of 108 candidates, totalling 216 fits\n"
     ]
    },
    {
     "name": "stderr",
     "output_type": "stream",
     "text": [
      "[Parallel(n_jobs=-1)]: Done  34 tasks      | elapsed:   10.3s\n",
      "[Parallel(n_jobs=-1)]: Done 184 tasks      | elapsed:   41.4s\n",
      "[Parallel(n_jobs=-1)]: Done 216 out of 216 | elapsed:   49.3s finished\n"
     ]
    },
    {
     "name": "stdout",
     "output_type": "stream",
     "text": [
      "Thresh=0.0049090707, n=59, explained variance: 0.629891687202674, mean abs error: 15.586579458254684\n",
      "Fitting 2 folds for each of 108 candidates, totalling 216 fits\n"
     ]
    },
    {
     "name": "stderr",
     "output_type": "stream",
     "text": [
      "[Parallel(n_jobs=-1)]: Done  34 tasks      | elapsed:   10.5s\n",
      "[Parallel(n_jobs=-1)]: Done 184 tasks      | elapsed:   42.7s\n",
      "[Parallel(n_jobs=-1)]: Done 216 out of 216 | elapsed:   50.2s finished\n"
     ]
    },
    {
     "name": "stdout",
     "output_type": "stream",
     "text": [
      "Thresh=0.0049090707, n=59, explained variance: 0.629891687202674, mean abs error: 15.586579458254684\n",
      "Fitting 2 folds for each of 108 candidates, totalling 216 fits\n"
     ]
    },
    {
     "name": "stderr",
     "output_type": "stream",
     "text": [
      "[Parallel(n_jobs=-1)]: Done  34 tasks      | elapsed:    9.9s\n",
      "[Parallel(n_jobs=-1)]: Done 184 tasks      | elapsed:   41.4s\n",
      "[Parallel(n_jobs=-1)]: Done 216 out of 216 | elapsed:   49.2s finished\n"
     ]
    },
    {
     "name": "stdout",
     "output_type": "stream",
     "text": [
      "Thresh=0.0049090707, n=59, explained variance: 0.629891687202674, mean abs error: 15.586579458254684\n",
      "Fitting 2 folds for each of 108 candidates, totalling 216 fits\n"
     ]
    },
    {
     "name": "stderr",
     "output_type": "stream",
     "text": [
      "[Parallel(n_jobs=-1)]: Done  34 tasks      | elapsed:   10.9s\n",
      "[Parallel(n_jobs=-1)]: Done 184 tasks      | elapsed:   42.2s\n",
      "[Parallel(n_jobs=-1)]: Done 216 out of 216 | elapsed:   50.1s finished\n"
     ]
    },
    {
     "name": "stdout",
     "output_type": "stream",
     "text": [
      "Thresh=0.004685931, n=60, explained variance: 0.6901701356585448, mean abs error: 12.91137661730382\n",
      "Fitting 2 folds for each of 108 candidates, totalling 216 fits\n"
     ]
    },
    {
     "name": "stderr",
     "output_type": "stream",
     "text": [
      "[Parallel(n_jobs=-1)]: Done  34 tasks      | elapsed:   10.4s\n",
      "[Parallel(n_jobs=-1)]: Done 184 tasks      | elapsed:   42.8s\n",
      "[Parallel(n_jobs=-1)]: Done 216 out of 216 | elapsed:   50.6s finished\n"
     ]
    },
    {
     "name": "stdout",
     "output_type": "stream",
     "text": [
      "Thresh=0.0045743613, n=63, explained variance: 0.6707478257563046, mean abs error: 14.788732503053401\n",
      "Fitting 2 folds for each of 108 candidates, totalling 216 fits\n"
     ]
    },
    {
     "name": "stderr",
     "output_type": "stream",
     "text": [
      "[Parallel(n_jobs=-1)]: Done  34 tasks      | elapsed:   10.2s\n",
      "[Parallel(n_jobs=-1)]: Done 184 tasks      | elapsed:   44.1s\n",
      "[Parallel(n_jobs=-1)]: Done 216 out of 216 | elapsed:   52.1s finished\n"
     ]
    },
    {
     "name": "stdout",
     "output_type": "stream",
     "text": [
      "Thresh=0.0045743613, n=63, explained variance: 0.6707478257563046, mean abs error: 14.788732503053401\n",
      "Fitting 2 folds for each of 108 candidates, totalling 216 fits\n"
     ]
    },
    {
     "name": "stderr",
     "output_type": "stream",
     "text": [
      "[Parallel(n_jobs=-1)]: Done  34 tasks      | elapsed:   10.2s\n",
      "[Parallel(n_jobs=-1)]: Done 184 tasks      | elapsed:   43.2s\n",
      "[Parallel(n_jobs=-1)]: Done 216 out of 216 | elapsed:   50.5s finished\n"
     ]
    },
    {
     "name": "stdout",
     "output_type": "stream",
     "text": [
      "Thresh=0.0045743613, n=63, explained variance: 0.6707478257563046, mean abs error: 14.788732503053401\n",
      "Fitting 2 folds for each of 108 candidates, totalling 216 fits\n"
     ]
    },
    {
     "name": "stderr",
     "output_type": "stream",
     "text": [
      "[Parallel(n_jobs=-1)]: Done  34 tasks      | elapsed:   10.4s\n",
      "[Parallel(n_jobs=-1)]: Done 184 tasks      | elapsed:   43.5s\n",
      "[Parallel(n_jobs=-1)]: Done 216 out of 216 | elapsed:   51.5s finished\n"
     ]
    },
    {
     "name": "stdout",
     "output_type": "stream",
     "text": [
      "Thresh=0.0043512215, n=64, explained variance: 0.5797229277221589, mean abs error: 16.42259698126398\n",
      "Fitting 2 folds for each of 108 candidates, totalling 216 fits\n"
     ]
    },
    {
     "name": "stderr",
     "output_type": "stream",
     "text": [
      "[Parallel(n_jobs=-1)]: Done  34 tasks      | elapsed:   10.5s\n",
      "[Parallel(n_jobs=-1)]: Done 184 tasks      | elapsed:   43.8s\n",
      "[Parallel(n_jobs=-1)]: Done 216 out of 216 | elapsed:   52.0s finished\n"
     ]
    },
    {
     "name": "stdout",
     "output_type": "stream",
     "text": [
      "Thresh=0.0040165125, n=65, explained variance: 0.6412861131690555, mean abs error: 15.199620340344186\n",
      "Fitting 2 folds for each of 108 candidates, totalling 216 fits\n"
     ]
    },
    {
     "name": "stderr",
     "output_type": "stream",
     "text": [
      "[Parallel(n_jobs=-1)]: Done  34 tasks      | elapsed:   10.7s\n",
      "[Parallel(n_jobs=-1)]: Done 184 tasks      | elapsed:   44.1s\n",
      "[Parallel(n_jobs=-1)]: Done 216 out of 216 | elapsed:   52.7s finished\n"
     ]
    },
    {
     "name": "stdout",
     "output_type": "stream",
     "text": [
      "Thresh=0.003681803, n=66, explained variance: 0.6330307438442593, mean abs error: 14.732578252091923\n",
      "Fitting 2 folds for each of 108 candidates, totalling 216 fits\n"
     ]
    },
    {
     "name": "stderr",
     "output_type": "stream",
     "text": [
      "[Parallel(n_jobs=-1)]: Done  34 tasks      | elapsed:   10.7s\n",
      "[Parallel(n_jobs=-1)]: Done 184 tasks      | elapsed:   44.7s\n",
      "[Parallel(n_jobs=-1)]: Done 216 out of 216 | elapsed:   52.8s finished\n"
     ]
    },
    {
     "name": "stdout",
     "output_type": "stream",
     "text": [
      "Thresh=0.0033470937, n=68, explained variance: 0.6303662456251617, mean abs error: 15.568423853788989\n",
      "Fitting 2 folds for each of 108 candidates, totalling 216 fits\n"
     ]
    },
    {
     "name": "stderr",
     "output_type": "stream",
     "text": [
      "[Parallel(n_jobs=-1)]: Done  34 tasks      | elapsed:   10.7s\n",
      "[Parallel(n_jobs=-1)]: Done 184 tasks      | elapsed:   45.1s\n",
      "[Parallel(n_jobs=-1)]: Done 216 out of 216 | elapsed:   53.1s finished\n"
     ]
    },
    {
     "name": "stdout",
     "output_type": "stream",
     "text": [
      "Thresh=0.0033470937, n=68, explained variance: 0.6303662456251617, mean abs error: 15.568423853788989\n",
      "Fitting 2 folds for each of 108 candidates, totalling 216 fits\n"
     ]
    },
    {
     "name": "stderr",
     "output_type": "stream",
     "text": [
      "[Parallel(n_jobs=-1)]: Done  34 tasks      | elapsed:   10.8s\n",
      "[Parallel(n_jobs=-1)]: Done 184 tasks      | elapsed:   45.6s\n",
      "[Parallel(n_jobs=-1)]: Done 216 out of 216 | elapsed:   53.9s finished\n"
     ]
    },
    {
     "name": "stdout",
     "output_type": "stream",
     "text": [
      "Thresh=0.0032355238, n=69, explained variance: 0.6613274859463786, mean abs error: 14.647820837485874\n",
      "Fitting 2 folds for each of 108 candidates, totalling 216 fits\n"
     ]
    },
    {
     "name": "stderr",
     "output_type": "stream",
     "text": [
      "[Parallel(n_jobs=-1)]: Done  34 tasks      | elapsed:   10.7s\n",
      "[Parallel(n_jobs=-1)]: Done 184 tasks      | elapsed:   46.1s\n",
      "[Parallel(n_jobs=-1)]: Done 216 out of 216 | elapsed:   54.3s finished\n"
     ]
    },
    {
     "name": "stdout",
     "output_type": "stream",
     "text": [
      "Thresh=0.003123954, n=70, explained variance: 0.6427782704472322, mean abs error: 15.193402143578915\n",
      "Fitting 2 folds for each of 108 candidates, totalling 216 fits\n"
     ]
    },
    {
     "name": "stderr",
     "output_type": "stream",
     "text": [
      "[Parallel(n_jobs=-1)]: Done  34 tasks      | elapsed:   11.6s\n",
      "[Parallel(n_jobs=-1)]: Done 184 tasks      | elapsed:   47.1s\n",
      "[Parallel(n_jobs=-1)]: Done 216 out of 216 | elapsed:   55.7s finished\n"
     ]
    },
    {
     "name": "stdout",
     "output_type": "stream",
     "text": [
      "Thresh=0.0030123843, n=72, explained variance: 0.6184839069016648, mean abs error: 15.890438418055808\n",
      "Fitting 2 folds for each of 108 candidates, totalling 216 fits\n"
     ]
    },
    {
     "name": "stderr",
     "output_type": "stream",
     "text": [
      "[Parallel(n_jobs=-1)]: Done  34 tasks      | elapsed:   11.1s\n",
      "[Parallel(n_jobs=-1)]: Done 184 tasks      | elapsed:   46.8s\n",
      "[Parallel(n_jobs=-1)]: Done 216 out of 216 | elapsed:   55.3s finished\n"
     ]
    },
    {
     "name": "stdout",
     "output_type": "stream",
     "text": [
      "Thresh=0.0030123843, n=72, explained variance: 0.6184839069016648, mean abs error: 15.890438418055808\n",
      "Fitting 2 folds for each of 108 candidates, totalling 216 fits\n"
     ]
    },
    {
     "name": "stderr",
     "output_type": "stream",
     "text": [
      "[Parallel(n_jobs=-1)]: Done  34 tasks      | elapsed:   10.6s\n",
      "[Parallel(n_jobs=-1)]: Done 184 tasks      | elapsed:   46.8s\n",
      "[Parallel(n_jobs=-1)]: Done 216 out of 216 | elapsed:   55.5s finished\n"
     ]
    },
    {
     "name": "stdout",
     "output_type": "stream",
     "text": [
      "Thresh=0.0029008144, n=73, explained variance: 0.6428277432458602, mean abs error: 14.873349133165418\n",
      "Fitting 2 folds for each of 108 candidates, totalling 216 fits\n"
     ]
    },
    {
     "name": "stderr",
     "output_type": "stream",
     "text": [
      "[Parallel(n_jobs=-1)]: Done  34 tasks      | elapsed:   11.0s\n",
      "[Parallel(n_jobs=-1)]: Done 184 tasks      | elapsed:   47.8s\n",
      "[Parallel(n_jobs=-1)]: Done 216 out of 216 | elapsed:   56.4s finished\n"
     ]
    },
    {
     "name": "stdout",
     "output_type": "stream",
     "text": [
      "Thresh=0.0027892448, n=75, explained variance: 0.6660435064819827, mean abs error: 14.944534985815556\n",
      "Fitting 2 folds for each of 108 candidates, totalling 216 fits\n"
     ]
    },
    {
     "name": "stderr",
     "output_type": "stream",
     "text": [
      "[Parallel(n_jobs=-1)]: Done  34 tasks      | elapsed:   10.9s\n",
      "[Parallel(n_jobs=-1)]: Done 184 tasks      | elapsed:   47.9s\n",
      "[Parallel(n_jobs=-1)]: Done 216 out of 216 | elapsed:   56.8s finished\n"
     ]
    },
    {
     "name": "stdout",
     "output_type": "stream",
     "text": [
      "Thresh=0.0027892448, n=75, explained variance: 0.6660435064819827, mean abs error: 14.944534985815556\n",
      "Fitting 2 folds for each of 108 candidates, totalling 216 fits\n"
     ]
    },
    {
     "name": "stderr",
     "output_type": "stream",
     "text": [
      "[Parallel(n_jobs=-1)]: Done  34 tasks      | elapsed:   11.0s\n",
      "[Parallel(n_jobs=-1)]: Done 184 tasks      | elapsed:   47.9s\n",
      "[Parallel(n_jobs=-1)]: Done 216 out of 216 | elapsed:   57.0s finished\n"
     ]
    },
    {
     "name": "stdout",
     "output_type": "stream",
     "text": [
      "Thresh=0.0026776749, n=76, explained variance: 0.6005903087791868, mean abs error: 16.163582171890887\n",
      "Fitting 2 folds for each of 108 candidates, totalling 216 fits\n"
     ]
    },
    {
     "name": "stderr",
     "output_type": "stream",
     "text": [
      "[Parallel(n_jobs=-1)]: Done  34 tasks      | elapsed:   11.2s\n",
      "[Parallel(n_jobs=-1)]: Done 184 tasks      | elapsed:   48.5s\n",
      "[Parallel(n_jobs=-1)]: Done 216 out of 216 | elapsed:   57.7s finished\n"
     ]
    },
    {
     "name": "stdout",
     "output_type": "stream",
     "text": [
      "Thresh=0.002566105, n=77, explained variance: 0.567723771256654, mean abs error: 17.026352369344444\n",
      "Fitting 2 folds for each of 108 candidates, totalling 216 fits\n"
     ]
    },
    {
     "name": "stderr",
     "output_type": "stream",
     "text": [
      "[Parallel(n_jobs=-1)]: Done  34 tasks      | elapsed:   11.2s\n",
      "[Parallel(n_jobs=-1)]: Done 184 tasks      | elapsed:   49.0s\n",
      "[Parallel(n_jobs=-1)]: Done 216 out of 216 | elapsed:   58.1s finished\n"
     ]
    },
    {
     "name": "stdout",
     "output_type": "stream",
     "text": [
      "Thresh=0.0024545353, n=78, explained variance: 0.6568187161621533, mean abs error: 14.72197292730502\n",
      "Fitting 2 folds for each of 108 candidates, totalling 216 fits\n"
     ]
    },
    {
     "name": "stderr",
     "output_type": "stream",
     "text": [
      "[Parallel(n_jobs=-1)]: Done  34 tasks      | elapsed:   11.5s\n",
      "[Parallel(n_jobs=-1)]: Done 184 tasks      | elapsed:   50.8s\n",
      "[Parallel(n_jobs=-1)]: Done 216 out of 216 | elapsed:  1.0min finished\n"
     ]
    },
    {
     "name": "stdout",
     "output_type": "stream",
     "text": [
      "Thresh=0.0022313958, n=80, explained variance: 0.6646601499117768, mean abs error: 15.097983955858181\n",
      "Fitting 2 folds for each of 108 candidates, totalling 216 fits\n"
     ]
    },
    {
     "name": "stderr",
     "output_type": "stream",
     "text": [
      "[Parallel(n_jobs=-1)]: Done  34 tasks      | elapsed:   11.4s\n",
      "[Parallel(n_jobs=-1)]: Done 184 tasks      | elapsed:   50.8s\n",
      "[Parallel(n_jobs=-1)]: Done 216 out of 216 | elapsed:   59.7s finished\n"
     ]
    },
    {
     "name": "stdout",
     "output_type": "stream",
     "text": [
      "Thresh=0.0022313958, n=80, explained variance: 0.6646601499117768, mean abs error: 15.097983955858181\n",
      "Fitting 2 folds for each of 108 candidates, totalling 216 fits\n"
     ]
    },
    {
     "name": "stderr",
     "output_type": "stream",
     "text": [
      "[Parallel(n_jobs=-1)]: Done  34 tasks      | elapsed:   11.5s\n",
      "[Parallel(n_jobs=-1)]: Done 184 tasks      | elapsed:   51.8s\n",
      "[Parallel(n_jobs=-1)]: Done 216 out of 216 | elapsed:  1.0min finished\n"
     ]
    },
    {
     "name": "stdout",
     "output_type": "stream",
     "text": [
      "Thresh=0.002119826, n=85, explained variance: 0.6491654098846824, mean abs error: 15.151846591560519\n",
      "Fitting 2 folds for each of 108 candidates, totalling 216 fits\n"
     ]
    },
    {
     "name": "stderr",
     "output_type": "stream",
     "text": [
      "[Parallel(n_jobs=-1)]: Done  34 tasks      | elapsed:   11.3s\n",
      "[Parallel(n_jobs=-1)]: Done 184 tasks      | elapsed:   51.4s\n",
      "[Parallel(n_jobs=-1)]: Done 216 out of 216 | elapsed:  1.0min finished\n"
     ]
    },
    {
     "name": "stdout",
     "output_type": "stream",
     "text": [
      "Thresh=0.002119826, n=85, explained variance: 0.6491654098846824, mean abs error: 15.151846591560519\n",
      "Fitting 2 folds for each of 108 candidates, totalling 216 fits\n"
     ]
    },
    {
     "name": "stderr",
     "output_type": "stream",
     "text": [
      "[Parallel(n_jobs=-1)]: Done  34 tasks      | elapsed:   11.4s\n",
      "[Parallel(n_jobs=-1)]: Done 184 tasks      | elapsed:   51.3s\n",
      "[Parallel(n_jobs=-1)]: Done 216 out of 216 | elapsed:  1.0min finished\n"
     ]
    },
    {
     "name": "stdout",
     "output_type": "stream",
     "text": [
      "Thresh=0.002119826, n=85, explained variance: 0.6491654098846824, mean abs error: 15.151846591560519\n",
      "Fitting 2 folds for each of 108 candidates, totalling 216 fits\n"
     ]
    },
    {
     "name": "stderr",
     "output_type": "stream",
     "text": [
      "[Parallel(n_jobs=-1)]: Done  34 tasks      | elapsed:   11.4s\n",
      "[Parallel(n_jobs=-1)]: Done 184 tasks      | elapsed:   50.8s\n",
      "[Parallel(n_jobs=-1)]: Done 216 out of 216 | elapsed:  1.0min finished\n"
     ]
    },
    {
     "name": "stdout",
     "output_type": "stream",
     "text": [
      "Thresh=0.002119826, n=85, explained variance: 0.6491654098846824, mean abs error: 15.151846591560519\n",
      "Fitting 2 folds for each of 108 candidates, totalling 216 fits\n"
     ]
    },
    {
     "name": "stderr",
     "output_type": "stream",
     "text": [
      "[Parallel(n_jobs=-1)]: Done  34 tasks      | elapsed:   11.3s\n",
      "[Parallel(n_jobs=-1)]: Done 184 tasks      | elapsed:   52.3s\n",
      "[Parallel(n_jobs=-1)]: Done 216 out of 216 | elapsed:  1.0min finished\n"
     ]
    },
    {
     "name": "stdout",
     "output_type": "stream",
     "text": [
      "Thresh=0.002119826, n=85, explained variance: 0.6491654098846824, mean abs error: 15.151846591560519\n",
      "Fitting 2 folds for each of 108 candidates, totalling 216 fits\n"
     ]
    },
    {
     "name": "stderr",
     "output_type": "stream",
     "text": [
      "[Parallel(n_jobs=-1)]: Done  34 tasks      | elapsed:   12.0s\n",
      "[Parallel(n_jobs=-1)]: Done 184 tasks      | elapsed:   52.4s\n",
      "[Parallel(n_jobs=-1)]: Done 216 out of 216 | elapsed:  1.0min finished\n"
     ]
    },
    {
     "name": "stdout",
     "output_type": "stream",
     "text": [
      "Thresh=0.0017851166, n=87, explained variance: 0.6261740217481802, mean abs error: 16.14776641463964\n",
      "Fitting 2 folds for each of 108 candidates, totalling 216 fits\n"
     ]
    },
    {
     "name": "stderr",
     "output_type": "stream",
     "text": [
      "[Parallel(n_jobs=-1)]: Done  34 tasks      | elapsed:   11.6s\n",
      "[Parallel(n_jobs=-1)]: Done 184 tasks      | elapsed:   52.5s\n",
      "[Parallel(n_jobs=-1)]: Done 216 out of 216 | elapsed:  1.0min finished\n"
     ]
    },
    {
     "name": "stdout",
     "output_type": "stream",
     "text": [
      "Thresh=0.0017851166, n=87, explained variance: 0.6261740217481802, mean abs error: 16.14776641463964\n",
      "Fitting 2 folds for each of 108 candidates, totalling 216 fits\n"
     ]
    },
    {
     "name": "stderr",
     "output_type": "stream",
     "text": [
      "[Parallel(n_jobs=-1)]: Done  34 tasks      | elapsed:   11.9s\n",
      "[Parallel(n_jobs=-1)]: Done 184 tasks      | elapsed:   53.2s\n",
      "[Parallel(n_jobs=-1)]: Done 216 out of 216 | elapsed:  1.0min finished\n"
     ]
    },
    {
     "name": "stdout",
     "output_type": "stream",
     "text": [
      "Thresh=0.001561977, n=89, explained variance: 0.613985207254724, mean abs error: 15.951213525841217\n",
      "Fitting 2 folds for each of 108 candidates, totalling 216 fits\n"
     ]
    },
    {
     "name": "stderr",
     "output_type": "stream",
     "text": [
      "[Parallel(n_jobs=-1)]: Done  34 tasks      | elapsed:   11.9s\n",
      "[Parallel(n_jobs=-1)]: Done 184 tasks      | elapsed:   53.4s\n",
      "[Parallel(n_jobs=-1)]: Done 216 out of 216 | elapsed:  1.0min finished\n"
     ]
    },
    {
     "name": "stdout",
     "output_type": "stream",
     "text": [
      "Thresh=0.001561977, n=89, explained variance: 0.613985207254724, mean abs error: 15.951213525841217\n",
      "Fitting 2 folds for each of 108 candidates, totalling 216 fits\n"
     ]
    },
    {
     "name": "stderr",
     "output_type": "stream",
     "text": [
      "[Parallel(n_jobs=-1)]: Done  34 tasks      | elapsed:   11.9s\n",
      "[Parallel(n_jobs=-1)]: Done 184 tasks      | elapsed:   53.7s\n",
      "[Parallel(n_jobs=-1)]: Done 216 out of 216 | elapsed:  1.1min finished\n"
     ]
    },
    {
     "name": "stdout",
     "output_type": "stream",
     "text": [
      "Thresh=0.0014504072, n=92, explained variance: 0.560244338454386, mean abs error: 17.648462162138244\n",
      "Fitting 2 folds for each of 108 candidates, totalling 216 fits\n"
     ]
    },
    {
     "name": "stderr",
     "output_type": "stream",
     "text": [
      "[Parallel(n_jobs=-1)]: Done  34 tasks      | elapsed:   12.3s\n",
      "[Parallel(n_jobs=-1)]: Done 184 tasks      | elapsed:   54.6s\n",
      "[Parallel(n_jobs=-1)]: Done 216 out of 216 | elapsed:  1.1min finished\n"
     ]
    },
    {
     "name": "stdout",
     "output_type": "stream",
     "text": [
      "Thresh=0.0014504072, n=92, explained variance: 0.560244338454386, mean abs error: 17.648462162138244\n",
      "Fitting 2 folds for each of 108 candidates, totalling 216 fits\n"
     ]
    },
    {
     "name": "stderr",
     "output_type": "stream",
     "text": [
      "[Parallel(n_jobs=-1)]: Done  34 tasks      | elapsed:   12.2s\n",
      "[Parallel(n_jobs=-1)]: Done 184 tasks      | elapsed:   53.9s\n",
      "[Parallel(n_jobs=-1)]: Done 216 out of 216 | elapsed:  1.1min finished\n"
     ]
    },
    {
     "name": "stdout",
     "output_type": "stream",
     "text": [
      "Thresh=0.0014504072, n=92, explained variance: 0.560244338454386, mean abs error: 17.648462162138244\n",
      "Fitting 2 folds for each of 108 candidates, totalling 216 fits\n"
     ]
    },
    {
     "name": "stderr",
     "output_type": "stream",
     "text": [
      "[Parallel(n_jobs=-1)]: Done  34 tasks      | elapsed:   11.9s\n",
      "[Parallel(n_jobs=-1)]: Done 184 tasks      | elapsed:   55.1s\n",
      "[Parallel(n_jobs=-1)]: Done 216 out of 216 | elapsed:  1.1min finished\n"
     ]
    },
    {
     "name": "stdout",
     "output_type": "stream",
     "text": [
      "Thresh=0.0011156979, n=95, explained variance: 0.6252330319018875, mean abs error: 15.747641772863687\n",
      "Fitting 2 folds for each of 108 candidates, totalling 216 fits\n"
     ]
    },
    {
     "name": "stderr",
     "output_type": "stream",
     "text": [
      "[Parallel(n_jobs=-1)]: Done  34 tasks      | elapsed:   12.1s\n",
      "[Parallel(n_jobs=-1)]: Done 184 tasks      | elapsed:   55.3s\n",
      "[Parallel(n_jobs=-1)]: Done 216 out of 216 | elapsed:  1.1min finished\n"
     ]
    },
    {
     "name": "stdout",
     "output_type": "stream",
     "text": [
      "Thresh=0.0011156979, n=95, explained variance: 0.6252330319018875, mean abs error: 15.747641772863687\n",
      "Fitting 2 folds for each of 108 candidates, totalling 216 fits\n"
     ]
    },
    {
     "name": "stderr",
     "output_type": "stream",
     "text": [
      "[Parallel(n_jobs=-1)]: Done  34 tasks      | elapsed:   12.2s\n",
      "[Parallel(n_jobs=-1)]: Done 184 tasks      | elapsed:   54.7s\n",
      "[Parallel(n_jobs=-1)]: Done 216 out of 216 | elapsed:  1.1min finished\n"
     ]
    },
    {
     "name": "stdout",
     "output_type": "stream",
     "text": [
      "Thresh=0.0011156979, n=95, explained variance: 0.6252330319018875, mean abs error: 15.747641772863687\n",
      "Fitting 2 folds for each of 108 candidates, totalling 216 fits\n"
     ]
    },
    {
     "name": "stderr",
     "output_type": "stream",
     "text": [
      "[Parallel(n_jobs=-1)]: Done  34 tasks      | elapsed:   12.1s\n",
      "[Parallel(n_jobs=-1)]: Done 184 tasks      | elapsed:   56.5s\n",
      "[Parallel(n_jobs=-1)]: Done 216 out of 216 | elapsed:  1.1min finished\n"
     ]
    },
    {
     "name": "stdout",
     "output_type": "stream",
     "text": [
      "Thresh=0.0010041281, n=98, explained variance: 0.636848883162913, mean abs error: 15.021152496579163\n",
      "Fitting 2 folds for each of 108 candidates, totalling 216 fits\n"
     ]
    },
    {
     "name": "stderr",
     "output_type": "stream",
     "text": [
      "[Parallel(n_jobs=-1)]: Done  34 tasks      | elapsed:   12.0s\n",
      "[Parallel(n_jobs=-1)]: Done 184 tasks      | elapsed:   56.1s\n",
      "[Parallel(n_jobs=-1)]: Done 216 out of 216 | elapsed:  1.1min finished\n"
     ]
    },
    {
     "name": "stdout",
     "output_type": "stream",
     "text": [
      "Thresh=0.0010041281, n=98, explained variance: 0.636848883162913, mean abs error: 15.021152496579163\n",
      "Fitting 2 folds for each of 108 candidates, totalling 216 fits\n"
     ]
    },
    {
     "name": "stderr",
     "output_type": "stream",
     "text": [
      "[Parallel(n_jobs=-1)]: Done  34 tasks      | elapsed:   12.2s\n",
      "[Parallel(n_jobs=-1)]: Done 184 tasks      | elapsed:   55.6s\n",
      "[Parallel(n_jobs=-1)]: Done 216 out of 216 | elapsed:  1.1min finished\n"
     ]
    },
    {
     "name": "stdout",
     "output_type": "stream",
     "text": [
      "Thresh=0.0010041281, n=98, explained variance: 0.636848883162913, mean abs error: 15.021152496579163\n",
      "Fitting 2 folds for each of 108 candidates, totalling 216 fits\n"
     ]
    },
    {
     "name": "stderr",
     "output_type": "stream",
     "text": [
      "[Parallel(n_jobs=-1)]: Done  34 tasks      | elapsed:   12.6s\n",
      "[Parallel(n_jobs=-1)]: Done 184 tasks      | elapsed:   58.9s\n",
      "[Parallel(n_jobs=-1)]: Done 216 out of 216 | elapsed:  1.2min finished\n"
     ]
    },
    {
     "name": "stdout",
     "output_type": "stream",
     "text": [
      "Thresh=0.0008925583, n=107, explained variance: 0.6142501217456602, mean abs error: 16.127031449476128\n",
      "Fitting 2 folds for each of 108 candidates, totalling 216 fits\n"
     ]
    },
    {
     "name": "stderr",
     "output_type": "stream",
     "text": [
      "[Parallel(n_jobs=-1)]: Done  34 tasks      | elapsed:   12.7s\n",
      "[Parallel(n_jobs=-1)]: Done 184 tasks      | elapsed:   58.8s\n",
      "[Parallel(n_jobs=-1)]: Done 216 out of 216 | elapsed:  1.2min finished\n"
     ]
    },
    {
     "name": "stdout",
     "output_type": "stream",
     "text": [
      "Thresh=0.0008925583, n=107, explained variance: 0.6142501217456602, mean abs error: 16.127031449476128\n"
     ]
    }
   ],
   "source": [
    "week6_nfeature_gridsearch = nfeature_gridsearch(X, y6, '2017-09-25', week6_xgb, nfeature_param_grid, categorical_cols)"
   ]
  },
  {
   "cell_type": "code",
   "execution_count": 49,
   "metadata": {},
   "outputs": [],
   "source": [
    "pickle.dump(week1_xgb, open(\"/Users/Rohil/Documents/iGEM/yemen/feature_engineering/week_only_models/week1_xgb_all_features_week_only.pickle.dat\", \"wb\"))\n",
    "pickle.dump(week2_xgb, open(\"/Users/Rohil/Documents/iGEM/yemen/feature_engineering/week_only_models/week2_xgb_all_features_week_only.pickle.dat\", \"wb\"))\n",
    "pickle.dump(week3_xgb, open(\"/Users/Rohil/Documents/iGEM/yemen/feature_engineering/week_only_models/week3_xgb_all_features_week_only.pickle.dat\", \"wb\"))\n",
    "pickle.dump(week4_xgb, open(\"/Users/Rohil/Documents/iGEM/yemen/feature_engineering/week_only_models/week4_xgb_all_features_week_only.pickle.dat\", \"wb\"))\n",
    "pickle.dump(week5_xgb, open(\"/Users/Rohil/Documents/iGEM/yemen/feature_engineering/week_only_models/week5_xgb_all_features_week_only.pickle.dat\", \"wb\"))\n",
    "pickle.dump(week6_xgb, open(\"/Users/Rohil/Documents/iGEM/yemen/feature_engineering/week_only_models/week6_xgb_all_features_week_only.pickle.dat\", \"wb\"))"
   ]
  },
  {
   "cell_type": "code",
   "execution_count": 54,
   "metadata": {
    "collapsed": true
   },
   "outputs": [],
   "source": [
    "week1_nfeature_gridsearch.to_csv('/Users/Rohil/Documents/iGEM/yemen/feature_engineering/week1_nfeatures_gridsearch_df.csv', index = False)\n",
    "week2_nfeature_gridsearch.to_csv('/Users/Rohil/Documents/iGEM/yemen/feature_engineering/week2_nfeatures_gridsearch_df.csv', index = False)\n",
    "week4_nfeature_gridsearch.to_csv('/Users/Rohil/Documents/iGEM/yemen/feature_engineering/week4_nfeatures_gridsearch_df.csv', index = False)\n",
    "week6_nfeature_gridsearch.to_csv('/Users/Rohil/Documents/iGEM/yemen/feature_engineering/week6_nfeatures_gridsearch_df.csv', index = False)"
   ]
  },
  {
   "cell_type": "code",
   "execution_count": null,
   "metadata": {
    "collapsed": true
   },
   "outputs": [],
   "source": []
  },
  {
   "cell_type": "code",
   "execution_count": 33,
   "metadata": {},
   "outputs": [],
   "source": [
    "def nfeature_search(X, y, split_date, xgb_all_features, model_params, categorical_cols):\n",
    "    \n",
    "    thresholds = sorted(xgb_all_features.feature_importances_, reverse = True)\n",
    "    \n",
    "    nfeature_df = pd.DataFrame(columns=['threshold', 'n_features', 'explained_variance', 'mae'])\n",
    "\n",
    "    # some of the ending values are undefined purposely, as there isnt't enough data to get cholera cases for x weeks\n",
    "    y = y.dropna()\n",
    "    X = X.loc[y.index]\n",
    "        \n",
    "    X_train, X_test = X[(X.date<split_date)].drop('date', axis=1), X[(X.date>=split_date)].drop('date', axis=1)\n",
    "    y_train, y_test = y[(y.date<split_date)].drop('date', axis=1), y[(y.date>=split_date)].drop('date', axis=1)\n",
    "    \n",
    "    scaler = StandardScaler()\n",
    "    scaler.fit(X_train.iloc[:,:categorical_cols[0]])\n",
    "    \n",
    "    X_train, X_test = scale_features(scaler, X_train, categorical_cols), scale_features(scaler, X_test, categorical_cols)\n",
    "    \n",
    "    for thresh in thresholds[0:100]:\n",
    "        # select features using threshold\n",
    "        selection = SelectFromModel(xgb_all_features, threshold=thresh, prefit=True)\n",
    "\n",
    "        select_X_train = selection.transform(X_train)\n",
    "        \n",
    "        selection_model = xgboost.XGBRegressor(**model_params)\n",
    "\n",
    "        selection_model.fit(select_X_train, y_train)\n",
    "\n",
    "        # eval model\n",
    "        select_X_test = selection.transform(X_test)\n",
    "        y_pred = selection_model.predict(select_X_test)\n",
    "        score = explained_variance_score(y_test, y_pred)\n",
    "        mae = mean_absolute_error(y_test, y_pred)\n",
    "\n",
    "        print('Thresh=%s, n=%s, explained variance: %s, mean abs error: %s' % (thresh, select_X_train.shape[1], score, mae))\n",
    "\n",
    "        nfeature_df = nfeature_df.append(pd.Series({'threshold':thresh, 'n_features':select_X_train.shape[1], 'explained_variance':score, 'mae': mae}), ignore_index = True)\n",
    "        \n",
    "    return (nfeature_df)"
   ]
  },
  {
   "cell_type": "code",
   "execution_count": 41,
   "metadata": {},
   "outputs": [
    {
     "name": "stdout",
     "output_type": "stream",
     "text": [
      "Thresh=0.09749232, n=1, explained variance: 0.8211068483966901, mean abs error: 1.5391319928360536\n",
      "Thresh=0.07676561, n=2, explained variance: 0.8151773559913033, mean abs error: 1.6094321984413764\n",
      "Thresh=0.042732857, n=3, explained variance: 0.8153736614121094, mean abs error: 1.902614090949244\n",
      "Thresh=0.035056293, n=4, explained variance: 0.7972784735754975, mean abs error: 1.7959587475122576\n",
      "Thresh=0.032753326, n=5, explained variance: 0.8129667065764891, mean abs error: 1.587240356042348\n",
      "Thresh=0.025588537, n=6, explained variance: 0.8291892621480452, mean abs error: 1.3824349057477607\n",
      "Thresh=0.02533265, n=7, explained variance: 0.817887415492959, mean abs error: 1.4502776121657337\n",
      "Thresh=0.022773797, n=8, explained variance: 0.8288576947000662, mean abs error: 1.4580146485324528\n",
      "Thresh=0.022006141, n=9, explained variance: 0.8329527453770288, mean abs error: 1.427700175788198\n",
      "Thresh=0.021238485, n=10, explained variance: 0.8282299954515931, mean abs error: 1.5270805005555397\n",
      "Thresh=0.019447288, n=11, explained variance: 0.8413927484634851, mean abs error: 1.4473823683158666\n",
      "Thresh=0.018423745, n=12, explained variance: 0.8314533728635113, mean abs error: 1.5419666234052787\n",
      "Thresh=0.017400205, n=13, explained variance: 0.8275744406213217, mean abs error: 1.6295416815542418\n",
      "Thresh=0.016888434, n=14, explained variance: 0.8247429269358664, mean abs error: 1.5953396433748412\n",
      "Thresh=0.01663255, n=15, explained variance: 0.8339580779589351, mean abs error: 1.551241480272976\n",
      "Thresh=0.016376663, n=16, explained variance: 0.828657495964361, mean abs error: 1.5949695868221436\n",
      "Thresh=0.016120778, n=18, explained variance: 0.8244659599616128, mean abs error: 1.621628263802932\n",
      "Thresh=0.016120778, n=18, explained variance: 0.8244659599616128, mean abs error: 1.621628263802932\n",
      "Thresh=0.015864892, n=19, explained variance: 0.8309821703428298, mean abs error: 1.5027049398834649\n",
      "Thresh=0.014585466, n=20, explained variance: 0.8294901496273472, mean abs error: 1.551010369655394\n",
      "Thresh=0.014073695, n=21, explained variance: 0.827569620548572, mean abs error: 1.657564780349943\n",
      "Thresh=0.013561924, n=22, explained variance: 0.8322078863091691, mean abs error: 1.5426890183786293\n",
      "Thresh=0.013050154, n=23, explained variance: 0.8242601056627188, mean abs error: 1.5496568628704748\n",
      "Thresh=0.012794268, n=26, explained variance: 0.8329514791962623, mean abs error: 1.4601741202377838\n",
      "Thresh=0.012794268, n=26, explained variance: 0.8329514791962623, mean abs error: 1.4601741202377838\n",
      "Thresh=0.012794268, n=26, explained variance: 0.8329514791962623, mean abs error: 1.4601741202377838\n",
      "Thresh=0.012538383, n=27, explained variance: 0.8336714670734705, mean abs error: 1.5610911546444106\n",
      "Thresh=0.012026612, n=28, explained variance: 0.831640048113876, mean abs error: 1.5709823449635378\n",
      "Thresh=0.011770727, n=29, explained variance: 0.8295183596839053, mean abs error: 1.6426797641930688\n",
      "Thresh=0.011258956, n=30, explained variance: 0.8258154788301655, mean abs error: 1.662082370927665\n",
      "Thresh=0.0110030705, n=32, explained variance: 0.8283430809281307, mean abs error: 1.5423204699440212\n",
      "Thresh=0.0110030705, n=32, explained variance: 0.8283430809281307, mean abs error: 1.5423204699440212\n",
      "Thresh=0.010235415, n=33, explained variance: 0.8300446789148865, mean abs error: 1.581755728858274\n",
      "Thresh=0.009979529, n=34, explained variance: 0.8332529184589018, mean abs error: 1.5267931927998473\n",
      "Thresh=0.009723644, n=35, explained variance: 0.8288973404604788, mean abs error: 1.5817450977406862\n",
      "Thresh=0.009211873, n=37, explained variance: 0.8327311577747827, mean abs error: 1.5582471435296088\n",
      "Thresh=0.009211873, n=37, explained variance: 0.8327311577747827, mean abs error: 1.5582471435296088\n",
      "Thresh=0.008700103, n=38, explained variance: 0.8299404714287744, mean abs error: 1.5906658867410697\n",
      "Thresh=0.0081883315, n=40, explained variance: 0.831455524789863, mean abs error: 1.5418865423063395\n",
      "Thresh=0.0081883315, n=40, explained variance: 0.831455524789863, mean abs error: 1.5418865423063395\n",
      "Thresh=0.007932446, n=41, explained variance: 0.831130260403037, mean abs error: 1.6000259318652086\n",
      "Thresh=0.007676561, n=45, explained variance: 0.8326987527725296, mean abs error: 1.5249572488112337\n",
      "Thresh=0.007676561, n=45, explained variance: 0.8326987527725296, mean abs error: 1.5249572488112337\n",
      "Thresh=0.007676561, n=45, explained variance: 0.8326987527725296, mean abs error: 1.5249572488112337\n",
      "Thresh=0.007676561, n=45, explained variance: 0.8326987527725296, mean abs error: 1.5249572488112337\n",
      "Thresh=0.0074206754, n=48, explained variance: 0.8313311280587736, mean abs error: 1.5651113139997554\n",
      "Thresh=0.0074206754, n=48, explained variance: 0.8313311280587736, mean abs error: 1.5651113139997554\n",
      "Thresh=0.0074206754, n=48, explained variance: 0.8313311280587736, mean abs error: 1.5651113139997554\n",
      "Thresh=0.0071647903, n=49, explained variance: 0.8376319777486032, mean abs error: 1.4881159821974705\n",
      "Thresh=0.0069089048, n=50, explained variance: 0.8293250640186954, mean abs error: 1.5484369550940242\n",
      "Thresh=0.006397134, n=54, explained variance: 0.8325663253360666, mean abs error: 1.4857924948131982\n",
      "Thresh=0.006397134, n=54, explained variance: 0.8325663253360666, mean abs error: 1.4857924948131982\n",
      "Thresh=0.006397134, n=54, explained variance: 0.8325663253360666, mean abs error: 1.4857924948131982\n",
      "Thresh=0.006397134, n=54, explained variance: 0.8325663253360666, mean abs error: 1.4857924948131982\n",
      "Thresh=0.0061412486, n=56, explained variance: 0.830109252940191, mean abs error: 1.5579460646345342\n",
      "Thresh=0.0061412486, n=56, explained variance: 0.830109252940191, mean abs error: 1.5579460646345342\n",
      "Thresh=0.005629478, n=57, explained variance: 0.8320074068271058, mean abs error: 1.5099508364198093\n",
      "Thresh=0.0051177074, n=58, explained variance: 0.8263585673780636, mean abs error: 1.5784032881502381\n",
      "Thresh=0.004861822, n=61, explained variance: 0.8307612482283178, mean abs error: 1.5550864372019093\n",
      "Thresh=0.004861822, n=61, explained variance: 0.8307612482283178, mean abs error: 1.5550864372019093\n",
      "Thresh=0.004861822, n=61, explained variance: 0.8307612482283178, mean abs error: 1.5550864372019093\n",
      "Thresh=0.0046059364, n=64, explained variance: 0.8301738248158371, mean abs error: 1.5263712867008261\n",
      "Thresh=0.0046059364, n=64, explained variance: 0.8301738248158371, mean abs error: 1.5263712867008261\n",
      "Thresh=0.0046059364, n=64, explained variance: 0.8301738248158371, mean abs error: 1.5263712867008261\n",
      "Thresh=0.0038382804, n=66, explained variance: 0.8287557832713572, mean abs error: 1.5506316080136024\n",
      "Thresh=0.0038382804, n=66, explained variance: 0.8287557832713572, mean abs error: 1.5506316080136024\n",
      "Thresh=0.0035823951, n=68, explained variance: 0.8332097300000041, mean abs error: 1.5469521188617332\n",
      "Thresh=0.0035823951, n=68, explained variance: 0.8332097300000041, mean abs error: 1.5469521188617332\n",
      "Thresh=0.0033265096, n=70, explained variance: 0.8263237651279945, mean abs error: 1.5714148858360542\n",
      "Thresh=0.0033265096, n=70, explained variance: 0.8263237651279945, mean abs error: 1.5714148858360542\n",
      "Thresh=0.002814739, n=71, explained variance: 0.8293143766750803, mean abs error: 1.5736205541490067\n",
      "Thresh=0.0025588537, n=72, explained variance: 0.8282572737798277, mean abs error: 1.5754199257476431\n",
      "Thresh=0.0015353122, n=74, explained variance: 0.829448346529496, mean abs error: 1.6169602377268382\n",
      "Thresh=0.0015353122, n=74, explained variance: 0.829448346529496, mean abs error: 1.6169602377268382\n",
      "Thresh=0.0012794269, n=76, explained variance: 0.830010081585687, mean abs error: 1.6362511071706027\n",
      "Thresh=0.0012794269, n=76, explained variance: 0.830010081585687, mean abs error: 1.6362511071706027\n",
      "Thresh=0.0010235414, n=80, explained variance: 0.8247672764586547, mean abs error: 1.6739139290757215\n",
      "Thresh=0.0010235414, n=80, explained variance: 0.8247672764586547, mean abs error: 1.6739139290757215\n",
      "Thresh=0.0010235414, n=80, explained variance: 0.8247672764586547, mean abs error: 1.6739139290757215\n",
      "Thresh=0.0010235414, n=80, explained variance: 0.8247672764586547, mean abs error: 1.6739139290757215\n",
      "Thresh=0.0007676561, n=88, explained variance: 0.829172605484068, mean abs error: 1.517049050622963\n",
      "Thresh=0.0007676561, n=88, explained variance: 0.829172605484068, mean abs error: 1.517049050622963\n"
     ]
    },
    {
     "name": "stdout",
     "output_type": "stream",
     "text": [
      "Thresh=0.0007676561, n=88, explained variance: 0.829172605484068, mean abs error: 1.517049050622963\n",
      "Thresh=0.0007676561, n=88, explained variance: 0.829172605484068, mean abs error: 1.517049050622963\n",
      "Thresh=0.0007676561, n=88, explained variance: 0.829172605484068, mean abs error: 1.517049050622963\n",
      "Thresh=0.0007676561, n=88, explained variance: 0.829172605484068, mean abs error: 1.517049050622963\n",
      "Thresh=0.0007676561, n=88, explained variance: 0.829172605484068, mean abs error: 1.517049050622963\n",
      "Thresh=0.0007676561, n=88, explained variance: 0.829172605484068, mean abs error: 1.517049050622963\n",
      "Thresh=0.0005117707, n=104, explained variance: 0.825766027165283, mean abs error: 1.571066295074216\n",
      "Thresh=0.0005117707, n=104, explained variance: 0.825766027165283, mean abs error: 1.571066295074216\n",
      "Thresh=0.0005117707, n=104, explained variance: 0.825766027165283, mean abs error: 1.571066295074216\n",
      "Thresh=0.0005117707, n=104, explained variance: 0.825766027165283, mean abs error: 1.571066295074216\n",
      "Thresh=0.0005117707, n=104, explained variance: 0.825766027165283, mean abs error: 1.571066295074216\n",
      "Thresh=0.0005117707, n=104, explained variance: 0.825766027165283, mean abs error: 1.571066295074216\n",
      "Thresh=0.0005117707, n=104, explained variance: 0.825766027165283, mean abs error: 1.571066295074216\n",
      "Thresh=0.0005117707, n=104, explained variance: 0.825766027165283, mean abs error: 1.571066295074216\n",
      "Thresh=0.0005117707, n=104, explained variance: 0.825766027165283, mean abs error: 1.571066295074216\n",
      "Thresh=0.0005117707, n=104, explained variance: 0.825766027165283, mean abs error: 1.571066295074216\n",
      "Thresh=0.0005117707, n=104, explained variance: 0.825766027165283, mean abs error: 1.571066295074216\n",
      "Thresh=0.0005117707, n=104, explained variance: 0.825766027165283, mean abs error: 1.571066295074216\n"
     ]
    }
   ],
   "source": [
    "week1_nfeature_search = nfeature_search(X, y1, '2017-09-25', week1_xgb, week1_params, categorical_cols)"
   ]
  },
  {
   "cell_type": "code",
   "execution_count": 42,
   "metadata": {},
   "outputs": [
    {
     "name": "stdout",
     "output_type": "stream",
     "text": [
      "Thresh=0.11498708, n=1, explained variance: 0.7676571276778512, mean abs error: 1.7507212179185592\n",
      "Thresh=0.08699397, n=2, explained variance: 0.7713009216273319, mean abs error: 1.7893305740044456\n",
      "Thresh=0.05641688, n=3, explained variance: 0.7753437319269085, mean abs error: 2.0097988273522343\n",
      "Thresh=0.04909561, n=4, explained variance: 0.7493113170321504, mean abs error: 2.0085341343014984\n",
      "Thresh=0.03057709, n=5, explained variance: 0.7538295404949433, mean abs error: 1.852737056649311\n",
      "Thresh=0.030146426, n=6, explained variance: 0.7812892628238577, mean abs error: 1.7390367194042962\n",
      "Thresh=0.0292851, n=7, explained variance: 0.7749816027251356, mean abs error: 1.6577842685404098\n",
      "Thresh=0.023255814, n=8, explained variance: 0.7729486149750333, mean abs error: 1.6657855762930174\n",
      "Thresh=0.021963824, n=9, explained variance: 0.7755662397017117, mean abs error: 1.690518721205123\n",
      "Thresh=0.021102497, n=10, explained variance: 0.7680319292861438, mean abs error: 1.7097655665177105\n",
      "Thresh=0.020671835, n=11, explained variance: 0.7611090215352877, mean abs error: 1.846567256053249\n",
      "Thresh=0.019379845, n=12, explained variance: 0.7634866706357653, mean abs error: 1.8044598781888477\n",
      "Thresh=0.018518519, n=13, explained variance: 0.7682833480706497, mean abs error: 1.7409049972486585\n",
      "Thresh=0.018087855, n=14, explained variance: 0.766365276761193, mean abs error: 1.7405305241142506\n",
      "Thresh=0.017657192, n=15, explained variance: 0.7676640121902394, mean abs error: 1.7270093503377195\n",
      "Thresh=0.016795866, n=16, explained variance: 0.7652342659324594, mean abs error: 1.7458704430517868\n",
      "Thresh=0.01593454, n=17, explained variance: 0.7575620215970038, mean abs error: 1.8090631588009716\n",
      "Thresh=0.015503876, n=18, explained variance: 0.7625845713162559, mean abs error: 1.7222614993054937\n",
      "Thresh=0.015073213, n=19, explained variance: 0.7664445134571816, mean abs error: 1.688563507522258\n",
      "Thresh=0.01464255, n=21, explained variance: 0.7677818779121013, mean abs error: 1.6976924075819009\n",
      "Thresh=0.01464255, n=21, explained variance: 0.7677818779121013, mean abs error: 1.6976924075819009\n",
      "Thresh=0.013350559, n=22, explained variance: 0.7532996400490648, mean abs error: 1.778602949953951\n",
      "Thresh=0.01205857, n=25, explained variance: 0.7526257797502327, mean abs error: 1.7681728812186823\n",
      "Thresh=0.01205857, n=25, explained variance: 0.7526257797502327, mean abs error: 1.7681728812186823\n",
      "Thresh=0.01205857, n=25, explained variance: 0.7526257797502327, mean abs error: 1.7681728812186823\n",
      "Thresh=0.011627907, n=26, explained variance: 0.7502342879634348, mean abs error: 1.8167850094620757\n",
      "Thresh=0.011197244, n=27, explained variance: 0.7433227062843532, mean abs error: 1.8538452746224852\n",
      "Thresh=0.010766581, n=28, explained variance: 0.7503080287197648, mean abs error: 1.7868986586933582\n",
      "Thresh=0.010335918, n=29, explained variance: 0.7525003909871951, mean abs error: 1.828885077123971\n",
      "Thresh=0.00947459, n=30, explained variance: 0.7541306750888949, mean abs error: 1.7956877880114535\n",
      "Thresh=0.009043927, n=31, explained variance: 0.7455418659054479, mean abs error: 1.8363587112078812\n",
      "Thresh=0.008613264, n=32, explained variance: 0.7501494661801248, mean abs error: 1.8606218268808696\n",
      "Thresh=0.008182601, n=33, explained variance: 0.7572846447869864, mean abs error: 1.8300625318439157\n",
      "Thresh=0.007751938, n=35, explained variance: 0.7450503402614093, mean abs error: 1.8756133901006602\n",
      "Thresh=0.007751938, n=35, explained variance: 0.7450503402614093, mean abs error: 1.8756133901006602\n",
      "Thresh=0.007321275, n=41, explained variance: 0.7587947377913241, mean abs error: 1.8487309027827064\n",
      "Thresh=0.007321275, n=41, explained variance: 0.7587947377913241, mean abs error: 1.8487309027827064\n",
      "Thresh=0.007321275, n=41, explained variance: 0.7587947377913241, mean abs error: 1.8487309027827064\n",
      "Thresh=0.007321275, n=41, explained variance: 0.7587947377913241, mean abs error: 1.8487309027827064\n",
      "Thresh=0.007321275, n=41, explained variance: 0.7587947377913241, mean abs error: 1.8487309027827064\n",
      "Thresh=0.007321275, n=41, explained variance: 0.7587947377913241, mean abs error: 1.8487309027827064\n",
      "Thresh=0.0068906117, n=43, explained variance: 0.7481838721905527, mean abs error: 1.9345893666393374\n",
      "Thresh=0.0068906117, n=43, explained variance: 0.7481838721905527, mean abs error: 1.9345893666393374\n",
      "Thresh=0.006459948, n=46, explained variance: 0.7526656038744399, mean abs error: 1.861799468149464\n",
      "Thresh=0.006459948, n=46, explained variance: 0.7526656038744399, mean abs error: 1.861799468149464\n",
      "Thresh=0.006459948, n=46, explained variance: 0.7526656038744399, mean abs error: 1.861799468149464\n",
      "Thresh=0.006029285, n=50, explained variance: 0.7531223318116818, mean abs error: 1.8701124050553763\n",
      "Thresh=0.006029285, n=50, explained variance: 0.7531223318116818, mean abs error: 1.8701124050553763\n",
      "Thresh=0.006029285, n=50, explained variance: 0.7531223318116818, mean abs error: 1.8701124050553763\n",
      "Thresh=0.006029285, n=50, explained variance: 0.7531223318116818, mean abs error: 1.8701124050553763\n",
      "Thresh=0.005598622, n=52, explained variance: 0.7601053452849146, mean abs error: 1.7913663476121922\n",
      "Thresh=0.005598622, n=52, explained variance: 0.7601053452849146, mean abs error: 1.7913663476121922\n",
      "Thresh=0.005167959, n=53, explained variance: 0.7606054821072777, mean abs error: 1.8360263186732404\n",
      "Thresh=0.004737295, n=57, explained variance: 0.7565391055314764, mean abs error: 1.8509804041987723\n",
      "Thresh=0.004737295, n=57, explained variance: 0.7565391055314764, mean abs error: 1.8509804041987723\n",
      "Thresh=0.004737295, n=57, explained variance: 0.7565391055314764, mean abs error: 1.8509804041987723\n",
      "Thresh=0.004737295, n=57, explained variance: 0.7565391055314764, mean abs error: 1.8509804041987723\n",
      "Thresh=0.004306632, n=59, explained variance: 0.7521598014966662, mean abs error: 1.8360435545928373\n",
      "Thresh=0.004306632, n=59, explained variance: 0.7521598014966662, mean abs error: 1.8360435545928373\n",
      "Thresh=0.003875969, n=63, explained variance: 0.7584463713405988, mean abs error: 1.8750620410871655\n",
      "Thresh=0.003875969, n=63, explained variance: 0.7584463713405988, mean abs error: 1.8750620410871655\n",
      "Thresh=0.003875969, n=63, explained variance: 0.7584463713405988, mean abs error: 1.8750620410871655\n",
      "Thresh=0.003875969, n=63, explained variance: 0.7584463713405988, mean abs error: 1.8750620410871655\n",
      "Thresh=0.0034453059, n=64, explained variance: 0.7515802196162873, mean abs error: 1.8829033472658876\n",
      "Thresh=0.0030146425, n=65, explained variance: 0.7498772782128935, mean abs error: 1.9329908398067752\n",
      "Thresh=0.0025839794, n=69, explained variance: 0.7584285963031638, mean abs error: 1.8426422759393304\n",
      "Thresh=0.0025839794, n=69, explained variance: 0.7584285963031638, mean abs error: 1.8426422759393304\n",
      "Thresh=0.0025839794, n=69, explained variance: 0.7584285963031638, mean abs error: 1.8426422759393304\n",
      "Thresh=0.0025839794, n=69, explained variance: 0.7584285963031638, mean abs error: 1.8426422759393304\n",
      "Thresh=0.002153316, n=72, explained variance: 0.7495801225364019, mean abs error: 1.8574634007665474\n",
      "Thresh=0.002153316, n=72, explained variance: 0.7495801225364019, mean abs error: 1.8574634007665474\n",
      "Thresh=0.002153316, n=72, explained variance: 0.7495801225364019, mean abs error: 1.8574634007665474\n",
      "Thresh=0.0012919897, n=77, explained variance: 0.7568408109064745, mean abs error: 1.8494750963263085\n",
      "Thresh=0.0012919897, n=77, explained variance: 0.7568408109064745, mean abs error: 1.8494750963263085\n",
      "Thresh=0.0012919897, n=77, explained variance: 0.7568408109064745, mean abs error: 1.8494750963263085\n",
      "Thresh=0.0012919897, n=77, explained variance: 0.7568408109064745, mean abs error: 1.8494750963263085\n",
      "Thresh=0.0012919897, n=77, explained variance: 0.7568408109064745, mean abs error: 1.8494750963263085\n",
      "Thresh=0.00086132647, n=85, explained variance: 0.7572709660698083, mean abs error: 1.8613408344779254\n",
      "Thresh=0.00086132647, n=85, explained variance: 0.7572709660698083, mean abs error: 1.8613408344779254\n",
      "Thresh=0.00086132647, n=85, explained variance: 0.7572709660698083, mean abs error: 1.8613408344779254\n",
      "Thresh=0.00086132647, n=85, explained variance: 0.7572709660698083, mean abs error: 1.8613408344779254\n",
      "Thresh=0.00086132647, n=85, explained variance: 0.7572709660698083, mean abs error: 1.8613408344779254\n"
     ]
    },
    {
     "name": "stdout",
     "output_type": "stream",
     "text": [
      "Thresh=0.00086132647, n=85, explained variance: 0.7572709660698083, mean abs error: 1.8613408344779254\n",
      "Thresh=0.00086132647, n=85, explained variance: 0.7572709660698083, mean abs error: 1.8613408344779254\n",
      "Thresh=0.00086132647, n=85, explained variance: 0.7572709660698083, mean abs error: 1.8613408344779254\n",
      "Thresh=0.00043066323, n=103, explained variance: 0.7660009642401395, mean abs error: 1.8003906876266988\n",
      "Thresh=0.00043066323, n=103, explained variance: 0.7660009642401395, mean abs error: 1.8003906876266988\n",
      "Thresh=0.00043066323, n=103, explained variance: 0.7660009642401395, mean abs error: 1.8003906876266988\n",
      "Thresh=0.00043066323, n=103, explained variance: 0.7660009642401395, mean abs error: 1.8003906876266988\n",
      "Thresh=0.00043066323, n=103, explained variance: 0.7660009642401395, mean abs error: 1.8003906876266988\n",
      "Thresh=0.00043066323, n=103, explained variance: 0.7660009642401395, mean abs error: 1.8003906876266988\n",
      "Thresh=0.00043066323, n=103, explained variance: 0.7660009642401395, mean abs error: 1.8003906876266988\n",
      "Thresh=0.00043066323, n=103, explained variance: 0.7660009642401395, mean abs error: 1.8003906876266988\n",
      "Thresh=0.00043066323, n=103, explained variance: 0.7660009642401395, mean abs error: 1.8003906876266988\n",
      "Thresh=0.00043066323, n=103, explained variance: 0.7660009642401395, mean abs error: 1.8003906876266988\n",
      "Thresh=0.00043066323, n=103, explained variance: 0.7660009642401395, mean abs error: 1.8003906876266988\n",
      "Thresh=0.00043066323, n=103, explained variance: 0.7660009642401395, mean abs error: 1.8003906876266988\n",
      "Thresh=0.00043066323, n=103, explained variance: 0.7660009642401395, mean abs error: 1.8003906876266988\n",
      "Thresh=0.00043066323, n=103, explained variance: 0.7660009642401395, mean abs error: 1.8003906876266988\n",
      "Thresh=0.00043066323, n=103, explained variance: 0.7660009642401395, mean abs error: 1.8003906876266988\n"
     ]
    }
   ],
   "source": [
    "week2_nfeature_search = nfeature_search(X, y2, '2017-09-25', week2_xgb, week2_params, categorical_cols)"
   ]
  },
  {
   "cell_type": "code",
   "execution_count": 34,
   "metadata": {},
   "outputs": [
    {
     "name": "stdout",
     "output_type": "stream",
     "text": [
      "Thresh=0.067311734, n=1, explained variance: 0.686960965637748, mean abs error: 4.517046984631037\n",
      "Thresh=0.05427009, n=2, explained variance: 0.6619014756041823, mean abs error: 5.460326928542645\n",
      "Thresh=0.053007994, n=3, explained variance: 0.6636854599559777, mean abs error: 5.215571880667072\n",
      "Thresh=0.047538914, n=4, explained variance: 0.7296707640489027, mean abs error: 4.466017177900264\n",
      "Thresh=0.03828355, n=5, explained variance: 0.7058100308693407, mean abs error: 4.722152363067146\n",
      "Thresh=0.032814473, n=6, explained variance: 0.7291192819319954, mean abs error: 4.312338029819273\n",
      "Thresh=0.032393772, n=7, explained variance: 0.7040501146551936, mean abs error: 3.980346297929264\n",
      "Thresh=0.026924696, n=8, explained variance: 0.7059581803176022, mean abs error: 4.050762843350757\n",
      "Thresh=0.026083298, n=9, explained variance: 0.7236541688296022, mean abs error: 3.9971210862262243\n",
      "Thresh=0.0256626, n=10, explained variance: 0.7347164164218136, mean abs error: 3.9154220800596917\n",
      "Thresh=0.02313841, n=11, explained variance: 0.7293566169290124, mean abs error: 4.000046987052101\n",
      "Thresh=0.022297014, n=12, explained variance: 0.7281353683206515, mean abs error: 3.9449674194789823\n",
      "Thresh=0.019772822, n=13, explained variance: 0.7200116635440105, mean abs error: 3.8931011913997646\n",
      "Thresh=0.018931426, n=16, explained variance: 0.720517078098301, mean abs error: 3.8903275176746845\n",
      "Thresh=0.018931426, n=16, explained variance: 0.720517078098301, mean abs error: 3.8903275176746845\n",
      "Thresh=0.018931426, n=16, explained variance: 0.720517078098301, mean abs error: 3.8903275176746845\n",
      "Thresh=0.01809003, n=17, explained variance: 0.7136234231384306, mean abs error: 3.834676857304817\n",
      "Thresh=0.017248632, n=18, explained variance: 0.707934000699454, mean abs error: 3.887683964193235\n",
      "Thresh=0.016827933, n=19, explained variance: 0.6857551790989853, mean abs error: 4.150356929342525\n",
      "Thresh=0.014724443, n=21, explained variance: 0.7082317389602899, mean abs error: 3.934315551168712\n",
      "Thresh=0.014724443, n=21, explained variance: 0.7082317389602899, mean abs error: 3.934315551168712\n",
      "Thresh=0.014303744, n=22, explained variance: 0.7255167397161673, mean abs error: 3.775965631107437\n",
      "Thresh=0.013883046, n=23, explained variance: 0.7056431904149905, mean abs error: 3.9747139773845435\n",
      "Thresh=0.013462348, n=24, explained variance: 0.7127687341154949, mean abs error: 3.866007303135404\n",
      "Thresh=0.013041649, n=26, explained variance: 0.7104085339234794, mean abs error: 3.8722888213867526\n",
      "Thresh=0.013041649, n=26, explained variance: 0.7104085339234794, mean abs error: 3.8722888213867526\n",
      "Thresh=0.012620951, n=27, explained variance: 0.7050094304809761, mean abs error: 3.9153033319471366\n",
      "Thresh=0.011779554, n=29, explained variance: 0.7092724242170518, mean abs error: 4.166403681676463\n",
      "Thresh=0.011779554, n=29, explained variance: 0.7092724242170518, mean abs error: 4.166403681676463\n",
      "Thresh=0.011358855, n=30, explained variance: 0.7076588259359836, mean abs error: 4.172755355439026\n",
      "Thresh=0.010938157, n=31, explained variance: 0.6949251457746608, mean abs error: 4.195286070976008\n",
      "Thresh=0.010517459, n=33, explained variance: 0.6779369037275853, mean abs error: 4.359358821494477\n",
      "Thresh=0.010517459, n=33, explained variance: 0.6779369037275853, mean abs error: 4.359358821494477\n",
      "Thresh=0.009255364, n=35, explained variance: 0.6884344267189935, mean abs error: 4.2509026216202965\n",
      "Thresh=0.009255364, n=35, explained variance: 0.6884344267189935, mean abs error: 4.2509026216202965\n",
      "Thresh=0.008834666, n=37, explained variance: 0.695004852643732, mean abs error: 4.19223445075888\n",
      "Thresh=0.008834666, n=37, explained variance: 0.695004852643732, mean abs error: 4.19223445075888\n",
      "Thresh=0.0075725704, n=38, explained variance: 0.6909162434363445, mean abs error: 4.2897395384494095\n",
      "Thresh=0.007151872, n=40, explained variance: 0.6965080810664731, mean abs error: 4.302714671236427\n",
      "Thresh=0.007151872, n=40, explained variance: 0.6965080810664731, mean abs error: 4.302714671236427\n",
      "Thresh=0.006731174, n=43, explained variance: 0.687064099778487, mean abs error: 4.342688981479921\n",
      "Thresh=0.006731174, n=43, explained variance: 0.687064099778487, mean abs error: 4.342688981479921\n",
      "Thresh=0.006731174, n=43, explained variance: 0.687064099778487, mean abs error: 4.342688981479921\n",
      "Thresh=0.0063104755, n=44, explained variance: 0.696418812623369, mean abs error: 4.1875319686093375\n",
      "Thresh=0.005889777, n=45, explained variance: 0.7031183430997312, mean abs error: 4.166227674255192\n",
      "Thresh=0.0054690787, n=49, explained variance: 0.6868045598594587, mean abs error: 4.300036240669268\n",
      "Thresh=0.0054690787, n=49, explained variance: 0.6868045598594587, mean abs error: 4.300036240669268\n",
      "Thresh=0.0054690787, n=49, explained variance: 0.6868045598594587, mean abs error: 4.300036240669268\n",
      "Thresh=0.0054690787, n=49, explained variance: 0.6868045598594587, mean abs error: 4.300036240669268\n",
      "Thresh=0.0050483802, n=51, explained variance: 0.6870519566913706, mean abs error: 4.338791241039714\n",
      "Thresh=0.0050483802, n=51, explained variance: 0.6870519566913706, mean abs error: 4.338791241039714\n",
      "Thresh=0.004627682, n=54, explained variance: 0.6880028965265612, mean abs error: 4.3267408441998585\n",
      "Thresh=0.004627682, n=54, explained variance: 0.6880028965265612, mean abs error: 4.3267408441998585\n",
      "Thresh=0.004627682, n=54, explained variance: 0.6880028965265612, mean abs error: 4.3267408441998585\n",
      "Thresh=0.0042069834, n=60, explained variance: 0.7020087483096917, mean abs error: 4.348920891862077\n",
      "Thresh=0.0042069834, n=60, explained variance: 0.7020087483096917, mean abs error: 4.348920891862077\n",
      "Thresh=0.0042069834, n=60, explained variance: 0.7020087483096917, mean abs error: 4.348920891862077\n",
      "Thresh=0.0042069834, n=60, explained variance: 0.7020087483096917, mean abs error: 4.348920891862077\n",
      "Thresh=0.0042069834, n=60, explained variance: 0.7020087483096917, mean abs error: 4.348920891862077\n",
      "Thresh=0.0042069834, n=60, explained variance: 0.7020087483096917, mean abs error: 4.348920891862077\n",
      "Thresh=0.0037862852, n=61, explained variance: 0.7087355693449776, mean abs error: 4.238481703740513\n",
      "Thresh=0.0029448885, n=70, explained variance: 0.7036484590598573, mean abs error: 4.237540991333806\n",
      "Thresh=0.0029448885, n=70, explained variance: 0.7036484590598573, mean abs error: 4.237540991333806\n",
      "Thresh=0.0029448885, n=70, explained variance: 0.7036484590598573, mean abs error: 4.237540991333806\n",
      "Thresh=0.0029448885, n=70, explained variance: 0.7036484590598573, mean abs error: 4.237540991333806\n",
      "Thresh=0.0029448885, n=70, explained variance: 0.7036484590598573, mean abs error: 4.237540991333806\n",
      "Thresh=0.0029448885, n=70, explained variance: 0.7036484590598573, mean abs error: 4.237540991333806\n",
      "Thresh=0.0029448885, n=70, explained variance: 0.7036484590598573, mean abs error: 4.237540991333806\n",
      "Thresh=0.0029448885, n=70, explained variance: 0.7036484590598573, mean abs error: 4.237540991333806\n",
      "Thresh=0.0029448885, n=70, explained variance: 0.7036484590598573, mean abs error: 4.237540991333806\n",
      "Thresh=0.0025241901, n=73, explained variance: 0.6997361494281389, mean abs error: 4.375543960714252\n",
      "Thresh=0.0025241901, n=73, explained variance: 0.6997361494281389, mean abs error: 4.375543960714252\n",
      "Thresh=0.0025241901, n=73, explained variance: 0.6997361494281389, mean abs error: 4.375543960714252\n",
      "Thresh=0.0021034917, n=76, explained variance: 0.6778017104612052, mean abs error: 4.5755911275424195\n",
      "Thresh=0.0021034917, n=76, explained variance: 0.6778017104612052, mean abs error: 4.5755911275424195\n",
      "Thresh=0.0021034917, n=76, explained variance: 0.6778017104612052, mean abs error: 4.5755911275424195\n",
      "Thresh=0.0016827935, n=84, explained variance: 0.7044284520386201, mean abs error: 4.325255698782176\n",
      "Thresh=0.0016827935, n=84, explained variance: 0.7044284520386201, mean abs error: 4.325255698782176\n",
      "Thresh=0.0016827935, n=84, explained variance: 0.7044284520386201, mean abs error: 4.325255698782176\n",
      "Thresh=0.0016827935, n=84, explained variance: 0.7044284520386201, mean abs error: 4.325255698782176\n",
      "Thresh=0.0016827935, n=84, explained variance: 0.7044284520386201, mean abs error: 4.325255698782176\n",
      "Thresh=0.0016827935, n=84, explained variance: 0.7044284520386201, mean abs error: 4.325255698782176\n"
     ]
    },
    {
     "name": "stdout",
     "output_type": "stream",
     "text": [
      "Thresh=0.0016827935, n=84, explained variance: 0.7044284520386201, mean abs error: 4.325255698782176\n",
      "Thresh=0.0016827935, n=84, explained variance: 0.7044284520386201, mean abs error: 4.325255698782176\n",
      "Thresh=0.0012620951, n=93, explained variance: 0.6930763619263429, mean abs error: 4.561444783332673\n",
      "Thresh=0.0012620951, n=93, explained variance: 0.6930763619263429, mean abs error: 4.561444783332673\n",
      "Thresh=0.0012620951, n=93, explained variance: 0.6930763619263429, mean abs error: 4.561444783332673\n",
      "Thresh=0.0012620951, n=93, explained variance: 0.6930763619263429, mean abs error: 4.561444783332673\n",
      "Thresh=0.0012620951, n=93, explained variance: 0.6930763619263429, mean abs error: 4.561444783332673\n",
      "Thresh=0.0012620951, n=93, explained variance: 0.6930763619263429, mean abs error: 4.561444783332673\n",
      "Thresh=0.0012620951, n=93, explained variance: 0.6930763619263429, mean abs error: 4.561444783332673\n",
      "Thresh=0.0012620951, n=93, explained variance: 0.6930763619263429, mean abs error: 4.561444783332673\n",
      "Thresh=0.0012620951, n=93, explained variance: 0.6930763619263429, mean abs error: 4.561444783332673\n",
      "Thresh=0.00084139674, n=101, explained variance: 0.6758941143101502, mean abs error: 4.5870928679918554\n",
      "Thresh=0.00084139674, n=101, explained variance: 0.6758941143101502, mean abs error: 4.5870928679918554\n",
      "Thresh=0.00084139674, n=101, explained variance: 0.6758941143101502, mean abs error: 4.5870928679918554\n",
      "Thresh=0.00084139674, n=101, explained variance: 0.6758941143101502, mean abs error: 4.5870928679918554\n",
      "Thresh=0.00084139674, n=101, explained variance: 0.6758941143101502, mean abs error: 4.5870928679918554\n",
      "Thresh=0.00084139674, n=101, explained variance: 0.6758941143101502, mean abs error: 4.5870928679918554\n",
      "Thresh=0.00084139674, n=101, explained variance: 0.6758941143101502, mean abs error: 4.5870928679918554\n"
     ]
    }
   ],
   "source": [
    "week2_4_nfeature_search = nfeature_search(X, y2_4, '2017-09-25', week2_4_xgb, week2_4_params, categorical_cols)"
   ]
  },
  {
   "cell_type": "code",
   "execution_count": 35,
   "metadata": {},
   "outputs": [
    {
     "name": "stdout",
     "output_type": "stream",
     "text": [
      "Thresh=0.03800995, n=1, explained variance: 0.2844586435010408, mean abs error: 5.909635986633046\n",
      "Thresh=0.03353234, n=2, explained variance: 0.4728097572254404, mean abs error: 4.24959410652086\n",
      "Thresh=0.029850746, n=3, explained variance: 0.1727931658176617, mean abs error: 6.740342876679511\n",
      "Thresh=0.029751243, n=4, explained variance: 0.3217534897801406, mean abs error: 6.7840795002673415\n",
      "Thresh=0.02925373, n=5, explained variance: 0.3618426027417492, mean abs error: 5.097949194003746\n",
      "Thresh=0.027363185, n=6, explained variance: 0.4617435596032744, mean abs error: 4.549290745491912\n",
      "Thresh=0.023482587, n=7, explained variance: 0.5570300480707948, mean abs error: 4.317911621828219\n",
      "Thresh=0.022686567, n=8, explained variance: 0.5114550739402336, mean abs error: 4.208653991762787\n",
      "Thresh=0.02119403, n=9, explained variance: 0.5682194615613504, mean abs error: 3.777477220835828\n",
      "Thresh=0.020696517, n=10, explained variance: 0.5260708480614702, mean abs error: 4.053679282237257\n",
      "Thresh=0.020497512, n=11, explained variance: 0.4998605071739626, mean abs error: 4.037742520770394\n",
      "Thresh=0.02, n=12, explained variance: 0.5616278967684109, mean abs error: 3.74078684473229\n",
      "Thresh=0.01800995, n=13, explained variance: 0.504415459334161, mean abs error: 3.9371652337305245\n",
      "Thresh=0.017910447, n=16, explained variance: 0.4917915716740573, mean abs error: 3.883132292522327\n",
      "Thresh=0.017910447, n=16, explained variance: 0.4917915716740573, mean abs error: 3.883132292522327\n",
      "Thresh=0.017910447, n=16, explained variance: 0.4917915716740573, mean abs error: 3.883132292522327\n",
      "Thresh=0.017711442, n=17, explained variance: 0.542435999487556, mean abs error: 3.817788207487866\n",
      "Thresh=0.017512437, n=18, explained variance: 0.5764452532486191, mean abs error: 3.705492424367692\n",
      "Thresh=0.016716419, n=19, explained variance: 0.498648388585042, mean abs error: 3.854763541243907\n",
      "Thresh=0.016218906, n=20, explained variance: 0.529072901762008, mean abs error: 3.687543636078584\n",
      "Thresh=0.016019901, n=21, explained variance: 0.5455460499847218, mean abs error: 3.778283278507813\n",
      "Thresh=0.015522388, n=22, explained variance: 0.5136052969330018, mean abs error: 3.92189488158492\n",
      "Thresh=0.015124378, n=23, explained variance: 0.5687484472539301, mean abs error: 3.549063908438174\n",
      "Thresh=0.014129354, n=24, explained variance: 0.519613174175058, mean abs error: 3.7003211417113615\n",
      "Thresh=0.013631841, n=25, explained variance: 0.4926161812822013, mean abs error: 3.928695557909391\n",
      "Thresh=0.013532339, n=26, explained variance: 0.5735314911209226, mean abs error: 3.6111929985841713\n",
      "Thresh=0.013432836, n=27, explained variance: 0.5690873609393006, mean abs error: 3.636850377018538\n",
      "Thresh=0.013333334, n=28, explained variance: 0.38890321601115363, mean abs error: 4.02410513289578\n",
      "Thresh=0.013233831, n=29, explained variance: 0.5313674727944582, mean abs error: 3.7866627293279325\n",
      "Thresh=0.013134329, n=31, explained variance: 0.5181260928712058, mean abs error: 3.796335453144541\n",
      "Thresh=0.013134329, n=31, explained variance: 0.5181260928712058, mean abs error: 3.796335453144541\n",
      "Thresh=0.012835821, n=32, explained variance: 0.4794042240519799, mean abs error: 3.8344536851557374\n",
      "Thresh=0.012537314, n=33, explained variance: 0.5138078391315662, mean abs error: 3.7900382906944765\n",
      "Thresh=0.012338309, n=34, explained variance: 0.5424124427096311, mean abs error: 3.700767366336831\n",
      "Thresh=0.011741294, n=35, explained variance: 0.5199054563421769, mean abs error: 3.636312010471517\n",
      "Thresh=0.011243781, n=36, explained variance: 0.501482076820214, mean abs error: 3.8064846995834696\n",
      "Thresh=0.011144279, n=37, explained variance: 0.4691700043264797, mean abs error: 3.9307469556460943\n",
      "Thresh=0.010945274, n=38, explained variance: 0.4591107172574129, mean abs error: 3.7916323065757944\n",
      "Thresh=0.010447761, n=39, explained variance: 0.4814488739600785, mean abs error: 3.970069294040334\n",
      "Thresh=0.010248756, n=40, explained variance: 0.4986612653007527, mean abs error: 3.7759436016686063\n",
      "Thresh=0.0099502485, n=41, explained variance: 0.42663818370902684, mean abs error: 3.9267750626175286\n",
      "Thresh=0.0097512435, n=43, explained variance: 0.4058012887460243, mean abs error: 3.983398895100344\n",
      "Thresh=0.0097512435, n=43, explained variance: 0.4058012887460243, mean abs error: 3.983398895100344\n",
      "Thresh=0.009253731, n=44, explained variance: 0.4908261327623835, mean abs error: 3.752517911074487\n",
      "Thresh=0.0091542285, n=46, explained variance: 0.4188350053441393, mean abs error: 3.9414668680429883\n",
      "Thresh=0.0091542285, n=46, explained variance: 0.4188350053441393, mean abs error: 3.9414668680429883\n",
      "Thresh=0.0089552235, n=48, explained variance: 0.4109104119824918, mean abs error: 4.062958278465442\n",
      "Thresh=0.0089552235, n=48, explained variance: 0.4109104119824918, mean abs error: 4.062958278465442\n",
      "Thresh=0.008358209, n=49, explained variance: 0.4387490911630759, mean abs error: 3.89989536486367\n",
      "Thresh=0.007761194, n=50, explained variance: 0.472965106856433, mean abs error: 3.7602812765778673\n",
      "Thresh=0.0076616914, n=51, explained variance: 0.36131377165100265, mean abs error: 4.066156889853594\n",
      "Thresh=0.0074626864, n=52, explained variance: 0.4332243497986159, mean abs error: 3.852848537936357\n",
      "Thresh=0.0069651743, n=53, explained variance: 0.3805941187964367, mean abs error: 4.010789714647964\n",
      "Thresh=0.006467662, n=54, explained variance: 0.5451121429441701, mean abs error: 3.4931237344364554\n",
      "Thresh=0.006268657, n=55, explained variance: 0.4651563734345808, mean abs error: 3.878293766966472\n",
      "Thresh=0.0061691543, n=56, explained variance: 0.5206233030170162, mean abs error: 3.8185854490287308\n",
      "Thresh=0.0059701493, n=57, explained variance: 0.4241538137822559, mean abs error: 4.143394323016094\n",
      "Thresh=0.005472637, n=58, explained variance: 0.3580133596805304, mean abs error: 4.210294743406233\n",
      "Thresh=0.0049751243, n=59, explained variance: 0.46946672407923684, mean abs error: 3.802801223366845\n",
      "Thresh=0.0044776117, n=61, explained variance: 0.4430612597261051, mean abs error: 3.999665905096932\n",
      "Thresh=0.0044776117, n=61, explained variance: 0.4430612597261051, mean abs error: 3.999665905096932\n",
      "Thresh=0.0043781092, n=62, explained variance: 0.421420106627155, mean abs error: 3.965837764372583\n",
      "Thresh=0.0041791047, n=65, explained variance: 0.4279338550783398, mean abs error: 3.932458838985373\n",
      "Thresh=0.0041791047, n=65, explained variance: 0.4279338550783398, mean abs error: 3.932458838985373\n",
      "Thresh=0.0041791047, n=65, explained variance: 0.4279338550783398, mean abs error: 3.932458838985373\n",
      "Thresh=0.004079602, n=66, explained variance: 0.39858705958515683, mean abs error: 4.031467854033054\n",
      "Thresh=0.0039800997, n=67, explained variance: 0.4595659470154825, mean abs error: 3.914843050166481\n",
      "Thresh=0.0037810944, n=68, explained variance: 0.36917975044065776, mean abs error: 4.252303679644153\n",
      "Thresh=0.003681592, n=69, explained variance: 0.5018183443247788, mean abs error: 3.7424655524924835\n",
      "Thresh=0.0034825872, n=71, explained variance: 0.4880509735193822, mean abs error: 3.7997644624338207\n",
      "Thresh=0.0034825872, n=71, explained variance: 0.4880509735193822, mean abs error: 3.7997644624338207\n",
      "Thresh=0.0030845772, n=73, explained variance: 0.48273041743401046, mean abs error: 3.7958580440103513\n",
      "Thresh=0.0030845772, n=73, explained variance: 0.48273041743401046, mean abs error: 3.7958580440103513\n",
      "Thresh=0.0027860696, n=75, explained variance: 0.42706861876615987, mean abs error: 4.013070185196227\n",
      "Thresh=0.0027860696, n=75, explained variance: 0.42706861876615987, mean abs error: 4.013070185196227\n",
      "Thresh=0.0026865671, n=77, explained variance: 0.48728427775333105, mean abs error: 3.710158600849189\n",
      "Thresh=0.0026865671, n=77, explained variance: 0.48728427775333105, mean abs error: 3.710158600849189\n",
      "Thresh=0.0024875621, n=80, explained variance: 0.4521881905551275, mean abs error: 3.874632840790391\n",
      "Thresh=0.0024875621, n=80, explained variance: 0.4521881905551275, mean abs error: 3.874632840790391\n",
      "Thresh=0.0024875621, n=80, explained variance: 0.4521881905551275, mean abs error: 3.874632840790391\n",
      "Thresh=0.0023880596, n=81, explained variance: 0.46913770679605193, mean abs error: 3.8341793356006675\n",
      "Thresh=0.0022885571, n=82, explained variance: 0.41849839781689113, mean abs error: 4.13673317248699\n"
     ]
    },
    {
     "name": "stdout",
     "output_type": "stream",
     "text": [
      "Thresh=0.0020895523, n=83, explained variance: 0.4041195223472306, mean abs error: 4.151779746811472\n",
      "Thresh=0.0019900498, n=84, explained variance: 0.4825324637365497, mean abs error: 3.9092483953233903\n",
      "Thresh=0.0018905472, n=86, explained variance: 0.44733082387835443, mean abs error: 3.9879843245950832\n",
      "Thresh=0.0018905472, n=86, explained variance: 0.44733082387835443, mean abs error: 3.9879843245950832\n",
      "Thresh=0.0016915423, n=89, explained variance: 0.49798680475687385, mean abs error: 3.7963526305226254\n",
      "Thresh=0.0016915423, n=89, explained variance: 0.49798680475687385, mean abs error: 3.7963526305226254\n",
      "Thresh=0.0016915423, n=89, explained variance: 0.49798680475687385, mean abs error: 3.7963526305226254\n",
      "Thresh=0.0015920398, n=90, explained variance: 0.38847702414514595, mean abs error: 4.1549736693532795\n",
      "Thresh=0.0014925373, n=91, explained variance: 0.46592614895864204, mean abs error: 3.890873770087023\n",
      "Thresh=0.0013930348, n=93, explained variance: 0.43202536615435816, mean abs error: 4.05255067332368\n",
      "Thresh=0.0013930348, n=93, explained variance: 0.43202536615435816, mean abs error: 4.05255067332368\n",
      "Thresh=0.0012935323, n=95, explained variance: 0.35448371038247495, mean abs error: 4.175977174803552\n",
      "Thresh=0.0012935323, n=95, explained variance: 0.35448371038247495, mean abs error: 4.175977174803552\n",
      "Thresh=0.0011940298, n=99, explained variance: 0.3925505292869301, mean abs error: 4.225550519393954\n",
      "Thresh=0.0011940298, n=99, explained variance: 0.3925505292869301, mean abs error: 4.225550519393954\n",
      "Thresh=0.0011940298, n=99, explained variance: 0.3925505292869301, mean abs error: 4.225550519393954\n",
      "Thresh=0.0011940298, n=99, explained variance: 0.3925505292869301, mean abs error: 4.225550519393954\n",
      "Thresh=0.0010945273, n=102, explained variance: 0.4307420707592685, mean abs error: 4.047599350309048\n"
     ]
    }
   ],
   "source": [
    "week4_6_nfeature_search = nfeature_search(X, y4_6, '2017-10-16', week4_6_xgb, week4_6_params, categorical_cols)"
   ]
  },
  {
   "cell_type": "code",
   "execution_count": 36,
   "metadata": {},
   "outputs": [
    {
     "name": "stdout",
     "output_type": "stream",
     "text": [
      "Thresh=0.041371427, n=1, explained variance: 0.222267068491389, mean abs error: 6.245209975255685\n",
      "Thresh=0.034971427, n=2, explained variance: 0.3650315115992654, mean abs error: 4.166270692354088\n",
      "Thresh=0.030971428, n=3, explained variance: 0.42601751539324373, mean abs error: 4.191176722825038\n",
      "Thresh=0.029714286, n=4, explained variance: 0.46535978796913813, mean abs error: 4.3080089657170175\n",
      "Thresh=0.028342858, n=5, explained variance: 0.4101873821017269, mean abs error: 4.338400064358455\n",
      "Thresh=0.027542857, n=6, explained variance: 0.5542904913706637, mean abs error: 3.7004183753929114\n",
      "Thresh=0.023428572, n=7, explained variance: 0.5203202647905139, mean abs error: 3.7639386672258066\n",
      "Thresh=0.0232, n=8, explained variance: 0.58206824809322, mean abs error: 3.234294627867471\n",
      "Thresh=0.019771429, n=9, explained variance: 0.5993823820977333, mean abs error: 3.1484356143162575\n",
      "Thresh=0.019542858, n=10, explained variance: 0.5889548714617272, mean abs error: 3.1746098147955824\n",
      "Thresh=0.0192, n=11, explained variance: 0.5791873112103598, mean abs error: 3.263043099512684\n",
      "Thresh=0.018857142, n=12, explained variance: 0.5771002685347787, mean abs error: 3.325417124832492\n",
      "Thresh=0.018742858, n=13, explained variance: 0.5702873367729775, mean abs error: 3.2322550092799673\n",
      "Thresh=0.0184, n=14, explained variance: 0.6014131726881647, mean abs error: 3.313601601080224\n",
      "Thresh=0.018171428, n=15, explained variance: 0.5851560290993132, mean abs error: 3.2046636267452526\n",
      "Thresh=0.017942857, n=16, explained variance: 0.6468768657754362, mean abs error: 2.891270121614525\n",
      "Thresh=0.01737143, n=17, explained variance: 0.6442577498150128, mean abs error: 3.0877446388790655\n",
      "Thresh=0.016914286, n=18, explained variance: 0.597375190093989, mean abs error: 3.096011532900723\n",
      "Thresh=0.0168, n=21, explained variance: 0.6222025170846834, mean abs error: 2.9928573694048906\n",
      "Thresh=0.0168, n=21, explained variance: 0.6222025170846834, mean abs error: 2.9928573694048906\n",
      "Thresh=0.0168, n=21, explained variance: 0.6222025170846834, mean abs error: 2.9928573694048906\n",
      "Thresh=0.016114285, n=22, explained variance: 0.6159925616972519, mean abs error: 2.984389077488496\n",
      "Thresh=0.015657144, n=23, explained variance: 0.6343969984635038, mean abs error: 2.9398677643294455\n",
      "Thresh=0.014971429, n=24, explained variance: 0.6515506347746352, mean abs error: 2.8606592237459583\n",
      "Thresh=0.014628571, n=25, explained variance: 0.6154496558690369, mean abs error: 2.9800397602995403\n",
      "Thresh=0.014514286, n=26, explained variance: 0.6369610542206785, mean abs error: 2.9102018595550283\n",
      "Thresh=0.014171429, n=27, explained variance: 0.6391474673913395, mean abs error: 2.891977047571694\n",
      "Thresh=0.014057143, n=28, explained variance: 0.6133281804124927, mean abs error: 3.0133818985434324\n",
      "Thresh=0.013714286, n=29, explained variance: 0.6222835454593751, mean abs error: 2.981172810665881\n",
      "Thresh=0.013028571, n=31, explained variance: 0.6378784957378241, mean abs error: 2.901662131509173\n",
      "Thresh=0.013028571, n=31, explained variance: 0.6378784957378241, mean abs error: 2.901662131509173\n",
      "Thresh=0.012571429, n=32, explained variance: 0.6325888567793347, mean abs error: 2.9568311864007804\n",
      "Thresh=0.012342857, n=33, explained variance: 0.6214808818325239, mean abs error: 2.953558775621393\n",
      "Thresh=0.011314286, n=34, explained variance: 0.6197410264160473, mean abs error: 2.9238949819610847\n",
      "Thresh=0.0112, n=35, explained variance: 0.5963128896706932, mean abs error: 3.0173585779106458\n",
      "Thresh=0.010514285, n=36, explained variance: 0.6245913974845035, mean abs error: 2.8933163503488526\n",
      "Thresh=0.0104, n=37, explained variance: 0.6088945659553056, mean abs error: 2.9257840380646454\n",
      "Thresh=0.009828571, n=39, explained variance: 0.5930978498367947, mean abs error: 2.97137760220748\n",
      "Thresh=0.009828571, n=39, explained variance: 0.5930978498367947, mean abs error: 2.97137760220748\n",
      "Thresh=0.009714286, n=40, explained variance: 0.5986280544145874, mean abs error: 2.997957776433443\n",
      "Thresh=0.009257142, n=41, explained variance: 0.5926511247976352, mean abs error: 2.9961041736509704\n",
      "Thresh=0.009142857, n=43, explained variance: 0.6051666143596497, mean abs error: 2.9786024419720505\n",
      "Thresh=0.009142857, n=43, explained variance: 0.6051666143596497, mean abs error: 2.9786024419720505\n",
      "Thresh=0.008914285, n=44, explained variance: 0.6124294710472343, mean abs error: 2.925256313715946\n",
      "Thresh=0.008457143, n=46, explained variance: 0.6125774263406965, mean abs error: 2.9248232776932745\n",
      "Thresh=0.008457143, n=46, explained variance: 0.6125774263406965, mean abs error: 2.9248232776932745\n",
      "Thresh=0.008228571, n=47, explained variance: 0.6057111524514749, mean abs error: 2.9397149532933904\n",
      "Thresh=0.008114286, n=48, explained variance: 0.6138041236432804, mean abs error: 2.942007259903825\n",
      "Thresh=0.007657143, n=49, explained variance: 0.5952000475782286, mean abs error: 2.9982306966399004\n",
      "Thresh=0.0074285716, n=50, explained variance: 0.6107214305644442, mean abs error: 2.9574837508841645\n",
      "Thresh=0.0072, n=51, explained variance: 0.593401098811204, mean abs error: 3.01608330488287\n",
      "Thresh=0.0070857145, n=53, explained variance: 0.5999252001027306, mean abs error: 2.9809050522481133\n",
      "Thresh=0.0070857145, n=53, explained variance: 0.5999252001027306, mean abs error: 2.9809050522481133\n",
      "Thresh=0.0069714286, n=54, explained variance: 0.5881959761383916, mean abs error: 3.0741863038976764\n",
      "Thresh=0.006742857, n=55, explained variance: 0.5988986651498113, mean abs error: 2.9640910348534963\n",
      "Thresh=0.0066285715, n=56, explained variance: 0.6038162667875151, mean abs error: 2.9644673723712116\n",
      "Thresh=0.0061714286, n=59, explained variance: 0.5870905946218052, mean abs error: 3.0357698109818116\n",
      "Thresh=0.0061714286, n=59, explained variance: 0.5870905946218052, mean abs error: 3.0357698109818116\n",
      "Thresh=0.0061714286, n=59, explained variance: 0.5870905946218052, mean abs error: 3.0357698109818116\n",
      "Thresh=0.0057142857, n=60, explained variance: 0.5967745604422645, mean abs error: 3.0358526359504543\n",
      "Thresh=0.0052571427, n=61, explained variance: 0.6011023485773572, mean abs error: 3.0393936180612937\n",
      "Thresh=0.0048, n=62, explained variance: 0.5901732069158665, mean abs error: 3.0177899652312905\n",
      "Thresh=0.0046857144, n=65, explained variance: 0.5813045924424307, mean abs error: 3.061631217714545\n",
      "Thresh=0.0046857144, n=65, explained variance: 0.5813045924424307, mean abs error: 3.061631217714545\n",
      "Thresh=0.0046857144, n=65, explained variance: 0.5813045924424307, mean abs error: 3.061631217714545\n",
      "Thresh=0.0044571427, n=66, explained variance: 0.5918743903427925, mean abs error: 3.035380422639365\n",
      "Thresh=0.0043428573, n=68, explained variance: 0.5952070765384744, mean abs error: 3.0010407381479762\n",
      "Thresh=0.0043428573, n=68, explained variance: 0.5952070765384744, mean abs error: 3.0010407381479762\n",
      "Thresh=0.0038857143, n=69, explained variance: 0.5734919917745641, mean abs error: 3.1203274725494734\n",
      "Thresh=0.0035428572, n=71, explained variance: 0.6085972158140108, mean abs error: 2.950164671960483\n",
      "Thresh=0.0035428572, n=71, explained variance: 0.6085972158140108, mean abs error: 2.950164671960483\n",
      "Thresh=0.0034285714, n=72, explained variance: 0.5949665693695154, mean abs error: 3.0228377900283414\n",
      "Thresh=0.0032, n=73, explained variance: 0.5902859621161622, mean abs error: 3.0260471437640657\n",
      "Thresh=0.0030857143, n=74, explained variance: 0.5876607582475241, mean abs error: 3.0477660553024934\n",
      "Thresh=0.0029714287, n=75, explained variance: 0.593741584035528, mean abs error: 3.0451454835277807\n",
      "Thresh=0.0027428572, n=77, explained variance: 0.5790053233736447, mean abs error: 3.0899393452918638\n",
      "Thresh=0.0027428572, n=77, explained variance: 0.5790053233736447, mean abs error: 3.0899393452918638\n",
      "Thresh=0.0026285714, n=79, explained variance: 0.5837185853531065, mean abs error: 3.0664489035703517\n",
      "Thresh=0.0026285714, n=79, explained variance: 0.5837185853531065, mean abs error: 3.0664489035703517\n",
      "Thresh=0.0025142857, n=81, explained variance: 0.6010471318591595, mean abs error: 2.981099360447923\n",
      "Thresh=0.0025142857, n=81, explained variance: 0.6010471318591595, mean abs error: 2.981099360447923\n",
      "Thresh=0.0022857143, n=82, explained variance: 0.6072343634000119, mean abs error: 2.9775032762939486\n"
     ]
    },
    {
     "name": "stdout",
     "output_type": "stream",
     "text": [
      "Thresh=0.0021714286, n=84, explained variance: 0.5889215267863264, mean abs error: 3.031978598568281\n",
      "Thresh=0.0021714286, n=84, explained variance: 0.5889215267863264, mean abs error: 3.031978598568281\n",
      "Thresh=0.0020571428, n=85, explained variance: 0.5922499518429758, mean abs error: 3.004277178687796\n",
      "Thresh=0.0019428572, n=86, explained variance: 0.6046061803462311, mean abs error: 2.9579629926009394\n",
      "Thresh=0.0018285714, n=87, explained variance: 0.579572873392094, mean abs error: 3.061696215485201\n",
      "Thresh=0.0017142857, n=89, explained variance: 0.5820118890092978, mean abs error: 3.0469151490751125\n",
      "Thresh=0.0017142857, n=89, explained variance: 0.5820118890092978, mean abs error: 3.0469151490751125\n",
      "Thresh=0.0016, n=92, explained variance: 0.5818422942548671, mean abs error: 3.084556167612315\n",
      "Thresh=0.0016, n=92, explained variance: 0.5818422942548671, mean abs error: 3.084556167612315\n",
      "Thresh=0.0016, n=92, explained variance: 0.5818422942548671, mean abs error: 3.084556167612315\n",
      "Thresh=0.0013714286, n=93, explained variance: 0.596918693783217, mean abs error: 2.962485975540345\n",
      "Thresh=0.0012571429, n=97, explained variance: 0.6011598385709782, mean abs error: 2.9860532897857275\n",
      "Thresh=0.0012571429, n=97, explained variance: 0.6011598385709782, mean abs error: 2.9860532897857275\n",
      "Thresh=0.0012571429, n=97, explained variance: 0.6011598385709782, mean abs error: 2.9860532897857275\n",
      "Thresh=0.0012571429, n=97, explained variance: 0.6011598385709782, mean abs error: 2.9860532897857275\n",
      "Thresh=0.0011428571, n=100, explained variance: 0.5899097403020447, mean abs error: 3.0352142118938708\n",
      "Thresh=0.0011428571, n=100, explained variance: 0.5899097403020447, mean abs error: 3.0352142118938708\n",
      "Thresh=0.0011428571, n=100, explained variance: 0.5899097403020447, mean abs error: 3.0352142118938708\n"
     ]
    }
   ],
   "source": [
    "week6_8_nfeature_search = nfeature_search(X, y6_8, '2017-10-16', week6_8_xgb, week6_8_params, categorical_cols)"
   ]
  },
  {
   "cell_type": "code",
   "execution_count": null,
   "metadata": {
    "collapsed": true
   },
   "outputs": [],
   "source": [
    "nfeature_gridsearch_df.to_csv('/Users/Rohil/Documents/iGEM/yemen/feature_engineering/nfeatures_gridsearch_df_broad.csv', index = False)"
   ]
  },
  {
   "cell_type": "code",
   "execution_count": 241,
   "metadata": {
    "collapsed": true
   },
   "outputs": [],
   "source": [
    "five_thresh = thresholds[0::5]"
   ]
  },
  {
   "cell_type": "code",
   "execution_count": 242,
   "metadata": {},
   "outputs": [
    {
     "name": "stdout",
     "output_type": "stream",
     "text": [
      "Fitting 2 folds for each of 72 candidates, totalling 144 fits\n"
     ]
    },
    {
     "name": "stderr",
     "output_type": "stream",
     "text": [
      "[Parallel(n_jobs=-1)]: Done  34 tasks      | elapsed:    6.7s\n",
      "[Parallel(n_jobs=-1)]: Done 144 out of 144 | elapsed:   15.2s finished\n"
     ]
    },
    {
     "name": "stdout",
     "output_type": "stream",
     "text": [
      "Thresh=0.052142724, n=1, explained variance: 0.8335351288788623, mean abs error: 1.3950294505975602\n",
      "Fitting 2 folds for each of 72 candidates, totalling 144 fits\n"
     ]
    },
    {
     "name": "stderr",
     "output_type": "stream",
     "text": [
      "[Parallel(n_jobs=-1)]: Done  34 tasks      | elapsed:    7.1s\n",
      "[Parallel(n_jobs=-1)]: Done 144 out of 144 | elapsed:   17.5s finished\n"
     ]
    },
    {
     "name": "stdout",
     "output_type": "stream",
     "text": [
      "Thresh=0.024278095, n=6, explained variance: 0.8236411588958937, mean abs error: 1.4731335042049563\n",
      "Fitting 2 folds for each of 72 candidates, totalling 144 fits\n"
     ]
    },
    {
     "name": "stderr",
     "output_type": "stream",
     "text": [
      "[Parallel(n_jobs=-1)]: Done  34 tasks      | elapsed:    7.3s\n",
      "[Parallel(n_jobs=-1)]: Done 144 out of 144 | elapsed:   18.3s finished\n"
     ]
    },
    {
     "name": "stdout",
     "output_type": "stream",
     "text": [
      "Thresh=0.019496046, n=11, explained variance: 0.8390105019454293, mean abs error: 1.418869342944347\n",
      "Fitting 2 folds for each of 72 candidates, totalling 144 fits\n"
     ]
    },
    {
     "name": "stderr",
     "output_type": "stream",
     "text": [
      "[Parallel(n_jobs=-1)]: Done  34 tasks      | elapsed:    7.6s\n",
      "[Parallel(n_jobs=-1)]: Done 144 out of 144 | elapsed:   20.2s finished\n"
     ]
    },
    {
     "name": "stdout",
     "output_type": "stream",
     "text": [
      "Thresh=0.01636932, n=16, explained variance: 0.8365654154636647, mean abs error: 1.4134812064287474\n",
      "Fitting 2 folds for each of 72 candidates, totalling 144 fits\n"
     ]
    },
    {
     "name": "stderr",
     "output_type": "stream",
     "text": [
      "[Parallel(n_jobs=-1)]: Done  34 tasks      | elapsed:    8.6s\n",
      "[Parallel(n_jobs=-1)]: Done 144 out of 144 | elapsed:   22.7s finished\n"
     ]
    },
    {
     "name": "stdout",
     "output_type": "stream",
     "text": [
      "Thresh=0.0144381095, n=21, explained variance: 0.8377335509552191, mean abs error: 1.4768799403491468\n",
      "Fitting 2 folds for each of 72 candidates, totalling 144 fits\n"
     ]
    },
    {
     "name": "stderr",
     "output_type": "stream",
     "text": [
      "[Parallel(n_jobs=-1)]: Done  34 tasks      | elapsed:    8.9s\n",
      "[Parallel(n_jobs=-1)]: Done 144 out of 144 | elapsed:   25.6s finished\n"
     ]
    },
    {
     "name": "stdout",
     "output_type": "stream",
     "text": [
      "Thresh=0.013334559, n=26, explained variance: 0.8379547532262961, mean abs error: 1.468241493785251\n",
      "Fitting 2 folds for each of 72 candidates, totalling 144 fits\n"
     ]
    },
    {
     "name": "stderr",
     "output_type": "stream",
     "text": [
      "[Parallel(n_jobs=-1)]: Done  34 tasks      | elapsed:    9.1s\n",
      "[Parallel(n_jobs=-1)]: Done 144 out of 144 | elapsed:   25.3s finished\n"
     ]
    },
    {
     "name": "stdout",
     "output_type": "stream",
     "text": [
      "Thresh=0.011955122, n=32, explained variance: 0.8361640253300077, mean abs error: 1.471165131893177\n",
      "Fitting 2 folds for each of 72 candidates, totalling 144 fits\n"
     ]
    },
    {
     "name": "stderr",
     "output_type": "stream",
     "text": [
      "[Parallel(n_jobs=-1)]: Done  34 tasks      | elapsed:    9.6s\n",
      "[Parallel(n_jobs=-1)]: Done 144 out of 144 | elapsed:   26.5s finished\n"
     ]
    },
    {
     "name": "stdout",
     "output_type": "stream",
     "text": [
      "Thresh=0.010391761, n=37, explained variance: 0.8375258229343377, mean abs error: 1.4069615371674862\n",
      "Fitting 2 folds for each of 72 candidates, totalling 144 fits\n"
     ]
    },
    {
     "name": "stderr",
     "output_type": "stream",
     "text": [
      "[Parallel(n_jobs=-1)]: Done  34 tasks      | elapsed:   10.1s\n",
      "[Parallel(n_jobs=-1)]: Done 144 out of 144 | elapsed:   28.2s finished\n"
     ]
    },
    {
     "name": "stdout",
     "output_type": "stream",
     "text": [
      "Thresh=0.009748023, n=41, explained variance: 0.8365221865578999, mean abs error: 1.4686583466526653\n",
      "Fitting 2 folds for each of 72 candidates, totalling 144 fits\n"
     ]
    },
    {
     "name": "stderr",
     "output_type": "stream",
     "text": [
      "[Parallel(n_jobs=-1)]: Done  34 tasks      | elapsed:   10.0s\n",
      "[Parallel(n_jobs=-1)]: Done 144 out of 144 | elapsed:   28.9s finished\n"
     ]
    },
    {
     "name": "stdout",
     "output_type": "stream",
     "text": [
      "Thresh=0.00928821, n=46, explained variance: 0.839158358420628, mean abs error: 1.423672517378895\n",
      "Fitting 2 folds for each of 72 candidates, totalling 144 fits\n"
     ]
    },
    {
     "name": "stderr",
     "output_type": "stream",
     "text": [
      "[Parallel(n_jobs=-1)]: Done  34 tasks      | elapsed:   10.2s\n",
      "[Parallel(n_jobs=-1)]: Done 144 out of 144 | elapsed:   29.9s finished\n"
     ]
    },
    {
     "name": "stdout",
     "output_type": "stream",
     "text": [
      "Thresh=0.008644473, n=51, explained variance: 0.8398968668968193, mean abs error: 1.409362030855516\n",
      "Fitting 2 folds for each of 72 candidates, totalling 144 fits\n"
     ]
    },
    {
     "name": "stderr",
     "output_type": "stream",
     "text": [
      "[Parallel(n_jobs=-1)]: Done  34 tasks      | elapsed:   10.5s\n",
      "[Parallel(n_jobs=-1)]: Done 144 out of 144 | elapsed:   31.7s finished\n"
     ]
    },
    {
     "name": "stdout",
     "output_type": "stream",
     "text": [
      "Thresh=0.00818466, n=56, explained variance: 0.8394088269466211, mean abs error: 1.445609280982899\n",
      "Fitting 2 folds for each of 72 candidates, totalling 144 fits\n"
     ]
    },
    {
     "name": "stderr",
     "output_type": "stream",
     "text": [
      "[Parallel(n_jobs=-1)]: Done  34 tasks      | elapsed:   10.8s\n",
      "[Parallel(n_jobs=-1)]: Done 144 out of 144 | elapsed:   32.3s finished\n"
     ]
    },
    {
     "name": "stdout",
     "output_type": "stream",
     "text": [
      "Thresh=0.007081111, n=61, explained variance: 0.8422343174073523, mean abs error: 1.4656867768224506\n",
      "Fitting 2 folds for each of 72 candidates, totalling 144 fits\n"
     ]
    },
    {
     "name": "stderr",
     "output_type": "stream",
     "text": [
      "[Parallel(n_jobs=-1)]: Done  34 tasks      | elapsed:   10.8s\n",
      "[Parallel(n_jobs=-1)]: Done 144 out of 144 | elapsed:   33.8s finished\n"
     ]
    },
    {
     "name": "stdout",
     "output_type": "stream",
     "text": [
      "Thresh=0.0060695237, n=66, explained variance: 0.8434019000971056, mean abs error: 1.3950770257338183\n",
      "Fitting 2 folds for each of 72 candidates, totalling 144 fits\n"
     ]
    },
    {
     "name": "stderr",
     "output_type": "stream",
     "text": [
      "[Parallel(n_jobs=-1)]: Done  34 tasks      | elapsed:   13.1s\n",
      "[Parallel(n_jobs=-1)]: Done 144 out of 144 | elapsed:   38.0s finished\n"
     ]
    },
    {
     "name": "stdout",
     "output_type": "stream",
     "text": [
      "Thresh=0.0036784993, n=71, explained variance: 0.8455003625181486, mean abs error: 1.40705940511885\n",
      "Fitting 2 folds for each of 72 candidates, totalling 144 fits\n"
     ]
    },
    {
     "name": "stderr",
     "output_type": "stream",
     "text": [
      "[Parallel(n_jobs=-1)]: Done  34 tasks      | elapsed:   11.1s\n",
      "[Parallel(n_jobs=-1)]: Done 144 out of 144 | elapsed:   36.4s finished\n"
     ]
    },
    {
     "name": "stdout",
     "output_type": "stream",
     "text": [
      "Thresh=0.0016553246, n=76, explained variance: 0.8419938141561748, mean abs error: 1.4660405984939666\n",
      "Fitting 2 folds for each of 72 candidates, totalling 144 fits\n"
     ]
    },
    {
     "name": "stderr",
     "output_type": "stream",
     "text": [
      "[Parallel(n_jobs=-1)]: Done  34 tasks      | elapsed:   12.0s\n",
      "[Parallel(n_jobs=-1)]: Done 144 out of 144 | elapsed:   38.0s finished\n"
     ]
    },
    {
     "name": "stdout",
     "output_type": "stream",
     "text": [
      "Thresh=0.0011955122, n=82, explained variance: 0.8423608243986089, mean abs error: 1.471780743722383\n",
      "Fitting 2 folds for each of 72 candidates, totalling 144 fits\n"
     ]
    },
    {
     "name": "stderr",
     "output_type": "stream",
     "text": [
      "[Parallel(n_jobs=-1)]: Done  34 tasks      | elapsed:   12.4s\n",
      "[Parallel(n_jobs=-1)]: Done 144 out of 144 | elapsed:   39.6s finished\n"
     ]
    },
    {
     "name": "stdout",
     "output_type": "stream",
     "text": [
      "Thresh=0.0010115873, n=87, explained variance: 0.8366921476155748, mean abs error: 1.469125715446875\n",
      "Fitting 2 folds for each of 72 candidates, totalling 144 fits\n"
     ]
    },
    {
     "name": "stderr",
     "output_type": "stream",
     "text": [
      "[Parallel(n_jobs=-1)]: Done  34 tasks      | elapsed:   12.1s\n",
      "[Parallel(n_jobs=-1)]: Done 144 out of 144 | elapsed:   39.5s finished\n"
     ]
    },
    {
     "name": "stdout",
     "output_type": "stream",
     "text": [
      "Thresh=0.0009196248, n=92, explained variance: 0.8393899105136164, mean abs error: 1.4425775422174039\n",
      "Fitting 2 folds for each of 72 candidates, totalling 144 fits\n"
     ]
    },
    {
     "name": "stderr",
     "output_type": "stream",
     "text": [
      "[Parallel(n_jobs=-1)]: Done  34 tasks      | elapsed:   12.5s\n",
      "[Parallel(n_jobs=-1)]: Done 144 out of 144 | elapsed:   42.0s finished\n"
     ]
    },
    {
     "name": "stdout",
     "output_type": "stream",
     "text": [
      "Thresh=0.00073569984, n=98, explained variance: 0.8438677916819434, mean abs error: 1.4192869745351675\n",
      "Fitting 2 folds for each of 72 candidates, totalling 144 fits\n"
     ]
    },
    {
     "name": "stderr",
     "output_type": "stream",
     "text": [
      "[Parallel(n_jobs=-1)]: Done  34 tasks      | elapsed:   13.4s\n",
      "[Parallel(n_jobs=-1)]: Done 144 out of 144 | elapsed:   44.0s finished\n"
     ]
    },
    {
     "name": "stdout",
     "output_type": "stream",
     "text": [
      "Thresh=0.0006437374, n=106, explained variance: 0.8401862769795485, mean abs error: 1.4279932845796572\n",
      "Fitting 2 folds for each of 72 candidates, totalling 144 fits\n"
     ]
    },
    {
     "name": "stderr",
     "output_type": "stream",
     "text": [
      "[Parallel(n_jobs=-1)]: Done  34 tasks      | elapsed:   12.6s\n",
      "[Parallel(n_jobs=-1)]: Done 144 out of 144 | elapsed:   43.2s finished\n"
     ]
    },
    {
     "name": "stdout",
     "output_type": "stream",
     "text": [
      "Thresh=0.0006437374, n=106, explained variance: 0.8401862769795485, mean abs error: 1.4279932845796572\n",
      "Fitting 2 folds for each of 72 candidates, totalling 144 fits\n"
     ]
    },
    {
     "name": "stderr",
     "output_type": "stream",
     "text": [
      "[Parallel(n_jobs=-1)]: Done  34 tasks      | elapsed:   13.1s\n",
      "[Parallel(n_jobs=-1)]: Done 144 out of 144 | elapsed:   44.1s finished\n"
     ]
    },
    {
     "name": "stdout",
     "output_type": "stream",
     "text": [
      "Thresh=0.00055177487, n=111, explained variance: 0.8441855859484749, mean abs error: 1.3977677414862457\n",
      "Fitting 2 folds for each of 72 candidates, totalling 144 fits\n"
     ]
    },
    {
     "name": "stderr",
     "output_type": "stream",
     "text": [
      "[Parallel(n_jobs=-1)]: Done  34 tasks      | elapsed:   12.8s\n",
      "[Parallel(n_jobs=-1)]: Done 144 out of 144 | elapsed:   45.6s finished\n"
     ]
    },
    {
     "name": "stdout",
     "output_type": "stream",
     "text": [
      "Thresh=0.0004598124, n=117, explained variance: 0.8426195616597422, mean abs error: 1.4442475539289055\n",
      "Fitting 2 folds for each of 72 candidates, totalling 144 fits\n"
     ]
    },
    {
     "name": "stderr",
     "output_type": "stream",
     "text": [
      "[Parallel(n_jobs=-1)]: Done  34 tasks      | elapsed:   13.3s\n",
      "[Parallel(n_jobs=-1)]: Done 144 out of 144 | elapsed:   46.5s finished\n"
     ]
    },
    {
     "name": "stdout",
     "output_type": "stream",
     "text": [
      "Thresh=0.00036784992, n=123, explained variance: 0.8452999644520067, mean abs error: 1.3772791376019076\n",
      "Fitting 2 folds for each of 72 candidates, totalling 144 fits\n"
     ]
    },
    {
     "name": "stderr",
     "output_type": "stream",
     "text": [
      "[Parallel(n_jobs=-1)]: Done  34 tasks      | elapsed:   13.6s\n",
      "[Parallel(n_jobs=-1)]: Done 144 out of 144 | elapsed:   50.0s finished\n"
     ]
    },
    {
     "name": "stdout",
     "output_type": "stream",
     "text": [
      "Thresh=0.00027588743, n=135, explained variance: 0.8403074497336995, mean abs error: 1.431986662439098\n",
      "Fitting 2 folds for each of 72 candidates, totalling 144 fits\n"
     ]
    },
    {
     "name": "stderr",
     "output_type": "stream",
     "text": [
      "[Parallel(n_jobs=-1)]: Done  34 tasks      | elapsed:   13.6s\n",
      "[Parallel(n_jobs=-1)]: Done 144 out of 144 | elapsed:   50.1s finished\n"
     ]
    },
    {
     "name": "stdout",
     "output_type": "stream",
     "text": [
      "Thresh=0.00027588743, n=135, explained variance: 0.8403074497336995, mean abs error: 1.431986662439098\n",
      "Fitting 2 folds for each of 72 candidates, totalling 144 fits\n"
     ]
    },
    {
     "name": "stderr",
     "output_type": "stream",
     "text": [
      "[Parallel(n_jobs=-1)]: Done  34 tasks      | elapsed:   14.3s\n",
      "[Parallel(n_jobs=-1)]: Done 144 out of 144 | elapsed:   51.4s finished\n"
     ]
    },
    {
     "name": "stdout",
     "output_type": "stream",
     "text": [
      "Thresh=0.00018392496, n=145, explained variance: 0.8389228753133358, mean abs error: 1.4149864377275878\n",
      "Fitting 2 folds for each of 72 candidates, totalling 144 fits\n"
     ]
    },
    {
     "name": "stderr",
     "output_type": "stream",
     "text": [
      "[Parallel(n_jobs=-1)]: Done  34 tasks      | elapsed:   14.6s\n",
      "[Parallel(n_jobs=-1)]: Done 144 out of 144 | elapsed:   51.4s finished\n"
     ]
    },
    {
     "name": "stdout",
     "output_type": "stream",
     "text": [
      "Thresh=0.00018392496, n=145, explained variance: 0.8389228753133358, mean abs error: 1.4149864377275878\n",
      "Fitting 2 folds for each of 72 candidates, totalling 144 fits\n"
     ]
    },
    {
     "name": "stderr",
     "output_type": "stream",
     "text": [
      "[Parallel(n_jobs=-1)]: Done  34 tasks      | elapsed:   15.1s\n",
      "[Parallel(n_jobs=-1)]: Done 144 out of 144 | elapsed:   54.0s finished\n"
     ]
    },
    {
     "name": "stdout",
     "output_type": "stream",
     "text": [
      "Thresh=9.196248e-05, n=159, explained variance: 0.8404637611621799, mean abs error: 1.4199106765663099\n",
      "Fitting 2 folds for each of 72 candidates, totalling 144 fits\n"
     ]
    },
    {
     "name": "stderr",
     "output_type": "stream",
     "text": [
      "[Parallel(n_jobs=-1)]: Done  34 tasks      | elapsed:   14.8s\n",
      "[Parallel(n_jobs=-1)]: Done 144 out of 144 | elapsed:   54.4s finished\n"
     ]
    },
    {
     "name": "stdout",
     "output_type": "stream",
     "text": [
      "Thresh=9.196248e-05, n=159, explained variance: 0.8404637611621799, mean abs error: 1.4199106765663099\n",
      "Fitting 2 folds for each of 72 candidates, totalling 144 fits\n"
     ]
    },
    {
     "name": "stderr",
     "output_type": "stream",
     "text": [
      "[Parallel(n_jobs=-1)]: Done  34 tasks      | elapsed:   14.8s\n",
      "[Parallel(n_jobs=-1)]: Done 144 out of 144 | elapsed:   54.3s finished\n"
     ]
    },
    {
     "name": "stdout",
     "output_type": "stream",
     "text": [
      "Thresh=9.196248e-05, n=159, explained variance: 0.8404637611621799, mean abs error: 1.4199106765663099\n",
      "Fitting 2 folds for each of 72 candidates, totalling 144 fits\n"
     ]
    },
    {
     "name": "stderr",
     "output_type": "stream",
     "text": [
      "[Parallel(n_jobs=-1)]: Done  34 tasks      | elapsed:   15.9s\n",
      "[Parallel(n_jobs=-1)]: Done 144 out of 144 | elapsed:  1.0min finished\n"
     ]
    },
    {
     "name": "stdout",
     "output_type": "stream",
     "text": [
      "Thresh=0.0, n=183, explained variance: 0.8401241066283188, mean abs error: 1.431569199237605\n",
      "Fitting 2 folds for each of 72 candidates, totalling 144 fits\n"
     ]
    },
    {
     "name": "stderr",
     "output_type": "stream",
     "text": [
      "[Parallel(n_jobs=-1)]: Done  34 tasks      | elapsed:   15.7s\n",
      "[Parallel(n_jobs=-1)]: Done 144 out of 144 | elapsed:   59.1s finished\n"
     ]
    },
    {
     "name": "stdout",
     "output_type": "stream",
     "text": [
      "Thresh=0.0, n=183, explained variance: 0.8401241066283188, mean abs error: 1.431569199237605\n",
      "Fitting 2 folds for each of 72 candidates, totalling 144 fits\n"
     ]
    },
    {
     "name": "stderr",
     "output_type": "stream",
     "text": [
      "[Parallel(n_jobs=-1)]: Done  34 tasks      | elapsed:   15.9s\n",
      "[Parallel(n_jobs=-1)]: Done 144 out of 144 | elapsed:   59.4s finished\n"
     ]
    },
    {
     "name": "stdout",
     "output_type": "stream",
     "text": [
      "Thresh=0.0, n=183, explained variance: 0.8401241066283188, mean abs error: 1.431569199237605\n",
      "Fitting 2 folds for each of 72 candidates, totalling 144 fits\n"
     ]
    },
    {
     "name": "stderr",
     "output_type": "stream",
     "text": [
      "[Parallel(n_jobs=-1)]: Done  34 tasks      | elapsed:   15.6s\n",
      "[Parallel(n_jobs=-1)]: Done 144 out of 144 | elapsed:   59.5s finished\n"
     ]
    },
    {
     "name": "stdout",
     "output_type": "stream",
     "text": [
      "Thresh=0.0, n=183, explained variance: 0.8401241066283188, mean abs error: 1.431569199237605\n",
      "Fitting 2 folds for each of 72 candidates, totalling 144 fits\n"
     ]
    },
    {
     "name": "stderr",
     "output_type": "stream",
     "text": [
      "[Parallel(n_jobs=-1)]: Done  34 tasks      | elapsed:   15.9s\n",
      "[Parallel(n_jobs=-1)]: Done 144 out of 144 | elapsed:   59.4s finished\n"
     ]
    },
    {
     "name": "stdout",
     "output_type": "stream",
     "text": [
      "Thresh=0.0, n=183, explained variance: 0.8401241066283188, mean abs error: 1.431569199237605\n"
     ]
    }
   ],
   "source": [
    "nfeature_gridsearch_df = pd.DataFrame(columns=['threshold', 'n_features', 'best_params', 'explained_variance', 'mae'])\n",
    "\n",
    "param_grid = {'nthread':[4], #when use hyperthread, xgboost may become slower\n",
    "              'objective':['reg:linear'],\n",
    "              'learning_rate': [0.005, 0.01, 0.05], #so called `eta` value\n",
    "              'max_depth': [13],\n",
    "              'min_child_weight': [30, 45],\n",
    "              'silent': [1],\n",
    "              'subsample': [0.4, 0.5],\n",
    "              'colsample_bytree': [0.4, 0.5],\n",
    "              'n_estimators': [100, 200, 300],\n",
    "}\n",
    "\n",
    "for thresh in five_thresh:\n",
    "    # select features using threshold\n",
    "    selection = SelectFromModel(xgb, threshold=thresh, prefit=True)\n",
    "    \n",
    "    selection_model = xgboost.XGBRegressor()\n",
    "    \n",
    "    grid_search = GridSearchCV(selection_model,\n",
    "                        param_grid = param_grid,\n",
    "                        cv = TimeSeriesSplit(n_splits=2).split(X_train),\n",
    "                        n_jobs = -1,\n",
    "                        scoring = 'explained_variance',\n",
    "                        verbose=True)\n",
    "\n",
    "    select_X_train = selection.transform(X_train)\n",
    "    \n",
    "    grid_search.fit(select_X_train, y_train)\n",
    "    \n",
    "    # eval model\n",
    "    select_X_test = selection.transform(X_test)\n",
    "    y_pred = grid_search.predict(select_X_test)\n",
    "    score = explained_variance_score(y_test, y_pred)\n",
    "    mae = mean_absolute_error(y_test, y_pred)\n",
    "    \n",
    "    print('Thresh=%s, n=%s, explained variance: %s, mean abs error: %s' % (thresh, select_X_train.shape[1], score, mae))\n",
    "    \n",
    "    nfeature_gridsearch_df = nfeature_gridsearch_df.append(pd.Series({'threshold':thresh, 'n_features':select_X_train.shape[1], 'best_params': grid_search.best_params_, 'explained_variance':score, 'mae': mae}), ignore_index = True)\n",
    "    "
   ]
  },
  {
   "cell_type": "code",
   "execution_count": 252,
   "metadata": {
    "collapsed": true
   },
   "outputs": [],
   "source": [
    "nfeature_gridsearch_df.to_csv('/Users/Rohil/Documents/iGEM/yemen/feature_engineering/nfeatures_gridsearch_df.csv', index = False)"
   ]
  },
  {
   "cell_type": "code",
   "execution_count": 158,
   "metadata": {
    "collapsed": true
   },
   "outputs": [],
   "source": [
    "preds = pd.Series(preds)"
   ]
  },
  {
   "cell_type": "code",
   "execution_count": 159,
   "metadata": {
    "collapsed": true
   },
   "outputs": [],
   "source": [
    "preds.index = y_test.index"
   ]
  },
  {
   "cell_type": "code",
   "execution_count": 160,
   "metadata": {
    "collapsed": true
   },
   "outputs": [],
   "source": [
    "prediction_df = pd.DataFrame(preds).merge(pd.DataFrame(full_data[['gov_iso', 'date']]), left_index = True, right_index = True)\n",
    "prediction_df.columns = ['pred', 'gov_iso' ,'date']\n",
    "\n",
    "pred_crosstab = prediction_df.pivot_table(index = 'date', columns = 'gov_iso', values = 'pred')"
   ]
  },
  {
   "cell_type": "code",
   "execution_count": 161,
   "metadata": {},
   "outputs": [
    {
     "data": {
      "text/html": [
       "<div>\n",
       "<style scoped>\n",
       "    .dataframe tbody tr th:only-of-type {\n",
       "        vertical-align: middle;\n",
       "    }\n",
       "\n",
       "    .dataframe tbody tr th {\n",
       "        vertical-align: top;\n",
       "    }\n",
       "\n",
       "    .dataframe thead th {\n",
       "        text-align: right;\n",
       "    }\n",
       "</style>\n",
       "<table border=\"1\" class=\"dataframe\">\n",
       "  <thead>\n",
       "    <tr style=\"text-align: right;\">\n",
       "      <th>gov_iso</th>\n",
       "      <th>YE-AB</th>\n",
       "      <th>YE-AD</th>\n",
       "      <th>YE-AM</th>\n",
       "      <th>YE-BA</th>\n",
       "      <th>YE-DA</th>\n",
       "      <th>YE-DH</th>\n",
       "      <th>YE-HD-AL</th>\n",
       "      <th>YE-HJ</th>\n",
       "      <th>YE-HU</th>\n",
       "      <th>YE-IB</th>\n",
       "      <th>...</th>\n",
       "      <th>YE-LA</th>\n",
       "      <th>YE-MA</th>\n",
       "      <th>YE-MR</th>\n",
       "      <th>YE-MW</th>\n",
       "      <th>YE-RA</th>\n",
       "      <th>YE-SA</th>\n",
       "      <th>YE-SD</th>\n",
       "      <th>YE-SH</th>\n",
       "      <th>YE-SN</th>\n",
       "      <th>YE-TA</th>\n",
       "    </tr>\n",
       "    <tr>\n",
       "      <th>date</th>\n",
       "      <th></th>\n",
       "      <th></th>\n",
       "      <th></th>\n",
       "      <th></th>\n",
       "      <th></th>\n",
       "      <th></th>\n",
       "      <th></th>\n",
       "      <th></th>\n",
       "      <th></th>\n",
       "      <th></th>\n",
       "      <th></th>\n",
       "      <th></th>\n",
       "      <th></th>\n",
       "      <th></th>\n",
       "      <th></th>\n",
       "      <th></th>\n",
       "      <th></th>\n",
       "      <th></th>\n",
       "      <th></th>\n",
       "      <th></th>\n",
       "      <th></th>\n",
       "    </tr>\n",
       "  </thead>\n",
       "  <tbody>\n",
       "    <tr>\n",
       "      <th>2017-08-14</th>\n",
       "      <td>20.710947</td>\n",
       "      <td>4.897898</td>\n",
       "      <td>29.631374</td>\n",
       "      <td>10.169798</td>\n",
       "      <td>30.773361</td>\n",
       "      <td>21.468771</td>\n",
       "      <td>1.763795</td>\n",
       "      <td>17.378012</td>\n",
       "      <td>8.233446</td>\n",
       "      <td>5.356342</td>\n",
       "      <td>...</td>\n",
       "      <td>14.901932</td>\n",
       "      <td>4.875543</td>\n",
       "      <td>2.443946</td>\n",
       "      <td>27.455353</td>\n",
       "      <td>11.457116</td>\n",
       "      <td>22.700748</td>\n",
       "      <td>4.003278</td>\n",
       "      <td>1.062638</td>\n",
       "      <td>3.486799</td>\n",
       "      <td>3.953214</td>\n",
       "    </tr>\n",
       "    <tr>\n",
       "      <th>2017-08-15</th>\n",
       "      <td>20.583555</td>\n",
       "      <td>4.934886</td>\n",
       "      <td>30.043766</td>\n",
       "      <td>9.911448</td>\n",
       "      <td>28.758907</td>\n",
       "      <td>21.501932</td>\n",
       "      <td>1.720262</td>\n",
       "      <td>18.624380</td>\n",
       "      <td>8.206692</td>\n",
       "      <td>5.742295</td>\n",
       "      <td>...</td>\n",
       "      <td>14.471645</td>\n",
       "      <td>4.805513</td>\n",
       "      <td>2.414942</td>\n",
       "      <td>27.462757</td>\n",
       "      <td>11.740501</td>\n",
       "      <td>25.895361</td>\n",
       "      <td>3.997659</td>\n",
       "      <td>1.190431</td>\n",
       "      <td>3.157129</td>\n",
       "      <td>3.378301</td>\n",
       "    </tr>\n",
       "    <tr>\n",
       "      <th>2017-08-16</th>\n",
       "      <td>20.732105</td>\n",
       "      <td>5.138100</td>\n",
       "      <td>29.280275</td>\n",
       "      <td>10.165749</td>\n",
       "      <td>29.152632</td>\n",
       "      <td>21.501354</td>\n",
       "      <td>1.601228</td>\n",
       "      <td>18.985281</td>\n",
       "      <td>8.106464</td>\n",
       "      <td>5.833121</td>\n",
       "      <td>...</td>\n",
       "      <td>12.429628</td>\n",
       "      <td>4.876575</td>\n",
       "      <td>2.514567</td>\n",
       "      <td>25.924494</td>\n",
       "      <td>12.047580</td>\n",
       "      <td>26.815323</td>\n",
       "      <td>3.698807</td>\n",
       "      <td>1.177160</td>\n",
       "      <td>3.233928</td>\n",
       "      <td>4.321141</td>\n",
       "    </tr>\n",
       "    <tr>\n",
       "      <th>2017-08-17</th>\n",
       "      <td>21.188223</td>\n",
       "      <td>5.064285</td>\n",
       "      <td>29.029499</td>\n",
       "      <td>15.176261</td>\n",
       "      <td>27.624121</td>\n",
       "      <td>21.160444</td>\n",
       "      <td>1.606588</td>\n",
       "      <td>19.460413</td>\n",
       "      <td>8.119987</td>\n",
       "      <td>5.795109</td>\n",
       "      <td>...</td>\n",
       "      <td>13.946028</td>\n",
       "      <td>4.937258</td>\n",
       "      <td>2.428747</td>\n",
       "      <td>25.438599</td>\n",
       "      <td>12.162300</td>\n",
       "      <td>26.941118</td>\n",
       "      <td>4.514264</td>\n",
       "      <td>1.128298</td>\n",
       "      <td>3.218765</td>\n",
       "      <td>4.857874</td>\n",
       "    </tr>\n",
       "    <tr>\n",
       "      <th>2017-08-18</th>\n",
       "      <td>21.926449</td>\n",
       "      <td>5.023776</td>\n",
       "      <td>28.968809</td>\n",
       "      <td>15.482224</td>\n",
       "      <td>27.531481</td>\n",
       "      <td>19.783064</td>\n",
       "      <td>1.544193</td>\n",
       "      <td>20.020969</td>\n",
       "      <td>8.407865</td>\n",
       "      <td>5.705154</td>\n",
       "      <td>...</td>\n",
       "      <td>14.573035</td>\n",
       "      <td>4.978606</td>\n",
       "      <td>2.463442</td>\n",
       "      <td>25.125048</td>\n",
       "      <td>12.514949</td>\n",
       "      <td>27.085239</td>\n",
       "      <td>4.581815</td>\n",
       "      <td>1.080929</td>\n",
       "      <td>3.924248</td>\n",
       "      <td>4.285110</td>\n",
       "    </tr>\n",
       "  </tbody>\n",
       "</table>\n",
       "<p>5 rows × 21 columns</p>\n",
       "</div>"
      ],
      "text/plain": [
       "gov_iso         YE-AB     YE-AD      YE-AM      YE-BA      YE-DA      YE-DH  \\\n",
       "date                                                                          \n",
       "2017-08-14  20.710947  4.897898  29.631374  10.169798  30.773361  21.468771   \n",
       "2017-08-15  20.583555  4.934886  30.043766   9.911448  28.758907  21.501932   \n",
       "2017-08-16  20.732105  5.138100  29.280275  10.165749  29.152632  21.501354   \n",
       "2017-08-17  21.188223  5.064285  29.029499  15.176261  27.624121  21.160444   \n",
       "2017-08-18  21.926449  5.023776  28.968809  15.482224  27.531481  19.783064   \n",
       "\n",
       "gov_iso     YE-HD-AL      YE-HJ     YE-HU     YE-IB    ...         YE-LA  \\\n",
       "date                                                   ...                 \n",
       "2017-08-14  1.763795  17.378012  8.233446  5.356342    ...     14.901932   \n",
       "2017-08-15  1.720262  18.624380  8.206692  5.742295    ...     14.471645   \n",
       "2017-08-16  1.601228  18.985281  8.106464  5.833121    ...     12.429628   \n",
       "2017-08-17  1.606588  19.460413  8.119987  5.795109    ...     13.946028   \n",
       "2017-08-18  1.544193  20.020969  8.407865  5.705154    ...     14.573035   \n",
       "\n",
       "gov_iso        YE-MA     YE-MR      YE-MW      YE-RA      YE-SA     YE-SD  \\\n",
       "date                                                                        \n",
       "2017-08-14  4.875543  2.443946  27.455353  11.457116  22.700748  4.003278   \n",
       "2017-08-15  4.805513  2.414942  27.462757  11.740501  25.895361  3.997659   \n",
       "2017-08-16  4.876575  2.514567  25.924494  12.047580  26.815323  3.698807   \n",
       "2017-08-17  4.937258  2.428747  25.438599  12.162300  26.941118  4.514264   \n",
       "2017-08-18  4.978606  2.463442  25.125048  12.514949  27.085239  4.581815   \n",
       "\n",
       "gov_iso        YE-SH     YE-SN     YE-TA  \n",
       "date                                      \n",
       "2017-08-14  1.062638  3.486799  3.953214  \n",
       "2017-08-15  1.190431  3.157129  3.378301  \n",
       "2017-08-16  1.177160  3.233928  4.321141  \n",
       "2017-08-17  1.128298  3.218765  4.857874  \n",
       "2017-08-18  1.080929  3.924248  4.285110  \n",
       "\n",
       "[5 rows x 21 columns]"
      ]
     },
     "execution_count": 161,
     "metadata": {},
     "output_type": "execute_result"
    }
   ],
   "source": [
    "pred_crosstab.head()"
   ]
  },
  {
   "cell_type": "code",
   "execution_count": 162,
   "metadata": {
    "collapsed": true
   },
   "outputs": [],
   "source": [
    "y_test_df = y.drop('date', axis=1).merge(pd.DataFrame(full_data[['gov_iso' ,'date']]), left_index = True, right_index = True)"
   ]
  },
  {
   "cell_type": "code",
   "execution_count": 163,
   "metadata": {
    "collapsed": true
   },
   "outputs": [],
   "source": [
    "y_test_crosstab = y_test_df.pivot_table(index = 'date', columns = 'gov_iso', values = 'weekly_cases')"
   ]
  },
  {
   "cell_type": "code",
   "execution_count": 164,
   "metadata": {},
   "outputs": [
    {
     "data": {
      "text/html": [
       "<div>\n",
       "<style scoped>\n",
       "    .dataframe tbody tr th:only-of-type {\n",
       "        vertical-align: middle;\n",
       "    }\n",
       "\n",
       "    .dataframe tbody tr th {\n",
       "        vertical-align: top;\n",
       "    }\n",
       "\n",
       "    .dataframe thead th {\n",
       "        text-align: right;\n",
       "    }\n",
       "</style>\n",
       "<table border=\"1\" class=\"dataframe\">\n",
       "  <thead>\n",
       "    <tr style=\"text-align: right;\">\n",
       "      <th>gov_iso</th>\n",
       "      <th>YE-AB</th>\n",
       "      <th>YE-AD</th>\n",
       "      <th>YE-AM</th>\n",
       "      <th>YE-BA</th>\n",
       "      <th>YE-DA</th>\n",
       "      <th>YE-DH</th>\n",
       "      <th>YE-HD-AL</th>\n",
       "      <th>YE-HJ</th>\n",
       "      <th>YE-HU</th>\n",
       "      <th>YE-IB</th>\n",
       "      <th>...</th>\n",
       "      <th>YE-LA</th>\n",
       "      <th>YE-MA</th>\n",
       "      <th>YE-MR</th>\n",
       "      <th>YE-MW</th>\n",
       "      <th>YE-RA</th>\n",
       "      <th>YE-SA</th>\n",
       "      <th>YE-SD</th>\n",
       "      <th>YE-SH</th>\n",
       "      <th>YE-SN</th>\n",
       "      <th>YE-TA</th>\n",
       "    </tr>\n",
       "    <tr>\n",
       "      <th>date</th>\n",
       "      <th></th>\n",
       "      <th></th>\n",
       "      <th></th>\n",
       "      <th></th>\n",
       "      <th></th>\n",
       "      <th></th>\n",
       "      <th></th>\n",
       "      <th></th>\n",
       "      <th></th>\n",
       "      <th></th>\n",
       "      <th></th>\n",
       "      <th></th>\n",
       "      <th></th>\n",
       "      <th></th>\n",
       "      <th></th>\n",
       "      <th></th>\n",
       "      <th></th>\n",
       "      <th></th>\n",
       "      <th></th>\n",
       "      <th></th>\n",
       "      <th></th>\n",
       "    </tr>\n",
       "  </thead>\n",
       "  <tbody>\n",
       "    <tr>\n",
       "      <th>2017-05-31</th>\n",
       "      <td>7.853387</td>\n",
       "      <td>13.167803</td>\n",
       "      <td>32.415759</td>\n",
       "      <td>11.652744</td>\n",
       "      <td>16.109842</td>\n",
       "      <td>9.466921</td>\n",
       "      <td>0.0</td>\n",
       "      <td>18.740863</td>\n",
       "      <td>9.986982</td>\n",
       "      <td>8.009573</td>\n",
       "      <td>...</td>\n",
       "      <td>2.625525</td>\n",
       "      <td>2.448999</td>\n",
       "      <td>0.0</td>\n",
       "      <td>23.163472</td>\n",
       "      <td>11.446652</td>\n",
       "      <td>39.580615</td>\n",
       "      <td>0.168074</td>\n",
       "      <td>0.012279</td>\n",
       "      <td>11.477125</td>\n",
       "      <td>5.678411</td>\n",
       "    </tr>\n",
       "    <tr>\n",
       "      <th>2017-06-01</th>\n",
       "      <td>8.405887</td>\n",
       "      <td>11.983601</td>\n",
       "      <td>33.929278</td>\n",
       "      <td>12.699393</td>\n",
       "      <td>21.715429</td>\n",
       "      <td>10.586107</td>\n",
       "      <td>0.0</td>\n",
       "      <td>19.486937</td>\n",
       "      <td>11.311516</td>\n",
       "      <td>9.337257</td>\n",
       "      <td>...</td>\n",
       "      <td>3.664075</td>\n",
       "      <td>2.632608</td>\n",
       "      <td>0.0</td>\n",
       "      <td>23.933585</td>\n",
       "      <td>14.303009</td>\n",
       "      <td>42.529852</td>\n",
       "      <td>0.180898</td>\n",
       "      <td>0.039907</td>\n",
       "      <td>12.512657</td>\n",
       "      <td>6.571019</td>\n",
       "    </tr>\n",
       "    <tr>\n",
       "      <th>2017-06-02</th>\n",
       "      <td>8.958386</td>\n",
       "      <td>10.799400</td>\n",
       "      <td>35.442796</td>\n",
       "      <td>13.746042</td>\n",
       "      <td>27.321017</td>\n",
       "      <td>11.705293</td>\n",
       "      <td>0.0</td>\n",
       "      <td>20.233010</td>\n",
       "      <td>12.636049</td>\n",
       "      <td>10.664942</td>\n",
       "      <td>...</td>\n",
       "      <td>4.702626</td>\n",
       "      <td>2.816217</td>\n",
       "      <td>0.0</td>\n",
       "      <td>24.703698</td>\n",
       "      <td>17.159365</td>\n",
       "      <td>45.479089</td>\n",
       "      <td>0.193723</td>\n",
       "      <td>0.067536</td>\n",
       "      <td>13.548189</td>\n",
       "      <td>7.463628</td>\n",
       "    </tr>\n",
       "    <tr>\n",
       "      <th>2017-06-03</th>\n",
       "      <td>9.510886</td>\n",
       "      <td>9.615199</td>\n",
       "      <td>36.956315</td>\n",
       "      <td>14.792691</td>\n",
       "      <td>32.926605</td>\n",
       "      <td>12.824479</td>\n",
       "      <td>0.0</td>\n",
       "      <td>20.979084</td>\n",
       "      <td>13.960583</td>\n",
       "      <td>11.992626</td>\n",
       "      <td>...</td>\n",
       "      <td>5.741176</td>\n",
       "      <td>2.999826</td>\n",
       "      <td>0.0</td>\n",
       "      <td>25.473811</td>\n",
       "      <td>20.015721</td>\n",
       "      <td>48.428327</td>\n",
       "      <td>0.206548</td>\n",
       "      <td>0.095164</td>\n",
       "      <td>14.583722</td>\n",
       "      <td>8.356236</td>\n",
       "    </tr>\n",
       "    <tr>\n",
       "      <th>2017-06-04</th>\n",
       "      <td>9.494190</td>\n",
       "      <td>6.325547</td>\n",
       "      <td>35.491447</td>\n",
       "      <td>13.803081</td>\n",
       "      <td>32.798828</td>\n",
       "      <td>12.447947</td>\n",
       "      <td>0.0</td>\n",
       "      <td>19.014812</td>\n",
       "      <td>13.478453</td>\n",
       "      <td>12.228111</td>\n",
       "      <td>...</td>\n",
       "      <td>6.698759</td>\n",
       "      <td>3.090970</td>\n",
       "      <td>0.0</td>\n",
       "      <td>23.915834</td>\n",
       "      <td>20.636611</td>\n",
       "      <td>46.302799</td>\n",
       "      <td>0.192373</td>\n",
       "      <td>0.092094</td>\n",
       "      <td>13.425218</td>\n",
       "      <td>8.417056</td>\n",
       "    </tr>\n",
       "  </tbody>\n",
       "</table>\n",
       "<p>5 rows × 21 columns</p>\n",
       "</div>"
      ],
      "text/plain": [
       "gov_iso        YE-AB      YE-AD      YE-AM      YE-BA      YE-DA      YE-DH  \\\n",
       "date                                                                          \n",
       "2017-05-31  7.853387  13.167803  32.415759  11.652744  16.109842   9.466921   \n",
       "2017-06-01  8.405887  11.983601  33.929278  12.699393  21.715429  10.586107   \n",
       "2017-06-02  8.958386  10.799400  35.442796  13.746042  27.321017  11.705293   \n",
       "2017-06-03  9.510886   9.615199  36.956315  14.792691  32.926605  12.824479   \n",
       "2017-06-04  9.494190   6.325547  35.491447  13.803081  32.798828  12.447947   \n",
       "\n",
       "gov_iso     YE-HD-AL      YE-HJ      YE-HU      YE-IB    ...        YE-LA  \\\n",
       "date                                                     ...                \n",
       "2017-05-31       0.0  18.740863   9.986982   8.009573    ...     2.625525   \n",
       "2017-06-01       0.0  19.486937  11.311516   9.337257    ...     3.664075   \n",
       "2017-06-02       0.0  20.233010  12.636049  10.664942    ...     4.702626   \n",
       "2017-06-03       0.0  20.979084  13.960583  11.992626    ...     5.741176   \n",
       "2017-06-04       0.0  19.014812  13.478453  12.228111    ...     6.698759   \n",
       "\n",
       "gov_iso        YE-MA  YE-MR      YE-MW      YE-RA      YE-SA     YE-SD  \\\n",
       "date                                                                     \n",
       "2017-05-31  2.448999    0.0  23.163472  11.446652  39.580615  0.168074   \n",
       "2017-06-01  2.632608    0.0  23.933585  14.303009  42.529852  0.180898   \n",
       "2017-06-02  2.816217    0.0  24.703698  17.159365  45.479089  0.193723   \n",
       "2017-06-03  2.999826    0.0  25.473811  20.015721  48.428327  0.206548   \n",
       "2017-06-04  3.090970    0.0  23.915834  20.636611  46.302799  0.192373   \n",
       "\n",
       "gov_iso        YE-SH      YE-SN     YE-TA  \n",
       "date                                       \n",
       "2017-05-31  0.012279  11.477125  5.678411  \n",
       "2017-06-01  0.039907  12.512657  6.571019  \n",
       "2017-06-02  0.067536  13.548189  7.463628  \n",
       "2017-06-03  0.095164  14.583722  8.356236  \n",
       "2017-06-04  0.092094  13.425218  8.417056  \n",
       "\n",
       "[5 rows x 21 columns]"
      ]
     },
     "execution_count": 164,
     "metadata": {},
     "output_type": "execute_result"
    }
   ],
   "source": [
    "y_test_crosstab.head()"
   ]
  },
  {
   "cell_type": "code",
   "execution_count": 165,
   "metadata": {
    "collapsed": true
   },
   "outputs": [],
   "source": [
    "def set_style(color):\n",
    "    plt.style.use(['seaborn-' + color, 'seaborn-paper'])"
   ]
  },
  {
   "cell_type": "code",
   "execution_count": 166,
   "metadata": {
    "collapsed": true
   },
   "outputs": [],
   "source": [
    "def plot_pred_against_actual(pred_crosstab, test_crosstab):\n",
    "    \n",
    "    set_style('white')\n",
    "    \n",
    "    fig, ax = plt.subplots(21,1,figsize = (6,15), sharex=True)\n",
    "    \n",
    "    cols = test_crosstab.columns\n",
    "    \n",
    "    for i in range(0,21):\n",
    "        \n",
    "        test_crosstab[cols[i]].plot(kind='line', ax = ax[i], label = 'true_val', legend = True, color = 'red')\n",
    "                            \n",
    "        pred_crosstab[cols[i]].plot(kind='line', ax = ax[i], label= 'xgb', legend = True, color = 'blue')   \n",
    "          \n",
    "        ax[i].legend().set_visible(False)\n",
    "        ax[i].set_ylabel(cols[i])\n",
    "        ax[i].yaxis.set_label_position('right')\n",
    "        ax[i].spines['right'].set_visible(False)\n",
    "        ax[i].spines['top'].set_visible(False)\n",
    "        ax[i].spines['bottom'].set_visible(True)\n",
    "        \n",
    "    ax[10].legend().set_visible(True)\n",
    "    ax[10].legend(fontsize=10, loc='center left', bbox_to_anchor=(1.05, 0.5))\n",
    " \n",
    "    fig.subplots_adjust(hspace = .2)    \n",
    "        \n",
    "    fig.savefig('/Users/Rohil/Documents/iGEM/yemen/plot_xgb_all_features.png', dpi = 500, bbox_inches = 'tight')\n",
    "    \n",
    "    plt.close('all')"
   ]
  },
  {
   "cell_type": "code",
   "execution_count": 167,
   "metadata": {
    "collapsed": true
   },
   "outputs": [],
   "source": [
    "plot_pred_against_actual(pred_crosstab, y_test_crosstab)"
   ]
  },
  {
   "cell_type": "code",
   "execution_count": 185,
   "metadata": {
    "collapsed": true
   },
   "outputs": [],
   "source": [
    "feature_importance_df = pd.Series(xgb.feature_importances_, index = X_full.drop('date', axis=1).columns).sort_values(ascending = False)"
   ]
  },
  {
   "cell_type": "code",
   "execution_count": 69,
   "metadata": {},
   "outputs": [
    {
     "name": "stderr",
     "output_type": "stream",
     "text": [
      "Using TensorFlow backend.\n"
     ]
    }
   ],
   "source": [
    "from keras.models import Sequential\n",
    "from keras.layers import Dense\n",
    "from keras.layers import LSTM"
   ]
  },
  {
   "cell_type": "code",
   "execution_count": null,
   "metadata": {
    "collapsed": true
   },
   "outputs": [],
   "source": [
    "def train_lstm():\n",
    "    model = Sequential()\n",
    "    model.add(LSTM(50, input_shape=(train_X.shape[1], train_X.shape[2])))\n",
    "    model.add(Dense(1))\n",
    "    model.compile(loss='mae', optimizer='adam')\n",
    "    # fit network\n",
    "    history = model.fit(train_X, train_y, epochs=50, batch_size=72, validation_data=(test_X, test_y), verbose=2, shuffle=False)"
   ]
  },
  {
   "cell_type": "code",
   "execution_count": null,
   "metadata": {
    "collapsed": true
   },
   "outputs": [],
   "source": [
    "\n",
    "# plot history\n",
    "pyplot.plot(history.history['loss'], label='train')\n",
    "pyplot.plot(history.history['val_loss'], label='test')\n",
    "pyplot.legend()\n",
    "pyplot.show()"
   ]
  }
 ],
 "metadata": {
  "kernelspec": {
   "display_name": "Python 3",
   "language": "python",
   "name": "python3"
  },
  "language_info": {
   "codemirror_mode": {
    "name": "ipython",
    "version": 3
   },
   "file_extension": ".py",
   "mimetype": "text/x-python",
   "name": "python",
   "nbconvert_exporter": "python",
   "pygments_lexer": "ipython3",
   "version": "3.6.5"
  }
 },
 "nbformat": 4,
 "nbformat_minor": 2
}
