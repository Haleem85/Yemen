{
 "cells": [
  {
   "cell_type": "code",
   "execution_count": 1,
   "metadata": {},
   "outputs": [],
   "source": [
    "# imports\n",
    "import pandas as pd\n",
    "import sys\n",
    "import numpy as np\n",
    "import matplotlib.pyplot as plt\n",
    "from matplotlib.animation import FuncAnimation"
   ]
  },
  {
   "cell_type": "code",
   "execution_count": 3,
   "metadata": {},
   "outputs": [],
   "source": [
    "# allows animations to be opened in interactive window\n",
    "%matplotlib tk"
   ]
  },
  {
   "cell_type": "code",
   "execution_count": 4,
   "metadata": {},
   "outputs": [],
   "source": [
    "# read in files\n",
    "true = pd.read_csv('/Users/Rohil/Documents/iGEM/yemen/cholera_epi_data/yemen_cholera_case_data_differenced.csv')"
   ]
  },
  {
   "cell_type": "code",
   "execution_count": 5,
   "metadata": {},
   "outputs": [],
   "source": [
    "true.date = pd.to_datetime(true.date, format = '%d-%m-%y')"
   ]
  },
  {
   "cell_type": "code",
   "execution_count": 6,
   "metadata": {},
   "outputs": [],
   "source": [
    "true = true.set_index('date')"
   ]
  },
  {
   "cell_type": "code",
   "execution_count": 7,
   "metadata": {},
   "outputs": [],
   "source": [
    "gov_pop_area_data = pd.read_excel('/Users/Rohil/Documents/iGEM/yemen/gov_area_pop_data.xlsx')"
   ]
  },
  {
   "cell_type": "code",
   "execution_count": 8,
   "metadata": {},
   "outputs": [],
   "source": [
    "gov_pop_area_data = gov_pop_area_data[gov_pop_area_data.iso != 'YE-HD']"
   ]
  },
  {
   "cell_type": "code",
   "execution_count": 9,
   "metadata": {},
   "outputs": [],
   "source": [
    "for index, row in gov_pop_area_data[['iso', 'population']].iterrows():\n",
    "    true[row.iso] = (true[row.iso] * 10000) / row.population"
   ]
  },
  {
   "cell_type": "code",
   "execution_count": 10,
   "metadata": {},
   "outputs": [],
   "source": [
    "# # need to convert data into stationary (changes in cholera cases from one day to another)\n",
    "\n",
    "# # the function below creates a differenced series\n",
    "# def difference_reversed_for_preds(dataset, interval=1):\n",
    "    \n",
    "#     for i in range(interval, len(dataset)):\n",
    "        \n",
    "#         dataset[i] = dataset[i] + dataset[i-1] / 14\n",
    "\n",
    "        \n",
    "#     return (dataset)"
   ]
  },
  {
   "cell_type": "code",
   "execution_count": 11,
   "metadata": {},
   "outputs": [],
   "source": [
    "# need to convert data into stationary (changes in cholera cases from one day to another)\n",
    "\n",
    "# the function below creates a differenced series\n",
    "def difference_reversed_for_true(dataset, interval=1):\n",
    "    \n",
    "    \n",
    "    for i in range(interval, len(dataset)):\n",
    "        \n",
    "        dataset[i] = dataset[i] + dataset[i-1]\n",
    "\n",
    "        \n",
    "    return (dataset)"
   ]
  },
  {
   "cell_type": "code",
   "execution_count": 12,
   "metadata": {},
   "outputs": [],
   "source": [
    "for column in true:\n",
    "    true[column]  = (difference_reversed_for_true(true[column]))"
   ]
  },
  {
   "cell_type": "code",
   "execution_count": 13,
   "metadata": {},
   "outputs": [],
   "source": [
    "# pred_crosstab_dict = {}\n",
    "# for col in ['week_1_to_2_cases', 'week_2_to_4_cases', 'week_4_to_6_cases', 'week_6_to_8_cases']:\n",
    "    \n",
    "#     pred_crosstab_dict[col] = preds[['gov_iso', 'date', col]].pivot_table(index = 'date', columns = 'gov_iso', values = col)\n",
    "    \n",
    "# #     for gov in pred_crosstab_dict[col]:\n",
    "# #         pred_crosstab_dict[col][gov] = difference_reversed_for_preds(pred_crosstab_dict[col][gov])"
   ]
  },
  {
   "cell_type": "code",
   "execution_count": 14,
   "metadata": {},
   "outputs": [],
   "source": [
    "week_12_case_crosstab = pd.read_csv('/Users/Rohil/Documents/iGEM/yemen/week_1_to_2_cases_deployed_cv_holdout_preds.csv')\n",
    "week_24_case_crosstab = pd.read_csv('/Users/Rohil/Documents/iGEM/yemen/week_2_to_4_cases_deployed_cv_holdout_preds.csv')\n",
    "week_46_case_crosstab = pd.read_csv('/Users/Rohil/Documents/iGEM/yemen/week_4_to_6_cases_deployed_cv_holdout_preds.csv')\n",
    "week_68_case_crosstab = pd.read_csv('/Users/Rohil/Documents/iGEM/yemen/week_6_to_8_cases_deployed_cv_holdout_preds.csv')"
   ]
  },
  {
   "cell_type": "code",
   "execution_count": 15,
   "metadata": {},
   "outputs": [],
   "source": [
    "week_12_case_crosstab.date = pd.to_datetime(week_12_case_crosstab.date, format = '%Y-%m-%d')\n",
    "week_24_case_crosstab.date = pd.to_datetime(week_24_case_crosstab.date, format = '%Y-%m-%d')\n",
    "week_46_case_crosstab.date = pd.to_datetime(week_46_case_crosstab.date, format = '%Y-%m-%d')\n",
    "week_68_case_crosstab.date = pd.to_datetime(week_68_case_crosstab.date, format = '%Y-%m-%d')"
   ]
  },
  {
   "cell_type": "code",
   "execution_count": 16,
   "metadata": {},
   "outputs": [],
   "source": [
    "week_12_case_crosstab.set_index('date', inplace = True)\n",
    "week_24_case_crosstab.set_index('date', inplace = True)\n",
    "week_46_case_crosstab.set_index('date', inplace = True)\n",
    "week_68_case_crosstab.set_index('date', inplace = True)"
   ]
  },
  {
   "cell_type": "code",
   "execution_count": 17,
   "metadata": {},
   "outputs": [],
   "source": [
    "pred_crosstab_dict = {}\n",
    "pred_crosstab_dict['week_1_to_2_cases'] = week_12_case_crosstab\n",
    "pred_crosstab_dict['week_2_to_4_cases'] = week_24_case_crosstab\n",
    "pred_crosstab_dict['week_4_to_6_cases'] = week_46_case_crosstab\n",
    "pred_crosstab_dict['week_6_to_8_cases'] = week_68_case_crosstab"
   ]
  },
  {
   "cell_type": "code",
   "execution_count": 18,
   "metadata": {},
   "outputs": [
    {
     "data": {
      "text/plain": [
       "Index(['YE-AB', 'YE-AD', 'YE-AM', 'YE-BA', 'YE-DA', 'YE-DH', 'YE-HD-AL',\n",
       "       'YE-HJ', 'YE-HU', 'YE-IB', 'YE-JA', 'YE-LA', 'YE-MA', 'YE-MR', 'YE-MW',\n",
       "       'YE-RA', 'YE-SA', 'YE-SD', 'YE-SH', 'YE-SN', 'YE-TA'],\n",
       "      dtype='object')"
      ]
     },
     "execution_count": 18,
     "metadata": {},
     "output_type": "execute_result"
    }
   ],
   "source": [
    "week_12_case_crosstab.columns"
   ]
  },
  {
   "cell_type": "code",
   "execution_count": 19,
   "metadata": {},
   "outputs": [
    {
     "data": {
      "text/plain": [
       "Index(['YE-AB', 'YE-AD', 'YE-AM', 'YE-BA', 'YE-DA', 'YE-DH', 'YE-HD-AL',\n",
       "       'YE-HJ', 'YE-HU', 'YE-IB', 'YE-JA', 'YE-LA', 'YE-MA', 'YE-MR', 'YE-MW',\n",
       "       'YE-RA', 'YE-SA', 'YE-SD', 'YE-SH', 'YE-SN', 'YE-TA'],\n",
       "      dtype='object')"
      ]
     },
     "execution_count": 19,
     "metadata": {},
     "output_type": "execute_result"
    }
   ],
   "source": [
    "true.columns"
   ]
  },
  {
   "cell_type": "code",
   "execution_count": 20,
   "metadata": {},
   "outputs": [],
   "source": [
    "ylim_df = true.iloc[-1]"
   ]
  },
  {
   "cell_type": "code",
   "execution_count": 21,
   "metadata": {},
   "outputs": [],
   "source": [
    "y_12_line_dict = {}\n",
    "y_24_line_dict = {}\n",
    "y_46_line_dict = {}\n",
    "y_68_line_dict = {}\n",
    "true_line_dict = {}"
   ]
  },
  {
   "cell_type": "code",
   "execution_count": 37,
   "metadata": {},
   "outputs": [],
   "source": [
    "# function that updates plot for each day\n",
    "\n",
    "def update(i):\n",
    "    \n",
    "    # Update the line and the axes (with a new xlabel). Return a tuple of\n",
    "    # \"artists\" that have to be redrawn for this frame.\n",
    "    true_date =  pd.date_range(true.index[0], pred_crosstab_dict['week_1_to_2_cases'].index[i])\n",
    "    \n",
    "    dates12 = pd.date_range(pred_crosstab_dict['week_1_to_2_cases'].index[i] + pd.to_timedelta(0, 'W') + pd.to_timedelta(1, 'D'), pred_crosstab_dict['week_1_to_2_cases'].index[i] + pd.to_timedelta(2, 'W'), freq = \"D\")\n",
    "    dates24 = pd.date_range(pred_crosstab_dict['week_2_to_4_cases'].index[i] + pd.to_timedelta(2, 'W') + pd.to_timedelta(1, 'D'), pred_crosstab_dict['week_2_to_4_cases'].index[i] + pd.to_timedelta(4, 'W'), freq = \"D\")\n",
    "    dates46 = pd.date_range(pred_crosstab_dict['week_4_to_6_cases'].index[i] + pd.to_timedelta(4, 'W') + pd.to_timedelta(1, 'D'), pred_crosstab_dict['week_4_to_6_cases'].index[i] + pd.to_timedelta(6, 'W'), freq = \"D\")\n",
    "    dates68 = pd.date_range(pred_crosstab_dict['week_6_to_8_cases'].index[i] + pd.to_timedelta(6, 'W') + pd.to_timedelta(1, 'D'), pred_crosstab_dict['week_6_to_8_cases'].index[i] + pd.to_timedelta(8, 'W'), freq = \"D\")\n",
    "    \n",
    "    for e in range(0,21):\n",
    "        \n",
    "        gov = govs[e]\n",
    "        \n",
    "        true_val = (true.loc[true_date][gov])\n",
    "        true_line_dict[gov].set_data(true_date, true_val)\n",
    "        \n",
    "        vals12_prev = (pred_crosstab_dict['week_1_to_2_cases'][gov].iloc[:i-1].sum() + true.loc[dates12_start.min() - pd.to_timedelta(1, 'D')][gov]) / 14\n",
    "        vals12 = np.linspace(vals12_prev, pred_crosstab_dict['week_1_to_2_cases'][gov].iloc[i] + vals12_prev, 14)\n",
    "        y_12_line_dict[gov].set_data(dates12, vals12)\n",
    "        \n",
    "        vals24_prev = (pred_crosstab_dict['week_2_to_4_cases'][gov].iloc[:i-1].sum()+ true.loc[dates24_start.min() - pd.to_timedelta(1, 'D')][gov])  / 14\n",
    "        vals24 = np.linspace(vals24_prev, pred_crosstab_dict['week_2_to_4_cases'][gov].iloc[i] + vals24_prev, 14)\n",
    "        y_24_line_dict[gov].set_data(dates24, vals24)\n",
    "        \n",
    "        vals46_prev = (pred_crosstab_dict['week_4_to_6_cases'][gov].iloc[:i-1].sum() + true.loc[dates46_start.min() - pd.to_timedelta(1, 'D')][gov]) / 14\n",
    "        vals46 = np.linspace(vals46_prev, pred_crosstab_dict['week_4_to_6_cases'][gov].iloc[i] + vals46_prev, 14)\n",
    "        y_46_line_dict[gov].set_data(dates46, vals46)\n",
    "\n",
    "        vals68_prev = (pred_crosstab_dict['week_6_to_8_cases'][gov].iloc[:i-1].sum() + true.loc[dates68_start.min() - pd.to_timedelta(1, 'D')][gov]) / 14\n",
    "        vals68 = np.linspace(vals68_prev, pred_crosstab_dict['week_6_to_8_cases'][gov].iloc[i] + vals68_prev, 14)\n",
    "        y_68_line_dict[gov].set_data(dates68, vals68)\n",
    "        \n",
    "    \n",
    "    label = 'day {0}'.format(i)\n",
    "    \n",
    "    ax[-1].set_xlabel(label)\n",
    "    \n",
    "    return (ax)"
   ]
  },
  {
   "cell_type": "code",
   "execution_count": 43,
   "metadata": {},
   "outputs": [
    {
     "name": "stderr",
     "output_type": "stream",
     "text": [
      "No handles with labels found to put in legend.\n",
      "No handles with labels found to put in legend.\n",
      "No handles with labels found to put in legend.\n",
      "No handles with labels found to put in legend.\n",
      "No handles with labels found to put in legend.\n",
      "No handles with labels found to put in legend.\n",
      "No handles with labels found to put in legend.\n",
      "No handles with labels found to put in legend.\n",
      "No handles with labels found to put in legend.\n",
      "No handles with labels found to put in legend.\n",
      "No handles with labels found to put in legend.\n",
      "No handles with labels found to put in legend.\n",
      "No handles with labels found to put in legend.\n",
      "No handles with labels found to put in legend.\n",
      "No handles with labels found to put in legend.\n",
      "No handles with labels found to put in legend.\n",
      "No handles with labels found to put in legend.\n",
      "No handles with labels found to put in legend.\n",
      "No handles with labels found to put in legend.\n",
      "No handles with labels found to put in legend.\n",
      "No handles with labels found to put in legend.\n"
     ]
    },
    {
     "ename": "AttributeError",
     "evalue": "Unknown property legend",
     "output_type": "error",
     "traceback": [
      "\u001b[1;31m---------------------------------------------------------------------------\u001b[0m",
      "\u001b[1;31mAttributeError\u001b[0m                            Traceback (most recent call last)",
      "\u001b[1;32m<ipython-input-43-e2a28459445e>\u001b[0m in \u001b[0;36m<module>\u001b[1;34m()\u001b[0m\n\u001b[0;32m     27\u001b[0m \u001b[1;33m\u001b[0m\u001b[0m\n\u001b[0;32m     28\u001b[0m     \u001b[0mtrue_val_start\u001b[0m \u001b[1;33m=\u001b[0m \u001b[0mtrue\u001b[0m\u001b[1;33m.\u001b[0m\u001b[0mloc\u001b[0m\u001b[1;33m[\u001b[0m\u001b[0mtrue_date_start\u001b[0m\u001b[1;33m]\u001b[0m\u001b[1;33m[\u001b[0m\u001b[0mgov\u001b[0m\u001b[1;33m]\u001b[0m\u001b[1;33m\u001b[0m\u001b[0m\n\u001b[1;32m---> 29\u001b[1;33m     \u001b[0mtrue_line_dict\u001b[0m\u001b[1;33m[\u001b[0m\u001b[0mgov\u001b[0m\u001b[1;33m]\u001b[0m\u001b[1;33m,\u001b[0m \u001b[1;33m=\u001b[0m \u001b[0max\u001b[0m\u001b[1;33m[\u001b[0m\u001b[0me\u001b[0m\u001b[1;33m]\u001b[0m\u001b[1;33m.\u001b[0m\u001b[0mplot\u001b[0m\u001b[1;33m(\u001b[0m\u001b[0mtrue_date_start\u001b[0m\u001b[1;33m,\u001b[0m \u001b[0mtrue_val_start\u001b[0m\u001b[1;33m,\u001b[0m \u001b[0mcolor\u001b[0m \u001b[1;33m=\u001b[0m \u001b[1;34m'red'\u001b[0m\u001b[1;33m,\u001b[0m \u001b[0mlegend\u001b[0m\u001b[1;33m=\u001b[0m\u001b[1;32mTrue\u001b[0m\u001b[1;33m,\u001b[0m \u001b[0mlabel\u001b[0m\u001b[1;33m=\u001b[0m\u001b[1;34m'true'\u001b[0m\u001b[1;33m)\u001b[0m\u001b[1;33m\u001b[0m\u001b[0m\n\u001b[0m\u001b[0;32m     30\u001b[0m \u001b[1;33m\u001b[0m\u001b[0m\n\u001b[0;32m     31\u001b[0m     \u001b[0mvals12_start\u001b[0m \u001b[1;33m=\u001b[0m \u001b[0mnp\u001b[0m\u001b[1;33m.\u001b[0m\u001b[0mlinspace\u001b[0m\u001b[1;33m(\u001b[0m\u001b[0mtrue\u001b[0m\u001b[1;33m.\u001b[0m\u001b[0mloc\u001b[0m\u001b[1;33m[\u001b[0m\u001b[0mdates12_start\u001b[0m\u001b[1;33m.\u001b[0m\u001b[0mmin\u001b[0m\u001b[1;33m(\u001b[0m\u001b[1;33m)\u001b[0m \u001b[1;33m-\u001b[0m \u001b[0mpd\u001b[0m\u001b[1;33m.\u001b[0m\u001b[0mto_timedelta\u001b[0m\u001b[1;33m(\u001b[0m\u001b[1;36m1\u001b[0m\u001b[1;33m,\u001b[0m \u001b[1;34m'D'\u001b[0m\u001b[1;33m)\u001b[0m\u001b[1;33m]\u001b[0m\u001b[1;33m[\u001b[0m\u001b[0mgov\u001b[0m\u001b[1;33m]\u001b[0m\u001b[1;33m,\u001b[0m \u001b[0mpred_crosstab_dict\u001b[0m\u001b[1;33m[\u001b[0m\u001b[1;34m'week_1_to_2_cases'\u001b[0m\u001b[1;33m]\u001b[0m\u001b[1;33m[\u001b[0m\u001b[0mgov\u001b[0m\u001b[1;33m]\u001b[0m\u001b[1;33m.\u001b[0m\u001b[0miloc\u001b[0m\u001b[1;33m[\u001b[0m\u001b[1;36m0\u001b[0m\u001b[1;33m]\u001b[0m \u001b[1;33m+\u001b[0m \u001b[0mtrue\u001b[0m\u001b[1;33m.\u001b[0m\u001b[0mloc\u001b[0m\u001b[1;33m[\u001b[0m\u001b[0mdates12_start\u001b[0m\u001b[1;33m.\u001b[0m\u001b[0mmin\u001b[0m\u001b[1;33m(\u001b[0m\u001b[1;33m)\u001b[0m \u001b[1;33m-\u001b[0m \u001b[0mpd\u001b[0m\u001b[1;33m.\u001b[0m\u001b[0mto_timedelta\u001b[0m\u001b[1;33m(\u001b[0m\u001b[1;36m1\u001b[0m\u001b[1;33m,\u001b[0m \u001b[1;34m'D'\u001b[0m\u001b[1;33m)\u001b[0m\u001b[1;33m]\u001b[0m\u001b[1;33m[\u001b[0m\u001b[0mgov\u001b[0m\u001b[1;33m]\u001b[0m\u001b[1;33m,\u001b[0m \u001b[1;36m14\u001b[0m\u001b[1;33m)\u001b[0m\u001b[1;33m\u001b[0m\u001b[0m\n",
      "\u001b[1;32m~\\Anaconda3\\lib\\site-packages\\matplotlib\\__init__.py\u001b[0m in \u001b[0;36minner\u001b[1;34m(ax, *args, **kwargs)\u001b[0m\n\u001b[0;32m   1853\u001b[0m                         \u001b[1;34m\"the Matplotlib list!)\"\u001b[0m \u001b[1;33m%\u001b[0m \u001b[1;33m(\u001b[0m\u001b[0mlabel_namer\u001b[0m\u001b[1;33m,\u001b[0m \u001b[0mfunc\u001b[0m\u001b[1;33m.\u001b[0m\u001b[0m__name__\u001b[0m\u001b[1;33m)\u001b[0m\u001b[1;33m,\u001b[0m\u001b[1;33m\u001b[0m\u001b[0m\n\u001b[0;32m   1854\u001b[0m                         RuntimeWarning, stacklevel=2)\n\u001b[1;32m-> 1855\u001b[1;33m             \u001b[1;32mreturn\u001b[0m \u001b[0mfunc\u001b[0m\u001b[1;33m(\u001b[0m\u001b[0max\u001b[0m\u001b[1;33m,\u001b[0m \u001b[1;33m*\u001b[0m\u001b[0margs\u001b[0m\u001b[1;33m,\u001b[0m \u001b[1;33m**\u001b[0m\u001b[0mkwargs\u001b[0m\u001b[1;33m)\u001b[0m\u001b[1;33m\u001b[0m\u001b[0m\n\u001b[0m\u001b[0;32m   1856\u001b[0m \u001b[1;33m\u001b[0m\u001b[0m\n\u001b[0;32m   1857\u001b[0m         inner.__doc__ = _add_data_doc(inner.__doc__,\n",
      "\u001b[1;32m~\\Anaconda3\\lib\\site-packages\\matplotlib\\axes\\_axes.py\u001b[0m in \u001b[0;36mplot\u001b[1;34m(self, *args, **kwargs)\u001b[0m\n\u001b[0;32m   1525\u001b[0m         \u001b[0mkwargs\u001b[0m \u001b[1;33m=\u001b[0m \u001b[0mcbook\u001b[0m\u001b[1;33m.\u001b[0m\u001b[0mnormalize_kwargs\u001b[0m\u001b[1;33m(\u001b[0m\u001b[0mkwargs\u001b[0m\u001b[1;33m,\u001b[0m \u001b[0m_alias_map\u001b[0m\u001b[1;33m)\u001b[0m\u001b[1;33m\u001b[0m\u001b[0m\n\u001b[0;32m   1526\u001b[0m \u001b[1;33m\u001b[0m\u001b[0m\n\u001b[1;32m-> 1527\u001b[1;33m         \u001b[1;32mfor\u001b[0m \u001b[0mline\u001b[0m \u001b[1;32min\u001b[0m \u001b[0mself\u001b[0m\u001b[1;33m.\u001b[0m\u001b[0m_get_lines\u001b[0m\u001b[1;33m(\u001b[0m\u001b[1;33m*\u001b[0m\u001b[0margs\u001b[0m\u001b[1;33m,\u001b[0m \u001b[1;33m**\u001b[0m\u001b[0mkwargs\u001b[0m\u001b[1;33m)\u001b[0m\u001b[1;33m:\u001b[0m\u001b[1;33m\u001b[0m\u001b[0m\n\u001b[0m\u001b[0;32m   1528\u001b[0m             \u001b[0mself\u001b[0m\u001b[1;33m.\u001b[0m\u001b[0madd_line\u001b[0m\u001b[1;33m(\u001b[0m\u001b[0mline\u001b[0m\u001b[1;33m)\u001b[0m\u001b[1;33m\u001b[0m\u001b[0m\n\u001b[0;32m   1529\u001b[0m             \u001b[0mlines\u001b[0m\u001b[1;33m.\u001b[0m\u001b[0mappend\u001b[0m\u001b[1;33m(\u001b[0m\u001b[0mline\u001b[0m\u001b[1;33m)\u001b[0m\u001b[1;33m\u001b[0m\u001b[0m\n",
      "\u001b[1;32m~\\Anaconda3\\lib\\site-packages\\matplotlib\\axes\\_base.py\u001b[0m in \u001b[0;36m_grab_next_args\u001b[1;34m(self, *args, **kwargs)\u001b[0m\n\u001b[0;32m    404\u001b[0m                 \u001b[0mthis\u001b[0m \u001b[1;33m+=\u001b[0m \u001b[0margs\u001b[0m\u001b[1;33m[\u001b[0m\u001b[1;36m0\u001b[0m\u001b[1;33m]\u001b[0m\u001b[1;33m,\u001b[0m\u001b[1;33m\u001b[0m\u001b[0m\n\u001b[0;32m    405\u001b[0m                 \u001b[0margs\u001b[0m \u001b[1;33m=\u001b[0m \u001b[0margs\u001b[0m\u001b[1;33m[\u001b[0m\u001b[1;36m1\u001b[0m\u001b[1;33m:\u001b[0m\u001b[1;33m]\u001b[0m\u001b[1;33m\u001b[0m\u001b[0m\n\u001b[1;32m--> 406\u001b[1;33m             \u001b[1;32mfor\u001b[0m \u001b[0mseg\u001b[0m \u001b[1;32min\u001b[0m \u001b[0mself\u001b[0m\u001b[1;33m.\u001b[0m\u001b[0m_plot_args\u001b[0m\u001b[1;33m(\u001b[0m\u001b[0mthis\u001b[0m\u001b[1;33m,\u001b[0m \u001b[0mkwargs\u001b[0m\u001b[1;33m)\u001b[0m\u001b[1;33m:\u001b[0m\u001b[1;33m\u001b[0m\u001b[0m\n\u001b[0m\u001b[0;32m    407\u001b[0m                 \u001b[1;32myield\u001b[0m \u001b[0mseg\u001b[0m\u001b[1;33m\u001b[0m\u001b[0m\n\u001b[0;32m    408\u001b[0m \u001b[1;33m\u001b[0m\u001b[0m\n",
      "\u001b[1;32m~\\Anaconda3\\lib\\site-packages\\matplotlib\\axes\\_base.py\u001b[0m in \u001b[0;36m_plot_args\u001b[1;34m(self, tup, kwargs)\u001b[0m\n\u001b[0;32m    394\u001b[0m                                   \"with non-matching shapes is deprecated.\")\n\u001b[0;32m    395\u001b[0m         \u001b[1;32mfor\u001b[0m \u001b[0mj\u001b[0m \u001b[1;32min\u001b[0m \u001b[0mxrange\u001b[0m\u001b[1;33m(\u001b[0m\u001b[0mmax\u001b[0m\u001b[1;33m(\u001b[0m\u001b[0mncx\u001b[0m\u001b[1;33m,\u001b[0m \u001b[0mncy\u001b[0m\u001b[1;33m)\u001b[0m\u001b[1;33m)\u001b[0m\u001b[1;33m:\u001b[0m\u001b[1;33m\u001b[0m\u001b[0m\n\u001b[1;32m--> 396\u001b[1;33m             \u001b[0mseg\u001b[0m \u001b[1;33m=\u001b[0m \u001b[0mfunc\u001b[0m\u001b[1;33m(\u001b[0m\u001b[0mx\u001b[0m\u001b[1;33m[\u001b[0m\u001b[1;33m:\u001b[0m\u001b[1;33m,\u001b[0m \u001b[0mj\u001b[0m \u001b[1;33m%\u001b[0m \u001b[0mncx\u001b[0m\u001b[1;33m]\u001b[0m\u001b[1;33m,\u001b[0m \u001b[0my\u001b[0m\u001b[1;33m[\u001b[0m\u001b[1;33m:\u001b[0m\u001b[1;33m,\u001b[0m \u001b[0mj\u001b[0m \u001b[1;33m%\u001b[0m \u001b[0mncy\u001b[0m\u001b[1;33m]\u001b[0m\u001b[1;33m,\u001b[0m \u001b[0mkw\u001b[0m\u001b[1;33m,\u001b[0m \u001b[0mkwargs\u001b[0m\u001b[1;33m)\u001b[0m\u001b[1;33m\u001b[0m\u001b[0m\n\u001b[0m\u001b[0;32m    397\u001b[0m             \u001b[0mret\u001b[0m\u001b[1;33m.\u001b[0m\u001b[0mappend\u001b[0m\u001b[1;33m(\u001b[0m\u001b[0mseg\u001b[0m\u001b[1;33m)\u001b[0m\u001b[1;33m\u001b[0m\u001b[0m\n\u001b[0;32m    398\u001b[0m         \u001b[1;32mreturn\u001b[0m \u001b[0mret\u001b[0m\u001b[1;33m\u001b[0m\u001b[0m\n",
      "\u001b[1;32m~\\Anaconda3\\lib\\site-packages\\matplotlib\\axes\\_base.py\u001b[0m in \u001b[0;36m_makeline\u001b[1;34m(self, x, y, kw, kwargs)\u001b[0m\n\u001b[0;32m    298\u001b[0m         \u001b[0mdefault_dict\u001b[0m \u001b[1;33m=\u001b[0m \u001b[0mself\u001b[0m\u001b[1;33m.\u001b[0m\u001b[0m_getdefaults\u001b[0m\u001b[1;33m(\u001b[0m\u001b[1;32mNone\u001b[0m\u001b[1;33m,\u001b[0m \u001b[0mkw\u001b[0m\u001b[1;33m)\u001b[0m\u001b[1;33m\u001b[0m\u001b[0m\n\u001b[0;32m    299\u001b[0m         \u001b[0mself\u001b[0m\u001b[1;33m.\u001b[0m\u001b[0m_setdefaults\u001b[0m\u001b[1;33m(\u001b[0m\u001b[0mdefault_dict\u001b[0m\u001b[1;33m,\u001b[0m \u001b[0mkw\u001b[0m\u001b[1;33m)\u001b[0m\u001b[1;33m\u001b[0m\u001b[0m\n\u001b[1;32m--> 300\u001b[1;33m         \u001b[0mseg\u001b[0m \u001b[1;33m=\u001b[0m \u001b[0mmlines\u001b[0m\u001b[1;33m.\u001b[0m\u001b[0mLine2D\u001b[0m\u001b[1;33m(\u001b[0m\u001b[0mx\u001b[0m\u001b[1;33m,\u001b[0m \u001b[0my\u001b[0m\u001b[1;33m,\u001b[0m \u001b[1;33m**\u001b[0m\u001b[0mkw\u001b[0m\u001b[1;33m)\u001b[0m\u001b[1;33m\u001b[0m\u001b[0m\n\u001b[0m\u001b[0;32m    301\u001b[0m         \u001b[1;32mreturn\u001b[0m \u001b[0mseg\u001b[0m\u001b[1;33m\u001b[0m\u001b[0m\n\u001b[0;32m    302\u001b[0m \u001b[1;33m\u001b[0m\u001b[0m\n",
      "\u001b[1;32m~\\Anaconda3\\lib\\site-packages\\matplotlib\\lines.py\u001b[0m in \u001b[0;36m__init__\u001b[1;34m(self, xdata, ydata, linewidth, linestyle, color, marker, markersize, markeredgewidth, markeredgecolor, markerfacecolor, markerfacecoloralt, fillstyle, antialiased, dash_capstyle, solid_capstyle, dash_joinstyle, solid_joinstyle, pickradius, drawstyle, markevery, **kwargs)\u001b[0m\n\u001b[0;32m    419\u001b[0m         \u001b[1;31m# update kwargs before updating data to give the caller a\u001b[0m\u001b[1;33m\u001b[0m\u001b[1;33m\u001b[0m\u001b[0m\n\u001b[0;32m    420\u001b[0m         \u001b[1;31m# chance to init axes (and hence unit support)\u001b[0m\u001b[1;33m\u001b[0m\u001b[1;33m\u001b[0m\u001b[0m\n\u001b[1;32m--> 421\u001b[1;33m         \u001b[0mself\u001b[0m\u001b[1;33m.\u001b[0m\u001b[0mupdate\u001b[0m\u001b[1;33m(\u001b[0m\u001b[0mkwargs\u001b[0m\u001b[1;33m)\u001b[0m\u001b[1;33m\u001b[0m\u001b[0m\n\u001b[0m\u001b[0;32m    422\u001b[0m         \u001b[0mself\u001b[0m\u001b[1;33m.\u001b[0m\u001b[0mpickradius\u001b[0m \u001b[1;33m=\u001b[0m \u001b[0mpickradius\u001b[0m\u001b[1;33m\u001b[0m\u001b[0m\n\u001b[0;32m    423\u001b[0m         \u001b[0mself\u001b[0m\u001b[1;33m.\u001b[0m\u001b[0mind_offset\u001b[0m \u001b[1;33m=\u001b[0m \u001b[1;36m0\u001b[0m\u001b[1;33m\u001b[0m\u001b[0m\n",
      "\u001b[1;32m~\\Anaconda3\\lib\\site-packages\\matplotlib\\artist.py\u001b[0m in \u001b[0;36mupdate\u001b[1;34m(self, props)\u001b[0m\n\u001b[0;32m    886\u001b[0m         \u001b[1;32mtry\u001b[0m\u001b[1;33m:\u001b[0m\u001b[1;33m\u001b[0m\u001b[0m\n\u001b[0;32m    887\u001b[0m             ret = [_update_property(self, k, v)\n\u001b[1;32m--> 888\u001b[1;33m                    for k, v in props.items()]\n\u001b[0m\u001b[0;32m    889\u001b[0m         \u001b[1;32mfinally\u001b[0m\u001b[1;33m:\u001b[0m\u001b[1;33m\u001b[0m\u001b[0m\n\u001b[0;32m    890\u001b[0m             \u001b[0mself\u001b[0m\u001b[1;33m.\u001b[0m\u001b[0meventson\u001b[0m \u001b[1;33m=\u001b[0m \u001b[0mstore\u001b[0m\u001b[1;33m\u001b[0m\u001b[0m\n",
      "\u001b[1;32m~\\Anaconda3\\lib\\site-packages\\matplotlib\\artist.py\u001b[0m in \u001b[0;36m<listcomp>\u001b[1;34m(.0)\u001b[0m\n\u001b[0;32m    886\u001b[0m         \u001b[1;32mtry\u001b[0m\u001b[1;33m:\u001b[0m\u001b[1;33m\u001b[0m\u001b[0m\n\u001b[0;32m    887\u001b[0m             ret = [_update_property(self, k, v)\n\u001b[1;32m--> 888\u001b[1;33m                    for k, v in props.items()]\n\u001b[0m\u001b[0;32m    889\u001b[0m         \u001b[1;32mfinally\u001b[0m\u001b[1;33m:\u001b[0m\u001b[1;33m\u001b[0m\u001b[0m\n\u001b[0;32m    890\u001b[0m             \u001b[0mself\u001b[0m\u001b[1;33m.\u001b[0m\u001b[0meventson\u001b[0m \u001b[1;33m=\u001b[0m \u001b[0mstore\u001b[0m\u001b[1;33m\u001b[0m\u001b[0m\n",
      "\u001b[1;32m~\\Anaconda3\\lib\\site-packages\\matplotlib\\artist.py\u001b[0m in \u001b[0;36m_update_property\u001b[1;34m(self, k, v)\u001b[0m\n\u001b[0;32m    879\u001b[0m                 \u001b[0mfunc\u001b[0m \u001b[1;33m=\u001b[0m \u001b[0mgetattr\u001b[0m\u001b[1;33m(\u001b[0m\u001b[0mself\u001b[0m\u001b[1;33m,\u001b[0m \u001b[1;34m'set_'\u001b[0m \u001b[1;33m+\u001b[0m \u001b[0mk\u001b[0m\u001b[1;33m,\u001b[0m \u001b[1;32mNone\u001b[0m\u001b[1;33m)\u001b[0m\u001b[1;33m\u001b[0m\u001b[0m\n\u001b[0;32m    880\u001b[0m                 \u001b[1;32mif\u001b[0m \u001b[1;32mnot\u001b[0m \u001b[0mcallable\u001b[0m\u001b[1;33m(\u001b[0m\u001b[0mfunc\u001b[0m\u001b[1;33m)\u001b[0m\u001b[1;33m:\u001b[0m\u001b[1;33m\u001b[0m\u001b[0m\n\u001b[1;32m--> 881\u001b[1;33m                     \u001b[1;32mraise\u001b[0m \u001b[0mAttributeError\u001b[0m\u001b[1;33m(\u001b[0m\u001b[1;34m'Unknown property %s'\u001b[0m \u001b[1;33m%\u001b[0m \u001b[0mk\u001b[0m\u001b[1;33m)\u001b[0m\u001b[1;33m\u001b[0m\u001b[0m\n\u001b[0m\u001b[0;32m    882\u001b[0m                 \u001b[1;32mreturn\u001b[0m \u001b[0mfunc\u001b[0m\u001b[1;33m(\u001b[0m\u001b[0mv\u001b[0m\u001b[1;33m)\u001b[0m\u001b[1;33m\u001b[0m\u001b[0m\n\u001b[0;32m    883\u001b[0m \u001b[1;33m\u001b[0m\u001b[0m\n",
      "\u001b[1;31mAttributeError\u001b[0m: Unknown property legend"
     ]
    }
   ],
   "source": [
    "fig, ax = plt.subplots(21,1,figsize = (6,17), sharex=True, sharey = False)\n",
    "\n",
    "govs = true.columns\n",
    "\n",
    "for i in range(0,21):\n",
    "\n",
    "    ax[i].set_xlim(true.index.min(), true.index.max())\n",
    "    ax[i].set_ylim(0, ylim_df[govs[i]])\n",
    "    ax[i].legend().set_visible(False)\n",
    "    ax[i].set_ylabel(govs[i])\n",
    "    ax[i].yaxis.set_label_position('right')\n",
    "    ax[i].spines['right'].set_visible(False)\n",
    "    ax[i].spines['top'].set_visible(False)\n",
    "    ax[i].spines['bottom'].set_visible(True)\n",
    "\n",
    "\n",
    "true_date_start =  pd.date_range(true.index[0], pred_crosstab_dict['week_1_to_2_cases'].index[i])\n",
    "\n",
    "dates12_start = pd.date_range(pred_crosstab_dict['week_1_to_2_cases'].index[0] + pd.to_timedelta(0, 'W') + pd.to_timedelta(1, 'D'), pred_crosstab_dict['week_1_to_2_cases'].index[0] + pd.to_timedelta(2, 'W'), freq = \"D\")\n",
    "dates24_start = pd.date_range(pred_crosstab_dict['week_2_to_4_cases'].index[0] + pd.to_timedelta(2, 'W') + pd.to_timedelta(1, 'D'), pred_crosstab_dict['week_2_to_4_cases'].index[0] + pd.to_timedelta(4, 'W'), freq = \"D\")\n",
    "dates46_start = pd.date_range(pred_crosstab_dict['week_4_to_6_cases'].index[0] + pd.to_timedelta(4, 'W') + pd.to_timedelta(1, 'D'), pred_crosstab_dict['week_4_to_6_cases'].index[0] + pd.to_timedelta(6, 'W'), freq = \"D\")\n",
    "dates68_start = pd.date_range(pred_crosstab_dict['week_6_to_8_cases'].index[0] + pd.to_timedelta(6, 'W') + pd.to_timedelta(1, 'D'), pred_crosstab_dict['week_6_to_8_cases'].index[0] + pd.to_timedelta(8, 'W'), freq = \"D\")\n",
    "\n",
    "for e in range(0,21):\n",
    "\n",
    "    gov = govs[e]\n",
    "    \n",
    "    true_val_start = true.loc[true_date_start][gov]\n",
    "    true_line_dict[gov], = ax[e].plot(true_date_start, true_val_start, color = 'red', legend=True, label='true')\n",
    "\n",
    "    vals12_start = np.linspace(true.loc[dates12_start.min() - pd.to_timedelta(1, 'D')][gov], pred_crosstab_dict['week_1_to_2_cases'][gov].iloc[0] + true.loc[dates12_start.min() - pd.to_timedelta(1, 'D')][gov], 14)\n",
    "    y_12_line_dict[gov], = ax[e].plot(dates12_start, vals12_start, linestyle= '-.', color = 'seagreen', label='0-2 week forecast')\n",
    "\n",
    "    vals24_start = np.linspace(true.loc[dates24_start.min() - pd.to_timedelta(1, 'D')][gov], pred_crosstab_dict['week_2_to_4_cases'][gov].iloc[0] + true.loc[dates24_start.min() - pd.to_timedelta(1, 'D')][gov], 14)\n",
    "    y_24_line_dict[gov], = ax[e].plot(dates24_start, vals24_start, linestyle= '-.', color = 'blue', label='2-4 week forecast')\n",
    "\n",
    "    vals46_start = np.linspace(true.loc[dates46_start.min() - pd.to_timedelta(1, 'D')][gov], pred_crosstab_dict['week_4_to_6_cases'][gov].iloc[0] + true.loc[dates46_start.min() - pd.to_timedelta(1, 'D')][gov], 14)\n",
    "    y_46_line_dict[gov], = ax[e].plot(dates46_start, vals46_start, linestyle= '-.', color = 'plum', label='4-6 week forecast')\n",
    "\n",
    "    vals68_start = np.linspace(true.loc[dates68_start.min() - pd.to_timedelta(1, 'D')][gov], pred_crosstab_dict['week_6_to_8_cases'][gov].iloc[0] + true.loc[dates68_start.min() - pd.to_timedelta(1, 'D')][gov], 14)\n",
    "    y_68_line_dict[gov], = ax[e].plot(dates68_start, vals68_start, linestyle= '-.', color = 'magenta', label='6-8 week forecast')    \n",
    "\n",
    "plt.tight_layout()\n",
    "ax[10].legend(handles = [true_line_dict[govs[10]], y_12_line_dict[govs[10]], y_24_line_dict[govs[10]], y_46_line_dict[govs[10]], y_68_line_dict[govs[10]]], loc='center left', bbox_to_anchor=(1.05, 0.5))\n",
    "\n",
    "anim = FuncAnimation(fig, update, frames=np.arange(0, 115), interval=10)\n",
    "\n",
    "anim.save('/Users/Rohil/Documents/iGEM/yemen/gif_total.gif', dpi=100, writer='imagemagick')"
   ]
  },
  {
   "cell_type": "code",
   "execution_count": null,
   "metadata": {},
   "outputs": [],
   "source": []
  },
  {
   "cell_type": "code",
   "execution_count": 13,
   "metadata": {},
   "outputs": [
    {
     "name": "stdout",
     "output_type": "stream",
     "text": [
      "fig size: 100.0 DPI, size in inches [6.4 4.8]\n"
     ]
    }
   ],
   "source": [
    "fig, ax = plt.subplots()\n",
    "fig.set_tight_layout(True)\n",
    "\n",
    "# Query the figure's on-screen size and DPI. Note that when saving the figure to\n",
    "# a file, we need to provide a DPI for that separately.\n",
    "print('fig size: {0} DPI, size in inches {1}'.format(\n",
    "    fig.get_dpi(), fig.get_size_inches()))\n",
    "\n",
    "ax.set_xlim(pd.Timestamp('2017-05-23'), pd.Timestamp('2018-02-18'))\n",
    "ax.set_ylim(0, 50)\n",
    "line, = ax.plot(pd.date_range(pred_crosstab_dict['week_4_to_6_cases'].index[0] + pd.to_timedelta(4, 'W') + pd.to_timedelta(1, 'D'), pred_crosstab_dict['week_4_to_6_cases'].index[0] + pd.to_timedelta(6, 'W'), freq = \"D\"), np.repeat(pred_crosstab_dict['week_4_to_6_cases']['YE-AB'].iloc[0] / 14, 14), color = 'g')\n",
    "\n",
    "anim = FuncAnimation(fig, update, frames=np.arange(0, 200), interval=200)"
   ]
  },
  {
   "cell_type": "code",
   "execution_count": null,
   "metadata": {},
   "outputs": [],
   "source": []
  }
 ],
 "metadata": {
  "kernelspec": {
   "display_name": "Python 3",
   "language": "python",
   "name": "python3"
  },
  "language_info": {
   "codemirror_mode": {
    "name": "ipython",
    "version": 3
   },
   "file_extension": ".py",
   "mimetype": "text/x-python",
   "name": "python",
   "nbconvert_exporter": "python",
   "pygments_lexer": "ipython3",
   "version": "3.6.5"
  }
 },
 "nbformat": 4,
 "nbformat_minor": 2
}
